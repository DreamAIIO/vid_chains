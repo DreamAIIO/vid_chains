{
 "cells": [
  {
   "cell_type": "markdown",
   "metadata": {},
   "source": [
    "# Utils"
   ]
  },
  {
   "cell_type": "code",
   "execution_count": null,
   "metadata": {},
   "outputs": [],
   "source": [
    "# | default_exp utils"
   ]
  },
  {
   "cell_type": "code",
   "execution_count": null,
   "metadata": {},
   "outputs": [],
   "source": [
    "# | export\n",
    "\n",
    "from vid_chains.imports import *"
   ]
  },
  {
   "cell_type": "code",
   "execution_count": null,
   "metadata": {},
   "outputs": [],
   "source": [
    "#| hide\n",
    "\n",
    "%load_ext autoreload\n",
    "%autoreload 2\n",
    "%reload_ext autoreload"
   ]
  },
  {
   "cell_type": "code",
   "execution_count": null,
   "metadata": {},
   "outputs": [],
   "source": [
    "# | export\n",
    "\n",
    "\n",
    "def load_obj_model(name=\"yolov8n.pt\"):\n",
    "    return YOLO(name)\n",
    "\n",
    "\n",
    "def detect_objects(model, img):\n",
    "    res = model(img, stream=True)\n",
    "    return [{\"boxes\": r.boxes.data.detach().cpu().tolist()} for r in res]\n",
    "\n",
    "\n",
    "def inter_dist(objects):\n",
    "    return []"
   ]
  },
  {
   "cell_type": "code",
   "execution_count": null,
   "metadata": {},
   "outputs": [
    {
     "name": "stderr",
     "output_type": "stream",
     "text": [
      "\n",
      "image 1/2 /home/hamza/dev/HF/vid_chains/nbs/../imgs/1.jpg: 384x640 6 persons, 1 bicycle, 2 handbags, 2 suitcases, 7.1ms\n",
      "image 2/2 /home/hamza/dev/HF/vid_chains/nbs/../imgs/2.jpg: 480x640 2 cars, 7 airplanes, 1 truck, 6.3ms\n",
      "Speed: 2.0ms preprocess, 6.7ms inference, 2.8ms postprocess per image at shape (1, 3, 480, 640)\n"
     ]
    }
   ],
   "source": [
    "# | hide\n",
    "# | eval: false\n",
    "\n",
    "img_path = \"../imgs/\"\n",
    "\n",
    "model = load_obj_model()\n",
    "objects = detect_objects(model, img_path)"
   ]
  },
  {
   "cell_type": "code",
   "execution_count": null,
   "metadata": {},
   "outputs": [
    {
     "data": {
      "text/plain": [
       "{'boxes': [[80.27601623535156,\n",
       "   46.615535736083984,\n",
       "   192.8482666015625,\n",
       "   470.9010925292969,\n",
       "   0.8922310471534729,\n",
       "   0.0],\n",
       "  [676.040283203125,\n",
       "   48.51327133178711,\n",
       "   795.2723388671875,\n",
       "   403.0267639160156,\n",
       "   0.8862534761428833,\n",
       "   0.0],\n",
       "  [186.3711700439453,\n",
       "   146.55426025390625,\n",
       "   482.23590087890625,\n",
       "   483.7049255371094,\n",
       "   0.8681676387786865,\n",
       "   0.0],\n",
       "  [420.06683349609375,\n",
       "   103.76722717285156,\n",
       "   485.9291687011719,\n",
       "   326.57281494140625,\n",
       "   0.8210902810096741,\n",
       "   0.0],\n",
       "  [314.42913818359375,\n",
       "   160.44873046875,\n",
       "   344.228759765625,\n",
       "   231.4899444580078,\n",
       "   0.5700167417526245,\n",
       "   0.0],\n",
       "  [601.1113891601562,\n",
       "   272.0596618652344,\n",
       "   692.3943481445312,\n",
       "   372.8212585449219,\n",
       "   0.5182335376739502,\n",
       "   28.0],\n",
       "  [159.09445190429688,\n",
       "   254.00254821777344,\n",
       "   204.3885040283203,\n",
       "   320.135009765625,\n",
       "   0.32958218455314636,\n",
       "   26.0],\n",
       "  [143.58888244628906,\n",
       "   285.8494567871094,\n",
       "   394.2103576660156,\n",
       "   515.9329833984375,\n",
       "   0.3147803246974945,\n",
       "   1.0],\n",
       "  [275.177490234375,\n",
       "   159.97457885742188,\n",
       "   296.64984130859375,\n",
       "   219.6383056640625,\n",
       "   0.2972298562526703,\n",
       "   0.0],\n",
       "  [652.80908203125,\n",
       "   229.06320190429688,\n",
       "   717.7626953125,\n",
       "   333.1701354980469,\n",
       "   0.26273247599601746,\n",
       "   26.0],\n",
       "  [601.5017700195312,\n",
       "   239.824951171875,\n",
       "   711.571044921875,\n",
       "   373.05999755859375,\n",
       "   0.2524247467517853,\n",
       "   28.0]]}"
      ]
     },
     "execution_count": null,
     "metadata": {},
     "output_type": "execute_result"
    }
   ],
   "source": [
    "# | hide\n",
    "# | eval: false\n",
    "\n",
    "\n",
    "objects[0]"
   ]
  },
  {
   "cell_type": "code",
   "execution_count": null,
   "metadata": {},
   "outputs": [],
   "source": [
    "# | hide\n",
    "import nbdev\n",
    "\n",
    "nbdev.nbdev_export()"
   ]
  }
 ],
 "metadata": {
  "kernelspec": {
   "display_name": "python3",
   "language": "python",
   "name": "python3"
  }
 },
 "nbformat": 4,
 "nbformat_minor": 4
}
