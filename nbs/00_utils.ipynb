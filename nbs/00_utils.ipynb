{
 "cells": [
  {
   "attachments": {},
   "cell_type": "markdown",
   "metadata": {},
   "source": [
    "# Utils"
   ]
  },
  {
   "cell_type": "code",
   "execution_count": null,
   "metadata": {},
   "outputs": [],
   "source": [
    "# | default_exp utils\n"
   ]
  },
  {
   "cell_type": "code",
   "execution_count": null,
   "metadata": {},
   "outputs": [],
   "source": [
    "# | export\n",
    "from vid_chains.imports import *"
   ]
  },
  {
   "cell_type": "code",
   "execution_count": null,
   "metadata": {},
   "outputs": [],
   "source": [
    "# | hide\n",
    "\n",
    "%load_ext autoreload\n",
    "%autoreload 2\n",
    "%reload_ext autoreload"
   ]
  },
  {
   "cell_type": "code",
   "execution_count": null,
   "metadata": {},
   "outputs": [],
   "source": [
    "# | export\n",
    "\n",
    "def load_obj_model(\n",
    "        yolo_name:str = \"yolov8n.pt\",\n",
    "        sam_name:str = \"sam_b.pt\", \n",
    "        task:str = \"detect\"\n",
    "    ):\n",
    "    if task == \"detect\":\n",
    "        return YOLO(yolo_name)\n",
    "    elif task == \"segment\":\n",
    "        return SAM(sam_name)\n",
    "    print(f\"Model does not exist for the following task: {task}. Please select one of the following tasks: detect or segment\")\n",
    "    return\n",
    "\n",
    "def detect_objects(\n",
    "        model,\n",
    "        image:Union[np.ndarray, str],\n",
    "        stream:bool = True,\n",
    "        task:str = \"detect\",\n",
    "        conf:float = 0.25,\n",
    "        iou:float = 0.7,\n",
    "        augment:bool = False,\n",
    "        imgsz:int = 640, \n",
    "        names:list = None, \n",
    "        exclude:list = None,   \n",
    "        return_only_boxes:bool = True, \n",
    "        points:list = None, \n",
    "        labels:list = None, \n",
    "        bboxes:list = None\n",
    "    ):\n",
    "    results = None\n",
    "    if task == \"detect\": # Using the yolo model\n",
    "        classes_dict = {0: 'person', 1: 'bicycle', 2: 'car', 3: 'motorcycle', 4: 'airplane', 5: 'bus', 6: 'train', 7: 'truck', 8: 'boat', 9: 'traffic light', 10: 'fire hydrant', 11: 'stop sign', 12: 'parking meter', 13: 'bench', 14: 'bird', 15: 'cat', 16: 'dog', 17: 'horse', 18: 'sheep', 19: 'cow', 20: 'elephant', 21: 'bear', 22: 'zebra', 23: 'giraffe', 24: 'backpack', 25: 'umbrella', 26: 'handbag', 27: 'tie', 28: 'suitcase', 29: 'frisbee', 30: 'skis', 31: 'snowboard', 32: 'sports ball', 33: 'kite', 34: 'baseball bat', 35: 'baseball glove', 36: 'skateboard', 37: 'surfboard', 38: 'tennis racket', 39: 'bottle', 40: 'wine glass', 41: 'cup', 42: 'fork', 43: 'knife', 44: 'spoon', 45: 'bowl', 46: 'banana', 47: 'apple', 48: 'sandwich', 49: 'orange', 50: 'broccoli', 51: 'carrot', 52: 'hot dog', 53: 'pizza', 54: 'donut', 55: 'cake', 56: 'chair', 57: 'couch', 58: 'potted plant', 59: 'bed', 60: 'dining table', 61: 'toilet', 62: 'tv', 63: 'laptop', 64: 'mouse', 65: 'remote', 66: 'keyboard', 67: 'cell phone', 68: 'microwave', 69: 'oven', 70: 'toaster', 71: 'sink', 72: 'refrigerator', 73: 'book', 74: 'clock', 75: 'vase', 76: 'scissors', 77: 'teddy bear', 78: 'hair drier', 79: 'toothbrush'}\n",
    "        classes = list(classes_dict.keys())\n",
    "        if names:\n",
    "            classes = [list(classes_dict.keys())[list(classes_dict.values()).index(name.lower())] for name in names]\n",
    "        if exclude:\n",
    "            exclude = [e.lower() for e in exclude]\n",
    "            names = [v for v in list(classes_dict.values()) if not v in exclude]\n",
    "            classes = [list(classes_dict.keys())[list(classes_dict.values()).index(name)] for name in names]\n",
    "        # print(classes)\n",
    "        results = model(image, stream=stream, classes=classes, conf=conf, iou=iou, augment=augment, imgsz=imgsz)\n",
    "        if return_only_boxes:\n",
    "            return [{\"boxes\": r.boxes.data.detach().cpu().tolist()} for r in results]\n",
    "    elif task == \"segment\": # Using the SAM model..\n",
    "        results = model(image, stream = stream, bboxes = bboxes, points = points, labels = labels)\n",
    "    detections = None\n",
    "    if results:\n",
    "        for result in results:\n",
    "            detections = sv.Detections.from_ultralytics(result)\n",
    "        return detections\n",
    "    print(f\"Can not process the following task: {task}. Please select one of the following tasks: detect or segment\")\n",
    "    return\n",
    "\n",
    "    \n",
    "def annotateImage(\n",
    "        image:np.ndarray, \n",
    "        results, \n",
    "        draw_bbox:bool = True,\n",
    "        draw_mask:bool = False, \n",
    "        label:bool = True,\n",
    "        conf_thresh:float = 0.0, \n",
    "        names:list = None, \n",
    "        exclude:list = None, \n",
    "        area_thresh:int = 0\n",
    "    ):\n",
    "    labels = None\n",
    "    detections=results\n",
    "    if label:\n",
    "        classes_dict = {0: 'person', 1: 'bicycle', 2: 'car', 3: 'motorcycle', 4: 'airplane', 5: 'bus', 6: 'train', 7: 'truck', 8: 'boat', 9: 'traffic light', 10: 'fire hydrant', 11: 'stop sign', 12: 'parking meter', 13: 'bench', 14: 'bird', 15: 'cat', 16: 'dog', 17: 'horse', 18: 'sheep', 19: 'cow', 20: 'elephant', 21: 'bear', 22: 'zebra', 23: 'giraffe', 24: 'backpack', 25: 'umbrella', 26: 'handbag', 27: 'tie', 28: 'suitcase', 29: 'frisbee', 30: 'skis', 31: 'snowboard', 32: 'sports ball', 33: 'kite', 34: 'baseball bat', 35: 'baseball glove', 36: 'skateboard', 37: 'surfboard', 38: 'tennis racket', 39: 'bottle', 40: 'wine glass', 41: 'cup', 42: 'fork', 43: 'knife', 44: 'spoon', 45: 'bowl', 46: 'banana', 47: 'apple', 48: 'sandwich', 49: 'orange', 50: 'broccoli', 51: 'carrot', 52: 'hot dog', 53: 'pizza', 54: 'donut', 55: 'cake', 56: 'chair', 57: 'couch', 58: 'potted plant', 59: 'bed', 60: 'dining table', 61: 'toilet', 62: 'tv', 63: 'laptop', 64: 'mouse', 65: 'remote', 66: 'keyboard', 67: 'cell phone', 68: 'microwave', 69: 'oven', 70: 'toaster', 71: 'sink', 72: 'refrigerator', 73: 'book', 74: 'clock', 75: 'vase', 76: 'scissors', 77: 'teddy bear', 78: 'hair drier', 79: 'toothbrush'}\n",
    "        classes = list(classes_dict.keys())\n",
    "        if names:\n",
    "            classes = [list(classes_dict.keys())[list(classes_dict.values()).index(name.lower())] for name in names]\n",
    "        if exclude:\n",
    "            exclude = [e.lower() for e in exclude]\n",
    "            names = [v for v in list(classes_dict.values()) if not v in exclude]\n",
    "            classes = [list(classes_dict.keys())[list(classes_dict.values()).index(name)] for name in names]\n",
    "        detections = detections[detections.confidence > conf_thresh]\n",
    "        detections = detections[np.isin(detections.class_id, classes)]\n",
    "        labels = [\n",
    "            f\"{classes_dict[class_id]} {confidence:.2f}\"\n",
    "            for class_id, confidence\n",
    "            in zip(detections.class_id, detections.confidence)\n",
    "        ]\n",
    "    detections = detections[detections.area > area_thresh]\n",
    "    annotated_image = image.copy()\n",
    "    if draw_bbox:\n",
    "        box_annotator = sv.BoxAnnotator()\n",
    "        annotated_image = box_annotator.annotate(annotated_image, detections, labels=labels)\n",
    "    if draw_mask:\n",
    "        mask_annotator = sv.MaskAnnotator()\n",
    "        annotated_image = mask_annotator.annotate(scene=annotated_image, detections=detections)\n",
    "    return annotated_image\n",
    "\n",
    "def get_width(l):\n",
    "    w = l[2] - l[0]\n",
    "    return w\n",
    "\n",
    "\n",
    "def list_widths(obj):\n",
    "    w = []\n",
    "    for i in range(0, len(obj.get(\"boxes\"))):\n",
    "        l = []\n",
    "        for j in range(0, 6):\n",
    "            l.append(obj.get(\"boxes\")[i][j])\n",
    "        if (\n",
    "            l[5] == 39.0\n",
    "        ):  # very specific test case for bottles so will ignore other objects, will remove this in the future\n",
    "            width = get_width(l)\n",
    "            w.append(width)\n",
    "    return w\n",
    "\n",
    "\n",
    "def centroid(l):\n",
    "    t = []\n",
    "    cx = (l[0] + l[2]) / 2.0\n",
    "    cy = (l[1] + l[3]) / 2.0\n",
    "    t.append(cx)\n",
    "    t.append(cy)\n",
    "    return t\n",
    "\n",
    "\n",
    "def list_centroids(obj):\n",
    "    c = []\n",
    "    for i in range(0, len(obj.get(\"boxes\"))):\n",
    "        l = []\n",
    "        for j in range(0, 4):\n",
    "            l.append(obj.get(\"boxes\")[i][j])\n",
    "        centre = centroid(l)\n",
    "        c.append(centre)\n",
    "    return c\n",
    "\n",
    "\n",
    "def inter_dist(obj):\n",
    "    c = list_centroids(obj)\n",
    "    dis = []\n",
    "    st = []\n",
    "    for i in range(0, len(c)):\n",
    "        for j in range(i + 1, len(c)):\n",
    "            # st.append(\"Distance b/w object \"+str(i)+\" and object \"+str(j))\n",
    "            # st.append(\"D(\"+str(i)+\",\"+str(j)+\")\")\n",
    "            dis.append(math.dist(c[i], c[j]))\n",
    "    # return st,dis\n",
    "    return dis\n",
    "\n",
    "\n",
    "def focal_len_to_px(focal_len, sensor_px):\n",
    "    return round((focal_len / sensor_px) * 1000)\n",
    "\n",
    "\n",
    "def camera_to_obj_dist(focal_length_px, obj, real_width):\n",
    "    widths = list_widths(obj)\n",
    "    dists = []\n",
    "    for w in widths:\n",
    "        distance = (real_width * focal_length_px) / w\n",
    "        dists.append(distance)\n",
    "\n",
    "    return dists"
   ]
  },
  {
   "cell_type": "code",
   "execution_count": null,
   "metadata": {},
   "outputs": [],
   "source": [
    "# | export\n",
    "\n",
    "\n",
    "# Extract direction and speed from the selected objects using RAFT (optical flow algorithm)..\n",
    "\n",
    "\n",
    "def get_points(\n",
    "    yolo,\n",
    "    names:list,\n",
    "    img: Union[str, np.ndarray],\n",
    "    annotate: bool = False,\n",
    "    return_img: bool = False,\n",
    "    stream: bool = True,\n",
    "):\n",
    "    detections = detect_objects(model=yolo, image=img, stream=stream, task=\"detect\", names=names, return_only_boxes=False)\n",
    "    points = []\n",
    "    labels = []\n",
    "    boxes = detections.xyxy\n",
    "    for box in boxes:\n",
    "        x1, y1, x2, y2 = box\n",
    "        mid_x = int(x1 + ((x2 - x1) / 2))\n",
    "        mid_y = int(y1 + ((y2 - y1) / 2))\n",
    "        points.append([mid_x, mid_y])\n",
    "        labels.append(1)  #\n",
    "    if annotate:\n",
    "        annotated_image = annotateImage(image=img, results=detections, draw_bbox=True, draw_mask=False)\n",
    "    if return_img:\n",
    "        return annotated_image, boxes, points, labels\n",
    "    return boxes, points, labels\n",
    "\n",
    "def draw_arrow(img: np.ndarray, mean_u, mean_v, points):\n",
    "    h_rat = 10\n",
    "    w_rat = 10\n",
    "    image_arr = cv2.arrowedLine(\n",
    "        img=img,\n",
    "        pt1=(points[0], points[1]),\n",
    "        pt2=(points[0] + int(mean_u) * w_rat, points[1] + int(mean_v) * h_rat),\n",
    "        color=(0, 0, 255),\n",
    "        thickness=5,\n",
    "        line_type=8,\n",
    "        tipLength=0.5,\n",
    "    )\n",
    "    return image_arr\n",
    "\n",
    "\n",
    "def get_velocity(\n",
    "    img1: Union[str, np.ndarray],\n",
    "    img2: Union[str,np.ndarray],\n",
    "    boxes: list,\n",
    "    res: np.ndarray,\n",
    "    model = None,\n",
    "    save_img: bool = True,\n",
    "    out_dir: str = \"./frames/\",\n",
    "    config_file: str = \"raft_8x2_50k_kitti2015_288x960.py\",\n",
    "    checkpoint_file: str = \"raft_8x2_50k_kitti2015_288x960.pth\",\n",
    "    device: str = \"cpu\",\n",
    "):\n",
    "    if model == None:\n",
    "        model = init_model(config_file, checkpoint_file, device=device)\n",
    "    result = inference_model(model, img1, img2)\n",
    "    img = res\n",
    "    vel = []\n",
    "    flow_map = None\n",
    "    for box in boxes:\n",
    "        x1, y1, x2, y2 = box\n",
    "        mid_x = int(x1 + ((x2 - x1) / 2))\n",
    "        mid_y = int(y1 + ((y2 - y1) / 2))\n",
    "        flows_u = result[int(y1) : int(y2), int(x1) : int(x2), 0]\n",
    "        flows_v = result[int(y1) : int(y2), int(x1) : int(x2), 1]\n",
    "        mean_u = flows_u.mean()\n",
    "        mean_v = flows_v.mean()\n",
    "        img = draw_arrow(img, mean_u, mean_v, (mid_x, mid_y))\n",
    "        flow_map = visualize_flow(result, save_file=f\"{out_dir}/flow_map.png\")\n",
    "        vel.append(math.sqrt(pow(mean_u, 2) + (pow(mean_v, 2))))\n",
    "    if save_img:\n",
    "        cv2.imwrite(f\"{out_dir}/arrow_and_box.png\", img)\n",
    "    return vel, img, flow_map\n",
    "\n",
    "def infer_video(\n",
    "    video_path:str,\n",
    "    names:list = [\"person\", \"car\", \"airplane\"],\n",
    "    config_file: str = \"raft_8x2_50k_kitti2015_288x960.py\",\n",
    "    checkpoint_file: str = \"raft_8x2_50k_kitti2015_288x960.pth\",\n",
    "    device:str=\"cpu\",\n",
    "):    \n",
    "    cap = cv2.VideoCapture(video_path)\n",
    "    ret, frame1 = cap.read()\n",
    "    if not ret:\n",
    "        print(\"ERROR! In Reading the video file..\")\n",
    "        return\n",
    "    frames = []\n",
    "    yolo = load_obj_model(task=\"detect\")\n",
    "    model = init_model(config=config_file, checkpoint=checkpoint_file, device=device)\n",
    "    speeds = []\n",
    "    fps = cap.get(cv2.CAP_PROP_FPS)\n",
    "    while cap.isOpened():\n",
    "        ret, frame2 = cap.read()\n",
    "        if ret:\n",
    "            img, boxes, _, _ = get_points(yolo=yolo, names=names, img=frame2, annotate=True, return_img=True, stream=False)\n",
    "            speed, img, _ = get_velocity(img1=frame1, img2=frame2, boxes=boxes, res=img, model=model, save_img=False)\n",
    "            frames.append(img)\n",
    "            speeds.append(speed)\n",
    "        else:\n",
    "            break\n",
    "        frame1 = frame2\n",
    "    return frames, speeds, fps"
   ]
  },
  {
   "cell_type": "code",
   "execution_count": null,
   "metadata": {},
   "outputs": [],
   "source": [
    "# | export\n",
    "\n",
    "def generate_video(\n",
    "        frames:list, \n",
    "        fps:int, \n",
    "        video_path:str\n",
    "    ):\n",
    "    out = cv2.VideoWriter(video_path,cv2.VideoWriter_fourcc(*'mp4v'), fps, (frames[0].shape[1] ,frames[0].shape[0]))\n",
    "    for i in range(len(frames)):\n",
    "        out.write(frames[i].astype(np.uint8))\n",
    "    out.release()"
   ]
  },
  {
   "cell_type": "code",
   "execution_count": null,
   "metadata": {},
   "outputs": [
    {
     "name": "stdout",
     "output_type": "stream",
     "text": [
      "[0, 1, 2, 3, 4, 5, 6, 7, 8, 9, 10, 11, 12, 13, 14, 15, 16, 17, 18, 19, 20, 21, 22, 23, 24, 25, 26, 27, 28, 29, 30, 31, 32, 33, 34, 35, 36, 37, 38, 39, 40, 41, 42, 43, 44, 45, 46, 47, 48, 49, 50, 51, 52, 53, 54, 55, 56, 57, 58, 59, 60, 61, 62, 63, 64, 65, 66, 67, 68, 69, 70, 71, 72, 73, 74, 75, 76, 77, 78, 79]\n"
     ]
    },
    {
     "name": "stderr",
     "output_type": "stream",
     "text": [
      "\n",
      "0: 480x640 6 persons, 6 cars, 2 handbags, 283.1ms\n",
      "Speed: 28.8ms preprocess, 283.1ms inference, 1.9ms postprocess per image at shape (1, 3, 480, 640)\n"
     ]
    },
    {
     "data": {
      "text/plain": [
       "True"
      ]
     },
     "execution_count": null,
     "metadata": {},
     "output_type": "execute_result"
    }
   ],
   "source": [
    "# | hide\n",
    "# | eval: false\n",
    "\n",
    "img = cv2.imread(\"sample_1.jpg\")\n",
    "obj_model = load_obj_model(task=\"detect\")\n",
    "yolo_results = detect_objects(model=obj_model, task=\"detect\", image=img, return_only_boxes=False)\n",
    "annotated_image = annotateImage(image=img, results=yolo_results, draw_bbox=True, draw_mask=False, conf_thresh=0.5, area_thresh=200)\n",
    "cv2.imwrite(\"yolo_test.jpg\", annotated_image)\n",
    "\n",
    "# img = cv2.imread(\"sample_1.jpg\")\n",
    "# obj_model = load_obj_model(task=\"segment\")\n",
    "# sam_results = detect_objects(model=obj_model, task=\"segment\", image=img, return_only_boxes=False)\n",
    "# annotated_image = annotateImage(image=img, results=sam_results, draw_bbox=False, draw_mask=True, conf_thresh=0.5, area_thresh=200)\n",
    "# cv2.imwrite(\"sam_test.jpg\", annotated_image)"
   ]
  },
  {
   "cell_type": "code",
   "execution_count": null,
   "metadata": {},
   "outputs": [],
   "source": [
    "# | export\n",
    "\n",
    "def intersection_area(a, b):  # returns None if rectangles don't intersect\n",
    "    dx = min(a[2], b[2]) - max(a[0], b[0])\n",
    "    dy = min(a[3], b[3]) - max(a[1], b[1])\n",
    "    # print(dx, dy)\n",
    "    if (dx>=0) and (dy>=0):\n",
    "        return dx*dy\n",
    "\n",
    "\n",
    "def detect_obstacles(img:np.ndarray,\n",
    "                     target_box:list, \n",
    "                     factor:float = 0.5,\n",
    "                     conf:float = 0.25, \n",
    "                     iou:float = 0.7, \n",
    "                     imgsz:int = 640,\n",
    "                     augment:bool = False,\n",
    "                     model = None, \n",
    "                     objects = [\"car\"], \n",
    "                     alpha:float = 0.4\n",
    "    ):\n",
    "    # img = cv2.cvtColor(img, cv2.COLOR_BGR2RGB)\n",
    "    obstacles_list = []\n",
    "    if model:\n",
    "        # result = detect_objects(model=model, image=img, stream=True, task=\"detect\", return_only_boxes=False, names=objects)\n",
    "        result = detect_objects(model=model, task=\"detect\", image=img, return_only_boxes=False, names=objects, conf=conf, imgsz=imgsz, iou=iou, augment=augment)\n",
    "    else:\n",
    "        result = detect_objects(model=load_obj_model(), image=img, stream=True, task=\"detect\", return_only_boxes=False, names=objects, conf=conf, iou=iou, augment=augment, imgsz=imgsz)\n",
    "    \n",
    "    target_area = (target_box[2]-target_box[0]) * (target_box[3]-target_box[1])\n",
    "    # img = annotateImage(image=img, results=result, label=True)\n",
    "    i = 0\n",
    "    res_img = None\n",
    "    for box in result.xyxy:\n",
    "        \n",
    "        inter_area = intersection_area(box, target_box)\n",
    "        if inter_area:\n",
    "            ratio = inter_area / target_area\n",
    "            if ratio >= factor:\n",
    "                obstacles_list.append(result[i])\n",
    "                # img = cv2.rectangle(img, (int(box[0]), int(box[1])), (int(box[2]), int(box[3])), color = (255, 0, 0), thickness=2)\n",
    "        i+=1\n",
    "    if len(obstacles_list) == 0:\n",
    "        res_img = cv2.rectangle(img.copy(), (int(target_box[0]), int(target_box[1])), (int(target_box[2]), int(target_box[3])), color = (0,255,0), thickness=2)\n",
    "    else:\n",
    "        res_img = cv2.rectangle(img.copy(), (int(target_box[0]), int(target_box[1])), (int(target_box[2]), int(target_box[3])), (0,0,255), 2)\n",
    "    # res_img = cv2.addWeighted(res_img, alpha, img, 1 - alpha, 0)\n",
    "    return obstacles_list, res_img\n",
    "\n"
   ]
  },
  {
   "cell_type": "code",
   "execution_count": null,
   "metadata": {},
   "outputs": [],
   "source": [
    "# | export\n",
    "\n",
    "def obstacle_avoidance(video_path:str, \n",
    "                       target_box:list, \n",
    "                       factor:float=0.01, \n",
    "                       conf:float=0.25,\n",
    "                       iou:float=0.7,\n",
    "                       imgsz:int=640,\n",
    "                       objects:list = [\"airplane\", \"car\", \"person\", \"bus\", \"truck\"]\n",
    "    ):\n",
    "    cap = cv2.VideoCapture(video_path)\n",
    "    yolo = load_obj_model(task=\"detect\")\n",
    "\n",
    "    frames = []\n",
    "    fps = cap.get(cv2.CAP_PROP_FPS)\n",
    "    while cap.isOpened():\n",
    "        ret, frame = cap.read()\n",
    "        if ret:\n",
    "            obstacle_list, res_img = detect_obstacles(img=frame, target_box=target_box, factor=factor, model=yolo, objects=objects, conf=conf, iou=iou, imgsz=imgsz)\n",
    "            # plt.imshow(res_img)\n",
    "            # res_img = cv2.cvtColor(res_img, cv2.COLOR_BGR2RGB)\n",
    "            frames.append(res_img)\n",
    "            print(\"frame No:\", len(frames))\n",
    "        else:\n",
    "            break\n",
    "    return frames, fps, obstacle_list"
   ]
  },
  {
   "cell_type": "code",
   "execution_count": null,
   "metadata": {},
   "outputs": [
    {
     "name": "stderr",
     "output_type": "stream",
     "text": [
      "\n",
      "0: 640x384 (no detections), 133.2ms\n",
      "Speed: 3.1ms preprocess, 133.2ms inference, 1.1ms postprocess per image at shape (1, 3, 640, 384)\n",
      "\n",
      "0: 640x384 (no detections), 124.0ms\n",
      "Speed: 3.2ms preprocess, 124.0ms inference, 1.3ms postprocess per image at shape (1, 3, 640, 384)\n",
      "\n"
     ]
    },
    {
     "name": "stdout",
     "output_type": "stream",
     "text": [
      "frame No: 1\n",
      "frame No: 2\n"
     ]
    },
    {
     "name": "stderr",
     "output_type": "stream",
     "text": [
      "0: 640x384 (no detections), 122.9ms\n",
      "Speed: 2.5ms preprocess, 122.9ms inference, 1.0ms postprocess per image at shape (1, 3, 640, 384)\n",
      "\n",
      "0: 640x384 (no detections), 134.2ms\n",
      "Speed: 2.4ms preprocess, 134.2ms inference, 0.9ms postprocess per image at shape (1, 3, 640, 384)\n",
      "\n"
     ]
    },
    {
     "name": "stdout",
     "output_type": "stream",
     "text": [
      "frame No: 3\n",
      "frame No: 4\n"
     ]
    },
    {
     "name": "stderr",
     "output_type": "stream",
     "text": [
      "0: 640x384 (no detections), 125.7ms\n",
      "Speed: 2.3ms preprocess, 125.7ms inference, 1.3ms postprocess per image at shape (1, 3, 640, 384)\n",
      "\n",
      "0: 640x384 (no detections), 120.2ms\n",
      "Speed: 3.4ms preprocess, 120.2ms inference, 1.7ms postprocess per image at shape (1, 3, 640, 384)\n",
      "\n"
     ]
    },
    {
     "name": "stdout",
     "output_type": "stream",
     "text": [
      "frame No: 5\n",
      "frame No: 6\n"
     ]
    },
    {
     "name": "stderr",
     "output_type": "stream",
     "text": [
      "0: 640x384 (no detections), 134.0ms\n",
      "Speed: 2.3ms preprocess, 134.0ms inference, 1.2ms postprocess per image at shape (1, 3, 640, 384)\n",
      "\n",
      "0: 640x384 (no detections), 131.7ms\n",
      "Speed: 3.8ms preprocess, 131.7ms inference, 0.8ms postprocess per image at shape (1, 3, 640, 384)\n",
      "\n"
     ]
    },
    {
     "name": "stdout",
     "output_type": "stream",
     "text": [
      "frame No: 7\n",
      "frame No: 8\n"
     ]
    },
    {
     "name": "stderr",
     "output_type": "stream",
     "text": [
      "0: 640x384 (no detections), 124.3ms\n",
      "Speed: 3.0ms preprocess, 124.3ms inference, 0.7ms postprocess per image at shape (1, 3, 640, 384)\n",
      "\n",
      "0: 640x384 (no detections), 106.9ms\n",
      "Speed: 3.6ms preprocess, 106.9ms inference, 0.6ms postprocess per image at shape (1, 3, 640, 384)\n",
      "\n"
     ]
    },
    {
     "name": "stdout",
     "output_type": "stream",
     "text": [
      "frame No: 9\n",
      "frame No: 10\n"
     ]
    },
    {
     "name": "stderr",
     "output_type": "stream",
     "text": [
      "0: 640x384 (no detections), 115.0ms\n",
      "Speed: 2.4ms preprocess, 115.0ms inference, 1.4ms postprocess per image at shape (1, 3, 640, 384)\n",
      "\n",
      "0: 640x384 (no detections), 125.3ms\n",
      "Speed: 4.3ms preprocess, 125.3ms inference, 0.6ms postprocess per image at shape (1, 3, 640, 384)\n",
      "\n"
     ]
    },
    {
     "name": "stdout",
     "output_type": "stream",
     "text": [
      "frame No: 11\n",
      "frame No: 12\n"
     ]
    },
    {
     "name": "stderr",
     "output_type": "stream",
     "text": [
      "0: 640x384 (no detections), 90.1ms\n",
      "Speed: 2.3ms preprocess, 90.1ms inference, 1.2ms postprocess per image at shape (1, 3, 640, 384)\n",
      "\n",
      "0: 640x384 (no detections), 141.5ms\n",
      "Speed: 2.4ms preprocess, 141.5ms inference, 1.2ms postprocess per image at shape (1, 3, 640, 384)\n",
      "\n"
     ]
    },
    {
     "name": "stdout",
     "output_type": "stream",
     "text": [
      "frame No: 13\n",
      "frame No: 14\n"
     ]
    },
    {
     "name": "stderr",
     "output_type": "stream",
     "text": [
      "0: 640x384 (no detections), 147.0ms\n",
      "Speed: 2.9ms preprocess, 147.0ms inference, 0.8ms postprocess per image at shape (1, 3, 640, 384)\n",
      "\n",
      "0: 640x384 (no detections), 121.7ms\n",
      "Speed: 2.8ms preprocess, 121.7ms inference, 1.4ms postprocess per image at shape (1, 3, 640, 384)\n",
      "\n"
     ]
    },
    {
     "name": "stdout",
     "output_type": "stream",
     "text": [
      "frame No: 15\n",
      "frame No: 16\n"
     ]
    },
    {
     "name": "stderr",
     "output_type": "stream",
     "text": [
      "0: 640x384 (no detections), 242.8ms\n",
      "Speed: 2.5ms preprocess, 242.8ms inference, 1.0ms postprocess per image at shape (1, 3, 640, 384)\n",
      "\n",
      "0: 640x384 (no detections), 134.7ms\n",
      "Speed: 3.1ms preprocess, 134.7ms inference, 1.4ms postprocess per image at shape (1, 3, 640, 384)\n",
      "\n"
     ]
    },
    {
     "name": "stdout",
     "output_type": "stream",
     "text": [
      "frame No: 17\n",
      "frame No: 18\n"
     ]
    },
    {
     "name": "stderr",
     "output_type": "stream",
     "text": [
      "0: 640x384 (no detections), 105.7ms\n",
      "Speed: 2.3ms preprocess, 105.7ms inference, 1.3ms postprocess per image at shape (1, 3, 640, 384)\n",
      "\n",
      "0: 640x384 (no detections), 117.0ms\n",
      "Speed: 1.9ms preprocess, 117.0ms inference, 1.2ms postprocess per image at shape (1, 3, 640, 384)\n",
      "\n"
     ]
    },
    {
     "name": "stdout",
     "output_type": "stream",
     "text": [
      "frame No: 19\n",
      "frame No: 20\n"
     ]
    },
    {
     "name": "stderr",
     "output_type": "stream",
     "text": [
      "0: 640x384 (no detections), 96.4ms\n",
      "Speed: 2.6ms preprocess, 96.4ms inference, 1.5ms postprocess per image at shape (1, 3, 640, 384)\n",
      "\n",
      "0: 640x384 (no detections), 121.2ms\n",
      "Speed: 2.7ms preprocess, 121.2ms inference, 0.7ms postprocess per image at shape (1, 3, 640, 384)\n",
      "\n"
     ]
    },
    {
     "name": "stdout",
     "output_type": "stream",
     "text": [
      "frame No: 21\n",
      "frame No: 22\n"
     ]
    },
    {
     "name": "stderr",
     "output_type": "stream",
     "text": [
      "0: 640x384 (no detections), 120.4ms\n",
      "Speed: 2.6ms preprocess, 120.4ms inference, 0.9ms postprocess per image at shape (1, 3, 640, 384)\n",
      "\n",
      "0: 640x384 (no detections), 120.2ms\n",
      "Speed: 3.1ms preprocess, 120.2ms inference, 1.6ms postprocess per image at shape (1, 3, 640, 384)\n",
      "\n"
     ]
    },
    {
     "name": "stdout",
     "output_type": "stream",
     "text": [
      "frame No: 23\n",
      "frame No: 24\n"
     ]
    },
    {
     "name": "stderr",
     "output_type": "stream",
     "text": [
      "0: 640x384 (no detections), 186.2ms\n",
      "Speed: 3.0ms preprocess, 186.2ms inference, 1.1ms postprocess per image at shape (1, 3, 640, 384)\n",
      "\n",
      "0: 640x384 (no detections), 130.3ms\n",
      "Speed: 3.3ms preprocess, 130.3ms inference, 0.8ms postprocess per image at shape (1, 3, 640, 384)\n",
      "\n"
     ]
    },
    {
     "name": "stdout",
     "output_type": "stream",
     "text": [
      "frame No: 25\n",
      "frame No: 26\n"
     ]
    },
    {
     "name": "stderr",
     "output_type": "stream",
     "text": [
      "0: 640x384 (no detections), 140.5ms\n",
      "Speed: 2.6ms preprocess, 140.5ms inference, 1.1ms postprocess per image at shape (1, 3, 640, 384)\n",
      "\n",
      "0: 640x384 (no detections), 129.9ms\n",
      "Speed: 3.1ms preprocess, 129.9ms inference, 1.4ms postprocess per image at shape (1, 3, 640, 384)\n",
      "\n"
     ]
    },
    {
     "name": "stdout",
     "output_type": "stream",
     "text": [
      "frame No: 27\n",
      "frame No: 28\n"
     ]
    },
    {
     "name": "stderr",
     "output_type": "stream",
     "text": [
      "0: 640x384 (no detections), 143.1ms\n",
      "Speed: 3.6ms preprocess, 143.1ms inference, 1.1ms postprocess per image at shape (1, 3, 640, 384)\n",
      "\n",
      "0: 640x384 (no detections), 106.7ms\n",
      "Speed: 3.6ms preprocess, 106.7ms inference, 0.7ms postprocess per image at shape (1, 3, 640, 384)\n",
      "\n"
     ]
    },
    {
     "name": "stdout",
     "output_type": "stream",
     "text": [
      "frame No: 29\n",
      "frame No: 30\n"
     ]
    },
    {
     "name": "stderr",
     "output_type": "stream",
     "text": [
      "0: 640x384 (no detections), 93.6ms\n",
      "Speed: 2.2ms preprocess, 93.6ms inference, 1.3ms postprocess per image at shape (1, 3, 640, 384)\n",
      "\n",
      "0: 640x384 (no detections), 109.1ms\n",
      "Speed: 3.7ms preprocess, 109.1ms inference, 0.7ms postprocess per image at shape (1, 3, 640, 384)\n",
      "\n"
     ]
    },
    {
     "name": "stdout",
     "output_type": "stream",
     "text": [
      "frame No: 31\n",
      "frame No: 32\n"
     ]
    },
    {
     "name": "stderr",
     "output_type": "stream",
     "text": [
      "0: 640x384 (no detections), 100.6ms\n",
      "Speed: 2.1ms preprocess, 100.6ms inference, 1.4ms postprocess per image at shape (1, 3, 640, 384)\n",
      "\n",
      "0: 640x384 (no detections), 103.6ms\n",
      "Speed: 4.4ms preprocess, 103.6ms inference, 0.7ms postprocess per image at shape (1, 3, 640, 384)\n",
      "\n"
     ]
    },
    {
     "name": "stdout",
     "output_type": "stream",
     "text": [
      "frame No: 33\n",
      "frame No: 34\n"
     ]
    },
    {
     "name": "stderr",
     "output_type": "stream",
     "text": [
      "0: 640x384 (no detections), 102.6ms\n",
      "Speed: 2.8ms preprocess, 102.6ms inference, 1.6ms postprocess per image at shape (1, 3, 640, 384)\n",
      "\n",
      "0: 640x384 (no detections), 113.0ms\n",
      "Speed: 3.5ms preprocess, 113.0ms inference, 0.6ms postprocess per image at shape (1, 3, 640, 384)\n",
      "\n"
     ]
    },
    {
     "name": "stdout",
     "output_type": "stream",
     "text": [
      "frame No: 35\n",
      "frame No: 36\n"
     ]
    },
    {
     "name": "stderr",
     "output_type": "stream",
     "text": [
      "0: 640x384 (no detections), 140.1ms\n",
      "Speed: 3.0ms preprocess, 140.1ms inference, 0.9ms postprocess per image at shape (1, 3, 640, 384)\n",
      "\n",
      "0: 640x384 (no detections), 159.2ms\n",
      "Speed: 5.3ms preprocess, 159.2ms inference, 1.0ms postprocess per image at shape (1, 3, 640, 384)\n",
      "\n"
     ]
    },
    {
     "name": "stdout",
     "output_type": "stream",
     "text": [
      "frame No: 37\n",
      "frame No: 38\n"
     ]
    },
    {
     "name": "stderr",
     "output_type": "stream",
     "text": [
      "0: 640x384 (no detections), 108.5ms\n",
      "Speed: 2.6ms preprocess, 108.5ms inference, 1.2ms postprocess per image at shape (1, 3, 640, 384)\n",
      "\n",
      "0: 640x384 (no detections), 100.6ms\n",
      "Speed: 3.0ms preprocess, 100.6ms inference, 0.7ms postprocess per image at shape (1, 3, 640, 384)\n",
      "\n"
     ]
    },
    {
     "name": "stdout",
     "output_type": "stream",
     "text": [
      "frame No: 39\n",
      "frame No: 40\n"
     ]
    },
    {
     "name": "stderr",
     "output_type": "stream",
     "text": [
      "0: 640x384 (no detections), 93.5ms\n",
      "Speed: 2.3ms preprocess, 93.5ms inference, 0.7ms postprocess per image at shape (1, 3, 640, 384)\n",
      "\n",
      "0: 640x384 (no detections), 144.9ms\n",
      "Speed: 2.7ms preprocess, 144.9ms inference, 2.0ms postprocess per image at shape (1, 3, 640, 384)\n",
      "\n"
     ]
    },
    {
     "name": "stdout",
     "output_type": "stream",
     "text": [
      "frame No: 41\n",
      "frame No: 42\n"
     ]
    },
    {
     "name": "stderr",
     "output_type": "stream",
     "text": [
      "0: 640x384 (no detections), 117.6ms\n",
      "Speed: 3.0ms preprocess, 117.6ms inference, 0.6ms postprocess per image at shape (1, 3, 640, 384)\n",
      "\n",
      "0: 640x384 (no detections), 130.3ms\n",
      "Speed: 2.7ms preprocess, 130.3ms inference, 1.0ms postprocess per image at shape (1, 3, 640, 384)\n",
      "\n"
     ]
    },
    {
     "name": "stdout",
     "output_type": "stream",
     "text": [
      "frame No: 43\n",
      "frame No: 44\n"
     ]
    },
    {
     "name": "stderr",
     "output_type": "stream",
     "text": [
      "0: 640x384 (no detections), 110.5ms\n",
      "Speed: 3.2ms preprocess, 110.5ms inference, 1.1ms postprocess per image at shape (1, 3, 640, 384)\n",
      "\n",
      "0: 640x384 (no detections), 116.9ms\n",
      "Speed: 3.1ms preprocess, 116.9ms inference, 0.7ms postprocess per image at shape (1, 3, 640, 384)\n",
      "\n"
     ]
    },
    {
     "name": "stdout",
     "output_type": "stream",
     "text": [
      "frame No: 45\n",
      "frame No: 46\n"
     ]
    },
    {
     "name": "stderr",
     "output_type": "stream",
     "text": [
      "0: 640x384 (no detections), 96.3ms\n",
      "Speed: 2.6ms preprocess, 96.3ms inference, 1.1ms postprocess per image at shape (1, 3, 640, 384)\n",
      "\n",
      "0: 640x384 (no detections), 102.9ms\n",
      "Speed: 3.0ms preprocess, 102.9ms inference, 0.8ms postprocess per image at shape (1, 3, 640, 384)\n",
      "\n"
     ]
    },
    {
     "name": "stdout",
     "output_type": "stream",
     "text": [
      "frame No: 47\n",
      "frame No: 48\n"
     ]
    },
    {
     "name": "stderr",
     "output_type": "stream",
     "text": [
      "0: 640x384 (no detections), 126.9ms\n",
      "Speed: 2.6ms preprocess, 126.9ms inference, 1.2ms postprocess per image at shape (1, 3, 640, 384)\n",
      "\n",
      "0: 640x384 (no detections), 108.3ms\n",
      "Speed: 3.0ms preprocess, 108.3ms inference, 1.1ms postprocess per image at shape (1, 3, 640, 384)\n",
      "\n"
     ]
    },
    {
     "name": "stdout",
     "output_type": "stream",
     "text": [
      "frame No: 49\n",
      "frame No: 50\n"
     ]
    },
    {
     "name": "stderr",
     "output_type": "stream",
     "text": [
      "0: 640x384 (no detections), 111.9ms\n",
      "Speed: 3.0ms preprocess, 111.9ms inference, 1.0ms postprocess per image at shape (1, 3, 640, 384)\n",
      "\n",
      "0: 640x384 (no detections), 126.9ms\n",
      "Speed: 2.8ms preprocess, 126.9ms inference, 1.0ms postprocess per image at shape (1, 3, 640, 384)\n",
      "\n"
     ]
    },
    {
     "name": "stdout",
     "output_type": "stream",
     "text": [
      "frame No: 51\n",
      "frame No: 52\n"
     ]
    },
    {
     "name": "stderr",
     "output_type": "stream",
     "text": [
      "0: 640x384 (no detections), 101.9ms\n",
      "Speed: 2.0ms preprocess, 101.9ms inference, 1.1ms postprocess per image at shape (1, 3, 640, 384)\n",
      "\n",
      "0: 640x384 (no detections), 112.0ms\n",
      "Speed: 2.6ms preprocess, 112.0ms inference, 0.6ms postprocess per image at shape (1, 3, 640, 384)\n",
      "\n"
     ]
    },
    {
     "name": "stdout",
     "output_type": "stream",
     "text": [
      "frame No: 53\n",
      "frame No: 54\n"
     ]
    },
    {
     "name": "stderr",
     "output_type": "stream",
     "text": [
      "0: 640x384 (no detections), 116.2ms\n",
      "Speed: 2.1ms preprocess, 116.2ms inference, 1.1ms postprocess per image at shape (1, 3, 640, 384)\n",
      "\n",
      "0: 640x384 (no detections), 147.4ms\n",
      "Speed: 2.2ms preprocess, 147.4ms inference, 7.0ms postprocess per image at shape (1, 3, 640, 384)\n",
      "\n"
     ]
    },
    {
     "name": "stdout",
     "output_type": "stream",
     "text": [
      "frame No: 55\n",
      "frame No: 56\n"
     ]
    },
    {
     "name": "stderr",
     "output_type": "stream",
     "text": [
      "0: 640x384 (no detections), 211.9ms\n",
      "Speed: 19.5ms preprocess, 211.9ms inference, 1.1ms postprocess per image at shape (1, 3, 640, 384)\n",
      "\n",
      "0: 640x384 (no detections), 158.2ms\n",
      "Speed: 2.9ms preprocess, 158.2ms inference, 1.4ms postprocess per image at shape (1, 3, 640, 384)\n",
      "\n"
     ]
    },
    {
     "name": "stdout",
     "output_type": "stream",
     "text": [
      "frame No: 57\n",
      "frame No: 58\n"
     ]
    },
    {
     "name": "stderr",
     "output_type": "stream",
     "text": [
      "0: 640x384 (no detections), 164.9ms\n",
      "Speed: 3.2ms preprocess, 164.9ms inference, 1.3ms postprocess per image at shape (1, 3, 640, 384)\n",
      "\n",
      "0: 640x384 (no detections), 144.0ms\n",
      "Speed: 3.2ms preprocess, 144.0ms inference, 1.1ms postprocess per image at shape (1, 3, 640, 384)\n",
      "\n"
     ]
    },
    {
     "name": "stdout",
     "output_type": "stream",
     "text": [
      "frame No: 59\n",
      "frame No: 60\n"
     ]
    },
    {
     "name": "stderr",
     "output_type": "stream",
     "text": [
      "0: 640x384 (no detections), 152.2ms\n",
      "Speed: 3.1ms preprocess, 152.2ms inference, 1.3ms postprocess per image at shape (1, 3, 640, 384)\n",
      "\n",
      "0: 640x384 (no detections), 182.5ms\n",
      "Speed: 6.2ms preprocess, 182.5ms inference, 2.2ms postprocess per image at shape (1, 3, 640, 384)\n"
     ]
    },
    {
     "name": "stdout",
     "output_type": "stream",
     "text": [
      "frame No: 61\n"
     ]
    },
    {
     "name": "stderr",
     "output_type": "stream",
     "text": [
      "\n"
     ]
    },
    {
     "name": "stdout",
     "output_type": "stream",
     "text": [
      "frame No: 62\n"
     ]
    },
    {
     "name": "stderr",
     "output_type": "stream",
     "text": [
      "0: 640x384 (no detections), 190.8ms\n",
      "Speed: 6.8ms preprocess, 190.8ms inference, 1.1ms postprocess per image at shape (1, 3, 640, 384)\n",
      "\n",
      "0: 640x384 (no detections), 131.6ms\n",
      "Speed: 4.8ms preprocess, 131.6ms inference, 1.0ms postprocess per image at shape (1, 3, 640, 384)\n",
      "\n"
     ]
    },
    {
     "name": "stdout",
     "output_type": "stream",
     "text": [
      "frame No: 63\n",
      "frame No: 64\n"
     ]
    },
    {
     "name": "stderr",
     "output_type": "stream",
     "text": [
      "0: 640x384 (no detections), 160.2ms\n",
      "Speed: 3.8ms preprocess, 160.2ms inference, 1.2ms postprocess per image at shape (1, 3, 640, 384)\n",
      "\n",
      "0: 640x384 (no detections), 115.5ms\n",
      "Speed: 2.7ms preprocess, 115.5ms inference, 0.7ms postprocess per image at shape (1, 3, 640, 384)\n",
      "\n"
     ]
    },
    {
     "name": "stdout",
     "output_type": "stream",
     "text": [
      "frame No: 65\n",
      "frame No: 66\n"
     ]
    },
    {
     "name": "stderr",
     "output_type": "stream",
     "text": [
      "0: 640x384 (no detections), 117.8ms\n",
      "Speed: 3.2ms preprocess, 117.8ms inference, 0.8ms postprocess per image at shape (1, 3, 640, 384)\n",
      "\n",
      "0: 640x384 (no detections), 128.4ms\n",
      "Speed: 3.9ms preprocess, 128.4ms inference, 1.0ms postprocess per image at shape (1, 3, 640, 384)\n",
      "\n"
     ]
    },
    {
     "name": "stdout",
     "output_type": "stream",
     "text": [
      "frame No: 67\n",
      "frame No: 68\n"
     ]
    },
    {
     "name": "stderr",
     "output_type": "stream",
     "text": [
      "0: 640x384 (no detections), 103.3ms\n",
      "Speed: 2.2ms preprocess, 103.3ms inference, 1.1ms postprocess per image at shape (1, 3, 640, 384)\n",
      "\n",
      "0: 640x384 (no detections), 128.1ms\n",
      "Speed: 2.3ms preprocess, 128.1ms inference, 0.8ms postprocess per image at shape (1, 3, 640, 384)\n",
      "\n"
     ]
    },
    {
     "name": "stdout",
     "output_type": "stream",
     "text": [
      "frame No: 69\n",
      "frame No: 70\n"
     ]
    },
    {
     "name": "stderr",
     "output_type": "stream",
     "text": [
      "0: 640x384 (no detections), 116.9ms\n",
      "Speed: 2.6ms preprocess, 116.9ms inference, 1.3ms postprocess per image at shape (1, 3, 640, 384)\n",
      "\n",
      "0: 640x384 (no detections), 108.4ms\n",
      "Speed: 3.7ms preprocess, 108.4ms inference, 0.7ms postprocess per image at shape (1, 3, 640, 384)\n",
      "\n"
     ]
    },
    {
     "name": "stdout",
     "output_type": "stream",
     "text": [
      "frame No: 71\n",
      "frame No: 72\n"
     ]
    },
    {
     "name": "stderr",
     "output_type": "stream",
     "text": [
      "0: 640x384 (no detections), 93.8ms\n",
      "Speed: 3.2ms preprocess, 93.8ms inference, 1.1ms postprocess per image at shape (1, 3, 640, 384)\n",
      "\n",
      "0: 640x384 (no detections), 166.9ms\n",
      "Speed: 6.5ms preprocess, 166.9ms inference, 0.8ms postprocess per image at shape (1, 3, 640, 384)\n",
      "\n"
     ]
    },
    {
     "name": "stdout",
     "output_type": "stream",
     "text": [
      "frame No: 73\n",
      "frame No: 74\n"
     ]
    },
    {
     "name": "stderr",
     "output_type": "stream",
     "text": [
      "0: 640x384 (no detections), 121.8ms\n",
      "Speed: 2.1ms preprocess, 121.8ms inference, 1.1ms postprocess per image at shape (1, 3, 640, 384)\n",
      "\n"
     ]
    },
    {
     "name": "stdout",
     "output_type": "stream",
     "text": [
      "frame No: 75\n"
     ]
    },
    {
     "name": "stderr",
     "output_type": "stream",
     "text": [
      "0: 640x384 (no detections), 223.5ms\n",
      "Speed: 2.1ms preprocess, 223.5ms inference, 1.2ms postprocess per image at shape (1, 3, 640, 384)\n",
      "\n",
      "0: 640x384 (no detections), 128.5ms\n",
      "Speed: 4.1ms preprocess, 128.5ms inference, 0.7ms postprocess per image at shape (1, 3, 640, 384)\n",
      "\n"
     ]
    },
    {
     "name": "stdout",
     "output_type": "stream",
     "text": [
      "frame No: 76\n",
      "frame No: 77\n"
     ]
    },
    {
     "name": "stderr",
     "output_type": "stream",
     "text": [
      "0: 640x384 (no detections), 99.0ms\n",
      "Speed: 2.0ms preprocess, 99.0ms inference, 1.0ms postprocess per image at shape (1, 3, 640, 384)\n",
      "\n",
      "0: 640x384 (no detections), 119.0ms\n",
      "Speed: 3.3ms preprocess, 119.0ms inference, 0.7ms postprocess per image at shape (1, 3, 640, 384)\n",
      "\n"
     ]
    },
    {
     "name": "stdout",
     "output_type": "stream",
     "text": [
      "frame No: 78\n",
      "frame No: 79\n"
     ]
    },
    {
     "name": "stderr",
     "output_type": "stream",
     "text": [
      "0: 640x384 (no detections), 120.3ms\n",
      "Speed: 3.2ms preprocess, 120.3ms inference, 1.3ms postprocess per image at shape (1, 3, 640, 384)\n",
      "\n",
      "0: 640x384 (no detections), 125.0ms\n",
      "Speed: 2.6ms preprocess, 125.0ms inference, 0.9ms postprocess per image at shape (1, 3, 640, 384)\n",
      "\n"
     ]
    },
    {
     "name": "stdout",
     "output_type": "stream",
     "text": [
      "frame No: 80\n",
      "frame No: 81\n"
     ]
    },
    {
     "name": "stderr",
     "output_type": "stream",
     "text": [
      "0: 640x384 (no detections), 116.1ms\n",
      "Speed: 2.1ms preprocess, 116.1ms inference, 0.9ms postprocess per image at shape (1, 3, 640, 384)\n",
      "\n",
      "0: 640x384 (no detections), 116.8ms\n",
      "Speed: 3.4ms preprocess, 116.8ms inference, 0.7ms postprocess per image at shape (1, 3, 640, 384)\n",
      "\n"
     ]
    },
    {
     "name": "stdout",
     "output_type": "stream",
     "text": [
      "frame No: 82\n",
      "frame No: 83\n"
     ]
    },
    {
     "name": "stderr",
     "output_type": "stream",
     "text": [
      "0: 640x384 (no detections), 92.3ms\n",
      "Speed: 3.0ms preprocess, 92.3ms inference, 1.6ms postprocess per image at shape (1, 3, 640, 384)\n",
      "\n",
      "0: 640x384 (no detections), 122.4ms\n",
      "Speed: 2.8ms preprocess, 122.4ms inference, 0.7ms postprocess per image at shape (1, 3, 640, 384)\n",
      "\n"
     ]
    },
    {
     "name": "stdout",
     "output_type": "stream",
     "text": [
      "frame No: 84\n",
      "frame No: 85\n"
     ]
    },
    {
     "name": "stderr",
     "output_type": "stream",
     "text": [
      "0: 640x384 (no detections), 125.7ms\n",
      "Speed: 2.2ms preprocess, 125.7ms inference, 0.6ms postprocess per image at shape (1, 3, 640, 384)\n",
      "\n",
      "0: 640x384 (no detections), 123.4ms\n",
      "Speed: 4.3ms preprocess, 123.4ms inference, 0.7ms postprocess per image at shape (1, 3, 640, 384)\n",
      "\n"
     ]
    },
    {
     "name": "stdout",
     "output_type": "stream",
     "text": [
      "frame No: 86\n",
      "frame No: 87\n"
     ]
    },
    {
     "name": "stderr",
     "output_type": "stream",
     "text": [
      "0: 640x384 (no detections), 121.7ms\n",
      "Speed: 2.1ms preprocess, 121.7ms inference, 1.0ms postprocess per image at shape (1, 3, 640, 384)\n",
      "\n",
      "0: 640x384 (no detections), 109.6ms\n",
      "Speed: 2.4ms preprocess, 109.6ms inference, 0.9ms postprocess per image at shape (1, 3, 640, 384)\n",
      "\n"
     ]
    },
    {
     "name": "stdout",
     "output_type": "stream",
     "text": [
      "frame No: 88\n",
      "frame No: 89\n"
     ]
    },
    {
     "name": "stderr",
     "output_type": "stream",
     "text": [
      "0: 640x384 (no detections), 94.2ms\n",
      "Speed: 2.1ms preprocess, 94.2ms inference, 1.2ms postprocess per image at shape (1, 3, 640, 384)\n",
      "\n",
      "0: 640x384 (no detections), 149.2ms\n",
      "Speed: 2.2ms preprocess, 149.2ms inference, 0.9ms postprocess per image at shape (1, 3, 640, 384)\n",
      "\n"
     ]
    },
    {
     "name": "stdout",
     "output_type": "stream",
     "text": [
      "frame No: 90\n",
      "frame No: 91\n"
     ]
    },
    {
     "name": "stderr",
     "output_type": "stream",
     "text": [
      "0: 640x384 (no detections), 129.9ms\n",
      "Speed: 2.1ms preprocess, 129.9ms inference, 1.0ms postprocess per image at shape (1, 3, 640, 384)\n",
      "\n",
      "0: 640x384 (no detections), 117.1ms\n",
      "Speed: 2.8ms preprocess, 117.1ms inference, 0.8ms postprocess per image at shape (1, 3, 640, 384)\n",
      "\n"
     ]
    },
    {
     "name": "stdout",
     "output_type": "stream",
     "text": [
      "frame No: 92\n",
      "frame No: 93\n"
     ]
    },
    {
     "name": "stderr",
     "output_type": "stream",
     "text": [
      "0: 640x384 (no detections), 114.5ms\n",
      "Speed: 2.1ms preprocess, 114.5ms inference, 0.8ms postprocess per image at shape (1, 3, 640, 384)\n",
      "\n"
     ]
    },
    {
     "name": "stdout",
     "output_type": "stream",
     "text": [
      "frame No: 94\n"
     ]
    },
    {
     "name": "stderr",
     "output_type": "stream",
     "text": [
      "0: 640x384 (no detections), 235.4ms\n",
      "Speed: 2.8ms preprocess, 235.4ms inference, 0.7ms postprocess per image at shape (1, 3, 640, 384)\n",
      "\n",
      "0: 640x384 (no detections), 124.6ms\n",
      "Speed: 3.4ms preprocess, 124.6ms inference, 0.7ms postprocess per image at shape (1, 3, 640, 384)\n",
      "\n"
     ]
    },
    {
     "name": "stdout",
     "output_type": "stream",
     "text": [
      "frame No: 95\n",
      "frame No: 96\n"
     ]
    },
    {
     "name": "stderr",
     "output_type": "stream",
     "text": [
      "0: 640x384 (no detections), 91.3ms\n",
      "Speed: 2.2ms preprocess, 91.3ms inference, 1.2ms postprocess per image at shape (1, 3, 640, 384)\n",
      "\n",
      "0: 640x384 (no detections), 123.6ms\n",
      "Speed: 2.6ms preprocess, 123.6ms inference, 1.0ms postprocess per image at shape (1, 3, 640, 384)\n",
      "\n"
     ]
    },
    {
     "name": "stdout",
     "output_type": "stream",
     "text": [
      "frame No: 97\n",
      "frame No: 98\n"
     ]
    },
    {
     "name": "stderr",
     "output_type": "stream",
     "text": [
      "0: 640x384 (no detections), 119.6ms\n",
      "Speed: 2.3ms preprocess, 119.6ms inference, 1.4ms postprocess per image at shape (1, 3, 640, 384)\n",
      "\n",
      "0: 640x384 (no detections), 108.0ms\n",
      "Speed: 3.2ms preprocess, 108.0ms inference, 0.6ms postprocess per image at shape (1, 3, 640, 384)\n",
      "\n"
     ]
    },
    {
     "name": "stdout",
     "output_type": "stream",
     "text": [
      "frame No: 99\n",
      "frame No: 100\n"
     ]
    },
    {
     "name": "stderr",
     "output_type": "stream",
     "text": [
      "0: 640x384 (no detections), 89.9ms\n",
      "Speed: 2.1ms preprocess, 89.9ms inference, 0.7ms postprocess per image at shape (1, 3, 640, 384)\n",
      "\n",
      "0: 640x384 (no detections), 112.6ms\n",
      "Speed: 3.3ms preprocess, 112.6ms inference, 0.8ms postprocess per image at shape (1, 3, 640, 384)\n",
      "\n"
     ]
    },
    {
     "name": "stdout",
     "output_type": "stream",
     "text": [
      "frame No: 101\n",
      "frame No: 102\n"
     ]
    },
    {
     "name": "stderr",
     "output_type": "stream",
     "text": [
      "0: 640x384 (no detections), 111.5ms\n",
      "Speed: 2.2ms preprocess, 111.5ms inference, 1.2ms postprocess per image at shape (1, 3, 640, 384)\n",
      "\n",
      "0: 640x384 (no detections), 121.7ms\n",
      "Speed: 2.8ms preprocess, 121.7ms inference, 1.1ms postprocess per image at shape (1, 3, 640, 384)\n",
      "\n"
     ]
    },
    {
     "name": "stdout",
     "output_type": "stream",
     "text": [
      "frame No: 103\n",
      "frame No: 104\n"
     ]
    },
    {
     "name": "stderr",
     "output_type": "stream",
     "text": [
      "0: 640x384 (no detections), 115.4ms\n",
      "Speed: 2.2ms preprocess, 115.4ms inference, 1.2ms postprocess per image at shape (1, 3, 640, 384)\n",
      "\n",
      "0: 640x384 (no detections), 124.0ms\n",
      "Speed: 2.9ms preprocess, 124.0ms inference, 1.1ms postprocess per image at shape (1, 3, 640, 384)\n",
      "\n"
     ]
    },
    {
     "name": "stdout",
     "output_type": "stream",
     "text": [
      "frame No: 105\n",
      "frame No: 106\n"
     ]
    },
    {
     "name": "stderr",
     "output_type": "stream",
     "text": [
      "0: 640x384 (no detections), 112.3ms\n",
      "Speed: 2.7ms preprocess, 112.3ms inference, 1.0ms postprocess per image at shape (1, 3, 640, 384)\n",
      "\n",
      "0: 640x384 (no detections), 124.6ms\n",
      "Speed: 3.9ms preprocess, 124.6ms inference, 0.7ms postprocess per image at shape (1, 3, 640, 384)\n",
      "\n"
     ]
    },
    {
     "name": "stdout",
     "output_type": "stream",
     "text": [
      "frame No: 107\n",
      "frame No: 108\n"
     ]
    },
    {
     "name": "stderr",
     "output_type": "stream",
     "text": [
      "0: 640x384 (no detections), 113.2ms\n",
      "Speed: 2.4ms preprocess, 113.2ms inference, 1.2ms postprocess per image at shape (1, 3, 640, 384)\n",
      "\n",
      "0: 640x384 (no detections), 133.5ms\n",
      "Speed: 3.2ms preprocess, 133.5ms inference, 0.7ms postprocess per image at shape (1, 3, 640, 384)\n",
      "\n"
     ]
    },
    {
     "name": "stdout",
     "output_type": "stream",
     "text": [
      "frame No: 109\n",
      "frame No: 110\n"
     ]
    },
    {
     "name": "stderr",
     "output_type": "stream",
     "text": [
      "0: 640x384 (no detections), 103.6ms\n",
      "Speed: 2.3ms preprocess, 103.6ms inference, 0.8ms postprocess per image at shape (1, 3, 640, 384)\n",
      "\n"
     ]
    },
    {
     "name": "stdout",
     "output_type": "stream",
     "text": [
      "frame No: 111\n"
     ]
    },
    {
     "name": "stderr",
     "output_type": "stream",
     "text": [
      "0: 640x384 (no detections), 201.6ms\n",
      "Speed: 3.2ms preprocess, 201.6ms inference, 26.4ms postprocess per image at shape (1, 3, 640, 384)\n",
      "\n",
      "0: 640x384 (no detections), 122.4ms\n",
      "Speed: 2.6ms preprocess, 122.4ms inference, 0.7ms postprocess per image at shape (1, 3, 640, 384)\n",
      "\n"
     ]
    },
    {
     "name": "stdout",
     "output_type": "stream",
     "text": [
      "frame No: 112\n",
      "frame No: 113\n"
     ]
    },
    {
     "name": "stderr",
     "output_type": "stream",
     "text": [
      "0: 640x384 (no detections), 87.3ms\n",
      "Speed: 2.3ms preprocess, 87.3ms inference, 1.3ms postprocess per image at shape (1, 3, 640, 384)\n",
      "\n",
      "0: 640x384 (no detections), 109.0ms\n",
      "Speed: 4.1ms preprocess, 109.0ms inference, 0.6ms postprocess per image at shape (1, 3, 640, 384)\n",
      "\n"
     ]
    },
    {
     "name": "stdout",
     "output_type": "stream",
     "text": [
      "frame No: 114\n",
      "frame No: 115\n"
     ]
    },
    {
     "name": "stderr",
     "output_type": "stream",
     "text": [
      "0: 640x384 (no detections), 93.4ms\n",
      "Speed: 2.2ms preprocess, 93.4ms inference, 1.2ms postprocess per image at shape (1, 3, 640, 384)\n",
      "\n",
      "0: 640x384 (no detections), 164.0ms\n",
      "Speed: 3.1ms preprocess, 164.0ms inference, 0.6ms postprocess per image at shape (1, 3, 640, 384)\n",
      "\n"
     ]
    },
    {
     "name": "stdout",
     "output_type": "stream",
     "text": [
      "frame No: 116\n",
      "frame No: 117\n"
     ]
    },
    {
     "name": "stderr",
     "output_type": "stream",
     "text": [
      "0: 640x384 (no detections), 123.8ms\n",
      "Speed: 2.1ms preprocess, 123.8ms inference, 0.7ms postprocess per image at shape (1, 3, 640, 384)\n",
      "\n",
      "0: 640x384 (no detections), 116.0ms\n",
      "Speed: 2.5ms preprocess, 116.0ms inference, 0.7ms postprocess per image at shape (1, 3, 640, 384)\n",
      "\n"
     ]
    },
    {
     "name": "stdout",
     "output_type": "stream",
     "text": [
      "frame No: 118\n",
      "frame No: 119\n"
     ]
    },
    {
     "name": "stderr",
     "output_type": "stream",
     "text": [
      "0: 640x384 (no detections), 114.8ms\n",
      "Speed: 2.2ms preprocess, 114.8ms inference, 1.1ms postprocess per image at shape (1, 3, 640, 384)\n",
      "\n",
      "0: 640x384 (no detections), 107.5ms\n",
      "Speed: 3.3ms preprocess, 107.5ms inference, 1.1ms postprocess per image at shape (1, 3, 640, 384)\n",
      "\n"
     ]
    },
    {
     "name": "stdout",
     "output_type": "stream",
     "text": [
      "frame No: 120\n",
      "frame No: 121\n"
     ]
    },
    {
     "name": "stderr",
     "output_type": "stream",
     "text": [
      "0: 640x384 (no detections), 85.9ms\n",
      "Speed: 2.8ms preprocess, 85.9ms inference, 0.7ms postprocess per image at shape (1, 3, 640, 384)\n",
      "\n",
      "0: 640x384 (no detections), 121.4ms\n",
      "Speed: 2.9ms preprocess, 121.4ms inference, 0.7ms postprocess per image at shape (1, 3, 640, 384)\n",
      "\n"
     ]
    },
    {
     "name": "stdout",
     "output_type": "stream",
     "text": [
      "frame No: 122\n",
      "frame No: 123\n"
     ]
    },
    {
     "name": "stderr",
     "output_type": "stream",
     "text": [
      "0: 640x384 (no detections), 87.3ms\n",
      "Speed: 2.5ms preprocess, 87.3ms inference, 1.2ms postprocess per image at shape (1, 3, 640, 384)\n",
      "\n",
      "0: 640x384 (no detections), 122.7ms\n",
      "Speed: 2.8ms preprocess, 122.7ms inference, 1.4ms postprocess per image at shape (1, 3, 640, 384)\n",
      "\n"
     ]
    },
    {
     "name": "stdout",
     "output_type": "stream",
     "text": [
      "frame No: 124\n",
      "frame No: 125\n"
     ]
    },
    {
     "name": "stderr",
     "output_type": "stream",
     "text": [
      "0: 640x384 (no detections), 100.2ms\n",
      "Speed: 2.2ms preprocess, 100.2ms inference, 1.2ms postprocess per image at shape (1, 3, 640, 384)\n",
      "\n",
      "0: 640x384 (no detections), 103.6ms\n",
      "Speed: 2.6ms preprocess, 103.6ms inference, 1.1ms postprocess per image at shape (1, 3, 640, 384)\n",
      "\n"
     ]
    },
    {
     "name": "stdout",
     "output_type": "stream",
     "text": [
      "frame No: 126\n",
      "frame No: 127\n"
     ]
    },
    {
     "name": "stderr",
     "output_type": "stream",
     "text": [
      "0: 640x384 (no detections), 113.4ms\n",
      "Speed: 2.1ms preprocess, 113.4ms inference, 1.1ms postprocess per image at shape (1, 3, 640, 384)\n",
      "\n",
      "0: 640x384 (no detections), 136.1ms\n",
      "Speed: 3.2ms preprocess, 136.1ms inference, 1.1ms postprocess per image at shape (1, 3, 640, 384)\n",
      "\n"
     ]
    },
    {
     "name": "stdout",
     "output_type": "stream",
     "text": [
      "frame No: 128\n",
      "frame No: 129\n"
     ]
    },
    {
     "name": "stderr",
     "output_type": "stream",
     "text": [
      "0: 640x384 (no detections), 158.9ms\n",
      "Speed: 2.3ms preprocess, 158.9ms inference, 0.8ms postprocess per image at shape (1, 3, 640, 384)\n",
      "\n",
      "0: 640x384 (no detections), 144.1ms\n",
      "Speed: 2.9ms preprocess, 144.1ms inference, 1.8ms postprocess per image at shape (1, 3, 640, 384)\n",
      "\n"
     ]
    },
    {
     "name": "stdout",
     "output_type": "stream",
     "text": [
      "frame No: 130\n",
      "frame No: 131\n"
     ]
    },
    {
     "name": "stderr",
     "output_type": "stream",
     "text": [
      "0: 640x384 (no detections), 109.4ms\n",
      "Speed: 2.4ms preprocess, 109.4ms inference, 0.8ms postprocess per image at shape (1, 3, 640, 384)\n",
      "\n",
      "0: 640x384 (no detections), 116.6ms\n",
      "Speed: 2.6ms preprocess, 116.6ms inference, 1.1ms postprocess per image at shape (1, 3, 640, 384)\n",
      "\n"
     ]
    },
    {
     "name": "stdout",
     "output_type": "stream",
     "text": [
      "frame No: 132\n",
      "frame No: 133\n"
     ]
    },
    {
     "name": "stderr",
     "output_type": "stream",
     "text": [
      "0: 640x384 (no detections), 116.8ms\n",
      "Speed: 2.7ms preprocess, 116.8ms inference, 0.7ms postprocess per image at shape (1, 3, 640, 384)\n",
      "\n",
      "0: 640x384 (no detections), 115.4ms\n",
      "Speed: 3.1ms preprocess, 115.4ms inference, 1.0ms postprocess per image at shape (1, 3, 640, 384)\n",
      "\n"
     ]
    },
    {
     "name": "stdout",
     "output_type": "stream",
     "text": [
      "frame No: 134\n",
      "frame No: 135\n"
     ]
    },
    {
     "name": "stderr",
     "output_type": "stream",
     "text": [
      "0: 640x384 (no detections), 101.0ms\n",
      "Speed: 2.2ms preprocess, 101.0ms inference, 1.0ms postprocess per image at shape (1, 3, 640, 384)\n",
      "\n",
      "0: 640x384 (no detections), 130.2ms\n",
      "Speed: 3.1ms preprocess, 130.2ms inference, 1.1ms postprocess per image at shape (1, 3, 640, 384)\n",
      "\n"
     ]
    },
    {
     "name": "stdout",
     "output_type": "stream",
     "text": [
      "frame No: 136\n",
      "frame No: 137\n"
     ]
    },
    {
     "name": "stderr",
     "output_type": "stream",
     "text": [
      "0: 640x384 (no detections), 95.1ms\n",
      "Speed: 2.0ms preprocess, 95.1ms inference, 1.5ms postprocess per image at shape (1, 3, 640, 384)\n",
      "\n",
      "0: 640x384 (no detections), 122.8ms\n",
      "Speed: 3.9ms preprocess, 122.8ms inference, 0.8ms postprocess per image at shape (1, 3, 640, 384)\n",
      "\n"
     ]
    },
    {
     "name": "stdout",
     "output_type": "stream",
     "text": [
      "frame No: 138\n",
      "frame No: 139\n"
     ]
    },
    {
     "name": "stderr",
     "output_type": "stream",
     "text": [
      "0: 640x384 (no detections), 89.0ms\n",
      "Speed: 2.3ms preprocess, 89.0ms inference, 1.2ms postprocess per image at shape (1, 3, 640, 384)\n",
      "\n",
      "0: 640x384 (no detections), 126.8ms\n",
      "Speed: 2.7ms preprocess, 126.8ms inference, 0.8ms postprocess per image at shape (1, 3, 640, 384)\n",
      "\n"
     ]
    },
    {
     "name": "stdout",
     "output_type": "stream",
     "text": [
      "frame No: 140\n",
      "frame No: 141\n"
     ]
    },
    {
     "name": "stderr",
     "output_type": "stream",
     "text": [
      "0: 640x384 (no detections), 118.6ms\n",
      "Speed: 2.8ms preprocess, 118.6ms inference, 1.3ms postprocess per image at shape (1, 3, 640, 384)\n",
      "\n",
      "0: 640x384 (no detections), 140.2ms\n",
      "Speed: 3.1ms preprocess, 140.2ms inference, 1.1ms postprocess per image at shape (1, 3, 640, 384)\n",
      "\n"
     ]
    },
    {
     "name": "stdout",
     "output_type": "stream",
     "text": [
      "frame No: 142\n",
      "frame No: 143\n"
     ]
    },
    {
     "name": "stderr",
     "output_type": "stream",
     "text": [
      "0: 640x384 (no detections), 119.9ms\n",
      "Speed: 2.2ms preprocess, 119.9ms inference, 0.9ms postprocess per image at shape (1, 3, 640, 384)\n",
      "\n",
      "0: 640x384 (no detections), 155.7ms\n",
      "Speed: 2.8ms preprocess, 155.7ms inference, 0.8ms postprocess per image at shape (1, 3, 640, 384)\n",
      "\n"
     ]
    },
    {
     "name": "stdout",
     "output_type": "stream",
     "text": [
      "frame No: 144\n",
      "frame No: 145\n"
     ]
    },
    {
     "name": "stderr",
     "output_type": "stream",
     "text": [
      "0: 640x384 (no detections), 268.5ms\n",
      "Speed: 2.2ms preprocess, 268.5ms inference, 1.1ms postprocess per image at shape (1, 3, 640, 384)\n",
      "\n",
      "0: 640x384 (no detections), 122.0ms\n",
      "Speed: 3.0ms preprocess, 122.0ms inference, 0.7ms postprocess per image at shape (1, 3, 640, 384)\n",
      "\n"
     ]
    },
    {
     "name": "stdout",
     "output_type": "stream",
     "text": [
      "frame No: 146\n",
      "frame No: 147\n"
     ]
    },
    {
     "name": "stderr",
     "output_type": "stream",
     "text": [
      "0: 640x384 (no detections), 132.8ms\n",
      "Speed: 3.5ms preprocess, 132.8ms inference, 1.3ms postprocess per image at shape (1, 3, 640, 384)\n",
      "\n",
      "0: 640x384 (no detections), 111.9ms\n",
      "Speed: 2.3ms preprocess, 111.9ms inference, 1.0ms postprocess per image at shape (1, 3, 640, 384)\n",
      "\n"
     ]
    },
    {
     "name": "stdout",
     "output_type": "stream",
     "text": [
      "frame No: 148\n",
      "frame No: 149\n"
     ]
    },
    {
     "name": "stderr",
     "output_type": "stream",
     "text": [
      "0: 640x384 (no detections), 102.5ms\n",
      "Speed: 2.6ms preprocess, 102.5ms inference, 1.3ms postprocess per image at shape (1, 3, 640, 384)\n",
      "\n",
      "0: 640x384 (no detections), 127.2ms\n",
      "Speed: 2.7ms preprocess, 127.2ms inference, 1.0ms postprocess per image at shape (1, 3, 640, 384)\n",
      "\n"
     ]
    },
    {
     "name": "stdout",
     "output_type": "stream",
     "text": [
      "frame No: 150\n",
      "frame No: 151\n"
     ]
    },
    {
     "name": "stderr",
     "output_type": "stream",
     "text": [
      "0: 640x384 (no detections), 127.5ms\n",
      "Speed: 3.0ms preprocess, 127.5ms inference, 1.2ms postprocess per image at shape (1, 3, 640, 384)\n",
      "\n",
      "0: 640x384 (no detections), 134.5ms\n",
      "Speed: 3.1ms preprocess, 134.5ms inference, 1.1ms postprocess per image at shape (1, 3, 640, 384)\n",
      "\n"
     ]
    },
    {
     "name": "stdout",
     "output_type": "stream",
     "text": [
      "frame No: 152\n",
      "frame No: 153\n"
     ]
    },
    {
     "name": "stderr",
     "output_type": "stream",
     "text": [
      "0: 640x384 (no detections), 123.2ms\n",
      "Speed: 2.2ms preprocess, 123.2ms inference, 0.9ms postprocess per image at shape (1, 3, 640, 384)\n",
      "\n",
      "0: 640x384 (no detections), 114.3ms\n",
      "Speed: 3.3ms preprocess, 114.3ms inference, 0.6ms postprocess per image at shape (1, 3, 640, 384)\n",
      "\n"
     ]
    },
    {
     "name": "stdout",
     "output_type": "stream",
     "text": [
      "frame No: 154\n",
      "frame No: 155\n"
     ]
    },
    {
     "name": "stderr",
     "output_type": "stream",
     "text": [
      "0: 640x384 (no detections), 118.8ms\n",
      "Speed: 3.6ms preprocess, 118.8ms inference, 1.5ms postprocess per image at shape (1, 3, 640, 384)\n",
      "\n",
      "0: 640x384 (no detections), 127.8ms\n",
      "Speed: 2.4ms preprocess, 127.8ms inference, 1.3ms postprocess per image at shape (1, 3, 640, 384)\n",
      "\n"
     ]
    },
    {
     "name": "stdout",
     "output_type": "stream",
     "text": [
      "frame No: 156\n",
      "frame No: 157\n"
     ]
    },
    {
     "name": "stderr",
     "output_type": "stream",
     "text": [
      "0: 640x384 (no detections), 112.3ms\n",
      "Speed: 2.6ms preprocess, 112.3ms inference, 1.1ms postprocess per image at shape (1, 3, 640, 384)\n",
      "\n",
      "0: 640x384 (no detections), 129.9ms\n",
      "Speed: 2.5ms preprocess, 129.9ms inference, 0.6ms postprocess per image at shape (1, 3, 640, 384)\n",
      "\n"
     ]
    },
    {
     "name": "stdout",
     "output_type": "stream",
     "text": [
      "frame No: 158\n",
      "frame No: 159\n"
     ]
    },
    {
     "name": "stderr",
     "output_type": "stream",
     "text": [
      "0: 640x384 (no detections), 104.1ms\n",
      "Speed: 2.3ms preprocess, 104.1ms inference, 1.0ms postprocess per image at shape (1, 3, 640, 384)\n",
      "\n",
      "0: 640x384 (no detections), 118.1ms\n",
      "Speed: 3.3ms preprocess, 118.1ms inference, 0.6ms postprocess per image at shape (1, 3, 640, 384)\n",
      "\n"
     ]
    },
    {
     "name": "stdout",
     "output_type": "stream",
     "text": [
      "frame No: 160\n",
      "frame No: 161\n"
     ]
    },
    {
     "name": "stderr",
     "output_type": "stream",
     "text": [
      "0: 640x384 (no detections), 113.4ms\n",
      "Speed: 3.5ms preprocess, 113.4ms inference, 1.0ms postprocess per image at shape (1, 3, 640, 384)\n",
      "\n",
      "0: 640x384 (no detections), 143.0ms\n",
      "Speed: 2.7ms preprocess, 143.0ms inference, 1.2ms postprocess per image at shape (1, 3, 640, 384)\n",
      "\n"
     ]
    },
    {
     "name": "stdout",
     "output_type": "stream",
     "text": [
      "frame No: 162\n",
      "frame No: 163\n"
     ]
    },
    {
     "name": "stderr",
     "output_type": "stream",
     "text": [
      "0: 640x384 (no detections), 137.7ms\n",
      "Speed: 3.4ms preprocess, 137.7ms inference, 1.4ms postprocess per image at shape (1, 3, 640, 384)\n",
      "\n"
     ]
    },
    {
     "name": "stdout",
     "output_type": "stream",
     "text": [
      "frame No: 164\n"
     ]
    },
    {
     "name": "stderr",
     "output_type": "stream",
     "text": [
      "0: 640x384 (no detections), 310.9ms\n",
      "Speed: 3.1ms preprocess, 310.9ms inference, 1.6ms postprocess per image at shape (1, 3, 640, 384)\n",
      "\n",
      "0: 640x384 (no detections), 178.8ms\n",
      "Speed: 3.0ms preprocess, 178.8ms inference, 2.7ms postprocess per image at shape (1, 3, 640, 384)\n",
      "\n"
     ]
    },
    {
     "name": "stdout",
     "output_type": "stream",
     "text": [
      "frame No: 165\n",
      "frame No: 166\n"
     ]
    },
    {
     "name": "stderr",
     "output_type": "stream",
     "text": [
      "0: 640x384 (no detections), 164.5ms\n",
      "Speed: 3.3ms preprocess, 164.5ms inference, 1.9ms postprocess per image at shape (1, 3, 640, 384)\n",
      "\n",
      "0: 640x384 (no detections), 148.9ms\n",
      "Speed: 3.9ms preprocess, 148.9ms inference, 1.3ms postprocess per image at shape (1, 3, 640, 384)\n",
      "\n"
     ]
    },
    {
     "name": "stdout",
     "output_type": "stream",
     "text": [
      "frame No: 167\n",
      "frame No: 168\n"
     ]
    },
    {
     "name": "stderr",
     "output_type": "stream",
     "text": [
      "0: 640x384 (no detections), 160.0ms\n",
      "Speed: 2.9ms preprocess, 160.0ms inference, 1.0ms postprocess per image at shape (1, 3, 640, 384)\n",
      "\n"
     ]
    },
    {
     "name": "stdout",
     "output_type": "stream",
     "text": [
      "frame No: 169\n"
     ]
    },
    {
     "name": "stderr",
     "output_type": "stream",
     "text": [
      "0: 640x384 (no detections), 215.7ms\n",
      "Speed: 9.6ms preprocess, 215.7ms inference, 1.3ms postprocess per image at shape (1, 3, 640, 384)\n",
      "\n",
      "0: 640x384 (no detections), 169.2ms\n",
      "Speed: 4.8ms preprocess, 169.2ms inference, 1.1ms postprocess per image at shape (1, 3, 640, 384)\n",
      "\n"
     ]
    },
    {
     "name": "stdout",
     "output_type": "stream",
     "text": [
      "frame No: 170\n",
      "frame No: 171\n"
     ]
    },
    {
     "name": "stderr",
     "output_type": "stream",
     "text": [
      "0: 640x384 (no detections), 160.4ms\n",
      "Speed: 3.0ms preprocess, 160.4ms inference, 6.9ms postprocess per image at shape (1, 3, 640, 384)\n",
      "\n",
      "0: 640x384 (no detections), 180.1ms\n",
      "Speed: 3.3ms preprocess, 180.1ms inference, 1.7ms postprocess per image at shape (1, 3, 640, 384)\n",
      "\n"
     ]
    },
    {
     "name": "stdout",
     "output_type": "stream",
     "text": [
      "frame No: 172\n",
      "frame No: 173\n"
     ]
    },
    {
     "name": "stderr",
     "output_type": "stream",
     "text": [
      "0: 640x384 (no detections), 156.3ms\n",
      "Speed: 2.3ms preprocess, 156.3ms inference, 1.0ms postprocess per image at shape (1, 3, 640, 384)\n",
      "\n",
      "0: 640x384 (no detections), 101.9ms\n",
      "Speed: 2.2ms preprocess, 101.9ms inference, 0.6ms postprocess per image at shape (1, 3, 640, 384)\n",
      "\n"
     ]
    },
    {
     "name": "stdout",
     "output_type": "stream",
     "text": [
      "frame No: 174\n",
      "frame No: 175\n"
     ]
    },
    {
     "name": "stderr",
     "output_type": "stream",
     "text": [
      "0: 640x384 (no detections), 91.5ms\n",
      "Speed: 2.3ms preprocess, 91.5ms inference, 0.7ms postprocess per image at shape (1, 3, 640, 384)\n",
      "\n",
      "0: 640x384 (no detections), 109.2ms\n",
      "Speed: 2.7ms preprocess, 109.2ms inference, 0.7ms postprocess per image at shape (1, 3, 640, 384)\n",
      "\n"
     ]
    },
    {
     "name": "stdout",
     "output_type": "stream",
     "text": [
      "frame No: 176\n",
      "frame No: 177\n"
     ]
    },
    {
     "name": "stderr",
     "output_type": "stream",
     "text": [
      "0: 640x384 (no detections), 115.2ms\n",
      "Speed: 2.6ms preprocess, 115.2ms inference, 1.0ms postprocess per image at shape (1, 3, 640, 384)\n",
      "\n",
      "0: 640x384 (no detections), 126.5ms\n",
      "Speed: 3.1ms preprocess, 126.5ms inference, 0.9ms postprocess per image at shape (1, 3, 640, 384)\n",
      "\n"
     ]
    },
    {
     "name": "stdout",
     "output_type": "stream",
     "text": [
      "frame No: 178\n",
      "frame No: 179\n"
     ]
    },
    {
     "name": "stderr",
     "output_type": "stream",
     "text": [
      "0: 640x384 (no detections), 122.4ms\n",
      "Speed: 2.2ms preprocess, 122.4ms inference, 1.2ms postprocess per image at shape (1, 3, 640, 384)\n",
      "\n",
      "0: 640x384 (no detections), 135.2ms\n",
      "Speed: 3.9ms preprocess, 135.2ms inference, 1.1ms postprocess per image at shape (1, 3, 640, 384)\n",
      "\n"
     ]
    },
    {
     "name": "stdout",
     "output_type": "stream",
     "text": [
      "frame No: 180\n",
      "frame No: 181\n"
     ]
    },
    {
     "name": "stderr",
     "output_type": "stream",
     "text": [
      "0: 640x384 (no detections), 159.6ms\n",
      "Speed: 5.0ms preprocess, 159.6ms inference, 5.9ms postprocess per image at shape (1, 3, 640, 384)\n",
      "\n"
     ]
    },
    {
     "name": "stdout",
     "output_type": "stream",
     "text": [
      "frame No: 182\n"
     ]
    },
    {
     "name": "stderr",
     "output_type": "stream",
     "text": [
      "0: 640x384 (no detections), 225.3ms\n",
      "Speed: 30.8ms preprocess, 225.3ms inference, 1.2ms postprocess per image at shape (1, 3, 640, 384)\n",
      "\n",
      "0: 640x384 (no detections), 138.1ms\n",
      "Speed: 2.9ms preprocess, 138.1ms inference, 1.2ms postprocess per image at shape (1, 3, 640, 384)\n",
      "\n"
     ]
    },
    {
     "name": "stdout",
     "output_type": "stream",
     "text": [
      "frame No: 183\n",
      "frame No: 184\n"
     ]
    },
    {
     "name": "stderr",
     "output_type": "stream",
     "text": [
      "0: 640x384 (no detections), 140.3ms\n",
      "Speed: 3.2ms preprocess, 140.3ms inference, 1.3ms postprocess per image at shape (1, 3, 640, 384)\n",
      "\n",
      "0: 640x384 (no detections), 142.2ms\n",
      "Speed: 2.4ms preprocess, 142.2ms inference, 1.0ms postprocess per image at shape (1, 3, 640, 384)\n",
      "\n"
     ]
    },
    {
     "name": "stdout",
     "output_type": "stream",
     "text": [
      "frame No: 185\n",
      "frame No: 186\n"
     ]
    },
    {
     "name": "stderr",
     "output_type": "stream",
     "text": [
      "0: 640x384 (no detections), 138.7ms\n",
      "Speed: 2.9ms preprocess, 138.7ms inference, 0.7ms postprocess per image at shape (1, 3, 640, 384)\n",
      "\n",
      "0: 640x384 (no detections), 78.4ms\n",
      "Speed: 2.2ms preprocess, 78.4ms inference, 0.7ms postprocess per image at shape (1, 3, 640, 384)\n",
      "\n",
      "0: 640x384 (no detections), 101.3ms\n",
      "Speed: 2.2ms preprocess, 101.3ms inference, 0.9ms postprocess per image at shape (1, 3, 640, 384)\n",
      "\n"
     ]
    },
    {
     "name": "stdout",
     "output_type": "stream",
     "text": [
      "frame No: 187\n",
      "frame No: 188\n",
      "frame No: 189\n"
     ]
    },
    {
     "name": "stderr",
     "output_type": "stream",
     "text": [
      "0: 640x384 (no detections), 95.6ms\n",
      "Speed: 2.2ms preprocess, 95.6ms inference, 0.8ms postprocess per image at shape (1, 3, 640, 384)\n",
      "\n",
      "0: 640x384 (no detections), 101.8ms\n",
      "Speed: 3.3ms preprocess, 101.8ms inference, 1.0ms postprocess per image at shape (1, 3, 640, 384)\n",
      "\n"
     ]
    },
    {
     "name": "stdout",
     "output_type": "stream",
     "text": [
      "frame No: 190\n",
      "frame No: 191\n"
     ]
    },
    {
     "name": "stderr",
     "output_type": "stream",
     "text": [
      "0: 640x384 (no detections), 110.4ms\n",
      "Speed: 2.2ms preprocess, 110.4ms inference, 0.7ms postprocess per image at shape (1, 3, 640, 384)\n",
      "\n",
      "0: 640x384 (no detections), 107.5ms\n",
      "Speed: 2.4ms preprocess, 107.5ms inference, 0.7ms postprocess per image at shape (1, 3, 640, 384)\n",
      "\n"
     ]
    },
    {
     "name": "stdout",
     "output_type": "stream",
     "text": [
      "frame No: 192\n",
      "frame No: 193\n"
     ]
    },
    {
     "name": "stderr",
     "output_type": "stream",
     "text": [
      "0: 640x384 (no detections), 103.5ms\n",
      "Speed: 2.4ms preprocess, 103.5ms inference, 0.9ms postprocess per image at shape (1, 3, 640, 384)\n",
      "\n",
      "0: 640x384 (no detections), 123.8ms\n",
      "Speed: 2.2ms preprocess, 123.8ms inference, 1.2ms postprocess per image at shape (1, 3, 640, 384)\n",
      "\n"
     ]
    },
    {
     "name": "stdout",
     "output_type": "stream",
     "text": [
      "frame No: 194\n",
      "frame No: 195\n"
     ]
    },
    {
     "name": "stderr",
     "output_type": "stream",
     "text": [
      "0: 640x384 (no detections), 184.0ms\n",
      "Speed: 2.2ms preprocess, 184.0ms inference, 1.1ms postprocess per image at shape (1, 3, 640, 384)\n",
      "\n",
      "0: 640x384 (no detections), 83.7ms\n",
      "Speed: 5.1ms preprocess, 83.7ms inference, 0.6ms postprocess per image at shape (1, 3, 640, 384)\n",
      "\n",
      "0: 640x384 (no detections), 96.1ms\n",
      "Speed: 2.2ms preprocess, 96.1ms inference, 0.7ms postprocess per image at shape (1, 3, 640, 384)\n"
     ]
    },
    {
     "name": "stdout",
     "output_type": "stream",
     "text": [
      "frame No: 196\n",
      "frame No: 197\n"
     ]
    },
    {
     "name": "stderr",
     "output_type": "stream",
     "text": [
      "\n",
      "0: 640x384 (no detections), 103.0ms\n",
      "Speed: 2.8ms preprocess, 103.0ms inference, 0.9ms postprocess per image at shape (1, 3, 640, 384)\n",
      "\n",
      "0: 640x384 (no detections), 81.2ms\n",
      "Speed: 2.3ms preprocess, 81.2ms inference, 1.1ms postprocess per image at shape (1, 3, 640, 384)\n"
     ]
    },
    {
     "name": "stdout",
     "output_type": "stream",
     "text": [
      "frame No: 198\n",
      "frame No: 199\n"
     ]
    },
    {
     "name": "stderr",
     "output_type": "stream",
     "text": [
      "\n",
      "0: 640x384 (no detections), 106.9ms\n",
      "Speed: 3.1ms preprocess, 106.9ms inference, 0.7ms postprocess per image at shape (1, 3, 640, 384)\n",
      "\n"
     ]
    },
    {
     "name": "stdout",
     "output_type": "stream",
     "text": [
      "frame No: 200\n",
      "frame No: 201\n"
     ]
    },
    {
     "name": "stderr",
     "output_type": "stream",
     "text": [
      "0: 640x384 (no detections), 89.1ms\n",
      "Speed: 4.0ms preprocess, 89.1ms inference, 1.0ms postprocess per image at shape (1, 3, 640, 384)\n",
      "\n",
      "0: 640x384 (no detections), 142.4ms\n",
      "Speed: 2.9ms preprocess, 142.4ms inference, 1.4ms postprocess per image at shape (1, 3, 640, 384)\n",
      "\n"
     ]
    },
    {
     "name": "stdout",
     "output_type": "stream",
     "text": [
      "frame No: 202\n",
      "frame No: 203\n"
     ]
    },
    {
     "name": "stderr",
     "output_type": "stream",
     "text": [
      "0: 640x384 (no detections), 155.1ms\n",
      "Speed: 2.9ms preprocess, 155.1ms inference, 1.0ms postprocess per image at shape (1, 3, 640, 384)\n",
      "\n",
      "0: 640x384 (no detections), 168.1ms\n",
      "Speed: 12.2ms preprocess, 168.1ms inference, 0.9ms postprocess per image at shape (1, 3, 640, 384)\n",
      "\n"
     ]
    },
    {
     "name": "stdout",
     "output_type": "stream",
     "text": [
      "frame No: 204\n",
      "frame No: 205\n"
     ]
    },
    {
     "name": "stderr",
     "output_type": "stream",
     "text": [
      "0: 640x384 (no detections), 139.9ms\n",
      "Speed: 2.9ms preprocess, 139.9ms inference, 1.0ms postprocess per image at shape (1, 3, 640, 384)\n",
      "\n",
      "0: 640x384 (no detections), 122.9ms\n",
      "Speed: 2.7ms preprocess, 122.9ms inference, 0.9ms postprocess per image at shape (1, 3, 640, 384)\n",
      "\n"
     ]
    },
    {
     "name": "stdout",
     "output_type": "stream",
     "text": [
      "frame No: 206\n",
      "frame No: 207\n"
     ]
    },
    {
     "name": "stderr",
     "output_type": "stream",
     "text": [
      "0: 640x384 (no detections), 127.5ms\n",
      "Speed: 2.6ms preprocess, 127.5ms inference, 1.5ms postprocess per image at shape (1, 3, 640, 384)\n",
      "\n",
      "0: 640x384 (no detections), 125.4ms\n",
      "Speed: 2.9ms preprocess, 125.4ms inference, 0.9ms postprocess per image at shape (1, 3, 640, 384)\n",
      "\n"
     ]
    },
    {
     "name": "stdout",
     "output_type": "stream",
     "text": [
      "frame No: 208\n",
      "frame No: 209\n"
     ]
    },
    {
     "name": "stderr",
     "output_type": "stream",
     "text": [
      "0: 640x384 (no detections), 152.4ms\n",
      "Speed: 2.7ms preprocess, 152.4ms inference, 0.9ms postprocess per image at shape (1, 3, 640, 384)\n",
      "\n",
      "0: 640x384 (no detections), 127.4ms\n",
      "Speed: 2.8ms preprocess, 127.4ms inference, 0.9ms postprocess per image at shape (1, 3, 640, 384)\n",
      "\n"
     ]
    },
    {
     "name": "stdout",
     "output_type": "stream",
     "text": [
      "frame No: 210\n",
      "frame No: 211\n"
     ]
    },
    {
     "name": "stderr",
     "output_type": "stream",
     "text": [
      "0: 640x384 (no detections), 125.3ms\n",
      "Speed: 3.0ms preprocess, 125.3ms inference, 1.1ms postprocess per image at shape (1, 3, 640, 384)\n",
      "\n"
     ]
    },
    {
     "name": "stdout",
     "output_type": "stream",
     "text": [
      "frame No: 212\n"
     ]
    },
    {
     "name": "stderr",
     "output_type": "stream",
     "text": [
      "0: 640x384 (no detections), 309.4ms\n",
      "Speed: 7.0ms preprocess, 309.4ms inference, 1.1ms postprocess per image at shape (1, 3, 640, 384)\n",
      "\n",
      "0: 640x384 (no detections), 148.5ms\n",
      "Speed: 7.2ms preprocess, 148.5ms inference, 1.4ms postprocess per image at shape (1, 3, 640, 384)\n",
      "\n"
     ]
    },
    {
     "name": "stdout",
     "output_type": "stream",
     "text": [
      "frame No: 213\n",
      "frame No: 214\n"
     ]
    },
    {
     "name": "stderr",
     "output_type": "stream",
     "text": [
      "0: 640x384 (no detections), 143.2ms\n",
      "Speed: 3.2ms preprocess, 143.2ms inference, 1.0ms postprocess per image at shape (1, 3, 640, 384)\n",
      "\n",
      "0: 640x384 (no detections), 118.3ms\n",
      "Speed: 2.9ms preprocess, 118.3ms inference, 0.9ms postprocess per image at shape (1, 3, 640, 384)\n",
      "\n"
     ]
    },
    {
     "name": "stdout",
     "output_type": "stream",
     "text": [
      "frame No: 215\n",
      "frame No: 216\n"
     ]
    },
    {
     "name": "stderr",
     "output_type": "stream",
     "text": [
      "0: 640x384 (no detections), 144.5ms\n",
      "Speed: 2.5ms preprocess, 144.5ms inference, 0.9ms postprocess per image at shape (1, 3, 640, 384)\n",
      "\n",
      "0: 640x384 (no detections), 154.3ms\n",
      "Speed: 6.8ms preprocess, 154.3ms inference, 0.8ms postprocess per image at shape (1, 3, 640, 384)\n",
      "\n"
     ]
    },
    {
     "name": "stdout",
     "output_type": "stream",
     "text": [
      "frame No: 217\n",
      "frame No: 218\n"
     ]
    },
    {
     "name": "stderr",
     "output_type": "stream",
     "text": [
      "0: 640x384 (no detections), 97.0ms\n",
      "Speed: 2.9ms preprocess, 97.0ms inference, 1.1ms postprocess per image at shape (1, 3, 640, 384)\n",
      "\n",
      "0: 640x384 (no detections), 91.4ms\n",
      "Speed: 2.3ms preprocess, 91.4ms inference, 0.6ms postprocess per image at shape (1, 3, 640, 384)\n",
      "\n"
     ]
    },
    {
     "name": "stdout",
     "output_type": "stream",
     "text": [
      "frame No: 219\n",
      "frame No: 220\n"
     ]
    },
    {
     "name": "stderr",
     "output_type": "stream",
     "text": [
      "0: 640x384 (no detections), 106.8ms\n",
      "Speed: 2.2ms preprocess, 106.8ms inference, 1.0ms postprocess per image at shape (1, 3, 640, 384)\n",
      "\n",
      "0: 640x384 (no detections), 101.4ms\n",
      "Speed: 2.6ms preprocess, 101.4ms inference, 0.7ms postprocess per image at shape (1, 3, 640, 384)\n",
      "\n",
      "0: 640x384 (no detections), 82.5ms\n",
      "Speed: 2.4ms preprocess, 82.5ms inference, 0.8ms postprocess per image at shape (1, 3, 640, 384)\n"
     ]
    },
    {
     "name": "stdout",
     "output_type": "stream",
     "text": [
      "frame No: 221\n",
      "frame No: 222\n",
      "frame No: 223\n"
     ]
    },
    {
     "name": "stderr",
     "output_type": "stream",
     "text": [
      "\n",
      "0: 640x384 (no detections), 111.4ms\n",
      "Speed: 2.1ms preprocess, 111.4ms inference, 0.7ms postprocess per image at shape (1, 3, 640, 384)\n",
      "\n",
      "0: 640x384 (no detections), 111.3ms\n",
      "Speed: 2.5ms preprocess, 111.3ms inference, 1.1ms postprocess per image at shape (1, 3, 640, 384)\n",
      "\n",
      "0: 640x384 (no detections), 77.4ms\n"
     ]
    },
    {
     "name": "stdout",
     "output_type": "stream",
     "text": [
      "frame No: 224\n",
      "frame No: 225\n"
     ]
    },
    {
     "name": "stderr",
     "output_type": "stream",
     "text": [
      "Speed: 2.1ms preprocess, 77.4ms inference, 0.6ms postprocess per image at shape (1, 3, 640, 384)\n",
      "\n",
      "0: 640x384 (no detections), 77.4ms\n",
      "Speed: 2.1ms preprocess, 77.4ms inference, 0.6ms postprocess per image at shape (1, 3, 640, 384)\n",
      "\n",
      "0: 640x384 (no detections), 82.4ms\n",
      "Speed: 2.0ms preprocess, 82.4ms inference, 1.0ms postprocess per image at shape (1, 3, 640, 384)\n",
      "\n"
     ]
    },
    {
     "name": "stdout",
     "output_type": "stream",
     "text": [
      "frame No: 226\n",
      "frame No: 227\n",
      "frame No: 228\n"
     ]
    },
    {
     "name": "stderr",
     "output_type": "stream",
     "text": [
      "0: 640x384 (no detections), 88.6ms\n",
      "Speed: 3.7ms preprocess, 88.6ms inference, 0.7ms postprocess per image at shape (1, 3, 640, 384)\n",
      "\n",
      "0: 640x384 (no detections), 155.6ms\n",
      "Speed: 2.4ms preprocess, 155.6ms inference, 1.5ms postprocess per image at shape (1, 3, 640, 384)\n",
      "\n"
     ]
    },
    {
     "name": "stdout",
     "output_type": "stream",
     "text": [
      "frame No: 229\n",
      "frame No: 230\n"
     ]
    },
    {
     "name": "stderr",
     "output_type": "stream",
     "text": [
      "0: 640x384 (no detections), 148.4ms\n",
      "Speed: 3.7ms preprocess, 148.4ms inference, 0.8ms postprocess per image at shape (1, 3, 640, 384)\n",
      "\n",
      "0: 640x384 (no detections), 145.2ms\n",
      "Speed: 2.7ms preprocess, 145.2ms inference, 0.9ms postprocess per image at shape (1, 3, 640, 384)\n",
      "\n"
     ]
    },
    {
     "name": "stdout",
     "output_type": "stream",
     "text": [
      "frame No: 231\n",
      "frame No: 232\n"
     ]
    },
    {
     "name": "stderr",
     "output_type": "stream",
     "text": [
      "0: 640x384 (no detections), 143.5ms\n",
      "Speed: 2.7ms preprocess, 143.5ms inference, 1.1ms postprocess per image at shape (1, 3, 640, 384)\n",
      "\n",
      "0: 640x384 (no detections), 143.8ms\n",
      "Speed: 3.0ms preprocess, 143.8ms inference, 0.8ms postprocess per image at shape (1, 3, 640, 384)\n",
      "\n"
     ]
    },
    {
     "name": "stdout",
     "output_type": "stream",
     "text": [
      "frame No: 233\n",
      "frame No: 234\n"
     ]
    },
    {
     "name": "stderr",
     "output_type": "stream",
     "text": [
      "0: 640x384 (no detections), 184.7ms\n",
      "Speed: 3.6ms preprocess, 184.7ms inference, 0.9ms postprocess per image at shape (1, 3, 640, 384)\n",
      "\n",
      "0: 640x384 (no detections), 130.0ms\n",
      "Speed: 2.9ms preprocess, 130.0ms inference, 1.0ms postprocess per image at shape (1, 3, 640, 384)\n",
      "\n"
     ]
    },
    {
     "name": "stdout",
     "output_type": "stream",
     "text": [
      "frame No: 235\n",
      "frame No: 236\n"
     ]
    },
    {
     "name": "stderr",
     "output_type": "stream",
     "text": [
      "0: 640x384 (no detections), 125.3ms\n",
      "Speed: 2.6ms preprocess, 125.3ms inference, 0.9ms postprocess per image at shape (1, 3, 640, 384)\n",
      "\n",
      "0: 640x384 (no detections), 123.2ms\n",
      "Speed: 2.6ms preprocess, 123.2ms inference, 1.0ms postprocess per image at shape (1, 3, 640, 384)\n",
      "\n"
     ]
    },
    {
     "name": "stdout",
     "output_type": "stream",
     "text": [
      "frame No: 237\n",
      "frame No: 238\n"
     ]
    },
    {
     "name": "stderr",
     "output_type": "stream",
     "text": [
      "0: 640x384 (no detections), 134.5ms\n",
      "Speed: 2.6ms preprocess, 134.5ms inference, 1.6ms postprocess per image at shape (1, 3, 640, 384)\n",
      "\n",
      "0: 640x384 (no detections), 131.7ms\n",
      "Speed: 4.1ms preprocess, 131.7ms inference, 0.9ms postprocess per image at shape (1, 3, 640, 384)\n",
      "\n"
     ]
    },
    {
     "name": "stdout",
     "output_type": "stream",
     "text": [
      "frame No: 239\n",
      "frame No: 240\n"
     ]
    },
    {
     "name": "stderr",
     "output_type": "stream",
     "text": [
      "0: 640x384 (no detections), 136.2ms\n",
      "Speed: 3.1ms preprocess, 136.2ms inference, 1.6ms postprocess per image at shape (1, 3, 640, 384)\n",
      "\n",
      "0: 640x384 (no detections), 142.3ms\n",
      "Speed: 4.1ms preprocess, 142.3ms inference, 0.8ms postprocess per image at shape (1, 3, 640, 384)\n",
      "\n"
     ]
    },
    {
     "name": "stdout",
     "output_type": "stream",
     "text": [
      "frame No: 241\n",
      "frame No: 242\n"
     ]
    },
    {
     "name": "stderr",
     "output_type": "stream",
     "text": [
      "0: 640x384 (no detections), 94.1ms\n",
      "Speed: 2.1ms preprocess, 94.1ms inference, 0.6ms postprocess per image at shape (1, 3, 640, 384)\n",
      "\n",
      "0: 640x384 (no detections), 113.9ms\n",
      "Speed: 2.1ms preprocess, 113.9ms inference, 1.5ms postprocess per image at shape (1, 3, 640, 384)\n",
      "\n"
     ]
    },
    {
     "name": "stdout",
     "output_type": "stream",
     "text": [
      "frame No: 243\n",
      "frame No: 244\n"
     ]
    },
    {
     "name": "stderr",
     "output_type": "stream",
     "text": [
      "0: 640x384 (no detections), 99.7ms\n",
      "Speed: 2.6ms preprocess, 99.7ms inference, 1.1ms postprocess per image at shape (1, 3, 640, 384)\n",
      "\n",
      "0: 640x384 (no detections), 128.0ms\n",
      "Speed: 2.3ms preprocess, 128.0ms inference, 1.1ms postprocess per image at shape (1, 3, 640, 384)\n",
      "\n"
     ]
    },
    {
     "name": "stdout",
     "output_type": "stream",
     "text": [
      "frame No: 245\n",
      "frame No: 246\n"
     ]
    },
    {
     "name": "stderr",
     "output_type": "stream",
     "text": [
      "0: 640x384 (no detections), 111.6ms\n",
      "Speed: 2.7ms preprocess, 111.6ms inference, 0.9ms postprocess per image at shape (1, 3, 640, 384)\n",
      "\n",
      "0: 640x384 (no detections), 129.0ms\n",
      "Speed: 2.6ms preprocess, 129.0ms inference, 0.7ms postprocess per image at shape (1, 3, 640, 384)\n",
      "\n"
     ]
    },
    {
     "name": "stdout",
     "output_type": "stream",
     "text": [
      "frame No: 247\n",
      "frame No: 248\n"
     ]
    },
    {
     "name": "stderr",
     "output_type": "stream",
     "text": [
      "0: 640x384 (no detections), 131.1ms\n",
      "Speed: 2.4ms preprocess, 131.1ms inference, 1.9ms postprocess per image at shape (1, 3, 640, 384)\n",
      "\n",
      "0: 640x384 (no detections), 151.4ms\n",
      "Speed: 3.9ms preprocess, 151.4ms inference, 1.6ms postprocess per image at shape (1, 3, 640, 384)\n",
      "\n"
     ]
    },
    {
     "name": "stdout",
     "output_type": "stream",
     "text": [
      "frame No: 249\n",
      "frame No: 250\n"
     ]
    },
    {
     "name": "stderr",
     "output_type": "stream",
     "text": [
      "0: 640x384 (no detections), 134.5ms\n",
      "Speed: 2.9ms preprocess, 134.5ms inference, 0.7ms postprocess per image at shape (1, 3, 640, 384)\n",
      "\n",
      "0: 640x384 (no detections), 118.4ms\n",
      "Speed: 2.3ms preprocess, 118.4ms inference, 0.8ms postprocess per image at shape (1, 3, 640, 384)\n",
      "\n"
     ]
    },
    {
     "name": "stdout",
     "output_type": "stream",
     "text": [
      "frame No: 251\n",
      "frame No: 252\n"
     ]
    },
    {
     "name": "stderr",
     "output_type": "stream",
     "text": [
      "0: 640x384 (no detections), 119.2ms\n",
      "Speed: 2.2ms preprocess, 119.2ms inference, 0.9ms postprocess per image at shape (1, 3, 640, 384)\n",
      "\n",
      "0: 640x384 (no detections), 112.3ms\n",
      "Speed: 2.6ms preprocess, 112.3ms inference, 0.6ms postprocess per image at shape (1, 3, 640, 384)\n",
      "\n"
     ]
    },
    {
     "name": "stdout",
     "output_type": "stream",
     "text": [
      "frame No: 253\n",
      "frame No: 254\n"
     ]
    },
    {
     "name": "stderr",
     "output_type": "stream",
     "text": [
      "0: 640x384 (no detections), 84.5ms\n",
      "Speed: 2.2ms preprocess, 84.5ms inference, 0.9ms postprocess per image at shape (1, 3, 640, 384)\n",
      "\n",
      "0: 640x384 (no detections), 117.2ms\n",
      "Speed: 2.6ms preprocess, 117.2ms inference, 0.7ms postprocess per image at shape (1, 3, 640, 384)\n",
      "\n"
     ]
    },
    {
     "name": "stdout",
     "output_type": "stream",
     "text": [
      "frame No: 255\n",
      "frame No: 256\n"
     ]
    },
    {
     "name": "stderr",
     "output_type": "stream",
     "text": [
      "0: 640x384 (no detections), 109.4ms\n",
      "Speed: 2.2ms preprocess, 109.4ms inference, 1.0ms postprocess per image at shape (1, 3, 640, 384)\n",
      "\n",
      "0: 640x384 (no detections), 134.3ms\n",
      "Speed: 4.6ms preprocess, 134.3ms inference, 1.1ms postprocess per image at shape (1, 3, 640, 384)\n",
      "\n"
     ]
    },
    {
     "name": "stdout",
     "output_type": "stream",
     "text": [
      "frame No: 257\n",
      "frame No: 258\n"
     ]
    },
    {
     "name": "stderr",
     "output_type": "stream",
     "text": [
      "0: 640x384 (no detections), 128.1ms\n",
      "Speed: 3.3ms preprocess, 128.1ms inference, 0.8ms postprocess per image at shape (1, 3, 640, 384)\n",
      "\n",
      "0: 640x384 (no detections), 141.0ms\n",
      "Speed: 2.3ms preprocess, 141.0ms inference, 1.0ms postprocess per image at shape (1, 3, 640, 384)\n",
      "\n"
     ]
    },
    {
     "name": "stdout",
     "output_type": "stream",
     "text": [
      "frame No: 259\n",
      "frame No: 260\n"
     ]
    },
    {
     "name": "stderr",
     "output_type": "stream",
     "text": [
      "0: 640x384 (no detections), 128.8ms\n",
      "Speed: 4.4ms preprocess, 128.8ms inference, 1.2ms postprocess per image at shape (1, 3, 640, 384)\n",
      "\n",
      "0: 640x384 (no detections), 121.0ms\n",
      "Speed: 2.8ms preprocess, 121.0ms inference, 0.8ms postprocess per image at shape (1, 3, 640, 384)\n",
      "\n"
     ]
    },
    {
     "name": "stdout",
     "output_type": "stream",
     "text": [
      "frame No: 261\n",
      "frame No: 262\n"
     ]
    },
    {
     "name": "stderr",
     "output_type": "stream",
     "text": [
      "0: 640x384 (no detections), 119.7ms\n",
      "Speed: 2.1ms preprocess, 119.7ms inference, 1.1ms postprocess per image at shape (1, 3, 640, 384)\n",
      "\n",
      "0: 640x384 (no detections), 149.3ms\n",
      "Speed: 3.8ms preprocess, 149.3ms inference, 1.2ms postprocess per image at shape (1, 3, 640, 384)\n",
      "\n"
     ]
    },
    {
     "name": "stdout",
     "output_type": "stream",
     "text": [
      "frame No: 263\n",
      "frame No: 264\n"
     ]
    },
    {
     "name": "stderr",
     "output_type": "stream",
     "text": [
      "0: 640x384 (no detections), 157.6ms\n",
      "Speed: 4.1ms preprocess, 157.6ms inference, 0.8ms postprocess per image at shape (1, 3, 640, 384)\n",
      "\n",
      "0: 640x384 (no detections), 159.3ms\n",
      "Speed: 2.9ms preprocess, 159.3ms inference, 0.9ms postprocess per image at shape (1, 3, 640, 384)\n",
      "\n"
     ]
    },
    {
     "name": "stdout",
     "output_type": "stream",
     "text": [
      "frame No: 265\n",
      "frame No: 266\n"
     ]
    },
    {
     "name": "stderr",
     "output_type": "stream",
     "text": [
      "0: 640x384 (no detections), 148.1ms\n",
      "Speed: 4.4ms preprocess, 148.1ms inference, 1.5ms postprocess per image at shape (1, 3, 640, 384)\n",
      "\n",
      "0: 640x384 (no detections), 102.4ms\n",
      "Speed: 5.4ms preprocess, 102.4ms inference, 0.7ms postprocess per image at shape (1, 3, 640, 384)\n",
      "\n"
     ]
    },
    {
     "name": "stdout",
     "output_type": "stream",
     "text": [
      "frame No: 267\n",
      "frame No: 268\n"
     ]
    },
    {
     "name": "stderr",
     "output_type": "stream",
     "text": [
      "0: 640x384 (no detections), 84.4ms\n",
      "Speed: 2.2ms preprocess, 84.4ms inference, 0.9ms postprocess per image at shape (1, 3, 640, 384)\n",
      "\n",
      "0: 640x384 (no detections), 111.1ms\n",
      "Speed: 2.5ms preprocess, 111.1ms inference, 0.7ms postprocess per image at shape (1, 3, 640, 384)\n",
      "\n"
     ]
    },
    {
     "name": "stdout",
     "output_type": "stream",
     "text": [
      "frame No: 269\n",
      "frame No: 270\n"
     ]
    },
    {
     "name": "stderr",
     "output_type": "stream",
     "text": [
      "0: 640x384 (no detections), 129.1ms\n",
      "Speed: 2.3ms preprocess, 129.1ms inference, 1.2ms postprocess per image at shape (1, 3, 640, 384)\n",
      "\n",
      "0: 640x384 (no detections), 144.9ms\n",
      "Speed: 3.0ms preprocess, 144.9ms inference, 1.8ms postprocess per image at shape (1, 3, 640, 384)\n",
      "\n"
     ]
    },
    {
     "name": "stdout",
     "output_type": "stream",
     "text": [
      "frame No: 271\n",
      "frame No: 272\n"
     ]
    },
    {
     "name": "stderr",
     "output_type": "stream",
     "text": [
      "0: 640x384 (no detections), 113.3ms\n",
      "Speed: 2.9ms preprocess, 113.3ms inference, 1.0ms postprocess per image at shape (1, 3, 640, 384)\n",
      "\n",
      "0: 640x384 (no detections), 125.1ms\n",
      "Speed: 3.0ms preprocess, 125.1ms inference, 1.1ms postprocess per image at shape (1, 3, 640, 384)\n",
      "\n"
     ]
    },
    {
     "name": "stdout",
     "output_type": "stream",
     "text": [
      "frame No: 273\n",
      "frame No: 274\n"
     ]
    },
    {
     "name": "stderr",
     "output_type": "stream",
     "text": [
      "0: 640x384 (no detections), 146.1ms\n",
      "Speed: 4.6ms preprocess, 146.1ms inference, 1.0ms postprocess per image at shape (1, 3, 640, 384)\n",
      "\n",
      "0: 640x384 (no detections), 126.7ms\n",
      "Speed: 3.2ms preprocess, 126.7ms inference, 0.7ms postprocess per image at shape (1, 3, 640, 384)\n",
      "\n"
     ]
    },
    {
     "name": "stdout",
     "output_type": "stream",
     "text": [
      "frame No: 275\n",
      "frame No: 276\n"
     ]
    },
    {
     "name": "stderr",
     "output_type": "stream",
     "text": [
      "0: 640x384 (no detections), 112.7ms\n",
      "Speed: 2.5ms preprocess, 112.7ms inference, 1.4ms postprocess per image at shape (1, 3, 640, 384)\n",
      "\n",
      "0: 640x384 (no detections), 125.8ms\n",
      "Speed: 3.0ms preprocess, 125.8ms inference, 0.9ms postprocess per image at shape (1, 3, 640, 384)\n",
      "\n"
     ]
    },
    {
     "name": "stdout",
     "output_type": "stream",
     "text": [
      "frame No: 277\n",
      "frame No: 278\n"
     ]
    },
    {
     "name": "stderr",
     "output_type": "stream",
     "text": [
      "0: 640x384 (no detections), 121.9ms\n",
      "Speed: 2.2ms preprocess, 121.9ms inference, 0.9ms postprocess per image at shape (1, 3, 640, 384)\n",
      "\n",
      "0: 640x384 (no detections), 133.7ms\n",
      "Speed: 48.2ms preprocess, 133.7ms inference, 1.1ms postprocess per image at shape (1, 3, 640, 384)\n"
     ]
    },
    {
     "name": "stdout",
     "output_type": "stream",
     "text": [
      "frame No: 279\n",
      "frame No: 280\n"
     ]
    },
    {
     "name": "stderr",
     "output_type": "stream",
     "text": [
      "\n",
      "0: 640x384 (no detections), 130.6ms\n",
      "Speed: 16.4ms preprocess, 130.6ms inference, 0.7ms postprocess per image at shape (1, 3, 640, 384)\n",
      "\n",
      "0: 640x384 (no detections), 90.6ms\n",
      "Speed: 2.1ms preprocess, 90.6ms inference, 0.7ms postprocess per image at shape (1, 3, 640, 384)\n",
      "\n"
     ]
    },
    {
     "name": "stdout",
     "output_type": "stream",
     "text": [
      "frame No: 281\n",
      "frame No: 282\n"
     ]
    },
    {
     "name": "stderr",
     "output_type": "stream",
     "text": [
      "0: 640x384 (no detections), 114.6ms\n",
      "Speed: 2.2ms preprocess, 114.6ms inference, 1.0ms postprocess per image at shape (1, 3, 640, 384)\n",
      "\n",
      "0: 640x384 (no detections), 126.2ms\n",
      "Speed: 3.8ms preprocess, 126.2ms inference, 0.6ms postprocess per image at shape (1, 3, 640, 384)\n",
      "\n"
     ]
    },
    {
     "name": "stdout",
     "output_type": "stream",
     "text": [
      "frame No: 283\n",
      "frame No: 284\n"
     ]
    },
    {
     "name": "stderr",
     "output_type": "stream",
     "text": [
      "0: 640x384 (no detections), 109.8ms\n",
      "Speed: 2.7ms preprocess, 109.8ms inference, 1.7ms postprocess per image at shape (1, 3, 640, 384)\n",
      "\n",
      "0: 640x384 (no detections), 124.4ms\n",
      "Speed: 3.1ms preprocess, 124.4ms inference, 0.9ms postprocess per image at shape (1, 3, 640, 384)\n",
      "\n"
     ]
    },
    {
     "name": "stdout",
     "output_type": "stream",
     "text": [
      "frame No: 285\n",
      "frame No: 286\n"
     ]
    },
    {
     "name": "stderr",
     "output_type": "stream",
     "text": [
      "0: 640x384 (no detections), 102.7ms\n",
      "Speed: 2.1ms preprocess, 102.7ms inference, 1.1ms postprocess per image at shape (1, 3, 640, 384)\n",
      "\n",
      "0: 640x384 (no detections), 121.4ms\n",
      "Speed: 4.1ms preprocess, 121.4ms inference, 0.7ms postprocess per image at shape (1, 3, 640, 384)\n",
      "\n"
     ]
    },
    {
     "name": "stdout",
     "output_type": "stream",
     "text": [
      "frame No: 287\n",
      "frame No: 288\n"
     ]
    },
    {
     "name": "stderr",
     "output_type": "stream",
     "text": [
      "0: 640x384 (no detections), 109.7ms\n",
      "Speed: 2.9ms preprocess, 109.7ms inference, 1.2ms postprocess per image at shape (1, 3, 640, 384)\n",
      "\n",
      "0: 640x384 (no detections), 113.7ms\n",
      "Speed: 2.8ms preprocess, 113.7ms inference, 0.9ms postprocess per image at shape (1, 3, 640, 384)\n",
      "\n"
     ]
    },
    {
     "name": "stdout",
     "output_type": "stream",
     "text": [
      "frame No: 289\n",
      "frame No: 290\n"
     ]
    },
    {
     "name": "stderr",
     "output_type": "stream",
     "text": [
      "0: 640x384 (no detections), 108.8ms\n",
      "Speed: 2.3ms preprocess, 108.8ms inference, 7.2ms postprocess per image at shape (1, 3, 640, 384)\n",
      "\n",
      "0: 640x384 (no detections), 127.7ms\n",
      "Speed: 3.1ms preprocess, 127.7ms inference, 0.8ms postprocess per image at shape (1, 3, 640, 384)\n",
      "\n"
     ]
    },
    {
     "name": "stdout",
     "output_type": "stream",
     "text": [
      "frame No: 291\n",
      "frame No: 292\n"
     ]
    },
    {
     "name": "stderr",
     "output_type": "stream",
     "text": [
      "0: 640x384 (no detections), 107.2ms\n",
      "Speed: 2.5ms preprocess, 107.2ms inference, 1.5ms postprocess per image at shape (1, 3, 640, 384)\n",
      "\n",
      "0: 640x384 (no detections), 140.4ms\n",
      "Speed: 4.2ms preprocess, 140.4ms inference, 1.2ms postprocess per image at shape (1, 3, 640, 384)\n",
      "\n"
     ]
    },
    {
     "name": "stdout",
     "output_type": "stream",
     "text": [
      "frame No: 293\n",
      "frame No: 294\n"
     ]
    },
    {
     "name": "stderr",
     "output_type": "stream",
     "text": [
      "0: 640x384 (no detections), 140.7ms\n",
      "Speed: 3.8ms preprocess, 140.7ms inference, 0.7ms postprocess per image at shape (1, 3, 640, 384)\n",
      "\n",
      "0: 640x384 (no detections), 131.6ms\n",
      "Speed: 3.0ms preprocess, 131.6ms inference, 0.9ms postprocess per image at shape (1, 3, 640, 384)\n",
      "\n"
     ]
    },
    {
     "name": "stdout",
     "output_type": "stream",
     "text": [
      "frame No: 295\n",
      "frame No: 296\n"
     ]
    },
    {
     "name": "stderr",
     "output_type": "stream",
     "text": [
      "0: 640x384 (no detections), 148.7ms\n",
      "Speed: 3.0ms preprocess, 148.7ms inference, 0.9ms postprocess per image at shape (1, 3, 640, 384)\n",
      "\n",
      "0: 640x384 (no detections), 162.5ms\n",
      "Speed: 24.4ms preprocess, 162.5ms inference, 0.6ms postprocess per image at shape (1, 3, 640, 384)\n",
      "\n"
     ]
    },
    {
     "name": "stdout",
     "output_type": "stream",
     "text": [
      "frame No: 297\n",
      "frame No: 298\n"
     ]
    },
    {
     "name": "stderr",
     "output_type": "stream",
     "text": [
      "0: 640x384 (no detections), 133.7ms\n",
      "Speed: 2.8ms preprocess, 133.7ms inference, 0.9ms postprocess per image at shape (1, 3, 640, 384)\n",
      "\n",
      "0: 640x384 (no detections), 139.5ms\n",
      "Speed: 2.5ms preprocess, 139.5ms inference, 0.9ms postprocess per image at shape (1, 3, 640, 384)\n",
      "\n"
     ]
    },
    {
     "name": "stdout",
     "output_type": "stream",
     "text": [
      "frame No: 299\n",
      "frame No: 300\n"
     ]
    },
    {
     "name": "stderr",
     "output_type": "stream",
     "text": [
      "0: 640x384 (no detections), 133.3ms\n",
      "Speed: 2.1ms preprocess, 133.3ms inference, 1.0ms postprocess per image at shape (1, 3, 640, 384)\n",
      "\n",
      "0: 640x384 (no detections), 111.4ms\n",
      "Speed: 2.5ms preprocess, 111.4ms inference, 0.7ms postprocess per image at shape (1, 3, 640, 384)\n",
      "\n"
     ]
    },
    {
     "name": "stdout",
     "output_type": "stream",
     "text": [
      "frame No: 301\n",
      "frame No: 302\n"
     ]
    },
    {
     "name": "stderr",
     "output_type": "stream",
     "text": [
      "0: 640x384 (no detections), 116.8ms\n",
      "Speed: 2.3ms preprocess, 116.8ms inference, 1.7ms postprocess per image at shape (1, 3, 640, 384)\n",
      "\n",
      "0: 640x384 (no detections), 131.7ms\n",
      "Speed: 3.4ms preprocess, 131.7ms inference, 2.3ms postprocess per image at shape (1, 3, 640, 384)\n",
      "\n"
     ]
    },
    {
     "name": "stdout",
     "output_type": "stream",
     "text": [
      "frame No: 303\n",
      "frame No: 304\n"
     ]
    },
    {
     "name": "stderr",
     "output_type": "stream",
     "text": [
      "0: 640x384 (no detections), 142.1ms\n",
      "Speed: 2.9ms preprocess, 142.1ms inference, 1.6ms postprocess per image at shape (1, 3, 640, 384)\n",
      "\n",
      "0: 640x384 (no detections), 143.2ms\n",
      "Speed: 2.9ms preprocess, 143.2ms inference, 1.9ms postprocess per image at shape (1, 3, 640, 384)\n",
      "\n"
     ]
    },
    {
     "name": "stdout",
     "output_type": "stream",
     "text": [
      "frame No: 305\n",
      "frame No: 306\n"
     ]
    },
    {
     "name": "stderr",
     "output_type": "stream",
     "text": [
      "0: 640x384 (no detections), 204.1ms\n",
      "Speed: 2.9ms preprocess, 204.1ms inference, 1.4ms postprocess per image at shape (1, 3, 640, 384)\n",
      "\n",
      "0: 640x384 (no detections), 120.5ms\n",
      "Speed: 2.3ms preprocess, 120.5ms inference, 1.1ms postprocess per image at shape (1, 3, 640, 384)\n",
      "\n"
     ]
    },
    {
     "name": "stdout",
     "output_type": "stream",
     "text": [
      "frame No: 307\n",
      "frame No: 308\n"
     ]
    },
    {
     "name": "stderr",
     "output_type": "stream",
     "text": [
      "0: 640x384 (no detections), 105.1ms\n",
      "Speed: 2.5ms preprocess, 105.1ms inference, 1.1ms postprocess per image at shape (1, 3, 640, 384)\n",
      "\n",
      "0: 640x384 (no detections), 134.1ms\n",
      "Speed: 3.0ms preprocess, 134.1ms inference, 0.8ms postprocess per image at shape (1, 3, 640, 384)\n",
      "\n"
     ]
    },
    {
     "name": "stdout",
     "output_type": "stream",
     "text": [
      "frame No: 309\n",
      "frame No: 310\n"
     ]
    },
    {
     "name": "stderr",
     "output_type": "stream",
     "text": [
      "0: 640x384 (no detections), 129.3ms\n",
      "Speed: 2.4ms preprocess, 129.3ms inference, 0.8ms postprocess per image at shape (1, 3, 640, 384)\n",
      "\n",
      "0: 640x384 (no detections), 119.6ms\n",
      "Speed: 2.9ms preprocess, 119.6ms inference, 0.8ms postprocess per image at shape (1, 3, 640, 384)\n",
      "\n"
     ]
    },
    {
     "name": "stdout",
     "output_type": "stream",
     "text": [
      "frame No: 311\n",
      "frame No: 312\n"
     ]
    },
    {
     "name": "stderr",
     "output_type": "stream",
     "text": [
      "0: 640x384 (no detections), 120.4ms\n",
      "Speed: 2.3ms preprocess, 120.4ms inference, 1.0ms postprocess per image at shape (1, 3, 640, 384)\n",
      "\n",
      "0: 640x384 (no detections), 122.2ms\n",
      "Speed: 2.9ms preprocess, 122.2ms inference, 0.8ms postprocess per image at shape (1, 3, 640, 384)\n",
      "\n"
     ]
    },
    {
     "name": "stdout",
     "output_type": "stream",
     "text": [
      "frame No: 313\n",
      "frame No: 314\n"
     ]
    },
    {
     "name": "stderr",
     "output_type": "stream",
     "text": [
      "0: 640x384 (no detections), 135.7ms\n",
      "Speed: 2.3ms preprocess, 135.7ms inference, 1.2ms postprocess per image at shape (1, 3, 640, 384)\n",
      "\n",
      "0: 640x384 (no detections), 138.5ms\n",
      "Speed: 2.6ms preprocess, 138.5ms inference, 0.9ms postprocess per image at shape (1, 3, 640, 384)\n",
      "\n"
     ]
    },
    {
     "name": "stdout",
     "output_type": "stream",
     "text": [
      "frame No: 315\n",
      "frame No: 316\n"
     ]
    },
    {
     "name": "stderr",
     "output_type": "stream",
     "text": [
      "0: 640x384 (no detections), 170.6ms\n",
      "Speed: 3.1ms preprocess, 170.6ms inference, 0.9ms postprocess per image at shape (1, 3, 640, 384)\n",
      "\n",
      "0: 640x384 (no detections), 123.4ms\n",
      "Speed: 7.8ms preprocess, 123.4ms inference, 1.1ms postprocess per image at shape (1, 3, 640, 384)\n",
      "\n"
     ]
    },
    {
     "name": "stdout",
     "output_type": "stream",
     "text": [
      "frame No: 317\n",
      "frame No: 318\n"
     ]
    },
    {
     "name": "stderr",
     "output_type": "stream",
     "text": [
      "0: 640x384 (no detections), 122.4ms\n",
      "Speed: 4.3ms preprocess, 122.4ms inference, 1.2ms postprocess per image at shape (1, 3, 640, 384)\n",
      "\n",
      "0: 640x384 (no detections), 135.3ms\n",
      "Speed: 3.1ms preprocess, 135.3ms inference, 0.8ms postprocess per image at shape (1, 3, 640, 384)\n",
      "\n"
     ]
    },
    {
     "name": "stdout",
     "output_type": "stream",
     "text": [
      "frame No: 319\n",
      "frame No: 320\n"
     ]
    },
    {
     "name": "stderr",
     "output_type": "stream",
     "text": [
      "0: 640x384 (no detections), 124.1ms\n",
      "Speed: 2.4ms preprocess, 124.1ms inference, 1.0ms postprocess per image at shape (1, 3, 640, 384)\n",
      "\n",
      "0: 640x384 (no detections), 169.5ms\n",
      "Speed: 2.8ms preprocess, 169.5ms inference, 0.8ms postprocess per image at shape (1, 3, 640, 384)\n",
      "\n"
     ]
    },
    {
     "name": "stdout",
     "output_type": "stream",
     "text": [
      "frame No: 321\n",
      "frame No: 322\n"
     ]
    },
    {
     "name": "stderr",
     "output_type": "stream",
     "text": [
      "0: 640x384 (no detections), 130.4ms\n",
      "Speed: 2.6ms preprocess, 130.4ms inference, 1.0ms postprocess per image at shape (1, 3, 640, 384)\n",
      "\n",
      "0: 640x384 (no detections), 136.9ms\n",
      "Speed: 3.0ms preprocess, 136.9ms inference, 0.7ms postprocess per image at shape (1, 3, 640, 384)\n",
      "\n"
     ]
    },
    {
     "name": "stdout",
     "output_type": "stream",
     "text": [
      "frame No: 323\n",
      "frame No: 324\n"
     ]
    },
    {
     "name": "stderr",
     "output_type": "stream",
     "text": [
      "0: 640x384 (no detections), 125.6ms\n",
      "Speed: 2.2ms preprocess, 125.6ms inference, 0.9ms postprocess per image at shape (1, 3, 640, 384)\n",
      "\n",
      "0: 640x384 (no detections), 141.9ms\n",
      "Speed: 2.9ms preprocess, 141.9ms inference, 1.2ms postprocess per image at shape (1, 3, 640, 384)\n",
      "\n"
     ]
    },
    {
     "name": "stdout",
     "output_type": "stream",
     "text": [
      "frame No: 325\n",
      "frame No: 326\n"
     ]
    },
    {
     "name": "stderr",
     "output_type": "stream",
     "text": [
      "0: 640x384 (no detections), 134.5ms\n",
      "Speed: 3.7ms preprocess, 134.5ms inference, 0.9ms postprocess per image at shape (1, 3, 640, 384)\n",
      "\n",
      "0: 640x384 (no detections), 144.7ms\n",
      "Speed: 2.9ms preprocess, 144.7ms inference, 1.4ms postprocess per image at shape (1, 3, 640, 384)\n",
      "\n"
     ]
    },
    {
     "name": "stdout",
     "output_type": "stream",
     "text": [
      "frame No: 327\n",
      "frame No: 328\n"
     ]
    },
    {
     "name": "stderr",
     "output_type": "stream",
     "text": [
      "0: 640x384 (no detections), 136.2ms\n",
      "Speed: 3.8ms preprocess, 136.2ms inference, 1.4ms postprocess per image at shape (1, 3, 640, 384)\n",
      "\n",
      "0: 640x384 (no detections), 126.1ms\n",
      "Speed: 2.6ms preprocess, 126.1ms inference, 1.0ms postprocess per image at shape (1, 3, 640, 384)\n",
      "\n"
     ]
    },
    {
     "name": "stdout",
     "output_type": "stream",
     "text": [
      "frame No: 329\n",
      "frame No: 330\n"
     ]
    },
    {
     "name": "stderr",
     "output_type": "stream",
     "text": [
      "0: 640x384 (no detections), 147.4ms\n",
      "Speed: 2.9ms preprocess, 147.4ms inference, 1.3ms postprocess per image at shape (1, 3, 640, 384)\n",
      "\n",
      "0: 640x384 (no detections), 160.3ms\n",
      "Speed: 2.4ms preprocess, 160.3ms inference, 1.2ms postprocess per image at shape (1, 3, 640, 384)\n",
      "\n"
     ]
    },
    {
     "name": "stdout",
     "output_type": "stream",
     "text": [
      "frame No: 331\n",
      "frame No: 332\n"
     ]
    },
    {
     "name": "stderr",
     "output_type": "stream",
     "text": [
      "0: 640x384 (no detections), 134.6ms\n",
      "Speed: 4.0ms preprocess, 134.6ms inference, 1.3ms postprocess per image at shape (1, 3, 640, 384)\n",
      "\n",
      "0: 640x384 1 car, 119.7ms\n",
      "Speed: 2.4ms preprocess, 119.7ms inference, 1.2ms postprocess per image at shape (1, 3, 640, 384)\n",
      "\n"
     ]
    },
    {
     "name": "stdout",
     "output_type": "stream",
     "text": [
      "frame No: 333\n",
      "frame No: 334\n"
     ]
    },
    {
     "name": "stderr",
     "output_type": "stream",
     "text": [
      "0: 640x384 1 car, 137.8ms\n",
      "Speed: 2.2ms preprocess, 137.8ms inference, 0.7ms postprocess per image at shape (1, 3, 640, 384)\n",
      "\n",
      "0: 640x384 1 car, 167.4ms\n",
      "Speed: 3.7ms preprocess, 167.4ms inference, 0.9ms postprocess per image at shape (1, 3, 640, 384)\n",
      "\n"
     ]
    },
    {
     "name": "stdout",
     "output_type": "stream",
     "text": [
      "frame No: 335\n",
      "frame No: 336\n"
     ]
    },
    {
     "name": "stderr",
     "output_type": "stream",
     "text": [
      "0: 640x384 1 car, 123.2ms\n",
      "Speed: 2.4ms preprocess, 123.2ms inference, 0.9ms postprocess per image at shape (1, 3, 640, 384)\n",
      "\n",
      "0: 640x384 1 car, 83.8ms\n",
      "Speed: 2.4ms preprocess, 83.8ms inference, 0.8ms postprocess per image at shape (1, 3, 640, 384)\n",
      "\n"
     ]
    },
    {
     "name": "stdout",
     "output_type": "stream",
     "text": [
      "frame No: 337\n",
      "frame No: 338\n"
     ]
    },
    {
     "name": "stderr",
     "output_type": "stream",
     "text": [
      "0: 640x384 1 car, 110.6ms\n",
      "Speed: 2.3ms preprocess, 110.6ms inference, 0.9ms postprocess per image at shape (1, 3, 640, 384)\n",
      "\n",
      "0: 640x384 1 car, 76.9ms\n",
      "Speed: 2.5ms preprocess, 76.9ms inference, 0.9ms postprocess per image at shape (1, 3, 640, 384)\n",
      "\n",
      "0: 640x384 1 car, 101.5ms\n",
      "Speed: 2.3ms preprocess, 101.5ms inference, 1.2ms postprocess per image at shape (1, 3, 640, 384)\n",
      "\n"
     ]
    },
    {
     "name": "stdout",
     "output_type": "stream",
     "text": [
      "frame No: 339\n",
      "frame No: 340\n",
      "frame No: 341\n"
     ]
    },
    {
     "name": "stderr",
     "output_type": "stream",
     "text": [
      "0: 640x384 1 car, 107.8ms\n",
      "Speed: 2.4ms preprocess, 107.8ms inference, 1.1ms postprocess per image at shape (1, 3, 640, 384)\n",
      "\n",
      "0: 640x384 1 car, 81.7ms\n",
      "Speed: 2.1ms preprocess, 81.7ms inference, 0.7ms postprocess per image at shape (1, 3, 640, 384)\n",
      "\n",
      "0: 640x384 1 car, 85.5ms\n",
      "Speed: 2.3ms preprocess, 85.5ms inference, 0.9ms postprocess per image at shape (1, 3, 640, 384)\n",
      "\n"
     ]
    },
    {
     "name": "stdout",
     "output_type": "stream",
     "text": [
      "frame No: 342\n",
      "frame No: 343\n",
      "frame No: 344\n"
     ]
    },
    {
     "name": "stderr",
     "output_type": "stream",
     "text": [
      "0: 640x384 1 car, 87.1ms\n",
      "Speed: 2.2ms preprocess, 87.1ms inference, 0.8ms postprocess per image at shape (1, 3, 640, 384)\n",
      "\n",
      "0: 640x384 1 car, 125.8ms\n",
      "Speed: 2.3ms preprocess, 125.8ms inference, 1.6ms postprocess per image at shape (1, 3, 640, 384)\n",
      "\n"
     ]
    },
    {
     "name": "stdout",
     "output_type": "stream",
     "text": [
      "frame No: 345\n",
      "frame No: 346\n"
     ]
    },
    {
     "name": "stderr",
     "output_type": "stream",
     "text": [
      "0: 640x384 2 persons, 1 car, 144.3ms\n",
      "Speed: 2.8ms preprocess, 144.3ms inference, 1.3ms postprocess per image at shape (1, 3, 640, 384)\n",
      "\n",
      "0: 640x384 1 car, 126.4ms\n",
      "Speed: 4.4ms preprocess, 126.4ms inference, 0.9ms postprocess per image at shape (1, 3, 640, 384)\n",
      "\n"
     ]
    },
    {
     "name": "stdout",
     "output_type": "stream",
     "text": [
      "frame No: 347\n",
      "frame No: 348\n"
     ]
    },
    {
     "name": "stderr",
     "output_type": "stream",
     "text": [
      "0: 640x384 1 car, 99.2ms\n",
      "Speed: 2.1ms preprocess, 99.2ms inference, 1.1ms postprocess per image at shape (1, 3, 640, 384)\n",
      "\n",
      "0: 640x384 1 car, 106.2ms\n",
      "Speed: 2.2ms preprocess, 106.2ms inference, 0.9ms postprocess per image at shape (1, 3, 640, 384)\n",
      "\n"
     ]
    },
    {
     "name": "stdout",
     "output_type": "stream",
     "text": [
      "frame No: 349\n",
      "frame No: 350\n"
     ]
    },
    {
     "name": "stderr",
     "output_type": "stream",
     "text": [
      "0: 640x384 2 cars, 110.6ms\n",
      "Speed: 2.4ms preprocess, 110.6ms inference, 0.9ms postprocess per image at shape (1, 3, 640, 384)\n",
      "\n",
      "0: 640x384 2 cars, 108.7ms\n",
      "Speed: 2.1ms preprocess, 108.7ms inference, 1.2ms postprocess per image at shape (1, 3, 640, 384)\n",
      "\n"
     ]
    },
    {
     "name": "stdout",
     "output_type": "stream",
     "text": [
      "frame No: 351\n",
      "frame No: 352\n"
     ]
    },
    {
     "name": "stderr",
     "output_type": "stream",
     "text": [
      "0: 640x384 1 car, 105.8ms\n",
      "Speed: 2.2ms preprocess, 105.8ms inference, 0.8ms postprocess per image at shape (1, 3, 640, 384)\n",
      "\n",
      "0: 640x384 2 cars, 105.0ms\n",
      "Speed: 2.5ms preprocess, 105.0ms inference, 1.1ms postprocess per image at shape (1, 3, 640, 384)\n",
      "\n"
     ]
    },
    {
     "name": "stdout",
     "output_type": "stream",
     "text": [
      "frame No: 353\n",
      "frame No: 354\n"
     ]
    },
    {
     "name": "stderr",
     "output_type": "stream",
     "text": [
      "0: 640x384 1 car, 110.7ms\n",
      "Speed: 2.3ms preprocess, 110.7ms inference, 3.5ms postprocess per image at shape (1, 3, 640, 384)\n",
      "\n",
      "0: 640x384 (no detections), 88.4ms\n",
      "Speed: 2.7ms preprocess, 88.4ms inference, 1.8ms postprocess per image at shape (1, 3, 640, 384)\n",
      "\n",
      "0: 640x384 1 car, 86.8ms\n",
      "Speed: 4.5ms preprocess, 86.8ms inference, 1.0ms postprocess per image at shape (1, 3, 640, 384)\n",
      "\n"
     ]
    },
    {
     "name": "stdout",
     "output_type": "stream",
     "text": [
      "frame No: 355\n",
      "frame No: 356\n",
      "frame No: 357\n"
     ]
    },
    {
     "name": "stderr",
     "output_type": "stream",
     "text": [
      "0: 640x384 2 cars, 96.1ms\n",
      "Speed: 2.4ms preprocess, 96.1ms inference, 0.8ms postprocess per image at shape (1, 3, 640, 384)\n",
      "\n",
      "0: 640x384 1 car, 104.7ms\n",
      "Speed: 2.5ms preprocess, 104.7ms inference, 1.0ms postprocess per image at shape (1, 3, 640, 384)\n",
      "\n"
     ]
    },
    {
     "name": "stdout",
     "output_type": "stream",
     "text": [
      "frame No: 358\n",
      "frame No: 359\n"
     ]
    },
    {
     "name": "stderr",
     "output_type": "stream",
     "text": [
      "0: 640x384 1 car, 103.2ms\n",
      "Speed: 2.2ms preprocess, 103.2ms inference, 1.1ms postprocess per image at shape (1, 3, 640, 384)\n",
      "\n",
      "0: 640x384 1 car, 109.6ms\n",
      "Speed: 2.2ms preprocess, 109.6ms inference, 1.0ms postprocess per image at shape (1, 3, 640, 384)\n",
      "\n"
     ]
    },
    {
     "name": "stdout",
     "output_type": "stream",
     "text": [
      "frame No: 360\n",
      "frame No: 361\n"
     ]
    },
    {
     "name": "stderr",
     "output_type": "stream",
     "text": [
      "0: 640x384 1 car, 103.1ms\n",
      "Speed: 2.2ms preprocess, 103.1ms inference, 1.2ms postprocess per image at shape (1, 3, 640, 384)\n",
      "\n",
      "0: 640x384 1 car, 120.0ms\n",
      "Speed: 2.3ms preprocess, 120.0ms inference, 1.0ms postprocess per image at shape (1, 3, 640, 384)\n",
      "\n"
     ]
    },
    {
     "name": "stdout",
     "output_type": "stream",
     "text": [
      "frame No: 362\n",
      "frame No: 363\n"
     ]
    },
    {
     "name": "stderr",
     "output_type": "stream",
     "text": [
      "0: 640x384 1 car, 93.0ms\n",
      "Speed: 3.1ms preprocess, 93.0ms inference, 1.3ms postprocess per image at shape (1, 3, 640, 384)\n",
      "\n",
      "0: 640x384 1 car, 80.9ms\n",
      "Speed: 3.0ms preprocess, 80.9ms inference, 1.1ms postprocess per image at shape (1, 3, 640, 384)\n",
      "\n",
      "0: 640x384 (no detections), 77.3ms\n",
      "Speed: 2.1ms preprocess, 77.3ms inference, 0.8ms postprocess per image at shape (1, 3, 640, 384)\n",
      "\n"
     ]
    },
    {
     "name": "stdout",
     "output_type": "stream",
     "text": [
      "frame No: 364\n",
      "frame No: 365\n",
      "frame No: 366\n"
     ]
    },
    {
     "name": "stderr",
     "output_type": "stream",
     "text": [
      "0: 640x384 1 car, 82.3ms\n",
      "Speed: 2.0ms preprocess, 82.3ms inference, 0.8ms postprocess per image at shape (1, 3, 640, 384)\n",
      "\n",
      "0: 640x384 1 car, 80.6ms\n",
      "Speed: 2.1ms preprocess, 80.6ms inference, 0.8ms postprocess per image at shape (1, 3, 640, 384)\n",
      "\n"
     ]
    },
    {
     "name": "stdout",
     "output_type": "stream",
     "text": [
      "frame No: 367\n",
      "frame No: 368\n"
     ]
    },
    {
     "name": "stderr",
     "output_type": "stream",
     "text": [
      "0: 640x384 (no detections), 138.8ms\n",
      "Speed: 2.1ms preprocess, 138.8ms inference, 0.9ms postprocess per image at shape (1, 3, 640, 384)\n",
      "\n",
      "0: 640x384 (no detections), 104.3ms\n",
      "Speed: 13.0ms preprocess, 104.3ms inference, 0.6ms postprocess per image at shape (1, 3, 640, 384)\n",
      "\n"
     ]
    },
    {
     "name": "stdout",
     "output_type": "stream",
     "text": [
      "frame No: 369\n",
      "frame No: 370\n"
     ]
    },
    {
     "name": "stderr",
     "output_type": "stream",
     "text": [
      "0: 640x384 (no detections), 77.1ms\n",
      "Speed: 2.1ms preprocess, 77.1ms inference, 0.7ms postprocess per image at shape (1, 3, 640, 384)\n",
      "\n",
      "0: 640x384 (no detections), 80.0ms\n",
      "Speed: 3.2ms preprocess, 80.0ms inference, 0.6ms postprocess per image at shape (1, 3, 640, 384)\n",
      "\n",
      "0: 640x384 (no detections), 75.3ms\n",
      "Speed: 2.1ms preprocess, 75.3ms inference, 0.6ms postprocess per image at shape (1, 3, 640, 384)\n",
      "\n"
     ]
    },
    {
     "name": "stdout",
     "output_type": "stream",
     "text": [
      "frame No: 371\n",
      "frame No: 372\n",
      "frame No: 373\n"
     ]
    },
    {
     "name": "stderr",
     "output_type": "stream",
     "text": [
      "0: 640x384 (no detections), 157.3ms\n",
      "Speed: 3.3ms preprocess, 157.3ms inference, 1.1ms postprocess per image at shape (1, 3, 640, 384)\n",
      "\n",
      "0: 640x384 (no detections), 185.5ms\n",
      "Speed: 4.6ms preprocess, 185.5ms inference, 1.0ms postprocess per image at shape (1, 3, 640, 384)\n",
      "\n"
     ]
    },
    {
     "name": "stdout",
     "output_type": "stream",
     "text": [
      "frame No: 374\n",
      "frame No: 375\n"
     ]
    },
    {
     "name": "stderr",
     "output_type": "stream",
     "text": [
      "0: 640x384 (no detections), 93.9ms\n",
      "Speed: 2.4ms preprocess, 93.9ms inference, 0.5ms postprocess per image at shape (1, 3, 640, 384)\n",
      "\n",
      "0: 640x384 (no detections), 107.5ms\n",
      "Speed: 2.4ms preprocess, 107.5ms inference, 0.8ms postprocess per image at shape (1, 3, 640, 384)\n",
      "\n"
     ]
    },
    {
     "name": "stdout",
     "output_type": "stream",
     "text": [
      "frame No: 376\n",
      "frame No: 377\n"
     ]
    },
    {
     "name": "stderr",
     "output_type": "stream",
     "text": [
      "0: 640x384 (no detections), 110.2ms\n",
      "Speed: 2.2ms preprocess, 110.2ms inference, 0.8ms postprocess per image at shape (1, 3, 640, 384)\n",
      "\n",
      "0: 640x384 (no detections), 103.0ms\n",
      "Speed: 2.5ms preprocess, 103.0ms inference, 0.8ms postprocess per image at shape (1, 3, 640, 384)\n",
      "\n"
     ]
    },
    {
     "name": "stdout",
     "output_type": "stream",
     "text": [
      "frame No: 378\n",
      "frame No: 379\n"
     ]
    },
    {
     "name": "stderr",
     "output_type": "stream",
     "text": [
      "0: 640x384 (no detections), 104.9ms\n",
      "Speed: 2.2ms preprocess, 104.9ms inference, 0.8ms postprocess per image at shape (1, 3, 640, 384)\n",
      "\n",
      "0: 640x384 (no detections), 119.1ms\n",
      "Speed: 2.2ms preprocess, 119.1ms inference, 1.7ms postprocess per image at shape (1, 3, 640, 384)\n",
      "\n"
     ]
    },
    {
     "name": "stdout",
     "output_type": "stream",
     "text": [
      "frame No: 380\n",
      "frame No: 381\n"
     ]
    },
    {
     "name": "stderr",
     "output_type": "stream",
     "text": [
      "0: 640x384 (no detections), 136.0ms\n",
      "Speed: 3.0ms preprocess, 136.0ms inference, 1.1ms postprocess per image at shape (1, 3, 640, 384)\n",
      "\n",
      "0: 640x384 (no detections), 169.5ms\n",
      "Speed: 5.4ms preprocess, 169.5ms inference, 1.5ms postprocess per image at shape (1, 3, 640, 384)\n",
      "\n"
     ]
    },
    {
     "name": "stdout",
     "output_type": "stream",
     "text": [
      "frame No: 382\n",
      "frame No: 383\n"
     ]
    },
    {
     "name": "stderr",
     "output_type": "stream",
     "text": [
      "0: 640x384 (no detections), 153.6ms\n",
      "Speed: 3.6ms preprocess, 153.6ms inference, 1.0ms postprocess per image at shape (1, 3, 640, 384)\n",
      "\n",
      "0: 640x384 (no detections), 179.1ms\n",
      "Speed: 3.0ms preprocess, 179.1ms inference, 0.8ms postprocess per image at shape (1, 3, 640, 384)\n",
      "\n"
     ]
    },
    {
     "name": "stdout",
     "output_type": "stream",
     "text": [
      "frame No: 384\n",
      "frame No: 385\n"
     ]
    },
    {
     "name": "stderr",
     "output_type": "stream",
     "text": [
      "0: 640x384 (no detections), 159.9ms\n",
      "Speed: 2.7ms preprocess, 159.9ms inference, 1.4ms postprocess per image at shape (1, 3, 640, 384)\n",
      "\n",
      "0: 640x384 (no detections), 165.7ms\n",
      "Speed: 3.0ms preprocess, 165.7ms inference, 0.9ms postprocess per image at shape (1, 3, 640, 384)\n",
      "\n"
     ]
    },
    {
     "name": "stdout",
     "output_type": "stream",
     "text": [
      "frame No: 386\n",
      "frame No: 387\n"
     ]
    },
    {
     "name": "stderr",
     "output_type": "stream",
     "text": [
      "0: 640x384 (no detections), 174.1ms\n",
      "Speed: 3.4ms preprocess, 174.1ms inference, 1.3ms postprocess per image at shape (1, 3, 640, 384)\n",
      "\n",
      "0: 640x384 (no detections), 152.0ms\n",
      "Speed: 9.9ms preprocess, 152.0ms inference, 1.7ms postprocess per image at shape (1, 3, 640, 384)\n",
      "\n"
     ]
    },
    {
     "name": "stdout",
     "output_type": "stream",
     "text": [
      "frame No: 388\n",
      "frame No: 389\n"
     ]
    },
    {
     "name": "stderr",
     "output_type": "stream",
     "text": [
      "0: 640x384 (no detections), 152.9ms\n",
      "Speed: 2.8ms preprocess, 152.9ms inference, 3.4ms postprocess per image at shape (1, 3, 640, 384)\n",
      "\n",
      "0: 640x384 1 car, 148.4ms\n",
      "Speed: 3.2ms preprocess, 148.4ms inference, 1.2ms postprocess per image at shape (1, 3, 640, 384)\n",
      "\n"
     ]
    },
    {
     "name": "stdout",
     "output_type": "stream",
     "text": [
      "frame No: 390\n",
      "frame No: 391\n"
     ]
    },
    {
     "name": "stderr",
     "output_type": "stream",
     "text": [
      "0: 640x384 1 car, 142.6ms\n",
      "Speed: 4.3ms preprocess, 142.6ms inference, 0.8ms postprocess per image at shape (1, 3, 640, 384)\n",
      "\n",
      "0: 640x384 (no detections), 129.7ms\n",
      "Speed: 3.0ms preprocess, 129.7ms inference, 0.9ms postprocess per image at shape (1, 3, 640, 384)\n",
      "\n"
     ]
    },
    {
     "name": "stdout",
     "output_type": "stream",
     "text": [
      "frame No: 392\n",
      "frame No: 393\n"
     ]
    },
    {
     "name": "stderr",
     "output_type": "stream",
     "text": [
      "0: 640x384 (no detections), 128.0ms\n",
      "Speed: 2.1ms preprocess, 128.0ms inference, 1.9ms postprocess per image at shape (1, 3, 640, 384)\n",
      "\n",
      "0: 640x384 (no detections), 150.6ms\n",
      "Speed: 2.9ms preprocess, 150.6ms inference, 1.5ms postprocess per image at shape (1, 3, 640, 384)\n",
      "\n"
     ]
    },
    {
     "name": "stdout",
     "output_type": "stream",
     "text": [
      "frame No: 394\n",
      "frame No: 395\n"
     ]
    },
    {
     "name": "stderr",
     "output_type": "stream",
     "text": [
      "0: 640x384 1 car, 156.1ms\n",
      "Speed: 2.5ms preprocess, 156.1ms inference, 1.3ms postprocess per image at shape (1, 3, 640, 384)\n",
      "\n",
      "0: 640x384 (no detections), 132.5ms\n",
      "Speed: 4.0ms preprocess, 132.5ms inference, 1.7ms postprocess per image at shape (1, 3, 640, 384)\n",
      "\n"
     ]
    },
    {
     "name": "stdout",
     "output_type": "stream",
     "text": [
      "frame No: 396\n",
      "frame No: 397\n"
     ]
    },
    {
     "name": "stderr",
     "output_type": "stream",
     "text": [
      "0: 640x384 (no detections), 152.7ms\n",
      "Speed: 3.2ms preprocess, 152.7ms inference, 1.0ms postprocess per image at shape (1, 3, 640, 384)\n",
      "\n",
      "0: 640x384 (no detections), 139.7ms\n",
      "Speed: 4.8ms preprocess, 139.7ms inference, 0.8ms postprocess per image at shape (1, 3, 640, 384)\n",
      "\n"
     ]
    },
    {
     "name": "stdout",
     "output_type": "stream",
     "text": [
      "frame No: 398\n",
      "frame No: 399\n"
     ]
    },
    {
     "name": "stderr",
     "output_type": "stream",
     "text": [
      "0: 640x384 (no detections), 123.3ms\n",
      "Speed: 2.2ms preprocess, 123.3ms inference, 1.0ms postprocess per image at shape (1, 3, 640, 384)\n",
      "\n",
      "0: 640x384 (no detections), 147.8ms\n",
      "Speed: 2.7ms preprocess, 147.8ms inference, 1.1ms postprocess per image at shape (1, 3, 640, 384)\n",
      "\n"
     ]
    },
    {
     "name": "stdout",
     "output_type": "stream",
     "text": [
      "frame No: 400\n",
      "frame No: 401\n"
     ]
    },
    {
     "name": "stderr",
     "output_type": "stream",
     "text": [
      "0: 640x384 (no detections), 133.5ms\n",
      "Speed: 2.1ms preprocess, 133.5ms inference, 0.7ms postprocess per image at shape (1, 3, 640, 384)\n",
      "\n",
      "0: 640x384 (no detections), 133.9ms\n",
      "Speed: 2.9ms preprocess, 133.9ms inference, 1.0ms postprocess per image at shape (1, 3, 640, 384)\n",
      "\n"
     ]
    },
    {
     "name": "stdout",
     "output_type": "stream",
     "text": [
      "frame No: 402\n",
      "frame No: 403\n"
     ]
    },
    {
     "name": "stderr",
     "output_type": "stream",
     "text": [
      "0: 640x384 (no detections), 122.3ms\n",
      "Speed: 2.7ms preprocess, 122.3ms inference, 0.9ms postprocess per image at shape (1, 3, 640, 384)\n",
      "\n",
      "0: 640x384 (no detections), 127.9ms\n",
      "Speed: 2.9ms preprocess, 127.9ms inference, 0.9ms postprocess per image at shape (1, 3, 640, 384)\n",
      "\n"
     ]
    },
    {
     "name": "stdout",
     "output_type": "stream",
     "text": [
      "frame No: 404\n",
      "frame No: 405\n"
     ]
    },
    {
     "name": "stderr",
     "output_type": "stream",
     "text": [
      "0: 640x384 (no detections), 123.9ms\n",
      "Speed: 2.5ms preprocess, 123.9ms inference, 0.8ms postprocess per image at shape (1, 3, 640, 384)\n",
      "\n",
      "0: 640x384 (no detections), 129.6ms\n",
      "Speed: 2.7ms preprocess, 129.6ms inference, 1.3ms postprocess per image at shape (1, 3, 640, 384)\n",
      "\n"
     ]
    },
    {
     "name": "stdout",
     "output_type": "stream",
     "text": [
      "frame No: 406\n",
      "frame No: 407\n"
     ]
    },
    {
     "name": "stderr",
     "output_type": "stream",
     "text": [
      "0: 640x384 (no detections), 139.9ms\n",
      "Speed: 3.3ms preprocess, 139.9ms inference, 0.9ms postprocess per image at shape (1, 3, 640, 384)\n",
      "\n",
      "0: 640x384 (no detections), 132.5ms\n",
      "Speed: 3.3ms preprocess, 132.5ms inference, 1.0ms postprocess per image at shape (1, 3, 640, 384)\n",
      "\n"
     ]
    },
    {
     "name": "stdout",
     "output_type": "stream",
     "text": [
      "frame No: 408\n",
      "frame No: 409\n"
     ]
    },
    {
     "name": "stderr",
     "output_type": "stream",
     "text": [
      "0: 640x384 (no detections), 127.5ms\n",
      "Speed: 2.9ms preprocess, 127.5ms inference, 1.0ms postprocess per image at shape (1, 3, 640, 384)\n",
      "\n",
      "0: 640x384 (no detections), 129.4ms\n",
      "Speed: 3.0ms preprocess, 129.4ms inference, 1.0ms postprocess per image at shape (1, 3, 640, 384)\n",
      "\n"
     ]
    },
    {
     "name": "stdout",
     "output_type": "stream",
     "text": [
      "frame No: 410\n",
      "frame No: 411\n"
     ]
    },
    {
     "name": "stderr",
     "output_type": "stream",
     "text": [
      "0: 640x384 (no detections), 159.1ms\n",
      "Speed: 2.8ms preprocess, 159.1ms inference, 0.7ms postprocess per image at shape (1, 3, 640, 384)\n",
      "\n",
      "0: 640x384 (no detections), 125.9ms\n",
      "Speed: 4.6ms preprocess, 125.9ms inference, 1.2ms postprocess per image at shape (1, 3, 640, 384)\n",
      "\n"
     ]
    },
    {
     "name": "stdout",
     "output_type": "stream",
     "text": [
      "frame No: 412\n",
      "frame No: 413\n"
     ]
    },
    {
     "name": "stderr",
     "output_type": "stream",
     "text": [
      "0: 640x384 (no detections), 142.1ms\n",
      "Speed: 2.5ms preprocess, 142.1ms inference, 1.0ms postprocess per image at shape (1, 3, 640, 384)\n",
      "\n",
      "0: 640x384 (no detections), 143.1ms\n",
      "Speed: 2.2ms preprocess, 143.1ms inference, 1.0ms postprocess per image at shape (1, 3, 640, 384)\n",
      "\n"
     ]
    },
    {
     "name": "stdout",
     "output_type": "stream",
     "text": [
      "frame No: 414\n",
      "frame No: 415\n"
     ]
    },
    {
     "name": "stderr",
     "output_type": "stream",
     "text": [
      "0: 640x384 (no detections), 142.1ms\n",
      "Speed: 2.8ms preprocess, 142.1ms inference, 2.4ms postprocess per image at shape (1, 3, 640, 384)\n",
      "\n",
      "0: 640x384 (no detections), 142.6ms\n",
      "Speed: 3.6ms preprocess, 142.6ms inference, 0.8ms postprocess per image at shape (1, 3, 640, 384)\n",
      "\n"
     ]
    },
    {
     "name": "stdout",
     "output_type": "stream",
     "text": [
      "frame No: 416\n",
      "frame No: 417\n"
     ]
    },
    {
     "name": "stderr",
     "output_type": "stream",
     "text": [
      "0: 640x384 (no detections), 105.4ms\n",
      "Speed: 2.1ms preprocess, 105.4ms inference, 1.4ms postprocess per image at shape (1, 3, 640, 384)\n",
      "\n",
      "0: 640x384 (no detections), 120.6ms\n",
      "Speed: 5.6ms preprocess, 120.6ms inference, 1.1ms postprocess per image at shape (1, 3, 640, 384)\n",
      "\n"
     ]
    },
    {
     "name": "stdout",
     "output_type": "stream",
     "text": [
      "frame No: 418\n",
      "frame No: 419\n"
     ]
    },
    {
     "name": "stderr",
     "output_type": "stream",
     "text": [
      "0: 640x384 (no detections), 186.8ms\n",
      "Speed: 2.3ms preprocess, 186.8ms inference, 1.0ms postprocess per image at shape (1, 3, 640, 384)\n",
      "\n",
      "0: 640x384 (no detections), 149.5ms\n",
      "Speed: 2.6ms preprocess, 149.5ms inference, 0.9ms postprocess per image at shape (1, 3, 640, 384)\n",
      "\n"
     ]
    },
    {
     "name": "stdout",
     "output_type": "stream",
     "text": [
      "frame No: 420\n",
      "frame No: 421\n"
     ]
    },
    {
     "name": "stderr",
     "output_type": "stream",
     "text": [
      "0: 640x384 (no detections), 169.8ms\n",
      "Speed: 6.7ms preprocess, 169.8ms inference, 0.9ms postprocess per image at shape (1, 3, 640, 384)\n",
      "\n",
      "0: 640x384 (no detections), 101.6ms\n",
      "Speed: 2.1ms preprocess, 101.6ms inference, 0.7ms postprocess per image at shape (1, 3, 640, 384)\n",
      "\n"
     ]
    },
    {
     "name": "stdout",
     "output_type": "stream",
     "text": [
      "frame No: 422\n",
      "frame No: 423\n"
     ]
    },
    {
     "name": "stderr",
     "output_type": "stream",
     "text": [
      "0: 640x384 (no detections), 91.2ms\n",
      "Speed: 2.2ms preprocess, 91.2ms inference, 0.7ms postprocess per image at shape (1, 3, 640, 384)\n",
      "\n",
      "0: 640x384 (no detections), 134.3ms\n",
      "Speed: 2.2ms preprocess, 134.3ms inference, 2.9ms postprocess per image at shape (1, 3, 640, 384)\n",
      "\n"
     ]
    },
    {
     "name": "stdout",
     "output_type": "stream",
     "text": [
      "frame No: 424\n",
      "frame No: 425\n"
     ]
    },
    {
     "name": "stderr",
     "output_type": "stream",
     "text": [
      "0: 640x384 (no detections), 118.1ms\n",
      "Speed: 3.3ms preprocess, 118.1ms inference, 1.0ms postprocess per image at shape (1, 3, 640, 384)\n",
      "\n",
      "0: 640x384 (no detections), 121.7ms\n",
      "Speed: 2.9ms preprocess, 121.7ms inference, 0.7ms postprocess per image at shape (1, 3, 640, 384)\n",
      "\n"
     ]
    },
    {
     "name": "stdout",
     "output_type": "stream",
     "text": [
      "frame No: 426\n",
      "frame No: 427\n"
     ]
    },
    {
     "name": "stderr",
     "output_type": "stream",
     "text": [
      "0: 640x384 (no detections), 121.0ms\n",
      "Speed: 3.0ms preprocess, 121.0ms inference, 1.1ms postprocess per image at shape (1, 3, 640, 384)\n",
      "\n",
      "0: 640x384 (no detections), 124.7ms\n",
      "Speed: 2.2ms preprocess, 124.7ms inference, 0.9ms postprocess per image at shape (1, 3, 640, 384)\n",
      "\n"
     ]
    },
    {
     "name": "stdout",
     "output_type": "stream",
     "text": [
      "frame No: 428\n",
      "frame No: 429\n"
     ]
    },
    {
     "name": "stderr",
     "output_type": "stream",
     "text": [
      "0: 640x384 (no detections), 120.8ms\n",
      "Speed: 2.1ms preprocess, 120.8ms inference, 1.1ms postprocess per image at shape (1, 3, 640, 384)\n",
      "\n",
      "0: 640x384 (no detections), 144.4ms\n",
      "Speed: 4.7ms preprocess, 144.4ms inference, 0.9ms postprocess per image at shape (1, 3, 640, 384)\n",
      "\n"
     ]
    },
    {
     "name": "stdout",
     "output_type": "stream",
     "text": [
      "frame No: 430\n",
      "frame No: 431\n"
     ]
    },
    {
     "name": "stderr",
     "output_type": "stream",
     "text": [
      "0: 640x384 (no detections), 178.8ms\n",
      "Speed: 2.9ms preprocess, 178.8ms inference, 1.3ms postprocess per image at shape (1, 3, 640, 384)\n",
      "\n",
      "0: 640x384 (no detections), 162.0ms\n",
      "Speed: 3.5ms preprocess, 162.0ms inference, 1.6ms postprocess per image at shape (1, 3, 640, 384)\n",
      "\n"
     ]
    },
    {
     "name": "stdout",
     "output_type": "stream",
     "text": [
      "frame No: 432\n",
      "frame No: 433\n"
     ]
    },
    {
     "name": "stderr",
     "output_type": "stream",
     "text": [
      "0: 640x384 (no detections), 168.6ms\n",
      "Speed: 3.4ms preprocess, 168.6ms inference, 1.1ms postprocess per image at shape (1, 3, 640, 384)\n",
      "\n",
      "0: 640x384 (no detections), 158.1ms\n",
      "Speed: 2.6ms preprocess, 158.1ms inference, 1.0ms postprocess per image at shape (1, 3, 640, 384)\n",
      "\n"
     ]
    },
    {
     "name": "stdout",
     "output_type": "stream",
     "text": [
      "frame No: 434\n",
      "frame No: 435\n"
     ]
    },
    {
     "name": "stderr",
     "output_type": "stream",
     "text": [
      "0: 640x384 (no detections), 206.0ms\n",
      "Speed: 23.1ms preprocess, 206.0ms inference, 1.3ms postprocess per image at shape (1, 3, 640, 384)\n",
      "\n",
      "0: 640x384 (no detections), 139.3ms\n",
      "Speed: 2.9ms preprocess, 139.3ms inference, 0.7ms postprocess per image at shape (1, 3, 640, 384)\n",
      "\n"
     ]
    },
    {
     "name": "stdout",
     "output_type": "stream",
     "text": [
      "frame No: 436\n",
      "frame No: 437\n"
     ]
    },
    {
     "name": "stderr",
     "output_type": "stream",
     "text": [
      "0: 640x384 (no detections), 139.0ms\n",
      "Speed: 2.3ms preprocess, 139.0ms inference, 0.7ms postprocess per image at shape (1, 3, 640, 384)\n",
      "\n",
      "0: 640x384 (no detections), 120.0ms\n",
      "Speed: 3.1ms preprocess, 120.0ms inference, 1.4ms postprocess per image at shape (1, 3, 640, 384)\n",
      "\n"
     ]
    },
    {
     "name": "stdout",
     "output_type": "stream",
     "text": [
      "frame No: 438\n",
      "frame No: 439\n"
     ]
    },
    {
     "name": "stderr",
     "output_type": "stream",
     "text": [
      "0: 640x384 (no detections), 123.8ms\n",
      "Speed: 2.4ms preprocess, 123.8ms inference, 1.6ms postprocess per image at shape (1, 3, 640, 384)\n",
      "\n",
      "0: 640x384 (no detections), 111.9ms\n",
      "Speed: 2.9ms preprocess, 111.9ms inference, 0.7ms postprocess per image at shape (1, 3, 640, 384)\n",
      "\n"
     ]
    },
    {
     "name": "stdout",
     "output_type": "stream",
     "text": [
      "frame No: 440\n",
      "frame No: 441\n"
     ]
    },
    {
     "name": "stderr",
     "output_type": "stream",
     "text": [
      "0: 640x384 (no detections), 113.8ms\n",
      "Speed: 2.6ms preprocess, 113.8ms inference, 7.3ms postprocess per image at shape (1, 3, 640, 384)\n",
      "\n",
      "0: 640x384 (no detections), 152.6ms\n",
      "Speed: 6.1ms preprocess, 152.6ms inference, 1.4ms postprocess per image at shape (1, 3, 640, 384)\n",
      "\n"
     ]
    },
    {
     "name": "stdout",
     "output_type": "stream",
     "text": [
      "frame No: 442\n",
      "frame No: 443\n"
     ]
    },
    {
     "name": "stderr",
     "output_type": "stream",
     "text": [
      "0: 640x384 (no detections), 132.9ms\n",
      "Speed: 2.9ms preprocess, 132.9ms inference, 1.1ms postprocess per image at shape (1, 3, 640, 384)\n",
      "\n",
      "0: 640x384 (no detections), 134.5ms\n",
      "Speed: 3.8ms preprocess, 134.5ms inference, 0.7ms postprocess per image at shape (1, 3, 640, 384)\n",
      "\n"
     ]
    },
    {
     "name": "stdout",
     "output_type": "stream",
     "text": [
      "frame No: 444\n",
      "frame No: 445\n"
     ]
    },
    {
     "name": "stderr",
     "output_type": "stream",
     "text": [
      "0: 640x384 (no detections), 102.7ms\n",
      "Speed: 2.4ms preprocess, 102.7ms inference, 1.0ms postprocess per image at shape (1, 3, 640, 384)\n",
      "\n",
      "0: 640x384 (no detections), 115.5ms\n",
      "Speed: 3.9ms preprocess, 115.5ms inference, 1.2ms postprocess per image at shape (1, 3, 640, 384)\n",
      "\n"
     ]
    },
    {
     "name": "stdout",
     "output_type": "stream",
     "text": [
      "frame No: 446\n",
      "frame No: 447\n"
     ]
    },
    {
     "name": "stderr",
     "output_type": "stream",
     "text": [
      "0: 640x384 (no detections), 112.8ms\n",
      "Speed: 2.1ms preprocess, 112.8ms inference, 1.3ms postprocess per image at shape (1, 3, 640, 384)\n",
      "\n",
      "0: 640x384 (no detections), 154.9ms\n",
      "Speed: 2.8ms preprocess, 154.9ms inference, 1.5ms postprocess per image at shape (1, 3, 640, 384)\n",
      "\n"
     ]
    },
    {
     "name": "stdout",
     "output_type": "stream",
     "text": [
      "frame No: 448\n",
      "frame No: 449\n"
     ]
    },
    {
     "name": "stderr",
     "output_type": "stream",
     "text": [
      "0: 640x384 (no detections), 124.9ms\n",
      "Speed: 2.2ms preprocess, 124.9ms inference, 1.4ms postprocess per image at shape (1, 3, 640, 384)\n",
      "\n",
      "0: 640x384 (no detections), 168.6ms\n",
      "Speed: 2.6ms preprocess, 168.6ms inference, 1.6ms postprocess per image at shape (1, 3, 640, 384)\n",
      "\n"
     ]
    },
    {
     "name": "stdout",
     "output_type": "stream",
     "text": [
      "frame No: 450\n",
      "frame No: 451\n"
     ]
    },
    {
     "name": "stderr",
     "output_type": "stream",
     "text": [
      "0: 640x384 (no detections), 182.9ms\n",
      "Speed: 30.1ms preprocess, 182.9ms inference, 0.8ms postprocess per image at shape (1, 3, 640, 384)\n",
      "\n",
      "0: 640x384 (no detections), 124.5ms\n",
      "Speed: 2.2ms preprocess, 124.5ms inference, 0.9ms postprocess per image at shape (1, 3, 640, 384)\n",
      "\n"
     ]
    },
    {
     "name": "stdout",
     "output_type": "stream",
     "text": [
      "frame No: 452\n",
      "frame No: 453\n"
     ]
    },
    {
     "name": "stderr",
     "output_type": "stream",
     "text": [
      "0: 640x384 (no detections), 92.0ms\n",
      "Speed: 2.2ms preprocess, 92.0ms inference, 1.3ms postprocess per image at shape (1, 3, 640, 384)\n",
      "\n",
      "0: 640x384 (no detections), 136.0ms\n",
      "Speed: 2.8ms preprocess, 136.0ms inference, 0.8ms postprocess per image at shape (1, 3, 640, 384)\n",
      "\n"
     ]
    },
    {
     "name": "stdout",
     "output_type": "stream",
     "text": [
      "frame No: 454\n",
      "frame No: 455\n"
     ]
    },
    {
     "name": "stderr",
     "output_type": "stream",
     "text": [
      "0: 640x384 (no detections), 144.1ms\n",
      "Speed: 2.7ms preprocess, 144.1ms inference, 1.0ms postprocess per image at shape (1, 3, 640, 384)\n",
      "\n",
      "0: 640x384 (no detections), 122.9ms\n",
      "Speed: 2.9ms preprocess, 122.9ms inference, 1.0ms postprocess per image at shape (1, 3, 640, 384)\n",
      "\n"
     ]
    },
    {
     "name": "stdout",
     "output_type": "stream",
     "text": [
      "frame No: 456\n",
      "frame No: 457\n"
     ]
    },
    {
     "name": "stderr",
     "output_type": "stream",
     "text": [
      "0: 640x384 (no detections), 147.8ms\n",
      "Speed: 3.6ms preprocess, 147.8ms inference, 1.1ms postprocess per image at shape (1, 3, 640, 384)\n",
      "\n",
      "0: 640x384 (no detections), 169.7ms\n",
      "Speed: 3.4ms preprocess, 169.7ms inference, 0.7ms postprocess per image at shape (1, 3, 640, 384)\n",
      "\n"
     ]
    },
    {
     "name": "stdout",
     "output_type": "stream",
     "text": [
      "frame No: 458\n",
      "frame No: 459\n"
     ]
    },
    {
     "name": "stderr",
     "output_type": "stream",
     "text": [
      "0: 640x384 (no detections), 135.9ms\n",
      "Speed: 2.8ms preprocess, 135.9ms inference, 1.0ms postprocess per image at shape (1, 3, 640, 384)\n",
      "\n",
      "0: 640x384 (no detections), 127.4ms\n",
      "Speed: 3.0ms preprocess, 127.4ms inference, 0.7ms postprocess per image at shape (1, 3, 640, 384)\n",
      "\n"
     ]
    },
    {
     "name": "stdout",
     "output_type": "stream",
     "text": [
      "frame No: 460\n",
      "frame No: 461\n"
     ]
    },
    {
     "name": "stderr",
     "output_type": "stream",
     "text": [
      "0: 640x384 (no detections), 137.1ms\n",
      "Speed: 2.2ms preprocess, 137.1ms inference, 1.1ms postprocess per image at shape (1, 3, 640, 384)\n",
      "\n",
      "0: 640x384 (no detections), 121.3ms\n",
      "Speed: 4.3ms preprocess, 121.3ms inference, 0.9ms postprocess per image at shape (1, 3, 640, 384)\n",
      "\n"
     ]
    },
    {
     "name": "stdout",
     "output_type": "stream",
     "text": [
      "frame No: 462\n",
      "frame No: 463\n"
     ]
    },
    {
     "name": "stderr",
     "output_type": "stream",
     "text": [
      "0: 640x384 (no detections), 101.1ms\n",
      "Speed: 2.2ms preprocess, 101.1ms inference, 1.0ms postprocess per image at shape (1, 3, 640, 384)\n",
      "\n",
      "0: 640x384 (no detections), 179.5ms\n",
      "Speed: 2.9ms preprocess, 179.5ms inference, 1.2ms postprocess per image at shape (1, 3, 640, 384)\n",
      "\n"
     ]
    },
    {
     "name": "stdout",
     "output_type": "stream",
     "text": [
      "frame No: 464\n",
      "frame No: 465\n"
     ]
    },
    {
     "name": "stderr",
     "output_type": "stream",
     "text": [
      "0: 640x384 (no detections), 519.7ms\n",
      "Speed: 3.2ms preprocess, 519.7ms inference, 1.2ms postprocess per image at shape (1, 3, 640, 384)\n",
      "\n",
      "0: 640x384 (no detections), 190.4ms\n",
      "Speed: 3.0ms preprocess, 190.4ms inference, 1.2ms postprocess per image at shape (1, 3, 640, 384)\n"
     ]
    },
    {
     "name": "stdout",
     "output_type": "stream",
     "text": [
      "frame No: 466\n"
     ]
    },
    {
     "name": "stderr",
     "output_type": "stream",
     "text": [
      "\n",
      "0: 640x384 (no detections), 184.0ms\n",
      "Speed: 3.8ms preprocess, 184.0ms inference, 1.2ms postprocess per image at shape (1, 3, 640, 384)\n",
      "\n"
     ]
    },
    {
     "name": "stdout",
     "output_type": "stream",
     "text": [
      "frame No: 467\n",
      "frame No: 468\n"
     ]
    },
    {
     "name": "stderr",
     "output_type": "stream",
     "text": [
      "0: 640x384 (no detections), 224.5ms\n",
      "Speed: 16.9ms preprocess, 224.5ms inference, 1.2ms postprocess per image at shape (1, 3, 640, 384)\n",
      "\n",
      "0: 640x384 (no detections), 167.4ms\n",
      "Speed: 4.8ms preprocess, 167.4ms inference, 1.7ms postprocess per image at shape (1, 3, 640, 384)\n",
      "\n"
     ]
    },
    {
     "name": "stdout",
     "output_type": "stream",
     "text": [
      "frame No: 469\n",
      "frame No: 470\n"
     ]
    },
    {
     "name": "stderr",
     "output_type": "stream",
     "text": [
      "0: 640x384 (no detections), 177.4ms\n",
      "Speed: 4.2ms preprocess, 177.4ms inference, 1.1ms postprocess per image at shape (1, 3, 640, 384)\n",
      "\n",
      "0: 640x384 (no detections), 145.7ms\n",
      "Speed: 3.4ms preprocess, 145.7ms inference, 1.1ms postprocess per image at shape (1, 3, 640, 384)\n",
      "\n"
     ]
    },
    {
     "name": "stdout",
     "output_type": "stream",
     "text": [
      "frame No: 471\n",
      "frame No: 472\n"
     ]
    },
    {
     "name": "stderr",
     "output_type": "stream",
     "text": [
      "0: 640x384 1 person, 154.1ms\n",
      "Speed: 2.9ms preprocess, 154.1ms inference, 1.3ms postprocess per image at shape (1, 3, 640, 384)\n",
      "\n",
      "0: 640x384 1 person, 143.6ms\n",
      "Speed: 3.6ms preprocess, 143.6ms inference, 1.1ms postprocess per image at shape (1, 3, 640, 384)\n",
      "\n"
     ]
    },
    {
     "name": "stdout",
     "output_type": "stream",
     "text": [
      "frame No: 473\n",
      "frame No: 474\n"
     ]
    },
    {
     "name": "stderr",
     "output_type": "stream",
     "text": [
      "0: 640x384 (no detections), 116.3ms\n",
      "Speed: 2.4ms preprocess, 116.3ms inference, 0.9ms postprocess per image at shape (1, 3, 640, 384)\n",
      "\n",
      "0: 640x384 (no detections), 130.5ms\n",
      "Speed: 2.7ms preprocess, 130.5ms inference, 1.7ms postprocess per image at shape (1, 3, 640, 384)\n",
      "\n"
     ]
    },
    {
     "name": "stdout",
     "output_type": "stream",
     "text": [
      "frame No: 475\n",
      "frame No: 476\n"
     ]
    },
    {
     "name": "stderr",
     "output_type": "stream",
     "text": [
      "0: 640x384 (no detections), 123.4ms\n",
      "Speed: 3.3ms preprocess, 123.4ms inference, 1.2ms postprocess per image at shape (1, 3, 640, 384)\n",
      "\n",
      "0: 640x384 1 person, 148.9ms\n",
      "Speed: 3.8ms preprocess, 148.9ms inference, 0.9ms postprocess per image at shape (1, 3, 640, 384)\n",
      "\n"
     ]
    },
    {
     "name": "stdout",
     "output_type": "stream",
     "text": [
      "frame No: 477\n",
      "frame No: 478\n"
     ]
    },
    {
     "name": "stderr",
     "output_type": "stream",
     "text": [
      "0: 640x384 1 person, 108.4ms\n",
      "Speed: 2.9ms preprocess, 108.4ms inference, 1.5ms postprocess per image at shape (1, 3, 640, 384)\n",
      "\n",
      "0: 640x384 (no detections), 176.2ms\n",
      "Speed: 2.9ms preprocess, 176.2ms inference, 1.2ms postprocess per image at shape (1, 3, 640, 384)\n",
      "\n"
     ]
    },
    {
     "name": "stdout",
     "output_type": "stream",
     "text": [
      "frame No: 479\n",
      "frame No: 480\n"
     ]
    },
    {
     "name": "stderr",
     "output_type": "stream",
     "text": [
      "0: 640x384 (no detections), 146.4ms\n",
      "Speed: 7.3ms preprocess, 146.4ms inference, 0.8ms postprocess per image at shape (1, 3, 640, 384)\n",
      "\n"
     ]
    },
    {
     "name": "stdout",
     "output_type": "stream",
     "text": [
      "frame No: 481\n"
     ]
    },
    {
     "name": "stderr",
     "output_type": "stream",
     "text": [
      "0: 640x384 1 person, 273.5ms\n",
      "Speed: 37.5ms preprocess, 273.5ms inference, 1.2ms postprocess per image at shape (1, 3, 640, 384)\n",
      "\n",
      "0: 640x384 1 person, 123.0ms\n",
      "Speed: 2.3ms preprocess, 123.0ms inference, 1.1ms postprocess per image at shape (1, 3, 640, 384)\n",
      "\n"
     ]
    },
    {
     "name": "stdout",
     "output_type": "stream",
     "text": [
      "frame No: 482\n",
      "frame No: 483\n"
     ]
    },
    {
     "name": "stderr",
     "output_type": "stream",
     "text": [
      "0: 640x384 (no detections), 115.9ms\n",
      "Speed: 2.4ms preprocess, 115.9ms inference, 1.0ms postprocess per image at shape (1, 3, 640, 384)\n",
      "\n",
      "0: 640x384 (no detections), 129.4ms\n",
      "Speed: 2.8ms preprocess, 129.4ms inference, 1.8ms postprocess per image at shape (1, 3, 640, 384)\n",
      "\n"
     ]
    },
    {
     "name": "stdout",
     "output_type": "stream",
     "text": [
      "frame No: 484\n",
      "frame No: 485\n"
     ]
    },
    {
     "name": "stderr",
     "output_type": "stream",
     "text": [
      "0: 640x384 (no detections), 108.1ms\n",
      "Speed: 3.1ms preprocess, 108.1ms inference, 0.9ms postprocess per image at shape (1, 3, 640, 384)\n",
      "\n",
      "0: 640x384 (no detections), 149.5ms\n",
      "Speed: 2.8ms preprocess, 149.5ms inference, 0.8ms postprocess per image at shape (1, 3, 640, 384)\n",
      "\n"
     ]
    },
    {
     "name": "stdout",
     "output_type": "stream",
     "text": [
      "frame No: 486\n",
      "frame No: 487\n"
     ]
    },
    {
     "name": "stderr",
     "output_type": "stream",
     "text": [
      "0: 640x384 1 person, 118.8ms\n",
      "Speed: 2.7ms preprocess, 118.8ms inference, 1.2ms postprocess per image at shape (1, 3, 640, 384)\n",
      "\n",
      "0: 640x384 1 person, 122.4ms\n",
      "Speed: 2.6ms preprocess, 122.4ms inference, 0.9ms postprocess per image at shape (1, 3, 640, 384)\n",
      "\n"
     ]
    },
    {
     "name": "stdout",
     "output_type": "stream",
     "text": [
      "frame No: 488\n",
      "frame No: 489\n"
     ]
    },
    {
     "name": "stderr",
     "output_type": "stream",
     "text": [
      "0: 640x384 (no detections), 103.4ms\n",
      "Speed: 2.2ms preprocess, 103.4ms inference, 1.9ms postprocess per image at shape (1, 3, 640, 384)\n",
      "\n",
      "0: 640x384 (no detections), 138.4ms\n",
      "Speed: 2.6ms preprocess, 138.4ms inference, 0.8ms postprocess per image at shape (1, 3, 640, 384)\n",
      "\n"
     ]
    },
    {
     "name": "stdout",
     "output_type": "stream",
     "text": [
      "frame No: 490\n",
      "frame No: 491\n"
     ]
    },
    {
     "name": "stderr",
     "output_type": "stream",
     "text": [
      "0: 640x384 (no detections), 136.3ms\n",
      "Speed: 3.1ms preprocess, 136.3ms inference, 1.0ms postprocess per image at shape (1, 3, 640, 384)\n",
      "\n",
      "0: 640x384 (no detections), 140.4ms\n",
      "Speed: 3.2ms preprocess, 140.4ms inference, 0.7ms postprocess per image at shape (1, 3, 640, 384)\n",
      "\n"
     ]
    },
    {
     "name": "stdout",
     "output_type": "stream",
     "text": [
      "frame No: 492\n",
      "frame No: 493\n"
     ]
    },
    {
     "name": "stderr",
     "output_type": "stream",
     "text": [
      "0: 640x384 (no detections), 151.1ms\n",
      "Speed: 3.5ms preprocess, 151.1ms inference, 0.9ms postprocess per image at shape (1, 3, 640, 384)\n",
      "\n",
      "0: 640x384 (no detections), 140.9ms\n",
      "Speed: 3.6ms preprocess, 140.9ms inference, 1.1ms postprocess per image at shape (1, 3, 640, 384)\n",
      "\n"
     ]
    },
    {
     "name": "stdout",
     "output_type": "stream",
     "text": [
      "frame No: 494\n",
      "frame No: 495\n"
     ]
    },
    {
     "name": "stderr",
     "output_type": "stream",
     "text": [
      "0: 640x384 (no detections), 155.1ms\n",
      "Speed: 3.6ms preprocess, 155.1ms inference, 1.1ms postprocess per image at shape (1, 3, 640, 384)\n",
      "\n",
      "0: 640x384 (no detections), 132.7ms\n",
      "Speed: 4.0ms preprocess, 132.7ms inference, 0.7ms postprocess per image at shape (1, 3, 640, 384)\n",
      "\n"
     ]
    },
    {
     "name": "stdout",
     "output_type": "stream",
     "text": [
      "frame No: 496\n",
      "frame No: 497\n"
     ]
    },
    {
     "name": "stderr",
     "output_type": "stream",
     "text": [
      "0: 640x384 (no detections), 124.7ms\n",
      "Speed: 2.3ms preprocess, 124.7ms inference, 1.0ms postprocess per image at shape (1, 3, 640, 384)\n",
      "\n",
      "0: 640x384 (no detections), 88.7ms\n",
      "Speed: 2.1ms preprocess, 88.7ms inference, 1.0ms postprocess per image at shape (1, 3, 640, 384)\n",
      "\n",
      "0: 640x384 1 person, 78.1ms\n",
      "Speed: 2.1ms preprocess, 78.1ms inference, 1.0ms postprocess per image at shape (1, 3, 640, 384)\n",
      "\n"
     ]
    },
    {
     "name": "stdout",
     "output_type": "stream",
     "text": [
      "frame No: 498\n",
      "frame No: 499\n",
      "frame No: 500\n"
     ]
    },
    {
     "name": "stderr",
     "output_type": "stream",
     "text": [
      "0: 640x384 2 persons, 106.3ms\n",
      "Speed: 3.0ms preprocess, 106.3ms inference, 1.2ms postprocess per image at shape (1, 3, 640, 384)\n",
      "\n",
      "0: 640x384 (no detections), 98.0ms\n",
      "Speed: 2.3ms preprocess, 98.0ms inference, 0.7ms postprocess per image at shape (1, 3, 640, 384)\n",
      "\n",
      "0: 640x384 (no detections), 90.9ms\n"
     ]
    },
    {
     "name": "stdout",
     "output_type": "stream",
     "text": [
      "frame No: 501\n",
      "frame No: 502\n"
     ]
    },
    {
     "name": "stderr",
     "output_type": "stream",
     "text": [
      "Speed: 2.2ms preprocess, 90.9ms inference, 0.9ms postprocess per image at shape (1, 3, 640, 384)\n",
      "\n",
      "0: 640x384 (no detections), 89.8ms\n",
      "Speed: 2.2ms preprocess, 89.8ms inference, 0.7ms postprocess per image at shape (1, 3, 640, 384)\n",
      "\n",
      "0: 640x384 (no detections), 85.2ms\n",
      "Speed: 2.3ms preprocess, 85.2ms inference, 0.6ms postprocess per image at shape (1, 3, 640, 384)\n",
      "\n"
     ]
    },
    {
     "name": "stdout",
     "output_type": "stream",
     "text": [
      "frame No: 503\n",
      "frame No: 504\n",
      "frame No: 505\n"
     ]
    },
    {
     "name": "stderr",
     "output_type": "stream",
     "text": [
      "0: 640x384 (no detections), 88.8ms\n",
      "Speed: 2.7ms preprocess, 88.8ms inference, 1.2ms postprocess per image at shape (1, 3, 640, 384)\n",
      "\n",
      "0: 640x384 (no detections), 92.5ms\n",
      "Speed: 2.7ms preprocess, 92.5ms inference, 1.1ms postprocess per image at shape (1, 3, 640, 384)\n",
      "\n"
     ]
    },
    {
     "name": "stdout",
     "output_type": "stream",
     "text": [
      "frame No: 506\n",
      "frame No: 507\n"
     ]
    },
    {
     "name": "stderr",
     "output_type": "stream",
     "text": [
      "0: 640x384 (no detections), 96.4ms\n",
      "Speed: 4.6ms preprocess, 96.4ms inference, 1.0ms postprocess per image at shape (1, 3, 640, 384)\n",
      "\n",
      "0: 640x384 (no detections), 84.9ms\n",
      "Speed: 2.2ms preprocess, 84.9ms inference, 0.8ms postprocess per image at shape (1, 3, 640, 384)\n",
      "\n"
     ]
    },
    {
     "name": "stdout",
     "output_type": "stream",
     "text": [
      "frame No: 508\n",
      "frame No: 509\n"
     ]
    },
    {
     "name": "stderr",
     "output_type": "stream",
     "text": [
      "0: 640x384 (no detections), 106.8ms\n",
      "Speed: 2.5ms preprocess, 106.8ms inference, 0.8ms postprocess per image at shape (1, 3, 640, 384)\n",
      "\n",
      "0: 640x384 (no detections), 86.5ms\n",
      "Speed: 2.1ms preprocess, 86.5ms inference, 0.8ms postprocess per image at shape (1, 3, 640, 384)\n",
      "\n",
      "0: 640x384 (no detections), 83.8ms\n",
      "Speed: 2.1ms preprocess, 83.8ms inference, 1.0ms postprocess per image at shape (1, 3, 640, 384)\n",
      "\n"
     ]
    },
    {
     "name": "stdout",
     "output_type": "stream",
     "text": [
      "frame No: 510\n",
      "frame No: 511\n",
      "frame No: 512\n"
     ]
    },
    {
     "name": "stderr",
     "output_type": "stream",
     "text": [
      "0: 640x384 (no detections), 88.1ms\n",
      "Speed: 2.1ms preprocess, 88.1ms inference, 1.2ms postprocess per image at shape (1, 3, 640, 384)\n",
      "\n",
      "0: 640x384 (no detections), 85.4ms\n",
      "Speed: 2.5ms preprocess, 85.4ms inference, 0.7ms postprocess per image at shape (1, 3, 640, 384)\n",
      "\n"
     ]
    },
    {
     "name": "stdout",
     "output_type": "stream",
     "text": [
      "frame No: 513\n",
      "frame No: 514\n"
     ]
    },
    {
     "name": "stderr",
     "output_type": "stream",
     "text": [
      "0: 640x384 (no detections), 213.0ms\n",
      "Speed: 2.6ms preprocess, 213.0ms inference, 1.2ms postprocess per image at shape (1, 3, 640, 384)\n",
      "\n",
      "0: 640x384 (no detections), 96.9ms\n",
      "Speed: 2.9ms preprocess, 96.9ms inference, 0.9ms postprocess per image at shape (1, 3, 640, 384)\n",
      "\n",
      "0: 640x384 (no detections), 79.8ms\n",
      "Speed: 2.4ms preprocess, 79.8ms inference, 0.7ms postprocess per image at shape (1, 3, 640, 384)\n",
      "\n"
     ]
    },
    {
     "name": "stdout",
     "output_type": "stream",
     "text": [
      "frame No: 515\n",
      "frame No: 516\n",
      "frame No: 517\n"
     ]
    },
    {
     "name": "stderr",
     "output_type": "stream",
     "text": [
      "0: 640x384 (no detections), 93.2ms\n",
      "Speed: 2.9ms preprocess, 93.2ms inference, 0.7ms postprocess per image at shape (1, 3, 640, 384)\n",
      "\n",
      "0: 640x384 (no detections), 132.1ms\n",
      "Speed: 3.1ms preprocess, 132.1ms inference, 1.1ms postprocess per image at shape (1, 3, 640, 384)\n",
      "\n"
     ]
    },
    {
     "name": "stdout",
     "output_type": "stream",
     "text": [
      "frame No: 518\n",
      "frame No: 519\n"
     ]
    },
    {
     "name": "stderr",
     "output_type": "stream",
     "text": [
      "0: 640x384 (no detections), 173.6ms\n",
      "Speed: 2.6ms preprocess, 173.6ms inference, 1.0ms postprocess per image at shape (1, 3, 640, 384)\n",
      "\n",
      "0: 640x384 (no detections), 134.5ms\n",
      "Speed: 3.1ms preprocess, 134.5ms inference, 1.0ms postprocess per image at shape (1, 3, 640, 384)\n",
      "\n"
     ]
    },
    {
     "name": "stdout",
     "output_type": "stream",
     "text": [
      "frame No: 520\n",
      "frame No: 521\n"
     ]
    },
    {
     "name": "stderr",
     "output_type": "stream",
     "text": [
      "0: 640x384 (no detections), 130.9ms\n",
      "Speed: 2.6ms preprocess, 130.9ms inference, 1.1ms postprocess per image at shape (1, 3, 640, 384)\n",
      "\n",
      "0: 640x384 (no detections), 132.2ms\n",
      "Speed: 3.1ms preprocess, 132.2ms inference, 1.0ms postprocess per image at shape (1, 3, 640, 384)\n",
      "\n"
     ]
    },
    {
     "name": "stdout",
     "output_type": "stream",
     "text": [
      "frame No: 522\n",
      "frame No: 523\n"
     ]
    },
    {
     "name": "stderr",
     "output_type": "stream",
     "text": [
      "0: 640x384 (no detections), 145.3ms\n",
      "Speed: 3.2ms preprocess, 145.3ms inference, 0.8ms postprocess per image at shape (1, 3, 640, 384)\n",
      "\n",
      "0: 640x384 (no detections), 155.4ms\n",
      "Speed: 2.8ms preprocess, 155.4ms inference, 0.8ms postprocess per image at shape (1, 3, 640, 384)\n",
      "\n"
     ]
    },
    {
     "name": "stdout",
     "output_type": "stream",
     "text": [
      "frame No: 524\n",
      "frame No: 525\n"
     ]
    },
    {
     "name": "stderr",
     "output_type": "stream",
     "text": [
      "0: 640x384 (no detections), 97.5ms\n",
      "Speed: 2.1ms preprocess, 97.5ms inference, 1.1ms postprocess per image at shape (1, 3, 640, 384)\n",
      "\n",
      "0: 640x384 (no detections), 127.2ms\n",
      "Speed: 2.6ms preprocess, 127.2ms inference, 0.8ms postprocess per image at shape (1, 3, 640, 384)\n",
      "\n"
     ]
    },
    {
     "name": "stdout",
     "output_type": "stream",
     "text": [
      "frame No: 526\n",
      "frame No: 527\n"
     ]
    },
    {
     "name": "stderr",
     "output_type": "stream",
     "text": [
      "0: 640x384 (no detections), 96.2ms\n",
      "Speed: 2.1ms preprocess, 96.2ms inference, 1.1ms postprocess per image at shape (1, 3, 640, 384)\n",
      "\n",
      "0: 640x384 (no detections), 111.7ms\n",
      "Speed: 2.3ms preprocess, 111.7ms inference, 0.9ms postprocess per image at shape (1, 3, 640, 384)\n",
      "\n"
     ]
    },
    {
     "name": "stdout",
     "output_type": "stream",
     "text": [
      "frame No: 528\n",
      "frame No: 529\n"
     ]
    },
    {
     "name": "stderr",
     "output_type": "stream",
     "text": [
      "0: 640x384 (no detections), 87.3ms\n",
      "Speed: 1.9ms preprocess, 87.3ms inference, 1.1ms postprocess per image at shape (1, 3, 640, 384)\n",
      "\n",
      "0: 640x384 (no detections), 108.9ms\n",
      "Speed: 2.9ms preprocess, 108.9ms inference, 1.4ms postprocess per image at shape (1, 3, 640, 384)\n",
      "\n"
     ]
    },
    {
     "name": "stdout",
     "output_type": "stream",
     "text": [
      "frame No: 530\n",
      "frame No: 531\n"
     ]
    },
    {
     "name": "stderr",
     "output_type": "stream",
     "text": [
      "0: 640x384 (no detections), 131.7ms\n",
      "Speed: 2.8ms preprocess, 131.7ms inference, 0.9ms postprocess per image at shape (1, 3, 640, 384)\n",
      "\n",
      "0: 640x384 (no detections), 113.7ms\n",
      "Speed: 3.1ms preprocess, 113.7ms inference, 0.7ms postprocess per image at shape (1, 3, 640, 384)\n",
      "\n"
     ]
    },
    {
     "name": "stdout",
     "output_type": "stream",
     "text": [
      "frame No: 532\n",
      "frame No: 533\n"
     ]
    },
    {
     "name": "stderr",
     "output_type": "stream",
     "text": [
      "0: 640x384 (no detections), 86.1ms\n",
      "Speed: 2.4ms preprocess, 86.1ms inference, 1.0ms postprocess per image at shape (1, 3, 640, 384)\n",
      "\n",
      "0: 640x384 (no detections), 98.6ms\n",
      "Speed: 3.1ms preprocess, 98.6ms inference, 0.8ms postprocess per image at shape (1, 3, 640, 384)\n",
      "\n"
     ]
    },
    {
     "name": "stdout",
     "output_type": "stream",
     "text": [
      "frame No: 534\n",
      "frame No: 535\n"
     ]
    },
    {
     "name": "stderr",
     "output_type": "stream",
     "text": [
      "0: 640x384 (no detections), 97.9ms\n",
      "Speed: 2.1ms preprocess, 97.9ms inference, 0.6ms postprocess per image at shape (1, 3, 640, 384)\n",
      "\n",
      "0: 640x384 (no detections), 87.4ms\n",
      "Speed: 7.2ms preprocess, 87.4ms inference, 0.6ms postprocess per image at shape (1, 3, 640, 384)\n",
      "\n"
     ]
    },
    {
     "name": "stdout",
     "output_type": "stream",
     "text": [
      "frame No: 536\n",
      "frame No: 537\n"
     ]
    },
    {
     "name": "stderr",
     "output_type": "stream",
     "text": [
      "0: 640x384 (no detections), 100.8ms\n",
      "Speed: 2.4ms preprocess, 100.8ms inference, 0.6ms postprocess per image at shape (1, 3, 640, 384)\n",
      "\n",
      "0: 640x384 (no detections), 93.3ms\n",
      "Speed: 2.6ms preprocess, 93.3ms inference, 0.7ms postprocess per image at shape (1, 3, 640, 384)\n",
      "\n"
     ]
    },
    {
     "name": "stdout",
     "output_type": "stream",
     "text": [
      "frame No: 538\n",
      "frame No: 539\n"
     ]
    },
    {
     "name": "stderr",
     "output_type": "stream",
     "text": [
      "0: 640x384 (no detections), 202.1ms\n",
      "Speed: 2.2ms preprocess, 202.1ms inference, 1.0ms postprocess per image at shape (1, 3, 640, 384)\n",
      "\n",
      "0: 640x384 (no detections), 117.1ms\n",
      "Speed: 5.8ms preprocess, 117.1ms inference, 0.6ms postprocess per image at shape (1, 3, 640, 384)\n",
      "\n"
     ]
    },
    {
     "name": "stdout",
     "output_type": "stream",
     "text": [
      "frame No: 540\n",
      "frame No: 541\n"
     ]
    },
    {
     "name": "stderr",
     "output_type": "stream",
     "text": [
      "0: 640x384 (no detections), 120.0ms\n",
      "Speed: 2.8ms preprocess, 120.0ms inference, 0.9ms postprocess per image at shape (1, 3, 640, 384)\n",
      "\n",
      "0: 640x384 (no detections), 100.1ms\n",
      "Speed: 2.7ms preprocess, 100.1ms inference, 0.5ms postprocess per image at shape (1, 3, 640, 384)\n",
      "\n"
     ]
    },
    {
     "name": "stdout",
     "output_type": "stream",
     "text": [
      "frame No: 542\n",
      "frame No: 543\n"
     ]
    },
    {
     "name": "stderr",
     "output_type": "stream",
     "text": [
      "0: 640x384 1 car, 141.8ms\n",
      "Speed: 2.2ms preprocess, 141.8ms inference, 1.4ms postprocess per image at shape (1, 3, 640, 384)\n",
      "\n",
      "0: 640x384 (no detections), 145.4ms\n",
      "Speed: 2.2ms preprocess, 145.4ms inference, 0.7ms postprocess per image at shape (1, 3, 640, 384)\n",
      "\n"
     ]
    },
    {
     "name": "stdout",
     "output_type": "stream",
     "text": [
      "frame No: 544\n",
      "frame No: 545\n"
     ]
    },
    {
     "name": "stderr",
     "output_type": "stream",
     "text": [
      "0: 640x384 (no detections), 117.3ms\n",
      "Speed: 2.7ms preprocess, 117.3ms inference, 0.7ms postprocess per image at shape (1, 3, 640, 384)\n",
      "\n",
      "0: 640x384 (no detections), 119.1ms\n",
      "Speed: 2.4ms preprocess, 119.1ms inference, 0.8ms postprocess per image at shape (1, 3, 640, 384)\n",
      "\n"
     ]
    },
    {
     "name": "stdout",
     "output_type": "stream",
     "text": [
      "frame No: 546\n",
      "frame No: 547\n"
     ]
    },
    {
     "name": "stderr",
     "output_type": "stream",
     "text": [
      "0: 640x384 (no detections), 140.3ms\n",
      "Speed: 3.3ms preprocess, 140.3ms inference, 0.8ms postprocess per image at shape (1, 3, 640, 384)\n",
      "\n",
      "0: 640x384 (no detections), 138.0ms\n",
      "Speed: 3.6ms preprocess, 138.0ms inference, 1.5ms postprocess per image at shape (1, 3, 640, 384)\n",
      "\n"
     ]
    },
    {
     "name": "stdout",
     "output_type": "stream",
     "text": [
      "frame No: 548\n",
      "frame No: 549\n"
     ]
    },
    {
     "name": "stderr",
     "output_type": "stream",
     "text": [
      "0: 640x384 (no detections), 114.9ms\n",
      "Speed: 2.4ms preprocess, 114.9ms inference, 0.5ms postprocess per image at shape (1, 3, 640, 384)\n",
      "\n",
      "0: 640x384 (no detections), 133.6ms\n",
      "Speed: 2.4ms preprocess, 133.6ms inference, 0.6ms postprocess per image at shape (1, 3, 640, 384)\n",
      "\n"
     ]
    },
    {
     "name": "stdout",
     "output_type": "stream",
     "text": [
      "frame No: 550\n",
      "frame No: 551\n"
     ]
    },
    {
     "name": "stderr",
     "output_type": "stream",
     "text": [
      "0: 640x384 (no detections), 131.9ms\n",
      "Speed: 2.4ms preprocess, 131.9ms inference, 0.8ms postprocess per image at shape (1, 3, 640, 384)\n",
      "\n",
      "0: 640x384 (no detections), 177.2ms\n",
      "Speed: 3.3ms preprocess, 177.2ms inference, 1.5ms postprocess per image at shape (1, 3, 640, 384)\n",
      "\n"
     ]
    },
    {
     "name": "stdout",
     "output_type": "stream",
     "text": [
      "frame No: 552\n",
      "frame No: 553\n"
     ]
    },
    {
     "name": "stderr",
     "output_type": "stream",
     "text": [
      "0: 640x384 (no detections), 161.6ms\n",
      "Speed: 2.9ms preprocess, 161.6ms inference, 1.3ms postprocess per image at shape (1, 3, 640, 384)\n",
      "\n",
      "0: 640x384 (no detections), 142.1ms\n",
      "Speed: 3.9ms preprocess, 142.1ms inference, 0.6ms postprocess per image at shape (1, 3, 640, 384)\n",
      "\n"
     ]
    },
    {
     "name": "stdout",
     "output_type": "stream",
     "text": [
      "frame No: 554\n",
      "frame No: 555\n"
     ]
    },
    {
     "name": "stderr",
     "output_type": "stream",
     "text": [
      "0: 640x384 (no detections), 122.2ms\n",
      "Speed: 3.0ms preprocess, 122.2ms inference, 0.7ms postprocess per image at shape (1, 3, 640, 384)\n",
      "\n",
      "0: 640x384 (no detections), 140.4ms\n",
      "Speed: 2.9ms preprocess, 140.4ms inference, 1.5ms postprocess per image at shape (1, 3, 640, 384)\n",
      "\n"
     ]
    },
    {
     "name": "stdout",
     "output_type": "stream",
     "text": [
      "frame No: 556\n",
      "frame No: 557\n"
     ]
    },
    {
     "name": "stderr",
     "output_type": "stream",
     "text": [
      "0: 640x384 (no detections), 131.0ms\n",
      "Speed: 4.1ms preprocess, 131.0ms inference, 0.8ms postprocess per image at shape (1, 3, 640, 384)\n",
      "\n"
     ]
    },
    {
     "name": "stdout",
     "output_type": "stream",
     "text": [
      "frame No: 558\n"
     ]
    },
    {
     "name": "stderr",
     "output_type": "stream",
     "text": [
      "0: 640x384 (no detections), 187.3ms\n",
      "Speed: 3.0ms preprocess, 187.3ms inference, 0.8ms postprocess per image at shape (1, 3, 640, 384)\n",
      "\n",
      "0: 640x384 (no detections), 169.4ms\n",
      "Speed: 4.2ms preprocess, 169.4ms inference, 0.8ms postprocess per image at shape (1, 3, 640, 384)\n",
      "\n"
     ]
    },
    {
     "name": "stdout",
     "output_type": "stream",
     "text": [
      "frame No: 559\n",
      "frame No: 560\n"
     ]
    },
    {
     "name": "stderr",
     "output_type": "stream",
     "text": [
      "0: 640x384 (no detections), 119.4ms\n",
      "Speed: 2.4ms preprocess, 119.4ms inference, 1.0ms postprocess per image at shape (1, 3, 640, 384)\n",
      "\n",
      "0: 640x384 (no detections), 116.7ms\n",
      "Speed: 2.5ms preprocess, 116.7ms inference, 0.9ms postprocess per image at shape (1, 3, 640, 384)\n",
      "\n"
     ]
    },
    {
     "name": "stdout",
     "output_type": "stream",
     "text": [
      "frame No: 561\n",
      "frame No: 562\n"
     ]
    },
    {
     "name": "stderr",
     "output_type": "stream",
     "text": [
      "0: 640x384 (no detections), 101.9ms\n",
      "Speed: 2.3ms preprocess, 101.9ms inference, 1.8ms postprocess per image at shape (1, 3, 640, 384)\n",
      "\n",
      "0: 640x384 (no detections), 136.7ms\n",
      "Speed: 4.0ms preprocess, 136.7ms inference, 0.6ms postprocess per image at shape (1, 3, 640, 384)\n",
      "\n"
     ]
    },
    {
     "name": "stdout",
     "output_type": "stream",
     "text": [
      "frame No: 563\n",
      "frame No: 564\n"
     ]
    },
    {
     "name": "stderr",
     "output_type": "stream",
     "text": [
      "0: 640x384 (no detections), 131.8ms\n",
      "Speed: 2.3ms preprocess, 131.8ms inference, 1.0ms postprocess per image at shape (1, 3, 640, 384)\n",
      "\n",
      "0: 640x384 (no detections), 91.1ms\n",
      "Speed: 2.2ms preprocess, 91.1ms inference, 0.7ms postprocess per image at shape (1, 3, 640, 384)\n",
      "\n"
     ]
    },
    {
     "name": "stdout",
     "output_type": "stream",
     "text": [
      "frame No: 565\n",
      "frame No: 566\n"
     ]
    },
    {
     "name": "stderr",
     "output_type": "stream",
     "text": [
      "0: 640x384 (no detections), 110.4ms\n",
      "Speed: 2.4ms preprocess, 110.4ms inference, 0.8ms postprocess per image at shape (1, 3, 640, 384)\n",
      "\n",
      "0: 640x384 (no detections), 119.0ms\n",
      "Speed: 2.6ms preprocess, 119.0ms inference, 0.9ms postprocess per image at shape (1, 3, 640, 384)\n",
      "\n"
     ]
    },
    {
     "name": "stdout",
     "output_type": "stream",
     "text": [
      "frame No: 567\n",
      "frame No: 568\n"
     ]
    },
    {
     "name": "stderr",
     "output_type": "stream",
     "text": [
      "0: 640x384 (no detections), 85.8ms\n",
      "Speed: 2.1ms preprocess, 85.8ms inference, 1.1ms postprocess per image at shape (1, 3, 640, 384)\n",
      "\n",
      "0: 640x384 (no detections), 122.5ms\n",
      "Speed: 7.0ms preprocess, 122.5ms inference, 1.5ms postprocess per image at shape (1, 3, 640, 384)\n",
      "\n"
     ]
    },
    {
     "name": "stdout",
     "output_type": "stream",
     "text": [
      "frame No: 569\n",
      "frame No: 570\n"
     ]
    },
    {
     "name": "stderr",
     "output_type": "stream",
     "text": [
      "0: 640x384 1 person, 127.8ms\n",
      "Speed: 3.1ms preprocess, 127.8ms inference, 2.3ms postprocess per image at shape (1, 3, 640, 384)\n",
      "\n",
      "0: 640x384 (no detections), 137.7ms\n",
      "Speed: 2.8ms preprocess, 137.7ms inference, 1.5ms postprocess per image at shape (1, 3, 640, 384)\n",
      "\n"
     ]
    },
    {
     "name": "stdout",
     "output_type": "stream",
     "text": [
      "frame No: 571\n",
      "frame No: 572\n"
     ]
    },
    {
     "name": "stderr",
     "output_type": "stream",
     "text": [
      "0: 640x384 (no detections), 125.0ms\n",
      "Speed: 2.6ms preprocess, 125.0ms inference, 0.9ms postprocess per image at shape (1, 3, 640, 384)\n",
      "\n",
      "0: 640x384 1 person, 124.1ms\n",
      "Speed: 2.2ms preprocess, 124.1ms inference, 1.0ms postprocess per image at shape (1, 3, 640, 384)\n",
      "\n"
     ]
    },
    {
     "name": "stdout",
     "output_type": "stream",
     "text": [
      "frame No: 573\n",
      "frame No: 574\n"
     ]
    },
    {
     "name": "stderr",
     "output_type": "stream",
     "text": [
      "0: 640x384 1 person, 128.9ms\n",
      "Speed: 2.2ms preprocess, 128.9ms inference, 1.1ms postprocess per image at shape (1, 3, 640, 384)\n",
      "\n",
      "0: 640x384 1 person, 103.1ms\n",
      "Speed: 2.5ms preprocess, 103.1ms inference, 0.9ms postprocess per image at shape (1, 3, 640, 384)\n",
      "\n"
     ]
    },
    {
     "name": "stdout",
     "output_type": "stream",
     "text": [
      "frame No: 575\n",
      "frame No: 576\n"
     ]
    },
    {
     "name": "stderr",
     "output_type": "stream",
     "text": [
      "0: 640x384 1 person, 86.5ms\n",
      "Speed: 2.2ms preprocess, 86.5ms inference, 1.3ms postprocess per image at shape (1, 3, 640, 384)\n",
      "\n",
      "0: 640x384 (no detections), 97.3ms\n",
      "Speed: 2.1ms preprocess, 97.3ms inference, 0.7ms postprocess per image at shape (1, 3, 640, 384)\n",
      "\n",
      "0: 640x384 (no detections), 82.0ms\n",
      "Speed: 2.3ms preprocess, 82.0ms inference, 0.8ms postprocess per image at shape (1, 3, 640, 384)\n",
      "\n"
     ]
    },
    {
     "name": "stdout",
     "output_type": "stream",
     "text": [
      "frame No: 577\n",
      "frame No: 578\n",
      "frame No: 579\n"
     ]
    },
    {
     "name": "stderr",
     "output_type": "stream",
     "text": [
      "0: 640x384 1 car, 105.1ms\n",
      "Speed: 2.7ms preprocess, 105.1ms inference, 0.8ms postprocess per image at shape (1, 3, 640, 384)\n",
      "\n",
      "0: 640x384 (no detections), 92.4ms\n",
      "Speed: 2.2ms preprocess, 92.4ms inference, 0.7ms postprocess per image at shape (1, 3, 640, 384)\n",
      "\n",
      "0: 640x384 (no detections), 85.0ms\n",
      "Speed: 2.2ms preprocess, 85.0ms inference, 0.7ms postprocess per image at shape (1, 3, 640, 384)\n",
      "\n"
     ]
    },
    {
     "name": "stdout",
     "output_type": "stream",
     "text": [
      "frame No: 580\n",
      "frame No: 581\n",
      "frame No: 582\n"
     ]
    },
    {
     "name": "stderr",
     "output_type": "stream",
     "text": [
      "0: 640x384 (no detections), 102.7ms\n",
      "Speed: 2.5ms preprocess, 102.7ms inference, 1.0ms postprocess per image at shape (1, 3, 640, 384)\n",
      "\n"
     ]
    },
    {
     "name": "stdout",
     "output_type": "stream",
     "text": [
      "frame No: 583\n"
     ]
    },
    {
     "name": "stderr",
     "output_type": "stream",
     "text": [
      "0: 640x384 (no detections), 244.9ms\n",
      "Speed: 2.8ms preprocess, 244.9ms inference, 1.2ms postprocess per image at shape (1, 3, 640, 384)\n",
      "\n",
      "0: 640x384 (no detections), 115.2ms\n",
      "Speed: 2.9ms preprocess, 115.2ms inference, 0.8ms postprocess per image at shape (1, 3, 640, 384)\n",
      "\n"
     ]
    },
    {
     "name": "stdout",
     "output_type": "stream",
     "text": [
      "frame No: 584\n",
      "frame No: 585\n"
     ]
    },
    {
     "name": "stderr",
     "output_type": "stream",
     "text": [
      "0: 640x384 (no detections), 126.9ms\n",
      "Speed: 2.1ms preprocess, 126.9ms inference, 1.0ms postprocess per image at shape (1, 3, 640, 384)\n",
      "\n",
      "0: 640x384 (no detections), 129.1ms\n",
      "Speed: 2.7ms preprocess, 129.1ms inference, 0.9ms postprocess per image at shape (1, 3, 640, 384)\n",
      "\n"
     ]
    },
    {
     "name": "stdout",
     "output_type": "stream",
     "text": [
      "frame No: 586\n",
      "frame No: 587\n"
     ]
    },
    {
     "name": "stderr",
     "output_type": "stream",
     "text": [
      "0: 640x384 (no detections), 122.7ms\n",
      "Speed: 2.7ms preprocess, 122.7ms inference, 0.9ms postprocess per image at shape (1, 3, 640, 384)\n",
      "\n",
      "0: 640x384 (no detections), 98.5ms\n",
      "Speed: 2.4ms preprocess, 98.5ms inference, 0.7ms postprocess per image at shape (1, 3, 640, 384)\n",
      "\n"
     ]
    },
    {
     "name": "stdout",
     "output_type": "stream",
     "text": [
      "frame No: 588\n",
      "frame No: 589\n"
     ]
    },
    {
     "name": "stderr",
     "output_type": "stream",
     "text": [
      "0: 640x384 (no detections), 118.5ms\n",
      "Speed: 3.0ms preprocess, 118.5ms inference, 1.0ms postprocess per image at shape (1, 3, 640, 384)\n",
      "\n",
      "0: 640x384 (no detections), 144.4ms\n",
      "Speed: 3.2ms preprocess, 144.4ms inference, 1.2ms postprocess per image at shape (1, 3, 640, 384)\n",
      "\n"
     ]
    },
    {
     "name": "stdout",
     "output_type": "stream",
     "text": [
      "frame No: 590\n",
      "frame No: 591\n"
     ]
    },
    {
     "name": "stderr",
     "output_type": "stream",
     "text": [
      "0: 640x384 (no detections), 127.0ms\n",
      "Speed: 5.5ms preprocess, 127.0ms inference, 1.0ms postprocess per image at shape (1, 3, 640, 384)\n",
      "\n",
      "0: 640x384 (no detections), 133.3ms\n",
      "Speed: 2.7ms preprocess, 133.3ms inference, 0.9ms postprocess per image at shape (1, 3, 640, 384)\n",
      "\n"
     ]
    },
    {
     "name": "stdout",
     "output_type": "stream",
     "text": [
      "frame No: 592\n",
      "frame No: 593\n"
     ]
    },
    {
     "name": "stderr",
     "output_type": "stream",
     "text": [
      "0: 640x384 (no detections), 104.0ms\n",
      "Speed: 3.0ms preprocess, 104.0ms inference, 1.0ms postprocess per image at shape (1, 3, 640, 384)\n",
      "\n",
      "0: 640x384 (no detections), 96.9ms\n",
      "Speed: 2.5ms preprocess, 96.9ms inference, 0.7ms postprocess per image at shape (1, 3, 640, 384)\n",
      "\n",
      "0: 640x384 (no detections), 79.4ms\n",
      "Speed: 2.2ms preprocess, 79.4ms inference, 0.7ms postprocess per image at shape (1, 3, 640, 384)\n",
      "\n"
     ]
    },
    {
     "name": "stdout",
     "output_type": "stream",
     "text": [
      "frame No: 594\n",
      "frame No: 595\n",
      "frame No: 596\n"
     ]
    },
    {
     "name": "stderr",
     "output_type": "stream",
     "text": [
      "0: 640x384 (no detections), 88.2ms\n",
      "Speed: 2.2ms preprocess, 88.2ms inference, 0.7ms postprocess per image at shape (1, 3, 640, 384)\n",
      "\n",
      "0: 640x384 (no detections), 90.0ms\n",
      "Speed: 2.2ms preprocess, 90.0ms inference, 0.7ms postprocess per image at shape (1, 3, 640, 384)\n",
      "\n",
      "0: 640x384 (no detections), 79.6ms\n",
      "Speed: 2.6ms preprocess, 79.6ms inference, 1.1ms postprocess per image at shape (1, 3, 640, 384)\n",
      "\n"
     ]
    },
    {
     "name": "stdout",
     "output_type": "stream",
     "text": [
      "frame No: 597\n",
      "frame No: 598\n",
      "frame No: 599\n"
     ]
    },
    {
     "name": "stderr",
     "output_type": "stream",
     "text": [
      "0: 640x384 (no detections), 88.2ms\n",
      "Speed: 2.5ms preprocess, 88.2ms inference, 0.9ms postprocess per image at shape (1, 3, 640, 384)\n"
     ]
    },
    {
     "name": "stdout",
     "output_type": "stream",
     "text": [
      "frame No: 600\n"
     ]
    }
   ],
   "source": [
    "# | hide\n",
    "# | eval: false\n",
    "\n",
    "# img = cv2.imread(filename=\"/media/ali/A4D00431D0040BEC/ALI/Ali/dreamai_pocs/JBT/SAM/sample_1.jpg\")\n",
    "# img = cv2.cvtColor(img, cv2.COLOR_BGR2RGB)\n",
    "# # plt.imshow(img)\n",
    "# model = load_obj_model()\n",
    "# objs = detect_objects(model=model, image=img, return_only_boxes=False, names=[\"person\"])\n",
    "# # print(objs[0].xyxy[0])\n",
    "# obstacles, res_img = detect_obstacles(img=img, target_box=objs[0].xyxy[0], factor=0.1)\n",
    "# print(obstacles)\n",
    "# plt.imshow(res_img)\n",
    "\n",
    "\n",
    "# video_path = \"/media/ali/A4D00431D0040BEC/ALI/Ali/dreamai_pocs/JBT/SAM/example_obs_det.mp4\"\n",
    "# target_box = [2000, 1600, 2250, 1700]\n",
    "# video_path = \"/media/ali/A4D00431D0040BEC/ALI/Ali/dreamai_pocs/JBT/SAM/camera-104-2023-07-05_15-36-29.ts\"\n",
    "# target_box = [300, 20, 520, 320]\n",
    "# video_path = \"/media/ali/A4D00431D0040BEC/ALI/Ali/dreamai_pocs/JBT/SAM/jbt_videos/camera-163-2023-07-05_22-12-55.ts\"\n",
    "# target_box = [250, 0, 448,  800]\n",
    "# (800, 448, 3)\n",
    "# video_path = \"/media/ali/A4D00431D0040BEC/ALI/Ali/dreamai_pocs/JBT/SAM/jbt_videos/camera-159-2023-07-05_23-29-46.ts\"\n",
    "# target_box = [250, 0, 448, 800]\n",
    "\n",
    "# video_path = \"/media/ali/A4D00431D0040BEC/ALI/Ali/dreamai_pocs/JBT/SAM/jbt_videos/camera-107-2023-07-14_01-50-52.ts\"\n",
    "# target_box = [250, 0, 448, 800]\n",
    "# video_path = \"/media/ali/A4D00431D0040BEC/ALI/Ali/dreamai_pocs/JBT/SAM/jbt_videos/camera-107-2023-07-05_22-35-27.ts\"\n",
    "# target_box = [250, 0, 448, 800]\n",
    "\n",
    "video_path = \"/media/ali/A4D00431D0040BEC/ALI/Ali/dreamai_pocs/JBT/SAM/camera-102-2023-07-07_00-11-27.ts\"\n",
    "target_box = [200, 100, 400, 370]\n",
    "# video_path = \"/media/ali/A4D00431D0040BEC/ALI/Ali/dreamai_pocs/JBT/SAM/jbt_videos/camera-32-2023-07-12_11-35-06.ts\"\n",
    "# target_box = [0, 200, 512, 384]\n",
    "# (384, 512, 3)\n",
    "\n",
    "# cap = cv2.VideoCapture(video_path)\n",
    "# ret, frame1 = cap.read()\n",
    "# if not ret:\n",
    "#     print(\"ERROR! In Reading the video file..\")\n",
    "# res_img = cv2.rectangle(frame1.copy(), (int(target_box[0]), int(target_box[1])), (int(target_box[2]), int(target_box[3])), (255,0,0), 2)\n",
    "# plt.imshow(res_img)\n",
    "\n",
    "frames, fps, obstacle_list = obstacle_avoidance(video_path=video_path, target_box=target_box, factor=0.01, conf=0.10, imgsz=960, iou=0.5)\n",
    "generate_video(video_path=\"example_det_obs_8_1.mp4\", frames=frames, fps=fps)"
   ]
  },
  {
   "cell_type": "code",
   "execution_count": null,
   "metadata": {},
   "outputs": [
    {
     "name": "stderr",
     "output_type": "stream",
     "text": [
      "\n",
      "0: 960x544 (no detections), 1602.5ms\n",
      "Speed: 4.9ms preprocess, 1602.5ms inference, 0.9ms postprocess per image at shape (1, 3, 960, 544)\n",
      "\n"
     ]
    },
    {
     "name": "stdout",
     "output_type": "stream",
     "text": [
      "frame No: 1\n"
     ]
    },
    {
     "name": "stderr",
     "output_type": "stream",
     "text": [
      "0: 960x544 (no detections), 254.7ms\n",
      "Speed: 6.1ms preprocess, 254.7ms inference, 0.9ms postprocess per image at shape (1, 3, 960, 544)\n",
      "\n"
     ]
    },
    {
     "name": "stdout",
     "output_type": "stream",
     "text": [
      "frame No: 2\n"
     ]
    },
    {
     "name": "stderr",
     "output_type": "stream",
     "text": [
      "0: 960x544 (no detections), 194.4ms\n",
      "Speed: 7.0ms preprocess, 194.4ms inference, 0.9ms postprocess per image at shape (1, 3, 960, 544)\n",
      "\n"
     ]
    },
    {
     "name": "stdout",
     "output_type": "stream",
     "text": [
      "frame No: 3\n"
     ]
    },
    {
     "name": "stderr",
     "output_type": "stream",
     "text": [
      "0: 960x544 (no detections), 199.0ms\n",
      "Speed: 4.9ms preprocess, 199.0ms inference, 0.9ms postprocess per image at shape (1, 3, 960, 544)\n",
      "\n"
     ]
    },
    {
     "name": "stdout",
     "output_type": "stream",
     "text": [
      "frame No: 4\n"
     ]
    },
    {
     "name": "stderr",
     "output_type": "stream",
     "text": [
      "0: 960x544 (no detections), 206.2ms\n",
      "Speed: 6.0ms preprocess, 206.2ms inference, 1.4ms postprocess per image at shape (1, 3, 960, 544)\n",
      "\n",
      "0: 960x544 (no detections), 187.4ms\n",
      "Speed: 6.2ms preprocess, 187.4ms inference, 0.9ms postprocess per image at shape (1, 3, 960, 544)\n",
      "\n"
     ]
    },
    {
     "name": "stdout",
     "output_type": "stream",
     "text": [
      "frame No: 5\n",
      "frame No: 6\n"
     ]
    },
    {
     "name": "stderr",
     "output_type": "stream",
     "text": [
      "0: 960x544 (no detections), 194.4ms\n",
      "Speed: 5.2ms preprocess, 194.4ms inference, 0.9ms postprocess per image at shape (1, 3, 960, 544)\n",
      "\n"
     ]
    },
    {
     "name": "stdout",
     "output_type": "stream",
     "text": [
      "frame No: 7\n"
     ]
    },
    {
     "name": "stderr",
     "output_type": "stream",
     "text": [
      "0: 960x544 (no detections), 225.7ms\n",
      "Speed: 4.3ms preprocess, 225.7ms inference, 1.5ms postprocess per image at shape (1, 3, 960, 544)\n",
      "\n"
     ]
    },
    {
     "name": "stdout",
     "output_type": "stream",
     "text": [
      "frame No: 8\n"
     ]
    },
    {
     "name": "stderr",
     "output_type": "stream",
     "text": [
      "0: 960x544 (no detections), 207.1ms\n",
      "Speed: 6.3ms preprocess, 207.1ms inference, 1.5ms postprocess per image at shape (1, 3, 960, 544)\n",
      "\n",
      "0: 960x544 (no detections), 182.4ms\n",
      "Speed: 6.5ms preprocess, 182.4ms inference, 0.9ms postprocess per image at shape (1, 3, 960, 544)\n",
      "\n"
     ]
    },
    {
     "name": "stdout",
     "output_type": "stream",
     "text": [
      "frame No: 9\n",
      "frame No: 10\n"
     ]
    },
    {
     "name": "stderr",
     "output_type": "stream",
     "text": [
      "0: 960x544 (no detections), 189.1ms\n",
      "Speed: 5.0ms preprocess, 189.1ms inference, 1.2ms postprocess per image at shape (1, 3, 960, 544)\n",
      "\n",
      "0: 960x544 (no detections), 178.5ms\n",
      "Speed: 4.2ms preprocess, 178.5ms inference, 0.9ms postprocess per image at shape (1, 3, 960, 544)\n",
      "\n"
     ]
    },
    {
     "name": "stdout",
     "output_type": "stream",
     "text": [
      "frame No: 11\n",
      "frame No: 12\n"
     ]
    },
    {
     "name": "stderr",
     "output_type": "stream",
     "text": [
      "0: 960x544 (no detections), 309.9ms\n",
      "Speed: 4.6ms preprocess, 309.9ms inference, 1.5ms postprocess per image at shape (1, 3, 960, 544)\n",
      "\n",
      "0: 960x544 (no detections), 184.1ms\n",
      "Speed: 10.3ms preprocess, 184.1ms inference, 0.9ms postprocess per image at shape (1, 3, 960, 544)\n"
     ]
    },
    {
     "name": "stdout",
     "output_type": "stream",
     "text": [
      "frame No: 13\n",
      "frame No: 14\n"
     ]
    },
    {
     "name": "stderr",
     "output_type": "stream",
     "text": [
      "\n",
      "0: 960x544 (no detections), 171.5ms\n",
      "Speed: 4.5ms preprocess, 171.5ms inference, 1.1ms postprocess per image at shape (1, 3, 960, 544)\n",
      "\n"
     ]
    },
    {
     "name": "stdout",
     "output_type": "stream",
     "text": [
      "frame No: 15\n"
     ]
    },
    {
     "name": "stderr",
     "output_type": "stream",
     "text": [
      "0: 960x544 (no detections), 254.1ms\n",
      "Speed: 4.3ms preprocess, 254.1ms inference, 4.0ms postprocess per image at shape (1, 3, 960, 544)\n",
      "\n",
      "0: 960x544 (no detections), 184.0ms\n",
      "Speed: 5.0ms preprocess, 184.0ms inference, 1.5ms postprocess per image at shape (1, 3, 960, 544)\n",
      "\n"
     ]
    },
    {
     "name": "stdout",
     "output_type": "stream",
     "text": [
      "frame No: 16\n",
      "frame No: 17\n"
     ]
    },
    {
     "name": "stderr",
     "output_type": "stream",
     "text": [
      "0: 960x544 (no detections), 187.2ms\n",
      "Speed: 4.4ms preprocess, 187.2ms inference, 0.9ms postprocess per image at shape (1, 3, 960, 544)\n",
      "\n"
     ]
    },
    {
     "name": "stdout",
     "output_type": "stream",
     "text": [
      "frame No: 18\n"
     ]
    },
    {
     "name": "stderr",
     "output_type": "stream",
     "text": [
      "0: 960x544 (no detections), 228.7ms\n",
      "Speed: 4.9ms preprocess, 228.7ms inference, 1.4ms postprocess per image at shape (1, 3, 960, 544)\n",
      "\n"
     ]
    },
    {
     "name": "stdout",
     "output_type": "stream",
     "text": [
      "frame No: 19\n"
     ]
    },
    {
     "name": "stderr",
     "output_type": "stream",
     "text": [
      "0: 960x544 (no detections), 218.3ms\n",
      "Speed: 5.7ms preprocess, 218.3ms inference, 2.1ms postprocess per image at shape (1, 3, 960, 544)\n",
      "\n"
     ]
    },
    {
     "name": "stdout",
     "output_type": "stream",
     "text": [
      "frame No: 20\n"
     ]
    },
    {
     "name": "stderr",
     "output_type": "stream",
     "text": [
      "0: 960x544 (no detections), 197.8ms\n",
      "Speed: 6.6ms preprocess, 197.8ms inference, 1.1ms postprocess per image at shape (1, 3, 960, 544)\n",
      "\n"
     ]
    },
    {
     "name": "stdout",
     "output_type": "stream",
     "text": [
      "frame No: 21\n"
     ]
    },
    {
     "name": "stderr",
     "output_type": "stream",
     "text": [
      "0: 960x544 (no detections), 254.0ms\n",
      "Speed: 6.5ms preprocess, 254.0ms inference, 1.4ms postprocess per image at shape (1, 3, 960, 544)\n",
      "\n"
     ]
    },
    {
     "name": "stdout",
     "output_type": "stream",
     "text": [
      "frame No: 22\n"
     ]
    },
    {
     "name": "stderr",
     "output_type": "stream",
     "text": [
      "0: 960x544 (no detections), 236.0ms\n",
      "Speed: 11.3ms preprocess, 236.0ms inference, 1.5ms postprocess per image at shape (1, 3, 960, 544)\n",
      "\n"
     ]
    },
    {
     "name": "stdout",
     "output_type": "stream",
     "text": [
      "frame No: 23\n"
     ]
    },
    {
     "name": "stderr",
     "output_type": "stream",
     "text": [
      "0: 960x544 (no detections), 192.1ms\n",
      "Speed: 11.4ms preprocess, 192.1ms inference, 1.0ms postprocess per image at shape (1, 3, 960, 544)\n",
      "\n"
     ]
    },
    {
     "name": "stdout",
     "output_type": "stream",
     "text": [
      "frame No: 24\n"
     ]
    },
    {
     "name": "stderr",
     "output_type": "stream",
     "text": [
      "0: 960x544 (no detections), 253.9ms\n",
      "Speed: 8.8ms preprocess, 253.9ms inference, 1.5ms postprocess per image at shape (1, 3, 960, 544)\n",
      "\n"
     ]
    },
    {
     "name": "stdout",
     "output_type": "stream",
     "text": [
      "frame No: 25\n"
     ]
    },
    {
     "name": "stderr",
     "output_type": "stream",
     "text": [
      "0: 960x544 (no detections), 272.3ms\n",
      "Speed: 7.0ms preprocess, 272.3ms inference, 1.5ms postprocess per image at shape (1, 3, 960, 544)\n",
      "\n"
     ]
    },
    {
     "name": "stdout",
     "output_type": "stream",
     "text": [
      "frame No: 26\n"
     ]
    },
    {
     "name": "stderr",
     "output_type": "stream",
     "text": [
      "0: 960x544 (no detections), 237.3ms\n",
      "Speed: 6.7ms preprocess, 237.3ms inference, 1.4ms postprocess per image at shape (1, 3, 960, 544)\n",
      "\n"
     ]
    },
    {
     "name": "stdout",
     "output_type": "stream",
     "text": [
      "frame No: 27\n"
     ]
    },
    {
     "name": "stderr",
     "output_type": "stream",
     "text": [
      "0: 960x544 (no detections), 226.9ms\n",
      "Speed: 6.5ms preprocess, 226.9ms inference, 1.6ms postprocess per image at shape (1, 3, 960, 544)\n",
      "\n"
     ]
    },
    {
     "name": "stdout",
     "output_type": "stream",
     "text": [
      "frame No: 28\n"
     ]
    },
    {
     "name": "stderr",
     "output_type": "stream",
     "text": [
      "0: 960x544 (no detections), 351.2ms\n",
      "Speed: 18.2ms preprocess, 351.2ms inference, 1.6ms postprocess per image at shape (1, 3, 960, 544)\n",
      "\n"
     ]
    },
    {
     "name": "stdout",
     "output_type": "stream",
     "text": [
      "frame No: 29\n"
     ]
    },
    {
     "name": "stderr",
     "output_type": "stream",
     "text": [
      "0: 960x544 (no detections), 258.8ms\n",
      "Speed: 8.6ms preprocess, 258.8ms inference, 0.9ms postprocess per image at shape (1, 3, 960, 544)\n",
      "\n",
      "0: 960x544 (no detections), 159.3ms\n",
      "Speed: 4.8ms preprocess, 159.3ms inference, 1.0ms postprocess per image at shape (1, 3, 960, 544)\n",
      "\n"
     ]
    },
    {
     "name": "stdout",
     "output_type": "stream",
     "text": [
      "frame No: 30\n",
      "frame No: 31\n"
     ]
    },
    {
     "name": "stderr",
     "output_type": "stream",
     "text": [
      "0: 960x544 (no detections), 245.8ms\n",
      "Speed: 5.6ms preprocess, 245.8ms inference, 1.4ms postprocess per image at shape (1, 3, 960, 544)\n",
      "\n"
     ]
    },
    {
     "name": "stdout",
     "output_type": "stream",
     "text": [
      "frame No: 32\n"
     ]
    },
    {
     "name": "stderr",
     "output_type": "stream",
     "text": [
      "0: 960x544 (no detections), 255.2ms\n",
      "Speed: 6.5ms preprocess, 255.2ms inference, 1.4ms postprocess per image at shape (1, 3, 960, 544)\n",
      "\n"
     ]
    },
    {
     "name": "stdout",
     "output_type": "stream",
     "text": [
      "frame No: 33\n"
     ]
    },
    {
     "name": "stderr",
     "output_type": "stream",
     "text": [
      "0: 960x544 (no detections), 243.5ms\n",
      "Speed: 6.4ms preprocess, 243.5ms inference, 0.9ms postprocess per image at shape (1, 3, 960, 544)\n",
      "\n",
      "0: 960x544 (no detections), 176.1ms\n",
      "Speed: 4.3ms preprocess, 176.1ms inference, 1.6ms postprocess per image at shape (1, 3, 960, 544)\n",
      "\n"
     ]
    },
    {
     "name": "stdout",
     "output_type": "stream",
     "text": [
      "frame No: 34\n",
      "frame No: 35\n"
     ]
    },
    {
     "name": "stderr",
     "output_type": "stream",
     "text": [
      "0: 960x544 (no detections), 256.6ms\n",
      "Speed: 5.8ms preprocess, 256.6ms inference, 1.6ms postprocess per image at shape (1, 3, 960, 544)\n",
      "\n"
     ]
    },
    {
     "name": "stdout",
     "output_type": "stream",
     "text": [
      "frame No: 36\n"
     ]
    },
    {
     "name": "stderr",
     "output_type": "stream",
     "text": [
      "0: 960x544 (no detections), 226.9ms\n",
      "Speed: 5.3ms preprocess, 226.9ms inference, 1.4ms postprocess per image at shape (1, 3, 960, 544)\n",
      "\n"
     ]
    },
    {
     "name": "stdout",
     "output_type": "stream",
     "text": [
      "frame No: 37\n"
     ]
    },
    {
     "name": "stderr",
     "output_type": "stream",
     "text": [
      "0: 960x544 (no detections), 217.5ms\n",
      "Speed: 5.0ms preprocess, 217.5ms inference, 1.8ms postprocess per image at shape (1, 3, 960, 544)\n",
      "\n"
     ]
    },
    {
     "name": "stdout",
     "output_type": "stream",
     "text": [
      "frame No: 38\n"
     ]
    },
    {
     "name": "stderr",
     "output_type": "stream",
     "text": [
      "0: 960x544 (no detections), 224.2ms\n",
      "Speed: 5.2ms preprocess, 224.2ms inference, 1.5ms postprocess per image at shape (1, 3, 960, 544)\n",
      "\n"
     ]
    },
    {
     "name": "stdout",
     "output_type": "stream",
     "text": [
      "frame No: 39\n"
     ]
    },
    {
     "name": "stderr",
     "output_type": "stream",
     "text": [
      "0: 960x544 (no detections), 200.3ms\n",
      "Speed: 5.0ms preprocess, 200.3ms inference, 0.9ms postprocess per image at shape (1, 3, 960, 544)\n",
      "\n",
      "0: 960x544 (no detections), 169.1ms\n",
      "Speed: 6.0ms preprocess, 169.1ms inference, 1.0ms postprocess per image at shape (1, 3, 960, 544)\n",
      "\n"
     ]
    },
    {
     "name": "stdout",
     "output_type": "stream",
     "text": [
      "frame No: 40\n",
      "frame No: 41\n"
     ]
    },
    {
     "name": "stderr",
     "output_type": "stream",
     "text": [
      "0: 960x544 (no detections), 249.8ms\n",
      "Speed: 6.3ms preprocess, 249.8ms inference, 1.4ms postprocess per image at shape (1, 3, 960, 544)\n",
      "\n"
     ]
    },
    {
     "name": "stdout",
     "output_type": "stream",
     "text": [
      "frame No: 42\n"
     ]
    },
    {
     "name": "stderr",
     "output_type": "stream",
     "text": [
      "0: 960x544 (no detections), 209.4ms\n",
      "Speed: 5.2ms preprocess, 209.4ms inference, 2.0ms postprocess per image at shape (1, 3, 960, 544)\n",
      "\n"
     ]
    },
    {
     "name": "stdout",
     "output_type": "stream",
     "text": [
      "frame No: 43\n"
     ]
    },
    {
     "name": "stderr",
     "output_type": "stream",
     "text": [
      "0: 960x544 (no detections), 225.8ms\n",
      "Speed: 8.0ms preprocess, 225.8ms inference, 1.2ms postprocess per image at shape (1, 3, 960, 544)\n",
      "\n"
     ]
    },
    {
     "name": "stdout",
     "output_type": "stream",
     "text": [
      "frame No: 44\n"
     ]
    },
    {
     "name": "stderr",
     "output_type": "stream",
     "text": [
      "0: 960x544 (no detections), 203.3ms\n",
      "Speed: 5.3ms preprocess, 203.3ms inference, 1.1ms postprocess per image at shape (1, 3, 960, 544)\n",
      "\n",
      "0: 960x544 (no detections), 159.8ms\n",
      "Speed: 4.8ms preprocess, 159.8ms inference, 1.7ms postprocess per image at shape (1, 3, 960, 544)\n",
      "\n"
     ]
    },
    {
     "name": "stdout",
     "output_type": "stream",
     "text": [
      "frame No: 45\n",
      "frame No: 46\n"
     ]
    },
    {
     "name": "stderr",
     "output_type": "stream",
     "text": [
      "0: 960x544 (no detections), 196.1ms\n",
      "Speed: 5.4ms preprocess, 196.1ms inference, 0.9ms postprocess per image at shape (1, 3, 960, 544)\n",
      "\n",
      "0: 960x544 (no detections), 176.1ms\n",
      "Speed: 6.8ms preprocess, 176.1ms inference, 1.1ms postprocess per image at shape (1, 3, 960, 544)\n",
      "\n"
     ]
    },
    {
     "name": "stdout",
     "output_type": "stream",
     "text": [
      "frame No: 47\n",
      "frame No: 48\n"
     ]
    },
    {
     "name": "stderr",
     "output_type": "stream",
     "text": [
      "0: 960x544 (no detections), 187.0ms\n",
      "Speed: 5.5ms preprocess, 187.0ms inference, 1.1ms postprocess per image at shape (1, 3, 960, 544)\n",
      "\n",
      "0: 960x544 (no detections), 180.7ms\n",
      "Speed: 5.0ms preprocess, 180.7ms inference, 1.2ms postprocess per image at shape (1, 3, 960, 544)\n",
      "\n"
     ]
    },
    {
     "name": "stdout",
     "output_type": "stream",
     "text": [
      "frame No: 49\n",
      "frame No: 50\n"
     ]
    },
    {
     "name": "stderr",
     "output_type": "stream",
     "text": [
      "0: 960x544 (no detections), 160.4ms\n",
      "Speed: 5.8ms preprocess, 160.4ms inference, 0.9ms postprocess per image at shape (1, 3, 960, 544)\n",
      "\n",
      "0: 960x544 (no detections), 149.3ms\n",
      "Speed: 4.9ms preprocess, 149.3ms inference, 1.4ms postprocess per image at shape (1, 3, 960, 544)\n",
      "\n"
     ]
    },
    {
     "name": "stdout",
     "output_type": "stream",
     "text": [
      "frame No: 51\n",
      "frame No: 52\n"
     ]
    },
    {
     "name": "stderr",
     "output_type": "stream",
     "text": [
      "0: 960x544 (no detections), 164.2ms\n",
      "Speed: 4.6ms preprocess, 164.2ms inference, 1.1ms postprocess per image at shape (1, 3, 960, 544)\n",
      "\n"
     ]
    },
    {
     "name": "stdout",
     "output_type": "stream",
     "text": [
      "frame No: 53\n"
     ]
    },
    {
     "name": "stderr",
     "output_type": "stream",
     "text": [
      "0: 960x544 (no detections), 302.8ms\n",
      "Speed: 7.1ms preprocess, 302.8ms inference, 1.4ms postprocess per image at shape (1, 3, 960, 544)\n",
      "\n"
     ]
    },
    {
     "name": "stdout",
     "output_type": "stream",
     "text": [
      "frame No: 54\n"
     ]
    },
    {
     "name": "stderr",
     "output_type": "stream",
     "text": [
      "0: 960x544 (no detections), 250.0ms\n",
      "Speed: 9.3ms preprocess, 250.0ms inference, 1.6ms postprocess per image at shape (1, 3, 960, 544)\n",
      "\n"
     ]
    },
    {
     "name": "stdout",
     "output_type": "stream",
     "text": [
      "frame No: 55\n"
     ]
    },
    {
     "name": "stderr",
     "output_type": "stream",
     "text": [
      "0: 960x544 (no detections), 206.0ms\n",
      "Speed: 4.3ms preprocess, 206.0ms inference, 1.2ms postprocess per image at shape (1, 3, 960, 544)\n",
      "\n",
      "0: 960x544 (no detections), 184.4ms\n",
      "Speed: 6.9ms preprocess, 184.4ms inference, 2.2ms postprocess per image at shape (1, 3, 960, 544)\n"
     ]
    },
    {
     "name": "stdout",
     "output_type": "stream",
     "text": [
      "frame No: 56\n",
      "frame No: 57\n"
     ]
    },
    {
     "name": "stderr",
     "output_type": "stream",
     "text": [
      "\n",
      "0: 960x544 (no detections), 191.1ms\n",
      "Speed: 5.1ms preprocess, 191.1ms inference, 0.9ms postprocess per image at shape (1, 3, 960, 544)\n",
      "\n",
      "0: 960x544 (no detections), 173.7ms\n",
      "Speed: 4.5ms preprocess, 173.7ms inference, 1.0ms postprocess per image at shape (1, 3, 960, 544)\n",
      "\n"
     ]
    },
    {
     "name": "stdout",
     "output_type": "stream",
     "text": [
      "frame No: 58\n",
      "frame No: 59\n"
     ]
    },
    {
     "name": "stderr",
     "output_type": "stream",
     "text": [
      "0: 960x544 (no detections), 162.9ms\n",
      "Speed: 6.3ms preprocess, 162.9ms inference, 1.3ms postprocess per image at shape (1, 3, 960, 544)\n",
      "\n",
      "0: 960x544 (no detections), 150.5ms\n",
      "Speed: 4.5ms preprocess, 150.5ms inference, 1.0ms postprocess per image at shape (1, 3, 960, 544)\n",
      "\n"
     ]
    },
    {
     "name": "stdout",
     "output_type": "stream",
     "text": [
      "frame No: 60\n",
      "frame No: 61\n"
     ]
    },
    {
     "name": "stderr",
     "output_type": "stream",
     "text": [
      "0: 960x544 (no detections), 249.4ms\n",
      "Speed: 4.8ms preprocess, 249.4ms inference, 4.8ms postprocess per image at shape (1, 3, 960, 544)\n",
      "\n"
     ]
    },
    {
     "name": "stdout",
     "output_type": "stream",
     "text": [
      "frame No: 62\n"
     ]
    },
    {
     "name": "stderr",
     "output_type": "stream",
     "text": [
      "0: 960x544 (no detections), 202.6ms\n",
      "Speed: 8.2ms preprocess, 202.6ms inference, 1.4ms postprocess per image at shape (1, 3, 960, 544)\n",
      "\n"
     ]
    },
    {
     "name": "stdout",
     "output_type": "stream",
     "text": [
      "frame No: 63\n"
     ]
    },
    {
     "name": "stderr",
     "output_type": "stream",
     "text": [
      "0: 960x544 (no detections), 196.8ms\n",
      "Speed: 7.8ms preprocess, 196.8ms inference, 2.8ms postprocess per image at shape (1, 3, 960, 544)\n",
      "\n"
     ]
    },
    {
     "name": "stdout",
     "output_type": "stream",
     "text": [
      "frame No: 64\n"
     ]
    },
    {
     "name": "stderr",
     "output_type": "stream",
     "text": [
      "0: 960x544 (no detections), 262.8ms\n",
      "Speed: 7.5ms preprocess, 262.8ms inference, 2.6ms postprocess per image at shape (1, 3, 960, 544)\n",
      "\n"
     ]
    },
    {
     "name": "stdout",
     "output_type": "stream",
     "text": [
      "frame No: 65\n"
     ]
    },
    {
     "name": "stderr",
     "output_type": "stream",
     "text": [
      "0: 960x544 (no detections), 266.1ms\n",
      "Speed: 5.7ms preprocess, 266.1ms inference, 1.6ms postprocess per image at shape (1, 3, 960, 544)\n",
      "\n"
     ]
    },
    {
     "name": "stdout",
     "output_type": "stream",
     "text": [
      "frame No: 66\n"
     ]
    },
    {
     "name": "stderr",
     "output_type": "stream",
     "text": [
      "0: 960x544 (no detections), 198.7ms\n",
      "Speed: 4.6ms preprocess, 198.7ms inference, 1.0ms postprocess per image at shape (1, 3, 960, 544)\n",
      "\n"
     ]
    },
    {
     "name": "stdout",
     "output_type": "stream",
     "text": [
      "frame No: 67\n"
     ]
    },
    {
     "name": "stderr",
     "output_type": "stream",
     "text": [
      "0: 960x544 (no detections), 229.7ms\n",
      "Speed: 5.2ms preprocess, 229.7ms inference, 3.3ms postprocess per image at shape (1, 3, 960, 544)\n",
      "\n"
     ]
    },
    {
     "name": "stdout",
     "output_type": "stream",
     "text": [
      "frame No: 68\n"
     ]
    },
    {
     "name": "stderr",
     "output_type": "stream",
     "text": [
      "0: 960x544 (no detections), 299.8ms\n",
      "Speed: 9.2ms preprocess, 299.8ms inference, 1.6ms postprocess per image at shape (1, 3, 960, 544)\n",
      "\n"
     ]
    },
    {
     "name": "stdout",
     "output_type": "stream",
     "text": [
      "frame No: 69\n"
     ]
    },
    {
     "name": "stderr",
     "output_type": "stream",
     "text": [
      "0: 960x544 (no detections), 241.2ms\n",
      "Speed: 5.7ms preprocess, 241.2ms inference, 1.2ms postprocess per image at shape (1, 3, 960, 544)\n",
      "\n"
     ]
    },
    {
     "name": "stdout",
     "output_type": "stream",
     "text": [
      "frame No: 70\n"
     ]
    },
    {
     "name": "stderr",
     "output_type": "stream",
     "text": [
      "0: 960x544 (no detections), 226.0ms\n",
      "Speed: 6.5ms preprocess, 226.0ms inference, 1.1ms postprocess per image at shape (1, 3, 960, 544)\n",
      "\n"
     ]
    },
    {
     "name": "stdout",
     "output_type": "stream",
     "text": [
      "frame No: 71\n"
     ]
    },
    {
     "name": "stderr",
     "output_type": "stream",
     "text": [
      "0: 960x544 (no detections), 216.3ms\n",
      "Speed: 4.6ms preprocess, 216.3ms inference, 1.2ms postprocess per image at shape (1, 3, 960, 544)\n",
      "\n"
     ]
    },
    {
     "name": "stdout",
     "output_type": "stream",
     "text": [
      "frame No: 72\n"
     ]
    },
    {
     "name": "stderr",
     "output_type": "stream",
     "text": [
      "0: 960x544 (no detections), 203.9ms\n",
      "Speed: 4.4ms preprocess, 203.9ms inference, 1.0ms postprocess per image at shape (1, 3, 960, 544)\n",
      "\n",
      "0: 960x544 (no detections), 159.6ms\n",
      "Speed: 4.1ms preprocess, 159.6ms inference, 1.1ms postprocess per image at shape (1, 3, 960, 544)\n",
      "\n"
     ]
    },
    {
     "name": "stdout",
     "output_type": "stream",
     "text": [
      "frame No: 73\n",
      "frame No: 74\n"
     ]
    },
    {
     "name": "stderr",
     "output_type": "stream",
     "text": [
      "0: 960x544 (no detections), 172.2ms\n",
      "Speed: 6.1ms preprocess, 172.2ms inference, 0.9ms postprocess per image at shape (1, 3, 960, 544)\n",
      "\n",
      "0: 960x544 (no detections), 163.2ms\n",
      "Speed: 4.3ms preprocess, 163.2ms inference, 0.9ms postprocess per image at shape (1, 3, 960, 544)\n",
      "\n"
     ]
    },
    {
     "name": "stdout",
     "output_type": "stream",
     "text": [
      "frame No: 75\n",
      "frame No: 76\n"
     ]
    },
    {
     "name": "stderr",
     "output_type": "stream",
     "text": [
      "0: 960x544 (no detections), 165.0ms\n",
      "Speed: 4.9ms preprocess, 165.0ms inference, 1.3ms postprocess per image at shape (1, 3, 960, 544)\n",
      "\n",
      "0: 960x544 (no detections), 163.0ms\n",
      "Speed: 9.2ms preprocess, 163.0ms inference, 0.9ms postprocess per image at shape (1, 3, 960, 544)\n",
      "\n"
     ]
    },
    {
     "name": "stdout",
     "output_type": "stream",
     "text": [
      "frame No: 77\n",
      "frame No: 78\n"
     ]
    },
    {
     "name": "stderr",
     "output_type": "stream",
     "text": [
      "0: 960x544 (no detections), 162.1ms\n",
      "Speed: 4.3ms preprocess, 162.1ms inference, 0.9ms postprocess per image at shape (1, 3, 960, 544)\n",
      "\n",
      "0: 960x544 (no detections), 161.7ms\n",
      "Speed: 4.3ms preprocess, 161.7ms inference, 1.0ms postprocess per image at shape (1, 3, 960, 544)\n",
      "\n"
     ]
    },
    {
     "name": "stdout",
     "output_type": "stream",
     "text": [
      "frame No: 79\n",
      "frame No: 80\n"
     ]
    },
    {
     "name": "stderr",
     "output_type": "stream",
     "text": [
      "0: 960x544 (no detections), 251.1ms\n",
      "Speed: 5.0ms preprocess, 251.1ms inference, 2.1ms postprocess per image at shape (1, 3, 960, 544)\n",
      "\n",
      "0: 960x544 (no detections), 157.1ms\n",
      "Speed: 7.2ms preprocess, 157.1ms inference, 0.9ms postprocess per image at shape (1, 3, 960, 544)\n",
      "\n"
     ]
    },
    {
     "name": "stdout",
     "output_type": "stream",
     "text": [
      "frame No: 81\n",
      "frame No: 82\n"
     ]
    },
    {
     "name": "stderr",
     "output_type": "stream",
     "text": [
      "0: 960x544 (no detections), 221.1ms\n",
      "Speed: 4.7ms preprocess, 221.1ms inference, 1.1ms postprocess per image at shape (1, 3, 960, 544)\n",
      "\n"
     ]
    },
    {
     "name": "stdout",
     "output_type": "stream",
     "text": [
      "frame No: 83\n"
     ]
    },
    {
     "name": "stderr",
     "output_type": "stream",
     "text": [
      "0: 960x544 (no detections), 219.8ms\n",
      "Speed: 5.8ms preprocess, 219.8ms inference, 1.4ms postprocess per image at shape (1, 3, 960, 544)\n",
      "\n",
      "0: 960x544 (no detections), 185.2ms\n",
      "Speed: 5.4ms preprocess, 185.2ms inference, 1.5ms postprocess per image at shape (1, 3, 960, 544)\n",
      "\n"
     ]
    },
    {
     "name": "stdout",
     "output_type": "stream",
     "text": [
      "frame No: 84\n",
      "frame No: 85\n"
     ]
    },
    {
     "name": "stderr",
     "output_type": "stream",
     "text": [
      "0: 960x544 (no detections), 194.6ms\n",
      "Speed: 6.0ms preprocess, 194.6ms inference, 0.9ms postprocess per image at shape (1, 3, 960, 544)\n",
      "\n"
     ]
    },
    {
     "name": "stdout",
     "output_type": "stream",
     "text": [
      "frame No: 86\n"
     ]
    },
    {
     "name": "stderr",
     "output_type": "stream",
     "text": [
      "0: 960x544 (no detections), 234.7ms\n",
      "Speed: 5.8ms preprocess, 234.7ms inference, 1.3ms postprocess per image at shape (1, 3, 960, 544)\n",
      "\n"
     ]
    },
    {
     "name": "stdout",
     "output_type": "stream",
     "text": [
      "frame No: 87\n"
     ]
    },
    {
     "name": "stderr",
     "output_type": "stream",
     "text": [
      "0: 960x544 (no detections), 221.0ms\n",
      "Speed: 5.4ms preprocess, 221.0ms inference, 1.0ms postprocess per image at shape (1, 3, 960, 544)\n",
      "\n"
     ]
    },
    {
     "name": "stdout",
     "output_type": "stream",
     "text": [
      "frame No: 88\n"
     ]
    },
    {
     "name": "stderr",
     "output_type": "stream",
     "text": [
      "0: 960x544 (no detections), 212.9ms\n",
      "Speed: 4.7ms preprocess, 212.9ms inference, 1.6ms postprocess per image at shape (1, 3, 960, 544)\n",
      "\n",
      "0: 960x544 (no detections), 159.9ms\n",
      "Speed: 5.2ms preprocess, 159.9ms inference, 1.6ms postprocess per image at shape (1, 3, 960, 544)\n",
      "\n"
     ]
    },
    {
     "name": "stdout",
     "output_type": "stream",
     "text": [
      "frame No: 89\n",
      "frame No: 90\n"
     ]
    },
    {
     "name": "stderr",
     "output_type": "stream",
     "text": [
      "0: 960x544 (no detections), 157.2ms\n",
      "Speed: 5.7ms preprocess, 157.2ms inference, 1.0ms postprocess per image at shape (1, 3, 960, 544)\n",
      "\n",
      "0: 960x544 (no detections), 161.2ms\n",
      "Speed: 4.0ms preprocess, 161.2ms inference, 1.4ms postprocess per image at shape (1, 3, 960, 544)\n",
      "\n"
     ]
    },
    {
     "name": "stdout",
     "output_type": "stream",
     "text": [
      "frame No: 91\n",
      "frame No: 92\n"
     ]
    },
    {
     "name": "stderr",
     "output_type": "stream",
     "text": [
      "0: 960x544 (no detections), 164.7ms\n",
      "Speed: 4.8ms preprocess, 164.7ms inference, 0.9ms postprocess per image at shape (1, 3, 960, 544)\n",
      "\n"
     ]
    },
    {
     "name": "stdout",
     "output_type": "stream",
     "text": [
      "frame No: 93\n"
     ]
    },
    {
     "name": "stderr",
     "output_type": "stream",
     "text": [
      "0: 960x544 (no detections), 215.1ms\n",
      "Speed: 6.9ms preprocess, 215.1ms inference, 1.3ms postprocess per image at shape (1, 3, 960, 544)\n",
      "\n",
      "0: 960x544 (no detections), 168.8ms\n",
      "Speed: 4.8ms preprocess, 168.8ms inference, 1.4ms postprocess per image at shape (1, 3, 960, 544)\n",
      "\n"
     ]
    },
    {
     "name": "stdout",
     "output_type": "stream",
     "text": [
      "frame No: 94\n",
      "frame No: 95\n"
     ]
    },
    {
     "name": "stderr",
     "output_type": "stream",
     "text": [
      "0: 960x544 (no detections), 167.3ms\n",
      "Speed: 4.1ms preprocess, 167.3ms inference, 0.9ms postprocess per image at shape (1, 3, 960, 544)\n",
      "\n",
      "0: 960x544 (no detections), 168.0ms\n",
      "Speed: 5.7ms preprocess, 168.0ms inference, 1.0ms postprocess per image at shape (1, 3, 960, 544)\n",
      "\n"
     ]
    },
    {
     "name": "stdout",
     "output_type": "stream",
     "text": [
      "frame No: 96\n",
      "frame No: 97\n"
     ]
    },
    {
     "name": "stderr",
     "output_type": "stream",
     "text": [
      "0: 960x544 (no detections), 167.2ms\n",
      "Speed: 4.6ms preprocess, 167.2ms inference, 1.0ms postprocess per image at shape (1, 3, 960, 544)\n",
      "\n",
      "0: 960x544 (no detections), 167.4ms\n",
      "Speed: 4.6ms preprocess, 167.4ms inference, 1.0ms postprocess per image at shape (1, 3, 960, 544)\n",
      "\n"
     ]
    },
    {
     "name": "stdout",
     "output_type": "stream",
     "text": [
      "frame No: 98\n",
      "frame No: 99\n"
     ]
    },
    {
     "name": "stderr",
     "output_type": "stream",
     "text": [
      "0: 960x544 (no detections), 169.1ms\n",
      "Speed: 4.8ms preprocess, 169.1ms inference, 1.4ms postprocess per image at shape (1, 3, 960, 544)\n",
      "\n",
      "0: 960x544 (no detections), 169.1ms\n",
      "Speed: 6.5ms preprocess, 169.1ms inference, 2.0ms postprocess per image at shape (1, 3, 960, 544)\n",
      "\n"
     ]
    },
    {
     "name": "stdout",
     "output_type": "stream",
     "text": [
      "frame No: 100\n",
      "frame No: 101\n"
     ]
    },
    {
     "name": "stderr",
     "output_type": "stream",
     "text": [
      "0: 960x544 (no detections), 178.4ms\n",
      "Speed: 5.0ms preprocess, 178.4ms inference, 1.5ms postprocess per image at shape (1, 3, 960, 544)\n",
      "\n"
     ]
    },
    {
     "name": "stdout",
     "output_type": "stream",
     "text": [
      "frame No: 102\n"
     ]
    },
    {
     "name": "stderr",
     "output_type": "stream",
     "text": [
      "0: 960x544 (no detections), 199.3ms\n",
      "Speed: 6.9ms preprocess, 199.3ms inference, 1.9ms postprocess per image at shape (1, 3, 960, 544)\n",
      "\n",
      "0: 960x544 (no detections), 183.8ms\n",
      "Speed: 6.2ms preprocess, 183.8ms inference, 1.2ms postprocess per image at shape (1, 3, 960, 544)\n",
      "\n"
     ]
    },
    {
     "name": "stdout",
     "output_type": "stream",
     "text": [
      "frame No: 103\n",
      "frame No: 104\n"
     ]
    },
    {
     "name": "stderr",
     "output_type": "stream",
     "text": [
      "0: 960x544 (no detections), 171.5ms\n",
      "Speed: 5.1ms preprocess, 171.5ms inference, 0.9ms postprocess per image at shape (1, 3, 960, 544)\n",
      "\n",
      "0: 960x544 (no detections), 176.2ms\n",
      "Speed: 4.5ms preprocess, 176.2ms inference, 1.8ms postprocess per image at shape (1, 3, 960, 544)\n",
      "\n"
     ]
    },
    {
     "name": "stdout",
     "output_type": "stream",
     "text": [
      "frame No: 105\n",
      "frame No: 106\n"
     ]
    },
    {
     "name": "stderr",
     "output_type": "stream",
     "text": [
      "0: 960x544 (no detections), 207.2ms\n",
      "Speed: 4.7ms preprocess, 207.2ms inference, 1.6ms postprocess per image at shape (1, 3, 960, 544)\n",
      "\n",
      "0: 960x544 (no detections), 172.6ms\n",
      "Speed: 4.5ms preprocess, 172.6ms inference, 2.0ms postprocess per image at shape (1, 3, 960, 544)\n",
      "\n"
     ]
    },
    {
     "name": "stdout",
     "output_type": "stream",
     "text": [
      "frame No: 107\n",
      "frame No: 108\n"
     ]
    },
    {
     "name": "stderr",
     "output_type": "stream",
     "text": [
      "0: 960x544 (no detections), 224.9ms\n",
      "Speed: 4.6ms preprocess, 224.9ms inference, 1.1ms postprocess per image at shape (1, 3, 960, 544)\n",
      "\n"
     ]
    },
    {
     "name": "stdout",
     "output_type": "stream",
     "text": [
      "frame No: 109\n"
     ]
    },
    {
     "name": "stderr",
     "output_type": "stream",
     "text": [
      "0: 960x544 (no detections), 233.5ms\n",
      "Speed: 5.6ms preprocess, 233.5ms inference, 1.1ms postprocess per image at shape (1, 3, 960, 544)\n",
      "\n",
      "0: 960x544 (no detections), 171.4ms\n",
      "Speed: 5.2ms preprocess, 171.4ms inference, 1.3ms postprocess per image at shape (1, 3, 960, 544)\n",
      "\n"
     ]
    },
    {
     "name": "stdout",
     "output_type": "stream",
     "text": [
      "frame No: 110\n",
      "frame No: 111\n"
     ]
    },
    {
     "name": "stderr",
     "output_type": "stream",
     "text": [
      "0: 960x544 (no detections), 175.9ms\n",
      "Speed: 5.0ms preprocess, 175.9ms inference, 1.6ms postprocess per image at shape (1, 3, 960, 544)\n",
      "\n",
      "0: 960x544 (no detections), 178.7ms\n",
      "Speed: 4.6ms preprocess, 178.7ms inference, 0.9ms postprocess per image at shape (1, 3, 960, 544)\n",
      "\n"
     ]
    },
    {
     "name": "stdout",
     "output_type": "stream",
     "text": [
      "frame No: 112\n",
      "frame No: 113\n"
     ]
    },
    {
     "name": "stderr",
     "output_type": "stream",
     "text": [
      "0: 960x544 (no detections), 218.4ms\n",
      "Speed: 4.4ms preprocess, 218.4ms inference, 1.2ms postprocess per image at shape (1, 3, 960, 544)\n",
      "\n"
     ]
    },
    {
     "name": "stdout",
     "output_type": "stream",
     "text": [
      "frame No: 114\n"
     ]
    },
    {
     "name": "stderr",
     "output_type": "stream",
     "text": [
      "0: 960x544 (no detections), 222.3ms\n",
      "Speed: 4.2ms preprocess, 222.3ms inference, 1.0ms postprocess per image at shape (1, 3, 960, 544)\n",
      "\n",
      "0: 960x544 (no detections), 163.6ms\n",
      "Speed: 5.6ms preprocess, 163.6ms inference, 1.0ms postprocess per image at shape (1, 3, 960, 544)\n",
      "\n"
     ]
    },
    {
     "name": "stdout",
     "output_type": "stream",
     "text": [
      "frame No: 115\n",
      "frame No: 116\n"
     ]
    },
    {
     "name": "stderr",
     "output_type": "stream",
     "text": [
      "0: 960x544 (no detections), 173.1ms\n",
      "Speed: 5.4ms preprocess, 173.1ms inference, 1.0ms postprocess per image at shape (1, 3, 960, 544)\n",
      "\n"
     ]
    },
    {
     "name": "stdout",
     "output_type": "stream",
     "text": [
      "frame No: 117\n"
     ]
    },
    {
     "name": "stderr",
     "output_type": "stream",
     "text": [
      "0: 960x544 (no detections), 235.3ms\n",
      "Speed: 4.2ms preprocess, 235.3ms inference, 1.5ms postprocess per image at shape (1, 3, 960, 544)\n",
      "\n"
     ]
    },
    {
     "name": "stdout",
     "output_type": "stream",
     "text": [
      "frame No: 118\n"
     ]
    },
    {
     "name": "stderr",
     "output_type": "stream",
     "text": [
      "0: 960x544 (no detections), 227.2ms\n",
      "Speed: 4.9ms preprocess, 227.2ms inference, 1.0ms postprocess per image at shape (1, 3, 960, 544)\n",
      "\n"
     ]
    },
    {
     "name": "stdout",
     "output_type": "stream",
     "text": [
      "frame No: 119\n"
     ]
    },
    {
     "name": "stderr",
     "output_type": "stream",
     "text": [
      "0: 960x544 (no detections), 221.1ms\n",
      "Speed: 5.7ms preprocess, 221.1ms inference, 1.3ms postprocess per image at shape (1, 3, 960, 544)\n",
      "\n",
      "0: 960x544 (no detections), 163.5ms\n",
      "Speed: 4.1ms preprocess, 163.5ms inference, 0.9ms postprocess per image at shape (1, 3, 960, 544)\n",
      "\n"
     ]
    },
    {
     "name": "stdout",
     "output_type": "stream",
     "text": [
      "frame No: 120\n",
      "frame No: 121\n"
     ]
    },
    {
     "name": "stderr",
     "output_type": "stream",
     "text": [
      "0: 960x544 (no detections), 169.7ms\n",
      "Speed: 6.0ms preprocess, 169.7ms inference, 0.9ms postprocess per image at shape (1, 3, 960, 544)\n",
      "\n"
     ]
    },
    {
     "name": "stdout",
     "output_type": "stream",
     "text": [
      "frame No: 122\n"
     ]
    },
    {
     "name": "stderr",
     "output_type": "stream",
     "text": [
      "0: 960x544 (no detections), 223.4ms\n",
      "Speed: 4.5ms preprocess, 223.4ms inference, 1.2ms postprocess per image at shape (1, 3, 960, 544)\n",
      "\n"
     ]
    },
    {
     "name": "stdout",
     "output_type": "stream",
     "text": [
      "frame No: 123\n"
     ]
    },
    {
     "name": "stderr",
     "output_type": "stream",
     "text": [
      "0: 960x544 (no detections), 215.9ms\n",
      "Speed: 4.6ms preprocess, 215.9ms inference, 1.3ms postprocess per image at shape (1, 3, 960, 544)\n",
      "\n"
     ]
    },
    {
     "name": "stdout",
     "output_type": "stream",
     "text": [
      "frame No: 124\n"
     ]
    },
    {
     "name": "stderr",
     "output_type": "stream",
     "text": [
      "0: 960x544 (no detections), 231.7ms\n",
      "Speed: 6.1ms preprocess, 231.7ms inference, 1.3ms postprocess per image at shape (1, 3, 960, 544)\n",
      "\n"
     ]
    },
    {
     "name": "stdout",
     "output_type": "stream",
     "text": [
      "frame No: 125\n"
     ]
    },
    {
     "name": "stderr",
     "output_type": "stream",
     "text": [
      "0: 960x544 (no detections), 225.1ms\n",
      "Speed: 5.2ms preprocess, 225.1ms inference, 1.2ms postprocess per image at shape (1, 3, 960, 544)\n",
      "\n",
      "0: 960x544 (no detections), 190.6ms\n",
      "Speed: 6.0ms preprocess, 190.6ms inference, 1.0ms postprocess per image at shape (1, 3, 960, 544)\n"
     ]
    },
    {
     "name": "stdout",
     "output_type": "stream",
     "text": [
      "frame No: 126\n"
     ]
    },
    {
     "name": "stderr",
     "output_type": "stream",
     "text": [
      "\n",
      "0: 960x544 (no detections), 174.9ms\n",
      "Speed: 5.5ms preprocess, 174.9ms inference, 1.2ms postprocess per image at shape (1, 3, 960, 544)\n",
      "\n"
     ]
    },
    {
     "name": "stdout",
     "output_type": "stream",
     "text": [
      "frame No: 127\n",
      "frame No: 128\n"
     ]
    },
    {
     "name": "stderr",
     "output_type": "stream",
     "text": [
      "0: 960x544 (no detections), 183.4ms\n",
      "Speed: 4.7ms preprocess, 183.4ms inference, 1.0ms postprocess per image at shape (1, 3, 960, 544)\n",
      "\n"
     ]
    },
    {
     "name": "stdout",
     "output_type": "stream",
     "text": [
      "frame No: 129\n"
     ]
    },
    {
     "name": "stderr",
     "output_type": "stream",
     "text": [
      "0: 960x544 (no detections), 224.9ms\n",
      "Speed: 4.3ms preprocess, 224.9ms inference, 1.1ms postprocess per image at shape (1, 3, 960, 544)\n",
      "\n"
     ]
    },
    {
     "name": "stdout",
     "output_type": "stream",
     "text": [
      "frame No: 130\n"
     ]
    },
    {
     "name": "stderr",
     "output_type": "stream",
     "text": [
      "0: 960x544 (no detections), 216.7ms\n",
      "Speed: 5.3ms preprocess, 216.7ms inference, 1.3ms postprocess per image at shape (1, 3, 960, 544)\n",
      "\n"
     ]
    },
    {
     "name": "stdout",
     "output_type": "stream",
     "text": [
      "frame No: 131\n"
     ]
    },
    {
     "name": "stderr",
     "output_type": "stream",
     "text": [
      "0: 960x544 (no detections), 220.3ms\n",
      "Speed: 4.7ms preprocess, 220.3ms inference, 1.2ms postprocess per image at shape (1, 3, 960, 544)\n",
      "\n",
      "0: 960x544 (no detections), 163.7ms\n",
      "Speed: 5.0ms preprocess, 163.7ms inference, 1.0ms postprocess per image at shape (1, 3, 960, 544)\n",
      "\n"
     ]
    },
    {
     "name": "stdout",
     "output_type": "stream",
     "text": [
      "frame No: 132\n",
      "frame No: 133\n"
     ]
    },
    {
     "name": "stderr",
     "output_type": "stream",
     "text": [
      "0: 960x544 (no detections), 168.3ms\n",
      "Speed: 4.5ms preprocess, 168.3ms inference, 1.6ms postprocess per image at shape (1, 3, 960, 544)\n",
      "\n",
      "0: 960x544 (no detections), 187.3ms\n"
     ]
    },
    {
     "name": "stdout",
     "output_type": "stream",
     "text": [
      "frame No: 134\n"
     ]
    },
    {
     "name": "stderr",
     "output_type": "stream",
     "text": [
      "Speed: 6.8ms preprocess, 187.3ms inference, 2.1ms postprocess per image at shape (1, 3, 960, 544)\n",
      "\n",
      "0: 960x544 (no detections), 179.7ms\n",
      "Speed: 5.5ms preprocess, 179.7ms inference, 2.1ms postprocess per image at shape (1, 3, 960, 544)\n",
      "\n"
     ]
    },
    {
     "name": "stdout",
     "output_type": "stream",
     "text": [
      "frame No: 135\n",
      "frame No: 136\n"
     ]
    },
    {
     "name": "stderr",
     "output_type": "stream",
     "text": [
      "0: 960x544 (no detections), 184.0ms\n",
      "Speed: 7.3ms preprocess, 184.0ms inference, 1.0ms postprocess per image at shape (1, 3, 960, 544)\n",
      "\n",
      "0: 960x544 (no detections), 163.9ms\n",
      "Speed: 5.1ms preprocess, 163.9ms inference, 1.5ms postprocess per image at shape (1, 3, 960, 544)\n",
      "\n"
     ]
    },
    {
     "name": "stdout",
     "output_type": "stream",
     "text": [
      "frame No: 137\n",
      "frame No: 138\n"
     ]
    },
    {
     "name": "stderr",
     "output_type": "stream",
     "text": [
      "0: 960x544 (no detections), 165.0ms\n",
      "Speed: 4.4ms preprocess, 165.0ms inference, 0.9ms postprocess per image at shape (1, 3, 960, 544)\n",
      "\n",
      "0: 960x544 (no detections), 189.9ms\n",
      "Speed: 4.6ms preprocess, 189.9ms inference, 1.1ms postprocess per image at shape (1, 3, 960, 544)\n",
      "\n"
     ]
    },
    {
     "name": "stdout",
     "output_type": "stream",
     "text": [
      "frame No: 139\n",
      "frame No: 140\n"
     ]
    },
    {
     "name": "stderr",
     "output_type": "stream",
     "text": [
      "0: 960x544 (no detections), 179.6ms\n",
      "Speed: 4.3ms preprocess, 179.6ms inference, 1.0ms postprocess per image at shape (1, 3, 960, 544)\n",
      "\n",
      "0: 960x544 (no detections), 169.4ms\n",
      "Speed: 4.6ms preprocess, 169.4ms inference, 1.2ms postprocess per image at shape (1, 3, 960, 544)\n",
      "\n"
     ]
    },
    {
     "name": "stdout",
     "output_type": "stream",
     "text": [
      "frame No: 141\n",
      "frame No: 142\n"
     ]
    },
    {
     "name": "stderr",
     "output_type": "stream",
     "text": [
      "0: 960x544 (no detections), 195.0ms\n",
      "Speed: 6.7ms preprocess, 195.0ms inference, 2.2ms postprocess per image at shape (1, 3, 960, 544)\n",
      "\n",
      "0: 960x544 (no detections), 187.5ms\n",
      "Speed: 4.5ms preprocess, 187.5ms inference, 1.0ms postprocess per image at shape (1, 3, 960, 544)\n",
      "\n"
     ]
    },
    {
     "name": "stdout",
     "output_type": "stream",
     "text": [
      "frame No: 143\n",
      "frame No: 144\n"
     ]
    },
    {
     "name": "stderr",
     "output_type": "stream",
     "text": [
      "0: 960x544 (no detections), 192.5ms\n",
      "Speed: 5.3ms preprocess, 192.5ms inference, 1.1ms postprocess per image at shape (1, 3, 960, 544)\n",
      "\n",
      "0: 960x544 (no detections), 162.7ms\n",
      "Speed: 4.2ms preprocess, 162.7ms inference, 1.0ms postprocess per image at shape (1, 3, 960, 544)\n",
      "\n"
     ]
    },
    {
     "name": "stdout",
     "output_type": "stream",
     "text": [
      "frame No: 145\n",
      "frame No: 146\n"
     ]
    },
    {
     "name": "stderr",
     "output_type": "stream",
     "text": [
      "0: 960x544 (no detections), 171.9ms\n",
      "Speed: 6.0ms preprocess, 171.9ms inference, 1.0ms postprocess per image at shape (1, 3, 960, 544)\n",
      "\n",
      "0: 960x544 (no detections), 175.6ms\n",
      "Speed: 7.3ms preprocess, 175.6ms inference, 1.0ms postprocess per image at shape (1, 3, 960, 544)\n",
      "\n"
     ]
    },
    {
     "name": "stdout",
     "output_type": "stream",
     "text": [
      "frame No: 147\n",
      "frame No: 148\n"
     ]
    },
    {
     "name": "stderr",
     "output_type": "stream",
     "text": [
      "0: 960x544 (no detections), 206.8ms\n",
      "Speed: 4.8ms preprocess, 206.8ms inference, 1.1ms postprocess per image at shape (1, 3, 960, 544)\n",
      "\n",
      "0: 960x544 (no detections), 168.5ms\n",
      "Speed: 5.1ms preprocess, 168.5ms inference, 1.0ms postprocess per image at shape (1, 3, 960, 544)\n",
      "\n"
     ]
    },
    {
     "name": "stdout",
     "output_type": "stream",
     "text": [
      "frame No: 149\n",
      "frame No: 150\n"
     ]
    },
    {
     "name": "stderr",
     "output_type": "stream",
     "text": [
      "0: 960x544 (no detections), 166.2ms\n",
      "Speed: 5.0ms preprocess, 166.2ms inference, 1.2ms postprocess per image at shape (1, 3, 960, 544)\n",
      "\n",
      "0: 960x544 (no detections), 181.3ms\n",
      "Speed: 4.8ms preprocess, 181.3ms inference, 0.9ms postprocess per image at shape (1, 3, 960, 544)\n",
      "\n"
     ]
    },
    {
     "name": "stdout",
     "output_type": "stream",
     "text": [
      "frame No: 151\n",
      "frame No: 152\n"
     ]
    },
    {
     "name": "stderr",
     "output_type": "stream",
     "text": [
      "0: 960x544 (no detections), 220.3ms\n",
      "Speed: 4.1ms preprocess, 220.3ms inference, 1.1ms postprocess per image at shape (1, 3, 960, 544)\n",
      "\n",
      "0: 960x544 (no detections), 160.3ms\n",
      "Speed: 4.1ms preprocess, 160.3ms inference, 1.0ms postprocess per image at shape (1, 3, 960, 544)\n",
      "\n"
     ]
    },
    {
     "name": "stdout",
     "output_type": "stream",
     "text": [
      "frame No: 153\n",
      "frame No: 154\n"
     ]
    },
    {
     "name": "stderr",
     "output_type": "stream",
     "text": [
      "0: 960x544 (no detections), 168.0ms\n",
      "Speed: 4.3ms preprocess, 168.0ms inference, 1.4ms postprocess per image at shape (1, 3, 960, 544)\n",
      "\n"
     ]
    },
    {
     "name": "stdout",
     "output_type": "stream",
     "text": [
      "frame No: 155\n"
     ]
    },
    {
     "name": "stderr",
     "output_type": "stream",
     "text": [
      "0: 960x544 (no detections), 219.6ms\n",
      "Speed: 5.4ms preprocess, 219.6ms inference, 1.8ms postprocess per image at shape (1, 3, 960, 544)\n",
      "\n"
     ]
    },
    {
     "name": "stdout",
     "output_type": "stream",
     "text": [
      "frame No: 156\n"
     ]
    },
    {
     "name": "stderr",
     "output_type": "stream",
     "text": [
      "0: 960x544 (no detections), 210.3ms\n",
      "Speed: 4.2ms preprocess, 210.3ms inference, 1.3ms postprocess per image at shape (1, 3, 960, 544)\n",
      "\n",
      "0: 960x544 (no detections), 166.9ms\n",
      "Speed: 4.6ms preprocess, 166.9ms inference, 0.9ms postprocess per image at shape (1, 3, 960, 544)\n",
      "\n"
     ]
    },
    {
     "name": "stdout",
     "output_type": "stream",
     "text": [
      "frame No: 157\n",
      "frame No: 158\n"
     ]
    },
    {
     "name": "stderr",
     "output_type": "stream",
     "text": [
      "0: 960x544 (no detections), 162.2ms\n",
      "Speed: 4.4ms preprocess, 162.2ms inference, 1.4ms postprocess per image at shape (1, 3, 960, 544)\n",
      "\n",
      "0: 960x544 (no detections), 164.2ms\n",
      "Speed: 4.0ms preprocess, 164.2ms inference, 1.5ms postprocess per image at shape (1, 3, 960, 544)\n",
      "\n"
     ]
    },
    {
     "name": "stdout",
     "output_type": "stream",
     "text": [
      "frame No: 159\n",
      "frame No: 160\n"
     ]
    },
    {
     "name": "stderr",
     "output_type": "stream",
     "text": [
      "0: 960x544 (no detections), 219.5ms\n",
      "Speed: 7.2ms preprocess, 219.5ms inference, 1.0ms postprocess per image at shape (1, 3, 960, 544)\n",
      "\n"
     ]
    },
    {
     "name": "stdout",
     "output_type": "stream",
     "text": [
      "frame No: 161\n"
     ]
    },
    {
     "name": "stderr",
     "output_type": "stream",
     "text": [
      "0: 960x544 (no detections), 212.1ms\n",
      "Speed: 6.1ms preprocess, 212.1ms inference, 1.3ms postprocess per image at shape (1, 3, 960, 544)\n",
      "\n",
      "0: 960x544 (no detections), 166.9ms\n",
      "Speed: 4.7ms preprocess, 166.9ms inference, 1.0ms postprocess per image at shape (1, 3, 960, 544)\n",
      "\n"
     ]
    },
    {
     "name": "stdout",
     "output_type": "stream",
     "text": [
      "frame No: 162\n",
      "frame No: 163\n"
     ]
    },
    {
     "name": "stderr",
     "output_type": "stream",
     "text": [
      "0: 960x544 (no detections), 165.4ms\n",
      "Speed: 5.9ms preprocess, 165.4ms inference, 1.4ms postprocess per image at shape (1, 3, 960, 544)\n",
      "\n"
     ]
    },
    {
     "name": "stdout",
     "output_type": "stream",
     "text": [
      "frame No: 164\n"
     ]
    },
    {
     "name": "stderr",
     "output_type": "stream",
     "text": [
      "0: 960x544 (no detections), 229.6ms\n",
      "Speed: 4.5ms preprocess, 229.6ms inference, 1.1ms postprocess per image at shape (1, 3, 960, 544)\n",
      "\n"
     ]
    },
    {
     "name": "stdout",
     "output_type": "stream",
     "text": [
      "frame No: 165\n"
     ]
    },
    {
     "name": "stderr",
     "output_type": "stream",
     "text": [
      "0: 960x544 (no detections), 213.6ms\n",
      "Speed: 5.2ms preprocess, 213.6ms inference, 1.1ms postprocess per image at shape (1, 3, 960, 544)\n",
      "\n",
      "0: 960x544 (no detections), 161.3ms\n",
      "Speed: 4.5ms preprocess, 161.3ms inference, 1.0ms postprocess per image at shape (1, 3, 960, 544)\n",
      "\n"
     ]
    },
    {
     "name": "stdout",
     "output_type": "stream",
     "text": [
      "frame No: 166\n",
      "frame No: 167\n"
     ]
    },
    {
     "name": "stderr",
     "output_type": "stream",
     "text": [
      "0: 960x544 (no detections), 169.4ms\n",
      "Speed: 4.2ms preprocess, 169.4ms inference, 1.1ms postprocess per image at shape (1, 3, 960, 544)\n",
      "\n",
      "0: 960x544 (no detections), 163.3ms\n",
      "Speed: 4.2ms preprocess, 163.3ms inference, 0.9ms postprocess per image at shape (1, 3, 960, 544)\n",
      "\n"
     ]
    },
    {
     "name": "stdout",
     "output_type": "stream",
     "text": [
      "frame No: 168\n",
      "frame No: 169\n"
     ]
    },
    {
     "name": "stderr",
     "output_type": "stream",
     "text": [
      "0: 960x544 (no detections), 166.0ms\n",
      "Speed: 4.7ms preprocess, 166.0ms inference, 1.0ms postprocess per image at shape (1, 3, 960, 544)\n",
      "\n",
      "0: 960x544 (no detections), 175.4ms\n",
      "Speed: 4.3ms preprocess, 175.4ms inference, 2.1ms postprocess per image at shape (1, 3, 960, 544)\n",
      "\n"
     ]
    },
    {
     "name": "stdout",
     "output_type": "stream",
     "text": [
      "frame No: 170\n",
      "frame No: 171\n"
     ]
    },
    {
     "name": "stderr",
     "output_type": "stream",
     "text": [
      "0: 960x544 (no detections), 165.8ms\n",
      "Speed: 4.0ms preprocess, 165.8ms inference, 1.0ms postprocess per image at shape (1, 3, 960, 544)\n",
      "\n",
      "0: 960x544 (no detections), 164.9ms\n",
      "Speed: 6.1ms preprocess, 164.9ms inference, 2.1ms postprocess per image at shape (1, 3, 960, 544)\n",
      "\n"
     ]
    },
    {
     "name": "stdout",
     "output_type": "stream",
     "text": [
      "frame No: 172\n",
      "frame No: 173\n"
     ]
    },
    {
     "name": "stderr",
     "output_type": "stream",
     "text": [
      "0: 960x544 (no detections), 167.3ms\n",
      "Speed: 5.1ms preprocess, 167.3ms inference, 1.0ms postprocess per image at shape (1, 3, 960, 544)\n",
      "\n",
      "0: 960x544 (no detections), 164.1ms\n",
      "Speed: 4.1ms preprocess, 164.1ms inference, 1.0ms postprocess per image at shape (1, 3, 960, 544)\n",
      "\n"
     ]
    },
    {
     "name": "stdout",
     "output_type": "stream",
     "text": [
      "frame No: 174\n",
      "frame No: 175\n"
     ]
    },
    {
     "name": "stderr",
     "output_type": "stream",
     "text": [
      "0: 960x544 (no detections), 172.0ms\n",
      "Speed: 4.3ms preprocess, 172.0ms inference, 2.2ms postprocess per image at shape (1, 3, 960, 544)\n",
      "\n",
      "0: 960x544 (no detections), 162.9ms\n",
      "Speed: 4.6ms preprocess, 162.9ms inference, 0.9ms postprocess per image at shape (1, 3, 960, 544)\n",
      "\n"
     ]
    },
    {
     "name": "stdout",
     "output_type": "stream",
     "text": [
      "frame No: 176\n",
      "frame No: 177\n"
     ]
    },
    {
     "name": "stderr",
     "output_type": "stream",
     "text": [
      "0: 960x544 (no detections), 163.1ms\n",
      "Speed: 5.9ms preprocess, 163.1ms inference, 1.3ms postprocess per image at shape (1, 3, 960, 544)\n",
      "\n",
      "0: 960x544 (no detections), 193.4ms\n"
     ]
    },
    {
     "name": "stdout",
     "output_type": "stream",
     "text": [
      "frame No: 178\n"
     ]
    },
    {
     "name": "stderr",
     "output_type": "stream",
     "text": [
      "Speed: 4.4ms preprocess, 193.4ms inference, 1.0ms postprocess per image at shape (1, 3, 960, 544)\n",
      "\n",
      "0: 960x544 (no detections), 164.2ms\n",
      "Speed: 4.4ms preprocess, 164.2ms inference, 0.9ms postprocess per image at shape (1, 3, 960, 544)\n",
      "\n"
     ]
    },
    {
     "name": "stdout",
     "output_type": "stream",
     "text": [
      "frame No: 179\n",
      "frame No: 180\n"
     ]
    },
    {
     "name": "stderr",
     "output_type": "stream",
     "text": [
      "0: 960x544 (no detections), 163.0ms\n",
      "Speed: 5.8ms preprocess, 163.0ms inference, 1.4ms postprocess per image at shape (1, 3, 960, 544)\n",
      "\n",
      "0: 960x544 (no detections), 166.8ms\n",
      "Speed: 4.4ms preprocess, 166.8ms inference, 1.0ms postprocess per image at shape (1, 3, 960, 544)\n",
      "\n"
     ]
    },
    {
     "name": "stdout",
     "output_type": "stream",
     "text": [
      "frame No: 181\n",
      "frame No: 182\n"
     ]
    },
    {
     "name": "stderr",
     "output_type": "stream",
     "text": [
      "0: 960x544 (no detections), 170.6ms\n",
      "Speed: 6.0ms preprocess, 170.6ms inference, 1.0ms postprocess per image at shape (1, 3, 960, 544)\n",
      "\n",
      "0: 960x544 (no detections), 164.4ms\n",
      "Speed: 5.2ms preprocess, 164.4ms inference, 1.6ms postprocess per image at shape (1, 3, 960, 544)\n",
      "\n"
     ]
    },
    {
     "name": "stdout",
     "output_type": "stream",
     "text": [
      "frame No: 183\n",
      "frame No: 184\n"
     ]
    },
    {
     "name": "stderr",
     "output_type": "stream",
     "text": [
      "0: 960x544 (no detections), 224.6ms\n",
      "Speed: 4.2ms preprocess, 224.6ms inference, 1.4ms postprocess per image at shape (1, 3, 960, 544)\n",
      "\n",
      "0: 960x544 (no detections), 160.1ms\n",
      "Speed: 4.5ms preprocess, 160.1ms inference, 1.0ms postprocess per image at shape (1, 3, 960, 544)\n",
      "\n"
     ]
    },
    {
     "name": "stdout",
     "output_type": "stream",
     "text": [
      "frame No: 185\n",
      "frame No: 186\n"
     ]
    },
    {
     "name": "stderr",
     "output_type": "stream",
     "text": [
      "0: 960x544 (no detections), 218.7ms\n",
      "Speed: 4.2ms preprocess, 218.7ms inference, 1.1ms postprocess per image at shape (1, 3, 960, 544)\n",
      "\n",
      "0: 960x544 (no detections), 184.1ms\n",
      "Speed: 4.3ms preprocess, 184.1ms inference, 0.9ms postprocess per image at shape (1, 3, 960, 544)\n",
      "\n"
     ]
    },
    {
     "name": "stdout",
     "output_type": "stream",
     "text": [
      "frame No: 187\n",
      "frame No: 188\n"
     ]
    },
    {
     "name": "stderr",
     "output_type": "stream",
     "text": [
      "0: 960x544 (no detections), 184.1ms\n",
      "Speed: 5.2ms preprocess, 184.1ms inference, 1.6ms postprocess per image at shape (1, 3, 960, 544)\n",
      "\n",
      "0: 960x544 (no detections), 168.5ms\n",
      "Speed: 7.7ms preprocess, 168.5ms inference, 1.4ms postprocess per image at shape (1, 3, 960, 544)\n",
      "\n"
     ]
    },
    {
     "name": "stdout",
     "output_type": "stream",
     "text": [
      "frame No: 189\n",
      "frame No: 190\n"
     ]
    },
    {
     "name": "stderr",
     "output_type": "stream",
     "text": [
      "0: 960x544 (no detections), 163.8ms\n",
      "Speed: 4.6ms preprocess, 163.8ms inference, 0.9ms postprocess per image at shape (1, 3, 960, 544)\n",
      "\n",
      "0: 960x544 (no detections), 163.8ms\n",
      "Speed: 4.8ms preprocess, 163.8ms inference, 0.9ms postprocess per image at shape (1, 3, 960, 544)\n",
      "\n"
     ]
    },
    {
     "name": "stdout",
     "output_type": "stream",
     "text": [
      "frame No: 191\n",
      "frame No: 192\n"
     ]
    },
    {
     "name": "stderr",
     "output_type": "stream",
     "text": [
      "0: 960x544 (no detections), 168.2ms\n",
      "Speed: 5.3ms preprocess, 168.2ms inference, 1.0ms postprocess per image at shape (1, 3, 960, 544)\n",
      "\n",
      "0: 960x544 (no detections), 183.1ms\n",
      "Speed: 5.3ms preprocess, 183.1ms inference, 1.0ms postprocess per image at shape (1, 3, 960, 544)\n",
      "\n"
     ]
    },
    {
     "name": "stdout",
     "output_type": "stream",
     "text": [
      "frame No: 193\n",
      "frame No: 194\n"
     ]
    },
    {
     "name": "stderr",
     "output_type": "stream",
     "text": [
      "0: 960x544 (no detections), 169.7ms\n",
      "Speed: 4.9ms preprocess, 169.7ms inference, 1.3ms postprocess per image at shape (1, 3, 960, 544)\n",
      "\n",
      "0: 960x544 (no detections), 162.2ms\n",
      "Speed: 4.1ms preprocess, 162.2ms inference, 1.0ms postprocess per image at shape (1, 3, 960, 544)\n",
      "\n"
     ]
    },
    {
     "name": "stdout",
     "output_type": "stream",
     "text": [
      "frame No: 195\n",
      "frame No: 196\n"
     ]
    },
    {
     "name": "stderr",
     "output_type": "stream",
     "text": [
      "0: 960x544 (no detections), 161.6ms\n",
      "Speed: 4.4ms preprocess, 161.6ms inference, 1.0ms postprocess per image at shape (1, 3, 960, 544)\n",
      "\n",
      "0: 960x544 (no detections), 187.9ms\n",
      "Speed: 4.9ms preprocess, 187.9ms inference, 1.0ms postprocess per image at shape (1, 3, 960, 544)\n",
      "\n"
     ]
    },
    {
     "name": "stdout",
     "output_type": "stream",
     "text": [
      "frame No: 197\n",
      "frame No: 198\n"
     ]
    },
    {
     "name": "stderr",
     "output_type": "stream",
     "text": [
      "0: 960x544 (no detections), 162.8ms\n",
      "Speed: 5.4ms preprocess, 162.8ms inference, 1.0ms postprocess per image at shape (1, 3, 960, 544)\n",
      "\n"
     ]
    },
    {
     "name": "stdout",
     "output_type": "stream",
     "text": [
      "frame No: 199\n"
     ]
    },
    {
     "name": "stderr",
     "output_type": "stream",
     "text": [
      "0: 960x544 (no detections), 225.6ms\n",
      "Speed: 4.7ms preprocess, 225.6ms inference, 1.1ms postprocess per image at shape (1, 3, 960, 544)\n",
      "\n",
      "0: 960x544 (no detections), 167.7ms\n",
      "Speed: 4.9ms preprocess, 167.7ms inference, 1.0ms postprocess per image at shape (1, 3, 960, 544)\n",
      "\n"
     ]
    },
    {
     "name": "stdout",
     "output_type": "stream",
     "text": [
      "frame No: 200\n",
      "frame No: 201\n"
     ]
    },
    {
     "name": "stderr",
     "output_type": "stream",
     "text": [
      "0: 960x544 (no detections), 167.3ms\n",
      "Speed: 5.6ms preprocess, 167.3ms inference, 0.9ms postprocess per image at shape (1, 3, 960, 544)\n",
      "\n",
      "0: 960x544 (no detections), 168.5ms\n",
      "Speed: 4.4ms preprocess, 168.5ms inference, 0.9ms postprocess per image at shape (1, 3, 960, 544)\n",
      "\n"
     ]
    },
    {
     "name": "stdout",
     "output_type": "stream",
     "text": [
      "frame No: 202\n",
      "frame No: 203\n"
     ]
    },
    {
     "name": "stderr",
     "output_type": "stream",
     "text": [
      "0: 960x544 (no detections), 166.0ms\n",
      "Speed: 4.1ms preprocess, 166.0ms inference, 0.9ms postprocess per image at shape (1, 3, 960, 544)\n",
      "\n",
      "0: 960x544 (no detections), 158.9ms\n",
      "Speed: 5.3ms preprocess, 158.9ms inference, 0.9ms postprocess per image at shape (1, 3, 960, 544)\n",
      "\n"
     ]
    },
    {
     "name": "stdout",
     "output_type": "stream",
     "text": [
      "frame No: 204\n",
      "frame No: 205\n"
     ]
    },
    {
     "name": "stderr",
     "output_type": "stream",
     "text": [
      "0: 960x544 (no detections), 188.6ms\n",
      "Speed: 5.6ms preprocess, 188.6ms inference, 1.0ms postprocess per image at shape (1, 3, 960, 544)\n",
      "\n"
     ]
    },
    {
     "name": "stdout",
     "output_type": "stream",
     "text": [
      "frame No: 206\n"
     ]
    },
    {
     "name": "stderr",
     "output_type": "stream",
     "text": [
      "0: 960x544 (no detections), 300.5ms\n",
      "Speed: 6.2ms preprocess, 300.5ms inference, 1.0ms postprocess per image at shape (1, 3, 960, 544)\n",
      "\n",
      "0: 960x544 (no detections), 170.8ms\n",
      "Speed: 4.3ms preprocess, 170.8ms inference, 1.6ms postprocess per image at shape (1, 3, 960, 544)\n",
      "\n"
     ]
    },
    {
     "name": "stdout",
     "output_type": "stream",
     "text": [
      "frame No: 207\n",
      "frame No: 208\n"
     ]
    },
    {
     "name": "stderr",
     "output_type": "stream",
     "text": [
      "0: 960x544 (no detections), 167.1ms\n",
      "Speed: 4.4ms preprocess, 167.1ms inference, 1.0ms postprocess per image at shape (1, 3, 960, 544)\n",
      "\n",
      "0: 960x544 (no detections), 163.0ms\n",
      "Speed: 5.7ms preprocess, 163.0ms inference, 1.5ms postprocess per image at shape (1, 3, 960, 544)\n",
      "\n"
     ]
    },
    {
     "name": "stdout",
     "output_type": "stream",
     "text": [
      "frame No: 209\n",
      "frame No: 210\n"
     ]
    },
    {
     "name": "stderr",
     "output_type": "stream",
     "text": [
      "0: 960x544 (no detections), 177.9ms\n",
      "Speed: 4.5ms preprocess, 177.9ms inference, 1.0ms postprocess per image at shape (1, 3, 960, 544)\n",
      "\n",
      "0: 960x544 (no detections), 162.8ms\n",
      "Speed: 5.2ms preprocess, 162.8ms inference, 1.2ms postprocess per image at shape (1, 3, 960, 544)\n",
      "\n"
     ]
    },
    {
     "name": "stdout",
     "output_type": "stream",
     "text": [
      "frame No: 211\n",
      "frame No: 212\n"
     ]
    },
    {
     "name": "stderr",
     "output_type": "stream",
     "text": [
      "0: 960x544 (no detections), 171.9ms\n",
      "Speed: 4.9ms preprocess, 171.9ms inference, 1.0ms postprocess per image at shape (1, 3, 960, 544)\n",
      "\n",
      "0: 960x544 (no detections), 170.5ms\n",
      "Speed: 5.7ms preprocess, 170.5ms inference, 1.0ms postprocess per image at shape (1, 3, 960, 544)\n",
      "\n"
     ]
    },
    {
     "name": "stdout",
     "output_type": "stream",
     "text": [
      "frame No: 213\n",
      "frame No: 214\n"
     ]
    },
    {
     "name": "stderr",
     "output_type": "stream",
     "text": [
      "0: 960x544 (no detections), 221.6ms\n",
      "Speed: 4.3ms preprocess, 221.6ms inference, 0.9ms postprocess per image at shape (1, 3, 960, 544)\n",
      "\n",
      "0: 960x544 (no detections), 172.5ms\n",
      "Speed: 4.6ms preprocess, 172.5ms inference, 1.2ms postprocess per image at shape (1, 3, 960, 544)\n",
      "\n"
     ]
    },
    {
     "name": "stdout",
     "output_type": "stream",
     "text": [
      "frame No: 215\n",
      "frame No: 216\n"
     ]
    },
    {
     "name": "stderr",
     "output_type": "stream",
     "text": [
      "0: 960x544 (no detections), 167.7ms\n",
      "Speed: 4.6ms preprocess, 167.7ms inference, 1.0ms postprocess per image at shape (1, 3, 960, 544)\n",
      "\n",
      "0: 960x544 (no detections), 188.1ms\n",
      "Speed: 4.5ms preprocess, 188.1ms inference, 1.1ms postprocess per image at shape (1, 3, 960, 544)\n",
      "\n"
     ]
    },
    {
     "name": "stdout",
     "output_type": "stream",
     "text": [
      "frame No: 217\n",
      "frame No: 218\n"
     ]
    },
    {
     "name": "stderr",
     "output_type": "stream",
     "text": [
      "0: 960x544 (no detections), 177.9ms\n",
      "Speed: 5.7ms preprocess, 177.9ms inference, 1.4ms postprocess per image at shape (1, 3, 960, 544)\n",
      "\n",
      "0: 960x544 (no detections), 163.9ms\n",
      "Speed: 4.2ms preprocess, 163.9ms inference, 0.9ms postprocess per image at shape (1, 3, 960, 544)\n",
      "\n"
     ]
    },
    {
     "name": "stdout",
     "output_type": "stream",
     "text": [
      "frame No: 219\n",
      "frame No: 220\n"
     ]
    },
    {
     "name": "stderr",
     "output_type": "stream",
     "text": [
      "0: 960x544 (no detections), 169.4ms\n",
      "Speed: 4.4ms preprocess, 169.4ms inference, 1.5ms postprocess per image at shape (1, 3, 960, 544)\n",
      "\n",
      "0: 960x544 (no detections), 168.8ms\n",
      "Speed: 5.6ms preprocess, 168.8ms inference, 1.0ms postprocess per image at shape (1, 3, 960, 544)\n",
      "\n"
     ]
    },
    {
     "name": "stdout",
     "output_type": "stream",
     "text": [
      "frame No: 221\n",
      "frame No: 222\n"
     ]
    },
    {
     "name": "stderr",
     "output_type": "stream",
     "text": [
      "0: 960x544 (no detections), 165.7ms\n",
      "Speed: 4.3ms preprocess, 165.7ms inference, 1.0ms postprocess per image at shape (1, 3, 960, 544)\n",
      "\n",
      "0: 960x544 (no detections), 165.9ms\n",
      "Speed: 4.5ms preprocess, 165.9ms inference, 1.7ms postprocess per image at shape (1, 3, 960, 544)\n",
      "\n"
     ]
    },
    {
     "name": "stdout",
     "output_type": "stream",
     "text": [
      "frame No: 223\n",
      "frame No: 224\n"
     ]
    },
    {
     "name": "stderr",
     "output_type": "stream",
     "text": [
      "0: 960x544 (no detections), 165.9ms\n",
      "Speed: 4.2ms preprocess, 165.9ms inference, 1.0ms postprocess per image at shape (1, 3, 960, 544)\n",
      "\n",
      "0: 960x544 (no detections), 161.2ms\n",
      "Speed: 5.0ms preprocess, 161.2ms inference, 1.2ms postprocess per image at shape (1, 3, 960, 544)\n",
      "\n"
     ]
    },
    {
     "name": "stdout",
     "output_type": "stream",
     "text": [
      "frame No: 225\n",
      "frame No: 226\n"
     ]
    },
    {
     "name": "stderr",
     "output_type": "stream",
     "text": [
      "0: 960x544 (no detections), 172.8ms\n",
      "Speed: 4.2ms preprocess, 172.8ms inference, 1.0ms postprocess per image at shape (1, 3, 960, 544)\n",
      "\n",
      "0: 960x544 (no detections), 169.4ms\n",
      "Speed: 4.4ms preprocess, 169.4ms inference, 1.5ms postprocess per image at shape (1, 3, 960, 544)\n",
      "\n"
     ]
    },
    {
     "name": "stdout",
     "output_type": "stream",
     "text": [
      "frame No: 227\n",
      "frame No: 228\n"
     ]
    },
    {
     "name": "stderr",
     "output_type": "stream",
     "text": [
      "0: 960x544 (no detections), 186.9ms\n",
      "Speed: 5.2ms preprocess, 186.9ms inference, 0.9ms postprocess per image at shape (1, 3, 960, 544)\n",
      "\n",
      "0: 960x544 (no detections), 173.5ms\n",
      "Speed: 5.3ms preprocess, 173.5ms inference, 1.0ms postprocess per image at shape (1, 3, 960, 544)\n",
      "\n"
     ]
    },
    {
     "name": "stdout",
     "output_type": "stream",
     "text": [
      "frame No: 229\n",
      "frame No: 230\n"
     ]
    },
    {
     "name": "stderr",
     "output_type": "stream",
     "text": [
      "0: 960x544 (no detections), 166.1ms\n",
      "Speed: 6.1ms preprocess, 166.1ms inference, 1.0ms postprocess per image at shape (1, 3, 960, 544)\n",
      "\n",
      "0: 960x544 (no detections), 164.3ms\n",
      "Speed: 4.7ms preprocess, 164.3ms inference, 1.1ms postprocess per image at shape (1, 3, 960, 544)\n",
      "\n"
     ]
    },
    {
     "name": "stdout",
     "output_type": "stream",
     "text": [
      "frame No: 231\n",
      "frame No: 232\n"
     ]
    },
    {
     "name": "stderr",
     "output_type": "stream",
     "text": [
      "0: 960x544 (no detections), 172.9ms\n",
      "Speed: 5.6ms preprocess, 172.9ms inference, 1.0ms postprocess per image at shape (1, 3, 960, 544)\n",
      "\n",
      "0: 960x544 (no detections), 163.9ms\n",
      "Speed: 5.7ms preprocess, 163.9ms inference, 2.4ms postprocess per image at shape (1, 3, 960, 544)\n",
      "\n"
     ]
    },
    {
     "name": "stdout",
     "output_type": "stream",
     "text": [
      "frame No: 233\n",
      "frame No: 234\n"
     ]
    },
    {
     "name": "stderr",
     "output_type": "stream",
     "text": [
      "0: 960x544 (no detections), 173.0ms\n",
      "Speed: 4.6ms preprocess, 173.0ms inference, 1.7ms postprocess per image at shape (1, 3, 960, 544)\n",
      "\n",
      "0: 960x544 (no detections), 166.7ms\n",
      "Speed: 4.5ms preprocess, 166.7ms inference, 1.0ms postprocess per image at shape (1, 3, 960, 544)\n",
      "\n"
     ]
    },
    {
     "name": "stdout",
     "output_type": "stream",
     "text": [
      "frame No: 235\n",
      "frame No: 236\n"
     ]
    },
    {
     "name": "stderr",
     "output_type": "stream",
     "text": [
      "0: 960x544 (no detections), 169.0ms\n",
      "Speed: 5.7ms preprocess, 169.0ms inference, 0.9ms postprocess per image at shape (1, 3, 960, 544)\n",
      "\n"
     ]
    },
    {
     "name": "stdout",
     "output_type": "stream",
     "text": [
      "frame No: 237\n"
     ]
    },
    {
     "name": "stderr",
     "output_type": "stream",
     "text": [
      "0: 960x544 (no detections), 227.3ms\n",
      "Speed: 5.1ms preprocess, 227.3ms inference, 1.5ms postprocess per image at shape (1, 3, 960, 544)\n",
      "\n",
      "0: 960x544 (no detections), 168.0ms\n",
      "Speed: 4.7ms preprocess, 168.0ms inference, 0.9ms postprocess per image at shape (1, 3, 960, 544)\n",
      "\n"
     ]
    },
    {
     "name": "stdout",
     "output_type": "stream",
     "text": [
      "frame No: 238\n",
      "frame No: 239\n"
     ]
    },
    {
     "name": "stderr",
     "output_type": "stream",
     "text": [
      "0: 960x544 (no detections), 162.9ms\n",
      "Speed: 4.3ms preprocess, 162.9ms inference, 1.0ms postprocess per image at shape (1, 3, 960, 544)\n",
      "\n",
      "0: 960x544 (no detections), 175.3ms\n",
      "Speed: 4.5ms preprocess, 175.3ms inference, 1.1ms postprocess per image at shape (1, 3, 960, 544)\n",
      "\n"
     ]
    },
    {
     "name": "stdout",
     "output_type": "stream",
     "text": [
      "frame No: 240\n",
      "frame No: 241\n"
     ]
    },
    {
     "name": "stderr",
     "output_type": "stream",
     "text": [
      "0: 960x544 (no detections), 164.7ms\n",
      "Speed: 4.1ms preprocess, 164.7ms inference, 0.9ms postprocess per image at shape (1, 3, 960, 544)\n",
      "\n",
      "0: 960x544 (no detections), 165.4ms\n",
      "Speed: 4.6ms preprocess, 165.4ms inference, 1.0ms postprocess per image at shape (1, 3, 960, 544)\n",
      "\n"
     ]
    },
    {
     "name": "stdout",
     "output_type": "stream",
     "text": [
      "frame No: 242\n",
      "frame No: 243\n"
     ]
    },
    {
     "name": "stderr",
     "output_type": "stream",
     "text": [
      "0: 960x544 (no detections), 172.7ms\n",
      "Speed: 6.4ms preprocess, 172.7ms inference, 1.2ms postprocess per image at shape (1, 3, 960, 544)\n",
      "\n",
      "0: 960x544 (no detections), 165.8ms\n",
      "Speed: 4.2ms preprocess, 165.8ms inference, 1.0ms postprocess per image at shape (1, 3, 960, 544)\n",
      "\n"
     ]
    },
    {
     "name": "stdout",
     "output_type": "stream",
     "text": [
      "frame No: 244\n",
      "frame No: 245\n"
     ]
    },
    {
     "name": "stderr",
     "output_type": "stream",
     "text": [
      "0: 960x544 (no detections), 171.9ms\n",
      "Speed: 4.3ms preprocess, 171.9ms inference, 1.2ms postprocess per image at shape (1, 3, 960, 544)\n",
      "\n",
      "0: 960x544 (no detections), 163.9ms\n",
      "Speed: 5.1ms preprocess, 163.9ms inference, 1.2ms postprocess per image at shape (1, 3, 960, 544)\n",
      "\n"
     ]
    },
    {
     "name": "stdout",
     "output_type": "stream",
     "text": [
      "frame No: 246\n",
      "frame No: 247\n"
     ]
    },
    {
     "name": "stderr",
     "output_type": "stream",
     "text": [
      "0: 960x544 (no detections), 166.6ms\n",
      "Speed: 4.4ms preprocess, 166.6ms inference, 1.0ms postprocess per image at shape (1, 3, 960, 544)\n",
      "\n",
      "0: 960x544 (no detections), 179.5ms\n",
      "Speed: 5.1ms preprocess, 179.5ms inference, 1.0ms postprocess per image at shape (1, 3, 960, 544)\n",
      "\n"
     ]
    },
    {
     "name": "stdout",
     "output_type": "stream",
     "text": [
      "frame No: 248\n",
      "frame No: 249\n"
     ]
    },
    {
     "name": "stderr",
     "output_type": "stream",
     "text": [
      "0: 960x544 (no detections), 169.7ms\n",
      "Speed: 3.9ms preprocess, 169.7ms inference, 0.9ms postprocess per image at shape (1, 3, 960, 544)\n",
      "\n",
      "0: 960x544 (no detections), 161.8ms\n",
      "Speed: 5.9ms preprocess, 161.8ms inference, 1.0ms postprocess per image at shape (1, 3, 960, 544)\n",
      "\n"
     ]
    },
    {
     "name": "stdout",
     "output_type": "stream",
     "text": [
      "frame No: 250\n",
      "frame No: 251\n"
     ]
    },
    {
     "name": "stderr",
     "output_type": "stream",
     "text": [
      "0: 960x544 (no detections), 174.0ms\n",
      "Speed: 4.1ms preprocess, 174.0ms inference, 2.6ms postprocess per image at shape (1, 3, 960, 544)\n",
      "\n",
      "0: 960x544 (no detections), 181.8ms\n",
      "Speed: 4.5ms preprocess, 181.8ms inference, 1.1ms postprocess per image at shape (1, 3, 960, 544)\n",
      "\n"
     ]
    },
    {
     "name": "stdout",
     "output_type": "stream",
     "text": [
      "frame No: 252\n",
      "frame No: 253\n"
     ]
    },
    {
     "name": "stderr",
     "output_type": "stream",
     "text": [
      "0: 960x544 (no detections), 166.3ms\n",
      "Speed: 5.8ms preprocess, 166.3ms inference, 1.0ms postprocess per image at shape (1, 3, 960, 544)\n",
      "\n"
     ]
    },
    {
     "name": "stdout",
     "output_type": "stream",
     "text": [
      "frame No: 254\n"
     ]
    },
    {
     "name": "stderr",
     "output_type": "stream",
     "text": [
      "0: 960x544 (no detections), 207.7ms\n",
      "Speed: 4.2ms preprocess, 207.7ms inference, 1.3ms postprocess per image at shape (1, 3, 960, 544)\n",
      "\n",
      "0: 960x544 (no detections), 161.7ms\n",
      "Speed: 5.9ms preprocess, 161.7ms inference, 1.1ms postprocess per image at shape (1, 3, 960, 544)\n",
      "\n"
     ]
    },
    {
     "name": "stdout",
     "output_type": "stream",
     "text": [
      "frame No: 255\n",
      "frame No: 256\n"
     ]
    },
    {
     "name": "stderr",
     "output_type": "stream",
     "text": [
      "0: 960x544 (no detections), 174.6ms\n",
      "Speed: 4.6ms preprocess, 174.6ms inference, 1.0ms postprocess per image at shape (1, 3, 960, 544)\n",
      "\n",
      "0: 960x544 (no detections), 176.4ms\n",
      "Speed: 4.4ms preprocess, 176.4ms inference, 1.3ms postprocess per image at shape (1, 3, 960, 544)\n",
      "\n"
     ]
    },
    {
     "name": "stdout",
     "output_type": "stream",
     "text": [
      "frame No: 257\n",
      "frame No: 258\n"
     ]
    },
    {
     "name": "stderr",
     "output_type": "stream",
     "text": [
      "0: 960x544 (no detections), 164.1ms\n",
      "Speed: 4.1ms preprocess, 164.1ms inference, 0.9ms postprocess per image at shape (1, 3, 960, 544)\n",
      "\n",
      "0: 960x544 (no detections), 169.7ms\n",
      "Speed: 4.5ms preprocess, 169.7ms inference, 1.2ms postprocess per image at shape (1, 3, 960, 544)\n",
      "\n"
     ]
    },
    {
     "name": "stdout",
     "output_type": "stream",
     "text": [
      "frame No: 259\n",
      "frame No: 260\n"
     ]
    },
    {
     "name": "stderr",
     "output_type": "stream",
     "text": [
      "0: 960x544 (no detections), 165.8ms\n",
      "Speed: 5.0ms preprocess, 165.8ms inference, 0.9ms postprocess per image at shape (1, 3, 960, 544)\n",
      "\n",
      "0: 960x544 (no detections), 162.6ms\n",
      "Speed: 5.3ms preprocess, 162.6ms inference, 1.4ms postprocess per image at shape (1, 3, 960, 544)\n",
      "\n"
     ]
    },
    {
     "name": "stdout",
     "output_type": "stream",
     "text": [
      "frame No: 261\n",
      "frame No: 262\n"
     ]
    },
    {
     "name": "stderr",
     "output_type": "stream",
     "text": [
      "0: 960x544 (no detections), 181.0ms\n",
      "Speed: 4.2ms preprocess, 181.0ms inference, 0.9ms postprocess per image at shape (1, 3, 960, 544)\n",
      "\n",
      "0: 960x544 (no detections), 173.7ms\n",
      "Speed: 5.3ms preprocess, 173.7ms inference, 1.0ms postprocess per image at shape (1, 3, 960, 544)\n",
      "\n"
     ]
    },
    {
     "name": "stdout",
     "output_type": "stream",
     "text": [
      "frame No: 263\n",
      "frame No: 264\n"
     ]
    },
    {
     "name": "stderr",
     "output_type": "stream",
     "text": [
      "0: 960x544 (no detections), 179.9ms\n",
      "Speed: 4.9ms preprocess, 179.9ms inference, 2.5ms postprocess per image at shape (1, 3, 960, 544)\n",
      "\n",
      "0: 960x544 (no detections), 183.5ms\n",
      "Speed: 6.0ms preprocess, 183.5ms inference, 1.1ms postprocess per image at shape (1, 3, 960, 544)\n",
      "\n"
     ]
    },
    {
     "name": "stdout",
     "output_type": "stream",
     "text": [
      "frame No: 265\n",
      "frame No: 266\n"
     ]
    },
    {
     "name": "stderr",
     "output_type": "stream",
     "text": [
      "0: 960x544 (no detections), 166.5ms\n",
      "Speed: 6.3ms preprocess, 166.5ms inference, 1.0ms postprocess per image at shape (1, 3, 960, 544)\n",
      "\n",
      "0: 960x544 (no detections), 168.1ms\n",
      "Speed: 4.3ms preprocess, 168.1ms inference, 1.4ms postprocess per image at shape (1, 3, 960, 544)\n",
      "\n"
     ]
    },
    {
     "name": "stdout",
     "output_type": "stream",
     "text": [
      "frame No: 267\n",
      "frame No: 268\n"
     ]
    },
    {
     "name": "stderr",
     "output_type": "stream",
     "text": [
      "0: 960x544 (no detections), 273.1ms\n",
      "Speed: 4.3ms preprocess, 273.1ms inference, 1.3ms postprocess per image at shape (1, 3, 960, 544)\n",
      "\n"
     ]
    },
    {
     "name": "stdout",
     "output_type": "stream",
     "text": [
      "frame No: 269\n"
     ]
    },
    {
     "name": "stderr",
     "output_type": "stream",
     "text": [
      "0: 960x544 (no detections), 222.1ms\n",
      "Speed: 4.7ms preprocess, 222.1ms inference, 1.1ms postprocess per image at shape (1, 3, 960, 544)\n",
      "\n",
      "0: 960x544 (no detections), 163.7ms\n",
      "Speed: 4.0ms preprocess, 163.7ms inference, 0.9ms postprocess per image at shape (1, 3, 960, 544)\n",
      "\n"
     ]
    },
    {
     "name": "stdout",
     "output_type": "stream",
     "text": [
      "frame No: 270\n",
      "frame No: 271\n"
     ]
    },
    {
     "name": "stderr",
     "output_type": "stream",
     "text": [
      "0: 960x544 (no detections), 166.4ms\n",
      "Speed: 4.2ms preprocess, 166.4ms inference, 1.0ms postprocess per image at shape (1, 3, 960, 544)\n",
      "\n",
      "0: 960x544 (no detections), 168.9ms\n",
      "Speed: 4.3ms preprocess, 168.9ms inference, 1.0ms postprocess per image at shape (1, 3, 960, 544)\n",
      "\n"
     ]
    },
    {
     "name": "stdout",
     "output_type": "stream",
     "text": [
      "frame No: 272\n",
      "frame No: 273\n"
     ]
    },
    {
     "name": "stderr",
     "output_type": "stream",
     "text": [
      "0: 960x544 (no detections), 168.4ms\n",
      "Speed: 5.6ms preprocess, 168.4ms inference, 0.9ms postprocess per image at shape (1, 3, 960, 544)\n",
      "\n",
      "0: 960x544 (no detections), 175.8ms\n",
      "Speed: 4.4ms preprocess, 175.8ms inference, 1.0ms postprocess per image at shape (1, 3, 960, 544)\n",
      "\n"
     ]
    },
    {
     "name": "stdout",
     "output_type": "stream",
     "text": [
      "frame No: 274\n",
      "frame No: 275\n"
     ]
    },
    {
     "name": "stderr",
     "output_type": "stream",
     "text": [
      "0: 960x544 (no detections), 175.4ms\n",
      "Speed: 4.4ms preprocess, 175.4ms inference, 1.0ms postprocess per image at shape (1, 3, 960, 544)\n",
      "\n",
      "0: 960x544 (no detections), 174.1ms\n",
      "Speed: 6.0ms preprocess, 174.1ms inference, 1.0ms postprocess per image at shape (1, 3, 960, 544)\n",
      "\n"
     ]
    },
    {
     "name": "stdout",
     "output_type": "stream",
     "text": [
      "frame No: 276\n",
      "frame No: 277\n"
     ]
    },
    {
     "name": "stderr",
     "output_type": "stream",
     "text": [
      "0: 960x544 (no detections), 170.2ms\n",
      "Speed: 5.6ms preprocess, 170.2ms inference, 1.0ms postprocess per image at shape (1, 3, 960, 544)\n",
      "\n",
      "0: 960x544 (no detections), 166.7ms\n",
      "Speed: 5.5ms preprocess, 166.7ms inference, 1.3ms postprocess per image at shape (1, 3, 960, 544)\n",
      "\n"
     ]
    },
    {
     "name": "stdout",
     "output_type": "stream",
     "text": [
      "frame No: 278\n",
      "frame No: 279\n"
     ]
    },
    {
     "name": "stderr",
     "output_type": "stream",
     "text": [
      "0: 960x544 (no detections), 166.4ms\n",
      "Speed: 4.8ms preprocess, 166.4ms inference, 1.0ms postprocess per image at shape (1, 3, 960, 544)\n",
      "\n",
      "0: 960x544 (no detections), 176.0ms\n",
      "Speed: 5.6ms preprocess, 176.0ms inference, 0.9ms postprocess per image at shape (1, 3, 960, 544)\n",
      "\n"
     ]
    },
    {
     "name": "stdout",
     "output_type": "stream",
     "text": [
      "frame No: 280\n",
      "frame No: 281\n"
     ]
    },
    {
     "name": "stderr",
     "output_type": "stream",
     "text": [
      "0: 960x544 (no detections), 167.9ms\n",
      "Speed: 4.5ms preprocess, 167.9ms inference, 1.0ms postprocess per image at shape (1, 3, 960, 544)\n",
      "\n",
      "0: 960x544 (no detections), 171.1ms\n",
      "Speed: 6.1ms preprocess, 171.1ms inference, 0.9ms postprocess per image at shape (1, 3, 960, 544)\n",
      "\n"
     ]
    },
    {
     "name": "stdout",
     "output_type": "stream",
     "text": [
      "frame No: 282\n",
      "frame No: 283\n"
     ]
    },
    {
     "name": "stderr",
     "output_type": "stream",
     "text": [
      "0: 960x544 (no detections), 171.3ms\n",
      "Speed: 6.9ms preprocess, 171.3ms inference, 1.1ms postprocess per image at shape (1, 3, 960, 544)\n",
      "\n",
      "0: 960x544 (no detections), 166.6ms\n",
      "Speed: 6.4ms preprocess, 166.6ms inference, 1.0ms postprocess per image at shape (1, 3, 960, 544)\n",
      "\n"
     ]
    },
    {
     "name": "stdout",
     "output_type": "stream",
     "text": [
      "frame No: 284\n",
      "frame No: 285\n"
     ]
    },
    {
     "name": "stderr",
     "output_type": "stream",
     "text": [
      "0: 960x544 (no detections), 166.0ms\n",
      "Speed: 4.4ms preprocess, 166.0ms inference, 1.1ms postprocess per image at shape (1, 3, 960, 544)\n",
      "\n",
      "0: 960x544 (no detections), 172.0ms\n",
      "Speed: 4.2ms preprocess, 172.0ms inference, 1.0ms postprocess per image at shape (1, 3, 960, 544)\n",
      "\n"
     ]
    },
    {
     "name": "stdout",
     "output_type": "stream",
     "text": [
      "frame No: 286\n",
      "frame No: 287\n"
     ]
    },
    {
     "name": "stderr",
     "output_type": "stream",
     "text": [
      "0: 960x544 (no detections), 172.6ms\n",
      "Speed: 6.1ms preprocess, 172.6ms inference, 0.9ms postprocess per image at shape (1, 3, 960, 544)\n",
      "\n",
      "0: 960x544 (no detections), 162.7ms\n",
      "Speed: 6.2ms preprocess, 162.7ms inference, 1.3ms postprocess per image at shape (1, 3, 960, 544)\n",
      "\n"
     ]
    },
    {
     "name": "stdout",
     "output_type": "stream",
     "text": [
      "frame No: 288\n",
      "frame No: 289\n"
     ]
    },
    {
     "name": "stderr",
     "output_type": "stream",
     "text": [
      "0: 960x544 (no detections), 170.0ms\n",
      "Speed: 6.9ms preprocess, 170.0ms inference, 1.7ms postprocess per image at shape (1, 3, 960, 544)\n",
      "\n",
      "0: 960x544 (no detections), 165.2ms\n",
      "Speed: 4.5ms preprocess, 165.2ms inference, 1.0ms postprocess per image at shape (1, 3, 960, 544)\n",
      "\n"
     ]
    },
    {
     "name": "stdout",
     "output_type": "stream",
     "text": [
      "frame No: 290\n",
      "frame No: 291\n"
     ]
    },
    {
     "name": "stderr",
     "output_type": "stream",
     "text": [
      "0: 960x544 (no detections), 173.2ms\n",
      "Speed: 4.7ms preprocess, 173.2ms inference, 1.0ms postprocess per image at shape (1, 3, 960, 544)\n",
      "\n"
     ]
    },
    {
     "name": "stdout",
     "output_type": "stream",
     "text": [
      "frame No: 292\n"
     ]
    },
    {
     "name": "stderr",
     "output_type": "stream",
     "text": [
      "0: 960x544 (no detections), 204.2ms\n",
      "Speed: 6.2ms preprocess, 204.2ms inference, 1.4ms postprocess per image at shape (1, 3, 960, 544)\n",
      "\n"
     ]
    },
    {
     "name": "stdout",
     "output_type": "stream",
     "text": [
      "frame No: 293\n"
     ]
    },
    {
     "name": "stderr",
     "output_type": "stream",
     "text": [
      "0: 960x544 (no detections), 214.7ms\n",
      "Speed: 5.7ms preprocess, 214.7ms inference, 1.2ms postprocess per image at shape (1, 3, 960, 544)\n",
      "\n",
      "0: 960x544 (no detections), 178.6ms\n",
      "Speed: 4.9ms preprocess, 178.6ms inference, 1.0ms postprocess per image at shape (1, 3, 960, 544)\n",
      "\n"
     ]
    },
    {
     "name": "stdout",
     "output_type": "stream",
     "text": [
      "frame No: 294\n",
      "frame No: 295\n"
     ]
    },
    {
     "name": "stderr",
     "output_type": "stream",
     "text": [
      "0: 960x544 (no detections), 170.6ms\n",
      "Speed: 4.6ms preprocess, 170.6ms inference, 1.0ms postprocess per image at shape (1, 3, 960, 544)\n",
      "\n",
      "0: 960x544 (no detections), 171.2ms\n",
      "Speed: 4.8ms preprocess, 171.2ms inference, 1.4ms postprocess per image at shape (1, 3, 960, 544)\n",
      "\n"
     ]
    },
    {
     "name": "stdout",
     "output_type": "stream",
     "text": [
      "frame No: 296\n",
      "frame No: 297\n"
     ]
    },
    {
     "name": "stderr",
     "output_type": "stream",
     "text": [
      "0: 960x544 (no detections), 170.1ms\n",
      "Speed: 4.5ms preprocess, 170.1ms inference, 1.1ms postprocess per image at shape (1, 3, 960, 544)\n",
      "\n",
      "0: 960x544 (no detections), 161.7ms\n",
      "Speed: 4.7ms preprocess, 161.7ms inference, 0.9ms postprocess per image at shape (1, 3, 960, 544)\n",
      "\n"
     ]
    },
    {
     "name": "stdout",
     "output_type": "stream",
     "text": [
      "frame No: 298\n",
      "frame No: 299\n"
     ]
    },
    {
     "name": "stderr",
     "output_type": "stream",
     "text": [
      "0: 960x544 (no detections), 175.5ms\n",
      "Speed: 4.3ms preprocess, 175.5ms inference, 1.0ms postprocess per image at shape (1, 3, 960, 544)\n",
      "\n",
      "0: 960x544 (no detections), 167.0ms\n",
      "Speed: 4.5ms preprocess, 167.0ms inference, 1.0ms postprocess per image at shape (1, 3, 960, 544)\n",
      "\n"
     ]
    },
    {
     "name": "stdout",
     "output_type": "stream",
     "text": [
      "frame No: 300\n",
      "frame No: 301\n"
     ]
    },
    {
     "name": "stderr",
     "output_type": "stream",
     "text": [
      "0: 960x544 (no detections), 165.1ms\n",
      "Speed: 4.5ms preprocess, 165.1ms inference, 1.0ms postprocess per image at shape (1, 3, 960, 544)\n",
      "\n",
      "0: 960x544 (no detections), 171.7ms\n",
      "Speed: 6.0ms preprocess, 171.7ms inference, 0.9ms postprocess per image at shape (1, 3, 960, 544)\n",
      "\n"
     ]
    },
    {
     "name": "stdout",
     "output_type": "stream",
     "text": [
      "frame No: 302\n",
      "frame No: 303\n"
     ]
    },
    {
     "name": "stderr",
     "output_type": "stream",
     "text": [
      "0: 960x544 (no detections), 166.4ms\n",
      "Speed: 4.9ms preprocess, 166.4ms inference, 1.3ms postprocess per image at shape (1, 3, 960, 544)\n",
      "\n",
      "0: 960x544 (no detections), 165.4ms\n",
      "Speed: 4.7ms preprocess, 165.4ms inference, 1.0ms postprocess per image at shape (1, 3, 960, 544)\n",
      "\n"
     ]
    },
    {
     "name": "stdout",
     "output_type": "stream",
     "text": [
      "frame No: 304\n",
      "frame No: 305\n"
     ]
    },
    {
     "name": "stderr",
     "output_type": "stream",
     "text": [
      "0: 960x544 (no detections), 174.6ms\n",
      "Speed: 4.4ms preprocess, 174.6ms inference, 1.0ms postprocess per image at shape (1, 3, 960, 544)\n",
      "\n",
      "0: 960x544 (no detections), 162.7ms\n",
      "Speed: 6.0ms preprocess, 162.7ms inference, 1.3ms postprocess per image at shape (1, 3, 960, 544)\n",
      "\n"
     ]
    },
    {
     "name": "stdout",
     "output_type": "stream",
     "text": [
      "frame No: 306\n",
      "frame No: 307\n"
     ]
    },
    {
     "name": "stderr",
     "output_type": "stream",
     "text": [
      "0: 960x544 (no detections), 165.9ms\n",
      "Speed: 4.1ms preprocess, 165.9ms inference, 1.0ms postprocess per image at shape (1, 3, 960, 544)\n",
      "\n",
      "0: 960x544 (no detections), 171.1ms\n",
      "Speed: 6.5ms preprocess, 171.1ms inference, 0.9ms postprocess per image at shape (1, 3, 960, 544)\n",
      "\n"
     ]
    },
    {
     "name": "stdout",
     "output_type": "stream",
     "text": [
      "frame No: 308\n",
      "frame No: 309\n"
     ]
    },
    {
     "name": "stderr",
     "output_type": "stream",
     "text": [
      "0: 960x544 (no detections), 187.9ms\n",
      "Speed: 5.5ms preprocess, 187.9ms inference, 0.9ms postprocess per image at shape (1, 3, 960, 544)\n",
      "\n"
     ]
    },
    {
     "name": "stdout",
     "output_type": "stream",
     "text": [
      "frame No: 310\n"
     ]
    },
    {
     "name": "stderr",
     "output_type": "stream",
     "text": [
      "0: 960x544 (no detections), 193.6ms\n",
      "Speed: 4.7ms preprocess, 193.6ms inference, 1.5ms postprocess per image at shape (1, 3, 960, 544)\n",
      "\n",
      "0: 960x544 (no detections), 175.4ms\n",
      "Speed: 6.1ms preprocess, 175.4ms inference, 1.1ms postprocess per image at shape (1, 3, 960, 544)\n",
      "\n"
     ]
    },
    {
     "name": "stdout",
     "output_type": "stream",
     "text": [
      "frame No: 311\n",
      "frame No: 312\n"
     ]
    },
    {
     "name": "stderr",
     "output_type": "stream",
     "text": [
      "0: 960x544 (no detections), 309.3ms\n",
      "Speed: 4.5ms preprocess, 309.3ms inference, 1.0ms postprocess per image at shape (1, 3, 960, 544)\n",
      "\n",
      "0: 960x544 (no detections), 173.3ms\n",
      "Speed: 5.4ms preprocess, 173.3ms inference, 1.7ms postprocess per image at shape (1, 3, 960, 544)\n",
      "\n"
     ]
    },
    {
     "name": "stdout",
     "output_type": "stream",
     "text": [
      "frame No: 313\n",
      "frame No: 314\n"
     ]
    },
    {
     "name": "stderr",
     "output_type": "stream",
     "text": [
      "0: 960x544 (no detections), 172.0ms\n",
      "Speed: 4.5ms preprocess, 172.0ms inference, 0.9ms postprocess per image at shape (1, 3, 960, 544)\n",
      "\n"
     ]
    },
    {
     "name": "stdout",
     "output_type": "stream",
     "text": [
      "frame No: 315\n"
     ]
    },
    {
     "name": "stderr",
     "output_type": "stream",
     "text": [
      "0: 960x544 (no detections), 229.3ms\n",
      "Speed: 5.7ms preprocess, 229.3ms inference, 0.9ms postprocess per image at shape (1, 3, 960, 544)\n",
      "\n",
      "0: 960x544 (no detections), 182.2ms\n",
      "Speed: 5.4ms preprocess, 182.2ms inference, 0.9ms postprocess per image at shape (1, 3, 960, 544)\n",
      "\n"
     ]
    },
    {
     "name": "stdout",
     "output_type": "stream",
     "text": [
      "frame No: 316\n",
      "frame No: 317\n"
     ]
    },
    {
     "name": "stderr",
     "output_type": "stream",
     "text": [
      "0: 960x544 (no detections), 193.1ms\n",
      "Speed: 5.3ms preprocess, 193.1ms inference, 1.4ms postprocess per image at shape (1, 3, 960, 544)\n",
      "\n",
      "0: 960x544 (no detections), 172.1ms\n",
      "Speed: 4.3ms preprocess, 172.1ms inference, 1.2ms postprocess per image at shape (1, 3, 960, 544)\n",
      "\n"
     ]
    },
    {
     "name": "stdout",
     "output_type": "stream",
     "text": [
      "frame No: 318\n",
      "frame No: 319\n"
     ]
    },
    {
     "name": "stderr",
     "output_type": "stream",
     "text": [
      "0: 960x544 (no detections), 169.4ms\n",
      "Speed: 4.8ms preprocess, 169.4ms inference, 1.0ms postprocess per image at shape (1, 3, 960, 544)\n",
      "\n",
      "0: 960x544 (no detections), 174.6ms\n",
      "Speed: 4.4ms preprocess, 174.6ms inference, 1.1ms postprocess per image at shape (1, 3, 960, 544)\n",
      "\n"
     ]
    },
    {
     "name": "stdout",
     "output_type": "stream",
     "text": [
      "frame No: 320\n",
      "frame No: 321\n"
     ]
    },
    {
     "name": "stderr",
     "output_type": "stream",
     "text": [
      "0: 960x544 (no detections), 170.7ms\n",
      "Speed: 4.7ms preprocess, 170.7ms inference, 1.0ms postprocess per image at shape (1, 3, 960, 544)\n",
      "\n",
      "0: 960x544 (no detections), 168.7ms\n",
      "Speed: 4.0ms preprocess, 168.7ms inference, 1.0ms postprocess per image at shape (1, 3, 960, 544)\n",
      "\n"
     ]
    },
    {
     "name": "stdout",
     "output_type": "stream",
     "text": [
      "frame No: 322\n",
      "frame No: 323\n"
     ]
    },
    {
     "name": "stderr",
     "output_type": "stream",
     "text": [
      "0: 960x544 (no detections), 165.0ms\n",
      "Speed: 5.0ms preprocess, 165.0ms inference, 1.0ms postprocess per image at shape (1, 3, 960, 544)\n",
      "\n",
      "0: 960x544 (no detections), 156.4ms\n",
      "Speed: 4.2ms preprocess, 156.4ms inference, 1.4ms postprocess per image at shape (1, 3, 960, 544)\n",
      "\n"
     ]
    },
    {
     "name": "stdout",
     "output_type": "stream",
     "text": [
      "frame No: 324\n",
      "frame No: 325\n"
     ]
    },
    {
     "name": "stderr",
     "output_type": "stream",
     "text": [
      "0: 960x544 (no detections), 196.9ms\n",
      "Speed: 4.5ms preprocess, 196.9ms inference, 1.2ms postprocess per image at shape (1, 3, 960, 544)\n",
      "\n",
      "0: 960x544 1 car, 177.6ms\n",
      "Speed: 4.5ms preprocess, 177.6ms inference, 2.2ms postprocess per image at shape (1, 3, 960, 544)\n",
      "\n"
     ]
    },
    {
     "name": "stdout",
     "output_type": "stream",
     "text": [
      "frame No: 326\n",
      "frame No: 327\n"
     ]
    },
    {
     "name": "stderr",
     "output_type": "stream",
     "text": [
      "0: 960x544 1 car, 276.2ms\n",
      "Speed: 9.8ms preprocess, 276.2ms inference, 2.1ms postprocess per image at shape (1, 3, 960, 544)\n",
      "\n",
      "0: 960x544 (no detections), 162.2ms\n",
      "Speed: 4.6ms preprocess, 162.2ms inference, 1.0ms postprocess per image at shape (1, 3, 960, 544)\n",
      "\n"
     ]
    },
    {
     "name": "stdout",
     "output_type": "stream",
     "text": [
      "frame No: 328\n",
      "frame No: 329\n"
     ]
    },
    {
     "name": "stderr",
     "output_type": "stream",
     "text": [
      "0: 960x544 (no detections), 166.3ms\n",
      "Speed: 5.2ms preprocess, 166.3ms inference, 1.2ms postprocess per image at shape (1, 3, 960, 544)\n",
      "\n"
     ]
    },
    {
     "name": "stdout",
     "output_type": "stream",
     "text": [
      "frame No: 330\n"
     ]
    },
    {
     "name": "stderr",
     "output_type": "stream",
     "text": [
      "0: 960x544 1 car, 229.0ms\n",
      "Speed: 4.9ms preprocess, 229.0ms inference, 1.2ms postprocess per image at shape (1, 3, 960, 544)\n",
      "\n",
      "0: 960x544 1 car, 177.0ms\n",
      "Speed: 6.1ms preprocess, 177.0ms inference, 1.3ms postprocess per image at shape (1, 3, 960, 544)\n",
      "\n"
     ]
    },
    {
     "name": "stdout",
     "output_type": "stream",
     "text": [
      "frame No: 331\n",
      "frame No: 332\n"
     ]
    },
    {
     "name": "stderr",
     "output_type": "stream",
     "text": [
      "0: 960x544 1 car, 197.3ms\n",
      "Speed: 4.1ms preprocess, 197.3ms inference, 1.9ms postprocess per image at shape (1, 3, 960, 544)\n",
      "\n",
      "0: 960x544 1 car, 189.4ms\n",
      "Speed: 6.5ms preprocess, 189.4ms inference, 1.2ms postprocess per image at shape (1, 3, 960, 544)\n"
     ]
    },
    {
     "name": "stdout",
     "output_type": "stream",
     "text": [
      "frame No: 333\n"
     ]
    },
    {
     "name": "stderr",
     "output_type": "stream",
     "text": [
      "\n",
      "0: 960x544 1 car, 154.5ms\n",
      "Speed: 4.8ms preprocess, 154.5ms inference, 1.1ms postprocess per image at shape (1, 3, 960, 544)\n",
      "\n"
     ]
    },
    {
     "name": "stdout",
     "output_type": "stream",
     "text": [
      "frame No: 334\n",
      "frame No: 335\n"
     ]
    },
    {
     "name": "stderr",
     "output_type": "stream",
     "text": [
      "0: 960x544 1 car, 193.2ms\n",
      "Speed: 4.9ms preprocess, 193.2ms inference, 1.4ms postprocess per image at shape (1, 3, 960, 544)\n",
      "\n"
     ]
    },
    {
     "name": "stdout",
     "output_type": "stream",
     "text": [
      "frame No: 336\n"
     ]
    },
    {
     "name": "stderr",
     "output_type": "stream",
     "text": [
      "0: 960x544 1 car, 312.3ms\n",
      "Speed: 4.8ms preprocess, 312.3ms inference, 1.2ms postprocess per image at shape (1, 3, 960, 544)\n",
      "\n"
     ]
    },
    {
     "name": "stdout",
     "output_type": "stream",
     "text": [
      "frame No: 337\n"
     ]
    },
    {
     "name": "stderr",
     "output_type": "stream",
     "text": [
      "0: 960x544 1 car, 239.1ms\n",
      "Speed: 4.3ms preprocess, 239.1ms inference, 1.5ms postprocess per image at shape (1, 3, 960, 544)\n",
      "\n"
     ]
    },
    {
     "name": "stdout",
     "output_type": "stream",
     "text": [
      "frame No: 338\n"
     ]
    },
    {
     "name": "stderr",
     "output_type": "stream",
     "text": [
      "0: 960x544 1 car, 247.7ms\n",
      "Speed: 6.0ms preprocess, 247.7ms inference, 1.1ms postprocess per image at shape (1, 3, 960, 544)\n",
      "\n"
     ]
    },
    {
     "name": "stdout",
     "output_type": "stream",
     "text": [
      "frame No: 339\n"
     ]
    },
    {
     "name": "stderr",
     "output_type": "stream",
     "text": [
      "0: 960x544 1 car, 272.9ms\n",
      "Speed: 6.1ms preprocess, 272.9ms inference, 2.0ms postprocess per image at shape (1, 3, 960, 544)\n",
      "\n"
     ]
    },
    {
     "name": "stdout",
     "output_type": "stream",
     "text": [
      "frame No: 340\n"
     ]
    },
    {
     "name": "stderr",
     "output_type": "stream",
     "text": [
      "0: 960x544 1 car, 226.9ms\n",
      "Speed: 8.1ms preprocess, 226.9ms inference, 1.6ms postprocess per image at shape (1, 3, 960, 544)\n",
      "\n"
     ]
    },
    {
     "name": "stdout",
     "output_type": "stream",
     "text": [
      "frame No: 341\n"
     ]
    },
    {
     "name": "stderr",
     "output_type": "stream",
     "text": [
      "0: 960x544 1 car, 245.0ms\n",
      "Speed: 4.7ms preprocess, 245.0ms inference, 1.5ms postprocess per image at shape (1, 3, 960, 544)\n",
      "\n"
     ]
    },
    {
     "name": "stdout",
     "output_type": "stream",
     "text": [
      "frame No: 342\n"
     ]
    },
    {
     "name": "stderr",
     "output_type": "stream",
     "text": [
      "0: 960x544 1 car, 221.6ms\n",
      "Speed: 7.1ms preprocess, 221.6ms inference, 1.8ms postprocess per image at shape (1, 3, 960, 544)\n",
      "\n"
     ]
    },
    {
     "name": "stdout",
     "output_type": "stream",
     "text": [
      "frame No: 343\n"
     ]
    },
    {
     "name": "stderr",
     "output_type": "stream",
     "text": [
      "0: 960x544 1 car, 329.3ms\n",
      "Speed: 6.4ms preprocess, 329.3ms inference, 1.8ms postprocess per image at shape (1, 3, 960, 544)\n",
      "\n"
     ]
    },
    {
     "name": "stdout",
     "output_type": "stream",
     "text": [
      "frame No: 344\n"
     ]
    },
    {
     "name": "stderr",
     "output_type": "stream",
     "text": [
      "0: 960x544 1 car, 241.8ms\n",
      "Speed: 6.3ms preprocess, 241.8ms inference, 1.9ms postprocess per image at shape (1, 3, 960, 544)\n",
      "\n"
     ]
    },
    {
     "name": "stdout",
     "output_type": "stream",
     "text": [
      "frame No: 345\n"
     ]
    },
    {
     "name": "stderr",
     "output_type": "stream",
     "text": [
      "0: 960x544 1 car, 279.6ms\n",
      "Speed: 8.5ms preprocess, 279.6ms inference, 1.6ms postprocess per image at shape (1, 3, 960, 544)\n",
      "\n"
     ]
    },
    {
     "name": "stdout",
     "output_type": "stream",
     "text": [
      "frame No: 346\n"
     ]
    },
    {
     "name": "stderr",
     "output_type": "stream",
     "text": [
      "0: 960x544 1 car, 390.0ms\n",
      "Speed: 7.6ms preprocess, 390.0ms inference, 2.4ms postprocess per image at shape (1, 3, 960, 544)\n",
      "\n"
     ]
    },
    {
     "name": "stdout",
     "output_type": "stream",
     "text": [
      "frame No: 347\n"
     ]
    },
    {
     "name": "stderr",
     "output_type": "stream",
     "text": [
      "0: 960x544 2 cars, 288.5ms\n",
      "Speed: 6.8ms preprocess, 288.5ms inference, 1.7ms postprocess per image at shape (1, 3, 960, 544)\n",
      "\n"
     ]
    },
    {
     "name": "stdout",
     "output_type": "stream",
     "text": [
      "frame No: 348\n"
     ]
    },
    {
     "name": "stderr",
     "output_type": "stream",
     "text": [
      "0: 960x544 1 car, 347.2ms\n",
      "Speed: 8.5ms preprocess, 347.2ms inference, 3.0ms postprocess per image at shape (1, 3, 960, 544)\n",
      "\n"
     ]
    },
    {
     "name": "stdout",
     "output_type": "stream",
     "text": [
      "frame No: 349\n"
     ]
    },
    {
     "name": "stderr",
     "output_type": "stream",
     "text": [
      "0: 960x544 1 car, 376.6ms\n",
      "Speed: 6.9ms preprocess, 376.6ms inference, 1.7ms postprocess per image at shape (1, 3, 960, 544)\n",
      "\n"
     ]
    },
    {
     "name": "stdout",
     "output_type": "stream",
     "text": [
      "frame No: 350\n"
     ]
    },
    {
     "name": "stderr",
     "output_type": "stream",
     "text": [
      "0: 960x544 1 car, 378.6ms\n",
      "Speed: 11.0ms preprocess, 378.6ms inference, 2.0ms postprocess per image at shape (1, 3, 960, 544)\n",
      "\n"
     ]
    },
    {
     "name": "stdout",
     "output_type": "stream",
     "text": [
      "frame No: 351\n"
     ]
    },
    {
     "name": "stderr",
     "output_type": "stream",
     "text": [
      "0: 960x544 1 car, 353.8ms\n",
      "Speed: 7.3ms preprocess, 353.8ms inference, 10.1ms postprocess per image at shape (1, 3, 960, 544)\n",
      "\n"
     ]
    },
    {
     "name": "stdout",
     "output_type": "stream",
     "text": [
      "frame No: 352\n"
     ]
    },
    {
     "name": "stderr",
     "output_type": "stream",
     "text": [
      "0: 960x544 1 car, 525.6ms\n",
      "Speed: 14.5ms preprocess, 525.6ms inference, 4.3ms postprocess per image at shape (1, 3, 960, 544)\n",
      "\n"
     ]
    },
    {
     "name": "stdout",
     "output_type": "stream",
     "text": [
      "frame No: 353\n"
     ]
    },
    {
     "name": "stderr",
     "output_type": "stream",
     "text": [
      "0: 960x544 1 airplane, 372.8ms\n",
      "Speed: 8.4ms preprocess, 372.8ms inference, 2.0ms postprocess per image at shape (1, 3, 960, 544)\n",
      "\n"
     ]
    },
    {
     "name": "stdout",
     "output_type": "stream",
     "text": [
      "frame No: 354\n"
     ]
    },
    {
     "name": "stderr",
     "output_type": "stream",
     "text": [
      "0: 960x544 (no detections), 331.3ms\n",
      "Speed: 8.3ms preprocess, 331.3ms inference, 1.5ms postprocess per image at shape (1, 3, 960, 544)\n",
      "\n"
     ]
    },
    {
     "name": "stdout",
     "output_type": "stream",
     "text": [
      "frame No: 355\n"
     ]
    },
    {
     "name": "stderr",
     "output_type": "stream",
     "text": [
      "0: 960x544 (no detections), 313.6ms\n",
      "Speed: 7.4ms preprocess, 313.6ms inference, 1.4ms postprocess per image at shape (1, 3, 960, 544)\n",
      "\n"
     ]
    },
    {
     "name": "stdout",
     "output_type": "stream",
     "text": [
      "frame No: 356\n"
     ]
    },
    {
     "name": "stderr",
     "output_type": "stream",
     "text": [
      "0: 960x544 (no detections), 281.2ms\n",
      "Speed: 7.1ms preprocess, 281.2ms inference, 1.4ms postprocess per image at shape (1, 3, 960, 544)\n",
      "\n"
     ]
    },
    {
     "name": "stdout",
     "output_type": "stream",
     "text": [
      "frame No: 357\n"
     ]
    },
    {
     "name": "stderr",
     "output_type": "stream",
     "text": [
      "0: 960x544 (no detections), 299.6ms\n",
      "Speed: 11.2ms preprocess, 299.6ms inference, 1.5ms postprocess per image at shape (1, 3, 960, 544)\n",
      "\n"
     ]
    },
    {
     "name": "stdout",
     "output_type": "stream",
     "text": [
      "frame No: 358\n"
     ]
    },
    {
     "name": "stderr",
     "output_type": "stream",
     "text": [
      "0: 960x544 1 person, 272.3ms\n",
      "Speed: 6.1ms preprocess, 272.3ms inference, 1.5ms postprocess per image at shape (1, 3, 960, 544)\n",
      "\n"
     ]
    },
    {
     "name": "stdout",
     "output_type": "stream",
     "text": [
      "frame No: 359\n"
     ]
    },
    {
     "name": "stderr",
     "output_type": "stream",
     "text": [
      "0: 960x544 (no detections), 270.3ms\n",
      "Speed: 6.2ms preprocess, 270.3ms inference, 1.5ms postprocess per image at shape (1, 3, 960, 544)\n",
      "\n"
     ]
    },
    {
     "name": "stdout",
     "output_type": "stream",
     "text": [
      "frame No: 360\n"
     ]
    },
    {
     "name": "stderr",
     "output_type": "stream",
     "text": [
      "0: 960x544 (no detections), 512.0ms\n",
      "Speed: 6.6ms preprocess, 512.0ms inference, 1.7ms postprocess per image at shape (1, 3, 960, 544)\n",
      "\n"
     ]
    },
    {
     "name": "stdout",
     "output_type": "stream",
     "text": [
      "frame No: 361\n"
     ]
    },
    {
     "name": "stderr",
     "output_type": "stream",
     "text": [
      "0: 960x544 1 airplane, 271.4ms\n",
      "Speed: 7.6ms preprocess, 271.4ms inference, 1.4ms postprocess per image at shape (1, 3, 960, 544)\n",
      "\n"
     ]
    },
    {
     "name": "stdout",
     "output_type": "stream",
     "text": [
      "frame No: 362\n"
     ]
    },
    {
     "name": "stderr",
     "output_type": "stream",
     "text": [
      "0: 960x544 1 airplane, 291.2ms\n",
      "Speed: 16.0ms preprocess, 291.2ms inference, 1.3ms postprocess per image at shape (1, 3, 960, 544)\n",
      "\n"
     ]
    },
    {
     "name": "stdout",
     "output_type": "stream",
     "text": [
      "frame No: 363\n"
     ]
    },
    {
     "name": "stderr",
     "output_type": "stream",
     "text": [
      "0: 960x544 1 airplane, 290.0ms\n",
      "Speed: 6.1ms preprocess, 290.0ms inference, 1.7ms postprocess per image at shape (1, 3, 960, 544)\n",
      "\n"
     ]
    },
    {
     "name": "stdout",
     "output_type": "stream",
     "text": [
      "frame No: 364\n"
     ]
    },
    {
     "name": "stderr",
     "output_type": "stream",
     "text": [
      "0: 960x544 1 car, 1 airplane, 260.8ms\n",
      "Speed: 15.8ms preprocess, 260.8ms inference, 1.5ms postprocess per image at shape (1, 3, 960, 544)\n",
      "\n"
     ]
    },
    {
     "name": "stdout",
     "output_type": "stream",
     "text": [
      "frame No: 365\n"
     ]
    },
    {
     "name": "stderr",
     "output_type": "stream",
     "text": [
      "0: 960x544 (no detections), 298.4ms\n",
      "Speed: 9.5ms preprocess, 298.4ms inference, 1.2ms postprocess per image at shape (1, 3, 960, 544)\n",
      "\n"
     ]
    },
    {
     "name": "stdout",
     "output_type": "stream",
     "text": [
      "frame No: 366\n"
     ]
    },
    {
     "name": "stderr",
     "output_type": "stream",
     "text": [
      "0: 960x544 (no detections), 201.7ms\n",
      "Speed: 4.3ms preprocess, 201.7ms inference, 1.0ms postprocess per image at shape (1, 3, 960, 544)\n",
      "\n"
     ]
    },
    {
     "name": "stdout",
     "output_type": "stream",
     "text": [
      "frame No: 367\n"
     ]
    },
    {
     "name": "stderr",
     "output_type": "stream",
     "text": [
      "0: 960x544 1 airplane, 229.2ms\n",
      "Speed: 5.2ms preprocess, 229.2ms inference, 1.6ms postprocess per image at shape (1, 3, 960, 544)\n",
      "\n"
     ]
    },
    {
     "name": "stdout",
     "output_type": "stream",
     "text": [
      "frame No: 368\n"
     ]
    },
    {
     "name": "stderr",
     "output_type": "stream",
     "text": [
      "0: 960x544 1 car, 1 airplane, 238.2ms\n",
      "Speed: 6.2ms preprocess, 238.2ms inference, 1.8ms postprocess per image at shape (1, 3, 960, 544)\n",
      "\n"
     ]
    },
    {
     "name": "stdout",
     "output_type": "stream",
     "text": [
      "frame No: 369\n"
     ]
    },
    {
     "name": "stderr",
     "output_type": "stream",
     "text": [
      "0: 960x544 1 airplane, 338.4ms\n",
      "Speed: 5.4ms preprocess, 338.4ms inference, 1.8ms postprocess per image at shape (1, 3, 960, 544)\n",
      "\n"
     ]
    },
    {
     "name": "stdout",
     "output_type": "stream",
     "text": [
      "frame No: 370\n"
     ]
    },
    {
     "name": "stderr",
     "output_type": "stream",
     "text": [
      "0: 960x544 1 airplane, 240.2ms\n",
      "Speed: 5.8ms preprocess, 240.2ms inference, 1.7ms postprocess per image at shape (1, 3, 960, 544)\n",
      "\n"
     ]
    },
    {
     "name": "stdout",
     "output_type": "stream",
     "text": [
      "frame No: 371\n"
     ]
    },
    {
     "name": "stderr",
     "output_type": "stream",
     "text": [
      "0: 960x544 1 airplane, 251.3ms\n",
      "Speed: 5.9ms preprocess, 251.3ms inference, 1.6ms postprocess per image at shape (1, 3, 960, 544)\n",
      "\n"
     ]
    },
    {
     "name": "stdout",
     "output_type": "stream",
     "text": [
      "frame No: 372\n"
     ]
    },
    {
     "name": "stderr",
     "output_type": "stream",
     "text": [
      "0: 960x544 1 airplane, 255.4ms\n",
      "Speed: 7.6ms preprocess, 255.4ms inference, 1.5ms postprocess per image at shape (1, 3, 960, 544)\n",
      "\n"
     ]
    },
    {
     "name": "stdout",
     "output_type": "stream",
     "text": [
      "frame No: 373\n"
     ]
    },
    {
     "name": "stderr",
     "output_type": "stream",
     "text": [
      "0: 960x544 1 airplane, 248.8ms\n",
      "Speed: 6.0ms preprocess, 248.8ms inference, 1.4ms postprocess per image at shape (1, 3, 960, 544)\n",
      "\n"
     ]
    },
    {
     "name": "stdout",
     "output_type": "stream",
     "text": [
      "frame No: 374\n"
     ]
    },
    {
     "name": "stderr",
     "output_type": "stream",
     "text": [
      "0: 960x544 1 car, 1 airplane, 234.1ms\n",
      "Speed: 9.4ms preprocess, 234.1ms inference, 2.0ms postprocess per image at shape (1, 3, 960, 544)\n",
      "\n"
     ]
    },
    {
     "name": "stdout",
     "output_type": "stream",
     "text": [
      "frame No: 375\n"
     ]
    },
    {
     "name": "stderr",
     "output_type": "stream",
     "text": [
      "0: 960x544 1 airplane, 256.6ms\n",
      "Speed: 7.8ms preprocess, 256.6ms inference, 1.3ms postprocess per image at shape (1, 3, 960, 544)\n",
      "\n"
     ]
    },
    {
     "name": "stdout",
     "output_type": "stream",
     "text": [
      "frame No: 376\n"
     ]
    },
    {
     "name": "stderr",
     "output_type": "stream",
     "text": [
      "0: 960x544 1 airplane, 222.2ms\n",
      "Speed: 5.8ms preprocess, 222.2ms inference, 2.0ms postprocess per image at shape (1, 3, 960, 544)\n",
      "\n"
     ]
    },
    {
     "name": "stdout",
     "output_type": "stream",
     "text": [
      "frame No: 377\n"
     ]
    },
    {
     "name": "stderr",
     "output_type": "stream",
     "text": [
      "0: 960x544 (no detections), 273.4ms\n",
      "Speed: 7.7ms preprocess, 273.4ms inference, 1.2ms postprocess per image at shape (1, 3, 960, 544)\n",
      "\n"
     ]
    },
    {
     "name": "stdout",
     "output_type": "stream",
     "text": [
      "frame No: 378\n"
     ]
    },
    {
     "name": "stderr",
     "output_type": "stream",
     "text": [
      "0: 960x544 (no detections), 240.9ms\n",
      "Speed: 6.9ms preprocess, 240.9ms inference, 1.6ms postprocess per image at shape (1, 3, 960, 544)\n",
      "\n"
     ]
    },
    {
     "name": "stdout",
     "output_type": "stream",
     "text": [
      "frame No: 379\n"
     ]
    },
    {
     "name": "stderr",
     "output_type": "stream",
     "text": [
      "0: 960x544 (no detections), 233.8ms\n",
      "Speed: 7.2ms preprocess, 233.8ms inference, 1.2ms postprocess per image at shape (1, 3, 960, 544)\n",
      "\n"
     ]
    },
    {
     "name": "stdout",
     "output_type": "stream",
     "text": [
      "frame No: 380\n"
     ]
    },
    {
     "name": "stderr",
     "output_type": "stream",
     "text": [
      "0: 960x544 (no detections), 276.7ms\n",
      "Speed: 9.9ms preprocess, 276.7ms inference, 1.7ms postprocess per image at shape (1, 3, 960, 544)\n",
      "\n"
     ]
    },
    {
     "name": "stdout",
     "output_type": "stream",
     "text": [
      "frame No: 381\n"
     ]
    },
    {
     "name": "stderr",
     "output_type": "stream",
     "text": [
      "0: 960x544 (no detections), 259.3ms\n",
      "Speed: 7.8ms preprocess, 259.3ms inference, 0.9ms postprocess per image at shape (1, 3, 960, 544)\n",
      "\n",
      "0: 960x544 (no detections), 174.9ms\n",
      "Speed: 5.1ms preprocess, 174.9ms inference, 1.1ms postprocess per image at shape (1, 3, 960, 544)\n",
      "\n"
     ]
    },
    {
     "name": "stdout",
     "output_type": "stream",
     "text": [
      "frame No: 382\n",
      "frame No: 383\n"
     ]
    },
    {
     "name": "stderr",
     "output_type": "stream",
     "text": [
      "0: 960x544 (no detections), 222.6ms\n",
      "Speed: 5.0ms preprocess, 222.6ms inference, 1.3ms postprocess per image at shape (1, 3, 960, 544)\n",
      "\n"
     ]
    },
    {
     "name": "stdout",
     "output_type": "stream",
     "text": [
      "frame No: 384\n"
     ]
    },
    {
     "name": "stderr",
     "output_type": "stream",
     "text": [
      "0: 960x544 (no detections), 196.9ms\n",
      "Speed: 5.2ms preprocess, 196.9ms inference, 1.2ms postprocess per image at shape (1, 3, 960, 544)\n",
      "\n"
     ]
    },
    {
     "name": "stdout",
     "output_type": "stream",
     "text": [
      "frame No: 385\n"
     ]
    },
    {
     "name": "stderr",
     "output_type": "stream",
     "text": [
      "0: 960x544 (no detections), 203.1ms\n",
      "Speed: 5.0ms preprocess, 203.1ms inference, 1.5ms postprocess per image at shape (1, 3, 960, 544)\n",
      "\n"
     ]
    },
    {
     "name": "stdout",
     "output_type": "stream",
     "text": [
      "frame No: 386\n"
     ]
    },
    {
     "name": "stderr",
     "output_type": "stream",
     "text": [
      "0: 960x544 (no detections), 192.5ms\n",
      "Speed: 6.9ms preprocess, 192.5ms inference, 1.3ms postprocess per image at shape (1, 3, 960, 544)\n",
      "\n",
      "0: 960x544 (no detections), 173.7ms\n",
      "Speed: 4.9ms preprocess, 173.7ms inference, 1.1ms postprocess per image at shape (1, 3, 960, 544)\n",
      "\n"
     ]
    },
    {
     "name": "stdout",
     "output_type": "stream",
     "text": [
      "frame No: 387\n",
      "frame No: 388\n"
     ]
    },
    {
     "name": "stderr",
     "output_type": "stream",
     "text": [
      "0: 960x544 1 airplane, 185.5ms\n",
      "Speed: 4.9ms preprocess, 185.5ms inference, 1.1ms postprocess per image at shape (1, 3, 960, 544)\n",
      "\n"
     ]
    },
    {
     "name": "stdout",
     "output_type": "stream",
     "text": [
      "frame No: 389\n"
     ]
    },
    {
     "name": "stderr",
     "output_type": "stream",
     "text": [
      "0: 960x544 (no detections), 300.8ms\n",
      "Speed: 5.4ms preprocess, 300.8ms inference, 1.4ms postprocess per image at shape (1, 3, 960, 544)\n",
      "\n",
      "0: 960x544 (no detections), 174.0ms\n",
      "Speed: 4.7ms preprocess, 174.0ms inference, 1.2ms postprocess per image at shape (1, 3, 960, 544)\n",
      "\n"
     ]
    },
    {
     "name": "stdout",
     "output_type": "stream",
     "text": [
      "frame No: 390\n",
      "frame No: 391\n"
     ]
    },
    {
     "name": "stderr",
     "output_type": "stream",
     "text": [
      "0: 960x544 (no detections), 175.5ms\n",
      "Speed: 4.2ms preprocess, 175.5ms inference, 1.3ms postprocess per image at shape (1, 3, 960, 544)\n",
      "\n"
     ]
    },
    {
     "name": "stdout",
     "output_type": "stream",
     "text": [
      "frame No: 392\n"
     ]
    },
    {
     "name": "stderr",
     "output_type": "stream",
     "text": [
      "0: 960x544 (no detections), 234.4ms\n",
      "Speed: 4.9ms preprocess, 234.4ms inference, 1.3ms postprocess per image at shape (1, 3, 960, 544)\n",
      "\n"
     ]
    },
    {
     "name": "stdout",
     "output_type": "stream",
     "text": [
      "frame No: 393\n"
     ]
    },
    {
     "name": "stderr",
     "output_type": "stream",
     "text": [
      "0: 960x544 (no detections), 230.0ms\n",
      "Speed: 4.4ms preprocess, 230.0ms inference, 1.3ms postprocess per image at shape (1, 3, 960, 544)\n",
      "\n"
     ]
    },
    {
     "name": "stdout",
     "output_type": "stream",
     "text": [
      "frame No: 394\n"
     ]
    },
    {
     "name": "stderr",
     "output_type": "stream",
     "text": [
      "0: 960x544 (no detections), 237.8ms\n",
      "Speed: 6.1ms preprocess, 237.8ms inference, 1.9ms postprocess per image at shape (1, 3, 960, 544)\n",
      "\n"
     ]
    },
    {
     "name": "stdout",
     "output_type": "stream",
     "text": [
      "frame No: 395\n"
     ]
    },
    {
     "name": "stderr",
     "output_type": "stream",
     "text": [
      "0: 960x544 (no detections), 242.8ms\n",
      "Speed: 5.8ms preprocess, 242.8ms inference, 1.2ms postprocess per image at shape (1, 3, 960, 544)\n",
      "\n",
      "0: 960x544 (no detections), 168.8ms\n",
      "Speed: 4.7ms preprocess, 168.8ms inference, 1.0ms postprocess per image at shape (1, 3, 960, 544)\n",
      "\n"
     ]
    },
    {
     "name": "stdout",
     "output_type": "stream",
     "text": [
      "frame No: 396\n",
      "frame No: 397\n"
     ]
    },
    {
     "name": "stderr",
     "output_type": "stream",
     "text": [
      "0: 960x544 (no detections), 229.6ms\n",
      "Speed: 5.9ms preprocess, 229.6ms inference, 2.0ms postprocess per image at shape (1, 3, 960, 544)\n",
      "\n",
      "0: 960x544 (no detections), 185.7ms\n",
      "Speed: 5.9ms preprocess, 185.7ms inference, 1.3ms postprocess per image at shape (1, 3, 960, 544)\n",
      "\n"
     ]
    },
    {
     "name": "stdout",
     "output_type": "stream",
     "text": [
      "frame No: 398\n",
      "frame No: 399\n"
     ]
    },
    {
     "name": "stderr",
     "output_type": "stream",
     "text": [
      "0: 960x544 (no detections), 205.8ms\n",
      "Speed: 4.9ms preprocess, 205.8ms inference, 0.9ms postprocess per image at shape (1, 3, 960, 544)\n",
      "\n"
     ]
    },
    {
     "name": "stdout",
     "output_type": "stream",
     "text": [
      "frame No: 400\n"
     ]
    },
    {
     "name": "stderr",
     "output_type": "stream",
     "text": [
      "0: 960x544 (no detections), 229.5ms\n",
      "Speed: 4.0ms preprocess, 229.5ms inference, 2.2ms postprocess per image at shape (1, 3, 960, 544)\n",
      "\n"
     ]
    },
    {
     "name": "stdout",
     "output_type": "stream",
     "text": [
      "frame No: 401\n"
     ]
    },
    {
     "name": "stderr",
     "output_type": "stream",
     "text": [
      "0: 960x544 (no detections), 232.0ms\n",
      "Speed: 4.7ms preprocess, 232.0ms inference, 1.4ms postprocess per image at shape (1, 3, 960, 544)\n",
      "\n"
     ]
    },
    {
     "name": "stdout",
     "output_type": "stream",
     "text": [
      "frame No: 402\n"
     ]
    },
    {
     "name": "stderr",
     "output_type": "stream",
     "text": [
      "0: 960x544 (no detections), 332.8ms\n",
      "Speed: 5.6ms preprocess, 332.8ms inference, 1.2ms postprocess per image at shape (1, 3, 960, 544)\n",
      "\n"
     ]
    },
    {
     "name": "stdout",
     "output_type": "stream",
     "text": [
      "frame No: 403\n"
     ]
    },
    {
     "name": "stderr",
     "output_type": "stream",
     "text": [
      "0: 960x544 (no detections), 275.5ms\n",
      "Speed: 9.4ms preprocess, 275.5ms inference, 2.4ms postprocess per image at shape (1, 3, 960, 544)\n",
      "\n"
     ]
    },
    {
     "name": "stdout",
     "output_type": "stream",
     "text": [
      "frame No: 404\n"
     ]
    },
    {
     "name": "stderr",
     "output_type": "stream",
     "text": [
      "0: 960x544 (no detections), 244.6ms\n",
      "Speed: 7.6ms preprocess, 244.6ms inference, 1.0ms postprocess per image at shape (1, 3, 960, 544)\n",
      "\n"
     ]
    },
    {
     "name": "stdout",
     "output_type": "stream",
     "text": [
      "frame No: 405\n"
     ]
    },
    {
     "name": "stderr",
     "output_type": "stream",
     "text": [
      "0: 960x544 (no detections), 233.1ms\n",
      "Speed: 8.3ms preprocess, 233.1ms inference, 3.2ms postprocess per image at shape (1, 3, 960, 544)\n",
      "\n"
     ]
    },
    {
     "name": "stdout",
     "output_type": "stream",
     "text": [
      "frame No: 406\n"
     ]
    },
    {
     "name": "stderr",
     "output_type": "stream",
     "text": [
      "0: 960x544 (no detections), 342.0ms\n",
      "Speed: 5.9ms preprocess, 342.0ms inference, 1.2ms postprocess per image at shape (1, 3, 960, 544)\n",
      "\n"
     ]
    },
    {
     "name": "stdout",
     "output_type": "stream",
     "text": [
      "frame No: 407\n"
     ]
    },
    {
     "name": "stderr",
     "output_type": "stream",
     "text": [
      "0: 960x544 (no detections), 214.3ms\n",
      "Speed: 7.3ms preprocess, 214.3ms inference, 1.5ms postprocess per image at shape (1, 3, 960, 544)\n",
      "\n"
     ]
    },
    {
     "name": "stdout",
     "output_type": "stream",
     "text": [
      "frame No: 408\n"
     ]
    },
    {
     "name": "stderr",
     "output_type": "stream",
     "text": [
      "0: 960x544 (no detections), 200.3ms\n",
      "Speed: 8.9ms preprocess, 200.3ms inference, 2.2ms postprocess per image at shape (1, 3, 960, 544)\n",
      "\n"
     ]
    },
    {
     "name": "stdout",
     "output_type": "stream",
     "text": [
      "frame No: 409\n"
     ]
    },
    {
     "name": "stderr",
     "output_type": "stream",
     "text": [
      "0: 960x544 1 person, 187.7ms\n",
      "Speed: 11.4ms preprocess, 187.7ms inference, 1.3ms postprocess per image at shape (1, 3, 960, 544)\n",
      "\n"
     ]
    },
    {
     "name": "stdout",
     "output_type": "stream",
     "text": [
      "frame No: 410\n"
     ]
    },
    {
     "name": "stderr",
     "output_type": "stream",
     "text": [
      "0: 960x544 (no detections), 222.3ms\n",
      "Speed: 6.2ms preprocess, 222.3ms inference, 1.4ms postprocess per image at shape (1, 3, 960, 544)\n",
      "\n",
      "0: 960x544 (no detections), 168.4ms\n",
      "Speed: 5.3ms preprocess, 168.4ms inference, 1.0ms postprocess per image at shape (1, 3, 960, 544)\n",
      "\n"
     ]
    },
    {
     "name": "stdout",
     "output_type": "stream",
     "text": [
      "frame No: 411\n",
      "frame No: 412\n"
     ]
    },
    {
     "name": "stderr",
     "output_type": "stream",
     "text": [
      "0: 960x544 (no detections), 165.8ms\n",
      "Speed: 5.3ms preprocess, 165.8ms inference, 1.0ms postprocess per image at shape (1, 3, 960, 544)\n",
      "\n"
     ]
    },
    {
     "name": "stdout",
     "output_type": "stream",
     "text": [
      "frame No: 413\n"
     ]
    },
    {
     "name": "stderr",
     "output_type": "stream",
     "text": [
      "0: 960x544 (no detections), 304.5ms\n",
      "Speed: 5.1ms preprocess, 304.5ms inference, 1.7ms postprocess per image at shape (1, 3, 960, 544)\n",
      "\n",
      "0: 960x544 (no detections), 169.2ms\n",
      "Speed: 4.5ms preprocess, 169.2ms inference, 1.1ms postprocess per image at shape (1, 3, 960, 544)\n",
      "\n"
     ]
    },
    {
     "name": "stdout",
     "output_type": "stream",
     "text": [
      "frame No: 414\n",
      "frame No: 415\n"
     ]
    },
    {
     "name": "stderr",
     "output_type": "stream",
     "text": [
      "0: 960x544 (no detections), 173.0ms\n",
      "Speed: 4.2ms preprocess, 173.0ms inference, 1.0ms postprocess per image at shape (1, 3, 960, 544)\n",
      "\n",
      "0: 960x544 (no detections), 166.3ms\n",
      "Speed: 8.0ms preprocess, 166.3ms inference, 1.0ms postprocess per image at shape (1, 3, 960, 544)\n",
      "\n"
     ]
    },
    {
     "name": "stdout",
     "output_type": "stream",
     "text": [
      "frame No: 416\n",
      "frame No: 417\n"
     ]
    },
    {
     "name": "stderr",
     "output_type": "stream",
     "text": [
      "0: 960x544 (no detections), 180.3ms\n",
      "Speed: 4.8ms preprocess, 180.3ms inference, 1.2ms postprocess per image at shape (1, 3, 960, 544)\n",
      "\n",
      "0: 960x544 (no detections), 173.7ms\n",
      "Speed: 4.1ms preprocess, 173.7ms inference, 1.3ms postprocess per image at shape (1, 3, 960, 544)\n",
      "\n"
     ]
    },
    {
     "name": "stdout",
     "output_type": "stream",
     "text": [
      "frame No: 418\n",
      "frame No: 419\n"
     ]
    },
    {
     "name": "stderr",
     "output_type": "stream",
     "text": [
      "0: 960x544 (no detections), 169.5ms\n",
      "Speed: 4.1ms preprocess, 169.5ms inference, 0.9ms postprocess per image at shape (1, 3, 960, 544)\n",
      "\n",
      "0: 960x544 (no detections), 162.3ms\n",
      "Speed: 5.1ms preprocess, 162.3ms inference, 1.1ms postprocess per image at shape (1, 3, 960, 544)\n",
      "\n"
     ]
    },
    {
     "name": "stdout",
     "output_type": "stream",
     "text": [
      "frame No: 420\n",
      "frame No: 421\n"
     ]
    },
    {
     "name": "stderr",
     "output_type": "stream",
     "text": [
      "0: 960x544 (no detections), 174.9ms\n",
      "Speed: 4.4ms preprocess, 174.9ms inference, 1.1ms postprocess per image at shape (1, 3, 960, 544)\n",
      "\n",
      "0: 960x544 (no detections), 163.5ms\n",
      "Speed: 4.5ms preprocess, 163.5ms inference, 0.9ms postprocess per image at shape (1, 3, 960, 544)\n",
      "\n"
     ]
    },
    {
     "name": "stdout",
     "output_type": "stream",
     "text": [
      "frame No: 422\n",
      "frame No: 423\n"
     ]
    },
    {
     "name": "stderr",
     "output_type": "stream",
     "text": [
      "0: 960x544 1 person, 168.7ms\n",
      "Speed: 4.7ms preprocess, 168.7ms inference, 1.7ms postprocess per image at shape (1, 3, 960, 544)\n",
      "\n",
      "0: 960x544 1 person, 170.8ms\n",
      "Speed: 5.0ms preprocess, 170.8ms inference, 1.7ms postprocess per image at shape (1, 3, 960, 544)\n",
      "\n"
     ]
    },
    {
     "name": "stdout",
     "output_type": "stream",
     "text": [
      "frame No: 424\n",
      "frame No: 425\n"
     ]
    },
    {
     "name": "stderr",
     "output_type": "stream",
     "text": [
      "0: 960x544 1 person, 182.6ms\n",
      "Speed: 4.4ms preprocess, 182.6ms inference, 1.1ms postprocess per image at shape (1, 3, 960, 544)\n",
      "\n",
      "0: 960x544 1 person, 168.3ms\n",
      "Speed: 5.9ms preprocess, 168.3ms inference, 1.1ms postprocess per image at shape (1, 3, 960, 544)\n",
      "\n"
     ]
    },
    {
     "name": "stdout",
     "output_type": "stream",
     "text": [
      "frame No: 426\n",
      "frame No: 427\n"
     ]
    },
    {
     "name": "stderr",
     "output_type": "stream",
     "text": [
      "0: 960x544 1 person, 172.7ms\n",
      "Speed: 5.3ms preprocess, 172.7ms inference, 1.3ms postprocess per image at shape (1, 3, 960, 544)\n",
      "\n",
      "0: 960x544 1 person, 166.9ms\n",
      "Speed: 4.8ms preprocess, 166.9ms inference, 1.4ms postprocess per image at shape (1, 3, 960, 544)\n",
      "\n"
     ]
    },
    {
     "name": "stdout",
     "output_type": "stream",
     "text": [
      "frame No: 428\n",
      "frame No: 429\n"
     ]
    },
    {
     "name": "stderr",
     "output_type": "stream",
     "text": [
      "0: 960x544 1 person, 220.9ms\n",
      "Speed: 4.4ms preprocess, 220.9ms inference, 1.2ms postprocess per image at shape (1, 3, 960, 544)\n",
      "\n"
     ]
    },
    {
     "name": "stdout",
     "output_type": "stream",
     "text": [
      "frame No: 430\n"
     ]
    },
    {
     "name": "stderr",
     "output_type": "stream",
     "text": [
      "0: 960x544 1 person, 211.1ms\n",
      "Speed: 4.4ms preprocess, 211.1ms inference, 1.5ms postprocess per image at shape (1, 3, 960, 544)\n",
      "\n"
     ]
    },
    {
     "name": "stdout",
     "output_type": "stream",
     "text": [
      "frame No: 431\n"
     ]
    },
    {
     "name": "stderr",
     "output_type": "stream",
     "text": [
      "0: 960x544 1 person, 217.3ms\n",
      "Speed: 5.0ms preprocess, 217.3ms inference, 1.5ms postprocess per image at shape (1, 3, 960, 544)\n",
      "\n"
     ]
    },
    {
     "name": "stdout",
     "output_type": "stream",
     "text": [
      "frame No: 432\n"
     ]
    },
    {
     "name": "stderr",
     "output_type": "stream",
     "text": [
      "0: 960x544 1 person, 210.3ms\n",
      "Speed: 5.0ms preprocess, 210.3ms inference, 1.5ms postprocess per image at shape (1, 3, 960, 544)\n",
      "\n"
     ]
    },
    {
     "name": "stdout",
     "output_type": "stream",
     "text": [
      "frame No: 433\n"
     ]
    },
    {
     "name": "stderr",
     "output_type": "stream",
     "text": [
      "0: 960x544 2 persons, 208.4ms\n",
      "Speed: 5.6ms preprocess, 208.4ms inference, 1.5ms postprocess per image at shape (1, 3, 960, 544)\n",
      "\n"
     ]
    },
    {
     "name": "stdout",
     "output_type": "stream",
     "text": [
      "frame No: 434\n"
     ]
    },
    {
     "name": "stderr",
     "output_type": "stream",
     "text": [
      "0: 960x544 1 person, 223.1ms\n",
      "Speed: 5.9ms preprocess, 223.1ms inference, 1.4ms postprocess per image at shape (1, 3, 960, 544)\n",
      "\n"
     ]
    },
    {
     "name": "stdout",
     "output_type": "stream",
     "text": [
      "frame No: 435\n"
     ]
    },
    {
     "name": "stderr",
     "output_type": "stream",
     "text": [
      "0: 960x544 1 person, 271.1ms\n",
      "Speed: 4.7ms preprocess, 271.1ms inference, 1.3ms postprocess per image at shape (1, 3, 960, 544)\n",
      "\n"
     ]
    },
    {
     "name": "stdout",
     "output_type": "stream",
     "text": [
      "frame No: 436\n"
     ]
    },
    {
     "name": "stderr",
     "output_type": "stream",
     "text": [
      "0: 960x544 2 persons, 217.2ms\n",
      "Speed: 5.6ms preprocess, 217.2ms inference, 1.5ms postprocess per image at shape (1, 3, 960, 544)\n",
      "\n",
      "0: 960x544 1 person, 166.5ms\n",
      "Speed: 4.7ms preprocess, 166.5ms inference, 1.2ms postprocess per image at shape (1, 3, 960, 544)\n",
      "\n"
     ]
    },
    {
     "name": "stdout",
     "output_type": "stream",
     "text": [
      "frame No: 437\n",
      "frame No: 438\n"
     ]
    },
    {
     "name": "stderr",
     "output_type": "stream",
     "text": [
      "0: 960x544 1 person, 182.6ms\n",
      "Speed: 4.6ms preprocess, 182.6ms inference, 1.4ms postprocess per image at shape (1, 3, 960, 544)\n",
      "\n",
      "0: 960x544 1 person, 186.6ms\n",
      "Speed: 4.7ms preprocess, 186.6ms inference, 1.4ms postprocess per image at shape (1, 3, 960, 544)\n",
      "\n"
     ]
    },
    {
     "name": "stdout",
     "output_type": "stream",
     "text": [
      "frame No: 439\n",
      "frame No: 440\n"
     ]
    },
    {
     "name": "stderr",
     "output_type": "stream",
     "text": [
      "0: 960x544 1 person, 178.6ms\n",
      "Speed: 7.2ms preprocess, 178.6ms inference, 1.1ms postprocess per image at shape (1, 3, 960, 544)\n",
      "\n"
     ]
    },
    {
     "name": "stdout",
     "output_type": "stream",
     "text": [
      "frame No: 441\n"
     ]
    },
    {
     "name": "stderr",
     "output_type": "stream",
     "text": [
      "0: 960x544 (no detections), 227.9ms\n",
      "Speed: 6.0ms preprocess, 227.9ms inference, 1.6ms postprocess per image at shape (1, 3, 960, 544)\n",
      "\n"
     ]
    },
    {
     "name": "stdout",
     "output_type": "stream",
     "text": [
      "frame No: 442\n"
     ]
    },
    {
     "name": "stderr",
     "output_type": "stream",
     "text": [
      "0: 960x544 1 person, 225.8ms\n",
      "Speed: 6.7ms preprocess, 225.8ms inference, 2.1ms postprocess per image at shape (1, 3, 960, 544)\n",
      "\n"
     ]
    },
    {
     "name": "stdout",
     "output_type": "stream",
     "text": [
      "frame No: 443\n"
     ]
    },
    {
     "name": "stderr",
     "output_type": "stream",
     "text": [
      "0: 960x544 1 person, 275.5ms\n",
      "Speed: 9.2ms preprocess, 275.5ms inference, 1.2ms postprocess per image at shape (1, 3, 960, 544)\n",
      "\n"
     ]
    },
    {
     "name": "stdout",
     "output_type": "stream",
     "text": [
      "frame No: 444\n"
     ]
    },
    {
     "name": "stderr",
     "output_type": "stream",
     "text": [
      "0: 960x544 1 person, 265.6ms\n",
      "Speed: 4.8ms preprocess, 265.6ms inference, 3.4ms postprocess per image at shape (1, 3, 960, 544)\n",
      "\n"
     ]
    },
    {
     "name": "stdout",
     "output_type": "stream",
     "text": [
      "frame No: 445\n"
     ]
    },
    {
     "name": "stderr",
     "output_type": "stream",
     "text": [
      "0: 960x544 2 persons, 245.8ms\n",
      "Speed: 6.4ms preprocess, 245.8ms inference, 1.8ms postprocess per image at shape (1, 3, 960, 544)\n",
      "\n"
     ]
    },
    {
     "name": "stdout",
     "output_type": "stream",
     "text": [
      "frame No: 446\n"
     ]
    },
    {
     "name": "stderr",
     "output_type": "stream",
     "text": [
      "0: 960x544 2 persons, 335.3ms\n",
      "Speed: 6.3ms preprocess, 335.3ms inference, 1.9ms postprocess per image at shape (1, 3, 960, 544)\n",
      "\n"
     ]
    },
    {
     "name": "stdout",
     "output_type": "stream",
     "text": [
      "frame No: 447\n"
     ]
    },
    {
     "name": "stderr",
     "output_type": "stream",
     "text": [
      "0: 960x544 2 persons, 271.2ms\n",
      "Speed: 6.2ms preprocess, 271.2ms inference, 1.6ms postprocess per image at shape (1, 3, 960, 544)\n",
      "\n"
     ]
    },
    {
     "name": "stdout",
     "output_type": "stream",
     "text": [
      "frame No: 448\n"
     ]
    },
    {
     "name": "stderr",
     "output_type": "stream",
     "text": [
      "0: 960x544 1 person, 269.6ms\n",
      "Speed: 7.7ms preprocess, 269.6ms inference, 1.7ms postprocess per image at shape (1, 3, 960, 544)\n",
      "\n"
     ]
    },
    {
     "name": "stdout",
     "output_type": "stream",
     "text": [
      "frame No: 449\n"
     ]
    },
    {
     "name": "stderr",
     "output_type": "stream",
     "text": [
      "0: 960x544 (no detections), 256.7ms\n",
      "Speed: 6.9ms preprocess, 256.7ms inference, 2.2ms postprocess per image at shape (1, 3, 960, 544)\n",
      "\n"
     ]
    },
    {
     "name": "stdout",
     "output_type": "stream",
     "text": [
      "frame No: 450\n"
     ]
    },
    {
     "name": "stderr",
     "output_type": "stream",
     "text": [
      "0: 960x544 1 person, 232.9ms\n",
      "Speed: 6.1ms preprocess, 232.9ms inference, 1.6ms postprocess per image at shape (1, 3, 960, 544)\n",
      "\n"
     ]
    },
    {
     "name": "stdout",
     "output_type": "stream",
     "text": [
      "frame No: 451\n"
     ]
    },
    {
     "name": "stderr",
     "output_type": "stream",
     "text": [
      "0: 960x544 1 person, 226.8ms\n",
      "Speed: 6.7ms preprocess, 226.8ms inference, 2.7ms postprocess per image at shape (1, 3, 960, 544)\n",
      "\n"
     ]
    },
    {
     "name": "stdout",
     "output_type": "stream",
     "text": [
      "frame No: 452\n"
     ]
    },
    {
     "name": "stderr",
     "output_type": "stream",
     "text": [
      "0: 960x544 1 person, 197.5ms\n",
      "Speed: 5.6ms preprocess, 197.5ms inference, 1.2ms postprocess per image at shape (1, 3, 960, 544)\n",
      "\n"
     ]
    },
    {
     "name": "stdout",
     "output_type": "stream",
     "text": [
      "frame No: 453\n"
     ]
    },
    {
     "name": "stderr",
     "output_type": "stream",
     "text": [
      "0: 960x544 1 person, 191.6ms\n",
      "Speed: 6.4ms preprocess, 191.6ms inference, 1.9ms postprocess per image at shape (1, 3, 960, 544)\n",
      "\n",
      "0: 960x544 1 person, 190.9ms\n"
     ]
    },
    {
     "name": "stdout",
     "output_type": "stream",
     "text": [
      "frame No: 454\n"
     ]
    },
    {
     "name": "stderr",
     "output_type": "stream",
     "text": [
      "Speed: 4.6ms preprocess, 190.9ms inference, 1.6ms postprocess per image at shape (1, 3, 960, 544)\n",
      "\n"
     ]
    },
    {
     "name": "stdout",
     "output_type": "stream",
     "text": [
      "frame No: 455\n"
     ]
    },
    {
     "name": "stderr",
     "output_type": "stream",
     "text": [
      "0: 960x544 1 person, 191.9ms\n",
      "Speed: 4.2ms preprocess, 191.9ms inference, 1.9ms postprocess per image at shape (1, 3, 960, 544)\n",
      "\n"
     ]
    },
    {
     "name": "stdout",
     "output_type": "stream",
     "text": [
      "frame No: 456\n"
     ]
    },
    {
     "name": "stderr",
     "output_type": "stream",
     "text": [
      "0: 960x544 1 person, 241.5ms\n",
      "Speed: 7.4ms preprocess, 241.5ms inference, 1.6ms postprocess per image at shape (1, 3, 960, 544)\n",
      "\n"
     ]
    },
    {
     "name": "stdout",
     "output_type": "stream",
     "text": [
      "frame No: 457\n"
     ]
    },
    {
     "name": "stderr",
     "output_type": "stream",
     "text": [
      "0: 960x544 1 person, 328.3ms\n",
      "Speed: 5.8ms preprocess, 328.3ms inference, 1.5ms postprocess per image at shape (1, 3, 960, 544)\n",
      "\n"
     ]
    },
    {
     "name": "stdout",
     "output_type": "stream",
     "text": [
      "frame No: 458\n"
     ]
    },
    {
     "name": "stderr",
     "output_type": "stream",
     "text": [
      "0: 960x544 1 person, 229.0ms\n",
      "Speed: 4.1ms preprocess, 229.0ms inference, 1.5ms postprocess per image at shape (1, 3, 960, 544)\n",
      "\n"
     ]
    },
    {
     "name": "stdout",
     "output_type": "stream",
     "text": [
      "frame No: 459\n"
     ]
    },
    {
     "name": "stderr",
     "output_type": "stream",
     "text": [
      "0: 960x544 1 person, 275.1ms\n",
      "Speed: 6.5ms preprocess, 275.1ms inference, 1.2ms postprocess per image at shape (1, 3, 960, 544)\n",
      "\n"
     ]
    },
    {
     "name": "stdout",
     "output_type": "stream",
     "text": [
      "frame No: 460\n"
     ]
    },
    {
     "name": "stderr",
     "output_type": "stream",
     "text": [
      "0: 960x544 1 person, 217.9ms\n",
      "Speed: 7.8ms preprocess, 217.9ms inference, 1.7ms postprocess per image at shape (1, 3, 960, 544)\n",
      "\n"
     ]
    },
    {
     "name": "stdout",
     "output_type": "stream",
     "text": [
      "frame No: 461\n"
     ]
    },
    {
     "name": "stderr",
     "output_type": "stream",
     "text": [
      "0: 960x544 1 person, 256.8ms\n",
      "Speed: 8.7ms preprocess, 256.8ms inference, 1.7ms postprocess per image at shape (1, 3, 960, 544)\n",
      "\n"
     ]
    },
    {
     "name": "stdout",
     "output_type": "stream",
     "text": [
      "frame No: 462\n"
     ]
    },
    {
     "name": "stderr",
     "output_type": "stream",
     "text": [
      "0: 960x544 1 person, 272.0ms\n",
      "Speed: 7.1ms preprocess, 272.0ms inference, 1.4ms postprocess per image at shape (1, 3, 960, 544)\n",
      "\n"
     ]
    },
    {
     "name": "stdout",
     "output_type": "stream",
     "text": [
      "frame No: 463\n"
     ]
    },
    {
     "name": "stderr",
     "output_type": "stream",
     "text": [
      "0: 960x544 (no detections), 257.1ms\n",
      "Speed: 5.5ms preprocess, 257.1ms inference, 2.0ms postprocess per image at shape (1, 3, 960, 544)\n",
      "\n"
     ]
    },
    {
     "name": "stdout",
     "output_type": "stream",
     "text": [
      "frame No: 464\n"
     ]
    },
    {
     "name": "stderr",
     "output_type": "stream",
     "text": [
      "0: 960x544 1 person, 248.7ms\n",
      "Speed: 6.3ms preprocess, 248.7ms inference, 1.7ms postprocess per image at shape (1, 3, 960, 544)\n",
      "\n"
     ]
    },
    {
     "name": "stdout",
     "output_type": "stream",
     "text": [
      "frame No: 465\n"
     ]
    },
    {
     "name": "stderr",
     "output_type": "stream",
     "text": [
      "0: 960x544 1 person, 239.6ms\n",
      "Speed: 5.7ms preprocess, 239.6ms inference, 2.2ms postprocess per image at shape (1, 3, 960, 544)\n",
      "\n"
     ]
    },
    {
     "name": "stdout",
     "output_type": "stream",
     "text": [
      "frame No: 466\n"
     ]
    },
    {
     "name": "stderr",
     "output_type": "stream",
     "text": [
      "0: 960x544 1 person, 205.8ms\n",
      "Speed: 4.6ms preprocess, 205.8ms inference, 1.4ms postprocess per image at shape (1, 3, 960, 544)\n",
      "\n",
      "0: 960x544 1 person, 166.4ms\n",
      "Speed: 6.4ms preprocess, 166.4ms inference, 1.4ms postprocess per image at shape (1, 3, 960, 544)\n",
      "\n"
     ]
    },
    {
     "name": "stdout",
     "output_type": "stream",
     "text": [
      "frame No: 467\n",
      "frame No: 468\n"
     ]
    },
    {
     "name": "stderr",
     "output_type": "stream",
     "text": [
      "0: 960x544 1 person, 275.3ms\n",
      "Speed: 4.2ms preprocess, 275.3ms inference, 1.7ms postprocess per image at shape (1, 3, 960, 544)\n",
      "\n"
     ]
    },
    {
     "name": "stdout",
     "output_type": "stream",
     "text": [
      "frame No: 469\n"
     ]
    },
    {
     "name": "stderr",
     "output_type": "stream",
     "text": [
      "0: 960x544 (no detections), 225.9ms\n",
      "Speed: 4.7ms preprocess, 225.9ms inference, 1.3ms postprocess per image at shape (1, 3, 960, 544)\n",
      "\n"
     ]
    },
    {
     "name": "stdout",
     "output_type": "stream",
     "text": [
      "frame No: 470\n"
     ]
    },
    {
     "name": "stderr",
     "output_type": "stream",
     "text": [
      "0: 960x544 (no detections), 217.8ms\n",
      "Speed: 5.3ms preprocess, 217.8ms inference, 1.3ms postprocess per image at shape (1, 3, 960, 544)\n",
      "\n"
     ]
    },
    {
     "name": "stdout",
     "output_type": "stream",
     "text": [
      "frame No: 471\n"
     ]
    },
    {
     "name": "stderr",
     "output_type": "stream",
     "text": [
      "0: 960x544 (no detections), 209.4ms\n",
      "Speed: 5.5ms preprocess, 209.4ms inference, 1.4ms postprocess per image at shape (1, 3, 960, 544)\n",
      "\n"
     ]
    },
    {
     "name": "stdout",
     "output_type": "stream",
     "text": [
      "frame No: 472\n"
     ]
    },
    {
     "name": "stderr",
     "output_type": "stream",
     "text": [
      "0: 960x544 1 person, 217.6ms\n",
      "Speed: 7.5ms preprocess, 217.6ms inference, 1.4ms postprocess per image at shape (1, 3, 960, 544)\n",
      "\n"
     ]
    },
    {
     "name": "stdout",
     "output_type": "stream",
     "text": [
      "frame No: 473\n"
     ]
    },
    {
     "name": "stderr",
     "output_type": "stream",
     "text": [
      "0: 960x544 2 persons, 213.4ms\n",
      "Speed: 8.1ms preprocess, 213.4ms inference, 1.4ms postprocess per image at shape (1, 3, 960, 544)\n",
      "\n"
     ]
    },
    {
     "name": "stdout",
     "output_type": "stream",
     "text": [
      "frame No: 474\n"
     ]
    },
    {
     "name": "stderr",
     "output_type": "stream",
     "text": [
      "0: 960x544 (no detections), 215.5ms\n",
      "Speed: 5.6ms preprocess, 215.5ms inference, 1.2ms postprocess per image at shape (1, 3, 960, 544)\n",
      "\n"
     ]
    },
    {
     "name": "stdout",
     "output_type": "stream",
     "text": [
      "frame No: 475\n"
     ]
    },
    {
     "name": "stderr",
     "output_type": "stream",
     "text": [
      "0: 960x544 1 person, 217.9ms\n",
      "Speed: 5.3ms preprocess, 217.9ms inference, 1.9ms postprocess per image at shape (1, 3, 960, 544)\n",
      "\n"
     ]
    },
    {
     "name": "stdout",
     "output_type": "stream",
     "text": [
      "frame No: 476\n"
     ]
    },
    {
     "name": "stderr",
     "output_type": "stream",
     "text": [
      "0: 960x544 1 person, 238.7ms\n",
      "Speed: 5.6ms preprocess, 238.7ms inference, 1.7ms postprocess per image at shape (1, 3, 960, 544)\n",
      "\n"
     ]
    },
    {
     "name": "stdout",
     "output_type": "stream",
     "text": [
      "frame No: 477\n"
     ]
    },
    {
     "name": "stderr",
     "output_type": "stream",
     "text": [
      "0: 960x544 1 person, 244.4ms\n",
      "Speed: 5.7ms preprocess, 244.4ms inference, 1.3ms postprocess per image at shape (1, 3, 960, 544)\n",
      "\n"
     ]
    },
    {
     "name": "stdout",
     "output_type": "stream",
     "text": [
      "frame No: 478\n"
     ]
    },
    {
     "name": "stderr",
     "output_type": "stream",
     "text": [
      "0: 960x544 1 person, 210.6ms\n",
      "Speed: 5.2ms preprocess, 210.6ms inference, 1.4ms postprocess per image at shape (1, 3, 960, 544)\n",
      "\n"
     ]
    },
    {
     "name": "stdout",
     "output_type": "stream",
     "text": [
      "frame No: 479\n"
     ]
    },
    {
     "name": "stderr",
     "output_type": "stream",
     "text": [
      "0: 960x544 1 person, 274.1ms\n",
      "Speed: 10.0ms preprocess, 274.1ms inference, 1.9ms postprocess per image at shape (1, 3, 960, 544)\n",
      "\n"
     ]
    },
    {
     "name": "stdout",
     "output_type": "stream",
     "text": [
      "frame No: 480\n"
     ]
    },
    {
     "name": "stderr",
     "output_type": "stream",
     "text": [
      "0: 960x544 1 person, 277.4ms\n",
      "Speed: 6.6ms preprocess, 277.4ms inference, 1.5ms postprocess per image at shape (1, 3, 960, 544)\n",
      "\n"
     ]
    },
    {
     "name": "stdout",
     "output_type": "stream",
     "text": [
      "frame No: 481\n"
     ]
    },
    {
     "name": "stderr",
     "output_type": "stream",
     "text": [
      "0: 960x544 1 person, 339.7ms\n",
      "Speed: 6.2ms preprocess, 339.7ms inference, 1.6ms postprocess per image at shape (1, 3, 960, 544)\n",
      "\n"
     ]
    },
    {
     "name": "stdout",
     "output_type": "stream",
     "text": [
      "frame No: 482\n"
     ]
    },
    {
     "name": "stderr",
     "output_type": "stream",
     "text": [
      "0: 960x544 1 person, 223.3ms\n",
      "Speed: 11.8ms preprocess, 223.3ms inference, 2.0ms postprocess per image at shape (1, 3, 960, 544)\n",
      "\n"
     ]
    },
    {
     "name": "stdout",
     "output_type": "stream",
     "text": [
      "frame No: 483\n"
     ]
    },
    {
     "name": "stderr",
     "output_type": "stream",
     "text": [
      "0: 960x544 (no detections), 273.5ms\n",
      "Speed: 6.0ms preprocess, 273.5ms inference, 1.2ms postprocess per image at shape (1, 3, 960, 544)\n",
      "\n",
      "0: 960x544 (no detections), 166.7ms\n",
      "Speed: 4.2ms preprocess, 166.7ms inference, 1.1ms postprocess per image at shape (1, 3, 960, 544)\n",
      "\n"
     ]
    },
    {
     "name": "stdout",
     "output_type": "stream",
     "text": [
      "frame No: 484\n",
      "frame No: 485\n"
     ]
    },
    {
     "name": "stderr",
     "output_type": "stream",
     "text": [
      "0: 960x544 (no detections), 211.2ms\n",
      "Speed: 4.5ms preprocess, 211.2ms inference, 0.9ms postprocess per image at shape (1, 3, 960, 544)\n",
      "\n",
      "0: 960x544 (no detections), 173.7ms\n",
      "Speed: 4.3ms preprocess, 173.7ms inference, 1.0ms postprocess per image at shape (1, 3, 960, 544)\n",
      "\n"
     ]
    },
    {
     "name": "stdout",
     "output_type": "stream",
     "text": [
      "frame No: 486\n",
      "frame No: 487\n"
     ]
    },
    {
     "name": "stderr",
     "output_type": "stream",
     "text": [
      "0: 960x544 (no detections), 177.5ms\n",
      "Speed: 4.6ms preprocess, 177.5ms inference, 1.0ms postprocess per image at shape (1, 3, 960, 544)\n",
      "\n"
     ]
    },
    {
     "name": "stdout",
     "output_type": "stream",
     "text": [
      "frame No: 488\n"
     ]
    },
    {
     "name": "stderr",
     "output_type": "stream",
     "text": [
      "0: 960x544 (no detections), 221.8ms\n",
      "Speed: 4.1ms preprocess, 221.8ms inference, 5.0ms postprocess per image at shape (1, 3, 960, 544)\n",
      "\n",
      "0: 960x544 (no detections), 164.9ms\n",
      "Speed: 5.8ms preprocess, 164.9ms inference, 1.5ms postprocess per image at shape (1, 3, 960, 544)\n",
      "\n"
     ]
    },
    {
     "name": "stdout",
     "output_type": "stream",
     "text": [
      "frame No: 489\n",
      "frame No: 490\n"
     ]
    },
    {
     "name": "stderr",
     "output_type": "stream",
     "text": [
      "0: 960x544 (no detections), 207.1ms\n",
      "Speed: 5.3ms preprocess, 207.1ms inference, 1.1ms postprocess per image at shape (1, 3, 960, 544)\n",
      "\n"
     ]
    },
    {
     "name": "stdout",
     "output_type": "stream",
     "text": [
      "frame No: 491\n"
     ]
    },
    {
     "name": "stderr",
     "output_type": "stream",
     "text": [
      "0: 960x544 (no detections), 205.7ms\n",
      "Speed: 5.2ms preprocess, 205.7ms inference, 1.4ms postprocess per image at shape (1, 3, 960, 544)\n",
      "\n"
     ]
    },
    {
     "name": "stdout",
     "output_type": "stream",
     "text": [
      "frame No: 492\n"
     ]
    },
    {
     "name": "stderr",
     "output_type": "stream",
     "text": [
      "0: 960x544 (no detections), 236.1ms\n",
      "Speed: 6.2ms preprocess, 236.1ms inference, 1.4ms postprocess per image at shape (1, 3, 960, 544)\n",
      "\n"
     ]
    },
    {
     "name": "stdout",
     "output_type": "stream",
     "text": [
      "frame No: 493\n"
     ]
    },
    {
     "name": "stderr",
     "output_type": "stream",
     "text": [
      "0: 960x544 (no detections), 288.7ms\n",
      "Speed: 5.6ms preprocess, 288.7ms inference, 1.0ms postprocess per image at shape (1, 3, 960, 544)\n",
      "\n",
      "0: 960x544 (no detections), 167.5ms\n",
      "Speed: 4.1ms preprocess, 167.5ms inference, 0.9ms postprocess per image at shape (1, 3, 960, 544)\n",
      "\n"
     ]
    },
    {
     "name": "stdout",
     "output_type": "stream",
     "text": [
      "frame No: 494\n",
      "frame No: 495\n"
     ]
    },
    {
     "name": "stderr",
     "output_type": "stream",
     "text": [
      "0: 960x544 (no detections), 192.9ms\n",
      "Speed: 5.2ms preprocess, 192.9ms inference, 1.0ms postprocess per image at shape (1, 3, 960, 544)\n",
      "\n",
      "0: 960x544 (no detections), 167.0ms\n",
      "Speed: 4.6ms preprocess, 167.0ms inference, 1.3ms postprocess per image at shape (1, 3, 960, 544)\n",
      "\n"
     ]
    },
    {
     "name": "stdout",
     "output_type": "stream",
     "text": [
      "frame No: 496\n",
      "frame No: 497\n"
     ]
    },
    {
     "name": "stderr",
     "output_type": "stream",
     "text": [
      "0: 960x544 (no detections), 193.3ms\n",
      "Speed: 6.4ms preprocess, 193.3ms inference, 1.0ms postprocess per image at shape (1, 3, 960, 544)\n",
      "\n",
      "0: 960x544 1 person, 174.5ms\n",
      "Speed: 5.5ms preprocess, 174.5ms inference, 1.6ms postprocess per image at shape (1, 3, 960, 544)\n",
      "\n"
     ]
    },
    {
     "name": "stdout",
     "output_type": "stream",
     "text": [
      "frame No: 498\n",
      "frame No: 499\n"
     ]
    },
    {
     "name": "stderr",
     "output_type": "stream",
     "text": [
      "0: 960x544 1 person, 170.4ms\n",
      "Speed: 4.7ms preprocess, 170.4ms inference, 1.1ms postprocess per image at shape (1, 3, 960, 544)\n",
      "\n",
      "0: 960x544 1 person, 173.3ms\n",
      "Speed: 4.6ms preprocess, 173.3ms inference, 1.1ms postprocess per image at shape (1, 3, 960, 544)\n",
      "\n"
     ]
    },
    {
     "name": "stdout",
     "output_type": "stream",
     "text": [
      "frame No: 500\n",
      "frame No: 501\n"
     ]
    },
    {
     "name": "stderr",
     "output_type": "stream",
     "text": [
      "0: 960x544 (no detections), 204.3ms\n",
      "Speed: 6.7ms preprocess, 204.3ms inference, 1.3ms postprocess per image at shape (1, 3, 960, 544)\n",
      "\n"
     ]
    },
    {
     "name": "stdout",
     "output_type": "stream",
     "text": [
      "frame No: 502\n"
     ]
    },
    {
     "name": "stderr",
     "output_type": "stream",
     "text": [
      "0: 960x544 (no detections), 316.1ms\n",
      "Speed: 6.3ms preprocess, 316.1ms inference, 1.4ms postprocess per image at shape (1, 3, 960, 544)\n",
      "\n"
     ]
    },
    {
     "name": "stdout",
     "output_type": "stream",
     "text": [
      "frame No: 503\n"
     ]
    },
    {
     "name": "stderr",
     "output_type": "stream",
     "text": [
      "0: 960x544 (no detections), 350.8ms\n",
      "Speed: 15.3ms preprocess, 350.8ms inference, 1.6ms postprocess per image at shape (1, 3, 960, 544)\n",
      "\n"
     ]
    },
    {
     "name": "stdout",
     "output_type": "stream",
     "text": [
      "frame No: 504\n"
     ]
    },
    {
     "name": "stderr",
     "output_type": "stream",
     "text": [
      "0: 960x544 (no detections), 259.7ms\n",
      "Speed: 5.2ms preprocess, 259.7ms inference, 1.8ms postprocess per image at shape (1, 3, 960, 544)\n",
      "\n",
      "0: 960x544 (no detections), 190.4ms\n",
      "Speed: 4.3ms preprocess, 190.4ms inference, 0.9ms postprocess per image at shape (1, 3, 960, 544)\n",
      "\n"
     ]
    },
    {
     "name": "stdout",
     "output_type": "stream",
     "text": [
      "frame No: 505\n",
      "frame No: 506\n"
     ]
    },
    {
     "name": "stderr",
     "output_type": "stream",
     "text": [
      "0: 960x544 (no detections), 231.1ms\n",
      "Speed: 4.6ms preprocess, 231.1ms inference, 1.0ms postprocess per image at shape (1, 3, 960, 544)\n",
      "\n"
     ]
    },
    {
     "name": "stdout",
     "output_type": "stream",
     "text": [
      "frame No: 507\n"
     ]
    },
    {
     "name": "stderr",
     "output_type": "stream",
     "text": [
      "0: 960x544 (no detections), 235.0ms\n",
      "Speed: 4.5ms preprocess, 235.0ms inference, 1.3ms postprocess per image at shape (1, 3, 960, 544)\n",
      "\n"
     ]
    },
    {
     "name": "stdout",
     "output_type": "stream",
     "text": [
      "frame No: 508\n"
     ]
    },
    {
     "name": "stderr",
     "output_type": "stream",
     "text": [
      "0: 960x544 (no detections), 301.6ms\n",
      "Speed: 8.3ms preprocess, 301.6ms inference, 7.9ms postprocess per image at shape (1, 3, 960, 544)\n",
      "\n"
     ]
    },
    {
     "name": "stdout",
     "output_type": "stream",
     "text": [
      "frame No: 509\n"
     ]
    },
    {
     "name": "stderr",
     "output_type": "stream",
     "text": [
      "0: 960x544 (no detections), 245.9ms\n",
      "Speed: 6.2ms preprocess, 245.9ms inference, 1.1ms postprocess per image at shape (1, 3, 960, 544)\n",
      "\n"
     ]
    },
    {
     "name": "stdout",
     "output_type": "stream",
     "text": [
      "frame No: 510\n"
     ]
    },
    {
     "name": "stderr",
     "output_type": "stream",
     "text": [
      "0: 960x544 (no detections), 243.3ms\n",
      "Speed: 6.2ms preprocess, 243.3ms inference, 1.2ms postprocess per image at shape (1, 3, 960, 544)\n",
      "\n"
     ]
    },
    {
     "name": "stdout",
     "output_type": "stream",
     "text": [
      "frame No: 511\n"
     ]
    },
    {
     "name": "stderr",
     "output_type": "stream",
     "text": [
      "0: 960x544 (no detections), 332.8ms\n",
      "Speed: 5.3ms preprocess, 332.8ms inference, 1.2ms postprocess per image at shape (1, 3, 960, 544)\n",
      "\n"
     ]
    },
    {
     "name": "stdout",
     "output_type": "stream",
     "text": [
      "frame No: 512\n"
     ]
    },
    {
     "name": "stderr",
     "output_type": "stream",
     "text": [
      "0: 960x544 (no detections), 286.6ms\n",
      "Speed: 10.6ms preprocess, 286.6ms inference, 0.9ms postprocess per image at shape (1, 3, 960, 544)\n",
      "\n"
     ]
    },
    {
     "name": "stdout",
     "output_type": "stream",
     "text": [
      "frame No: 513\n"
     ]
    },
    {
     "name": "stderr",
     "output_type": "stream",
     "text": [
      "0: 960x544 (no detections), 239.7ms\n",
      "Speed: 6.6ms preprocess, 239.7ms inference, 1.2ms postprocess per image at shape (1, 3, 960, 544)\n",
      "\n"
     ]
    },
    {
     "name": "stdout",
     "output_type": "stream",
     "text": [
      "frame No: 514\n"
     ]
    },
    {
     "name": "stderr",
     "output_type": "stream",
     "text": [
      "0: 960x544 (no detections), 195.6ms\n",
      "Speed: 5.2ms preprocess, 195.6ms inference, 1.0ms postprocess per image at shape (1, 3, 960, 544)\n",
      "\n",
      "0: 960x544 (no detections), 179.5ms\n",
      "Speed: 4.5ms preprocess, 179.5ms inference, 1.2ms postprocess per image at shape (1, 3, 960, 544)\n",
      "\n"
     ]
    },
    {
     "name": "stdout",
     "output_type": "stream",
     "text": [
      "frame No: 515\n",
      "frame No: 516\n"
     ]
    },
    {
     "name": "stderr",
     "output_type": "stream",
     "text": [
      "0: 960x544 (no detections), 184.8ms\n",
      "Speed: 4.9ms preprocess, 184.8ms inference, 1.3ms postprocess per image at shape (1, 3, 960, 544)\n",
      "\n"
     ]
    },
    {
     "name": "stdout",
     "output_type": "stream",
     "text": [
      "frame No: 517\n"
     ]
    },
    {
     "name": "stderr",
     "output_type": "stream",
     "text": [
      "0: 960x544 2 persons, 346.6ms\n",
      "Speed: 4.3ms preprocess, 346.6ms inference, 1.5ms postprocess per image at shape (1, 3, 960, 544)\n",
      "\n"
     ]
    },
    {
     "name": "stdout",
     "output_type": "stream",
     "text": [
      "frame No: 518\n"
     ]
    },
    {
     "name": "stderr",
     "output_type": "stream",
     "text": [
      "0: 960x544 2 persons, 258.6ms\n",
      "Speed: 4.9ms preprocess, 258.6ms inference, 1.3ms postprocess per image at shape (1, 3, 960, 544)\n",
      "\n"
     ]
    },
    {
     "name": "stdout",
     "output_type": "stream",
     "text": [
      "frame No: 519\n"
     ]
    },
    {
     "name": "stderr",
     "output_type": "stream",
     "text": [
      "0: 960x544 3 persons, 285.0ms\n",
      "Speed: 8.0ms preprocess, 285.0ms inference, 1.3ms postprocess per image at shape (1, 3, 960, 544)\n",
      "\n"
     ]
    },
    {
     "name": "stdout",
     "output_type": "stream",
     "text": [
      "frame No: 520\n"
     ]
    },
    {
     "name": "stderr",
     "output_type": "stream",
     "text": [
      "0: 960x544 3 persons, 242.9ms\n",
      "Speed: 6.7ms preprocess, 242.9ms inference, 1.6ms postprocess per image at shape (1, 3, 960, 544)\n",
      "\n"
     ]
    },
    {
     "name": "stdout",
     "output_type": "stream",
     "text": [
      "frame No: 521\n"
     ]
    },
    {
     "name": "stderr",
     "output_type": "stream",
     "text": [
      "0: 960x544 2 persons, 202.6ms\n",
      "Speed: 4.2ms preprocess, 202.6ms inference, 1.5ms postprocess per image at shape (1, 3, 960, 544)\n",
      "\n"
     ]
    },
    {
     "name": "stdout",
     "output_type": "stream",
     "text": [
      "frame No: 522\n"
     ]
    },
    {
     "name": "stderr",
     "output_type": "stream",
     "text": [
      "0: 960x544 2 persons, 252.2ms\n",
      "Speed: 6.0ms preprocess, 252.2ms inference, 1.8ms postprocess per image at shape (1, 3, 960, 544)\n",
      "\n"
     ]
    },
    {
     "name": "stdout",
     "output_type": "stream",
     "text": [
      "frame No: 523\n"
     ]
    },
    {
     "name": "stderr",
     "output_type": "stream",
     "text": [
      "0: 960x544 (no detections), 194.2ms\n",
      "Speed: 5.0ms preprocess, 194.2ms inference, 1.5ms postprocess per image at shape (1, 3, 960, 544)\n",
      "\n",
      "0: 960x544 (no detections), 168.8ms\n",
      "Speed: 4.8ms preprocess, 168.8ms inference, 1.0ms postprocess per image at shape (1, 3, 960, 544)\n",
      "\n"
     ]
    },
    {
     "name": "stdout",
     "output_type": "stream",
     "text": [
      "frame No: 524\n",
      "frame No: 525\n"
     ]
    },
    {
     "name": "stderr",
     "output_type": "stream",
     "text": [
      "0: 960x544 (no detections), 251.2ms\n",
      "Speed: 4.6ms preprocess, 251.2ms inference, 1.5ms postprocess per image at shape (1, 3, 960, 544)\n",
      "\n"
     ]
    },
    {
     "name": "stdout",
     "output_type": "stream",
     "text": [
      "frame No: 526\n"
     ]
    },
    {
     "name": "stderr",
     "output_type": "stream",
     "text": [
      "0: 960x544 (no detections), 429.1ms\n",
      "Speed: 7.2ms preprocess, 429.1ms inference, 1.5ms postprocess per image at shape (1, 3, 960, 544)\n",
      "\n"
     ]
    },
    {
     "name": "stdout",
     "output_type": "stream",
     "text": [
      "frame No: 527\n"
     ]
    },
    {
     "name": "stderr",
     "output_type": "stream",
     "text": [
      "0: 960x544 (no detections), 243.4ms\n",
      "Speed: 6.0ms preprocess, 243.4ms inference, 1.0ms postprocess per image at shape (1, 3, 960, 544)\n",
      "\n",
      "0: 960x544 (no detections), 170.5ms\n",
      "Speed: 7.6ms preprocess, 170.5ms inference, 1.0ms postprocess per image at shape (1, 3, 960, 544)\n",
      "\n"
     ]
    },
    {
     "name": "stdout",
     "output_type": "stream",
     "text": [
      "frame No: 528\n",
      "frame No: 529\n"
     ]
    },
    {
     "name": "stderr",
     "output_type": "stream",
     "text": [
      "0: 960x544 1 person, 196.0ms\n",
      "Speed: 5.3ms preprocess, 196.0ms inference, 1.6ms postprocess per image at shape (1, 3, 960, 544)\n",
      "\n"
     ]
    },
    {
     "name": "stdout",
     "output_type": "stream",
     "text": [
      "frame No: 530\n"
     ]
    },
    {
     "name": "stderr",
     "output_type": "stream",
     "text": [
      "0: 960x544 (no detections), 229.2ms\n",
      "Speed: 4.7ms preprocess, 229.2ms inference, 1.2ms postprocess per image at shape (1, 3, 960, 544)\n",
      "\n"
     ]
    },
    {
     "name": "stdout",
     "output_type": "stream",
     "text": [
      "frame No: 531\n"
     ]
    },
    {
     "name": "stderr",
     "output_type": "stream",
     "text": [
      "0: 960x544 1 person, 231.5ms\n",
      "Speed: 5.5ms preprocess, 231.5ms inference, 1.5ms postprocess per image at shape (1, 3, 960, 544)\n",
      "\n",
      "0: 960x544 1 person, 174.5ms\n",
      "Speed: 6.1ms preprocess, 174.5ms inference, 1.1ms postprocess per image at shape (1, 3, 960, 544)\n",
      "\n"
     ]
    },
    {
     "name": "stdout",
     "output_type": "stream",
     "text": [
      "frame No: 532\n",
      "frame No: 533\n"
     ]
    },
    {
     "name": "stderr",
     "output_type": "stream",
     "text": [
      "0: 960x544 1 person, 181.8ms\n",
      "Speed: 5.5ms preprocess, 181.8ms inference, 2.1ms postprocess per image at shape (1, 3, 960, 544)\n",
      "\n"
     ]
    },
    {
     "name": "stdout",
     "output_type": "stream",
     "text": [
      "frame No: 534\n"
     ]
    },
    {
     "name": "stderr",
     "output_type": "stream",
     "text": [
      "0: 960x544 1 person, 316.3ms\n",
      "Speed: 6.5ms preprocess, 316.3ms inference, 1.1ms postprocess per image at shape (1, 3, 960, 544)\n",
      "\n"
     ]
    },
    {
     "name": "stdout",
     "output_type": "stream",
     "text": [
      "frame No: 535\n"
     ]
    },
    {
     "name": "stderr",
     "output_type": "stream",
     "text": [
      "0: 960x544 1 person, 224.7ms\n",
      "Speed: 4.7ms preprocess, 224.7ms inference, 2.9ms postprocess per image at shape (1, 3, 960, 544)\n",
      "\n",
      "0: 960x544 (no detections), 166.9ms\n",
      "Speed: 6.0ms preprocess, 166.9ms inference, 1.2ms postprocess per image at shape (1, 3, 960, 544)\n",
      "\n"
     ]
    },
    {
     "name": "stdout",
     "output_type": "stream",
     "text": [
      "frame No: 536\n",
      "frame No: 537\n"
     ]
    },
    {
     "name": "stderr",
     "output_type": "stream",
     "text": [
      "0: 960x544 (no detections), 172.3ms\n",
      "Speed: 4.3ms preprocess, 172.3ms inference, 1.2ms postprocess per image at shape (1, 3, 960, 544)\n",
      "\n",
      "0: 960x544 (no detections), 176.2ms\n",
      "Speed: 4.8ms preprocess, 176.2ms inference, 1.3ms postprocess per image at shape (1, 3, 960, 544)\n",
      "\n"
     ]
    },
    {
     "name": "stdout",
     "output_type": "stream",
     "text": [
      "frame No: 538\n",
      "frame No: 539\n"
     ]
    },
    {
     "name": "stderr",
     "output_type": "stream",
     "text": [
      "0: 960x544 1 person, 170.3ms\n",
      "Speed: 4.3ms preprocess, 170.3ms inference, 1.4ms postprocess per image at shape (1, 3, 960, 544)\n",
      "\n",
      "0: 960x544 (no detections), 165.7ms\n",
      "Speed: 4.2ms preprocess, 165.7ms inference, 1.2ms postprocess per image at shape (1, 3, 960, 544)\n",
      "\n"
     ]
    },
    {
     "name": "stdout",
     "output_type": "stream",
     "text": [
      "frame No: 540\n",
      "frame No: 541\n"
     ]
    },
    {
     "name": "stderr",
     "output_type": "stream",
     "text": [
      "0: 960x544 (no detections), 223.5ms\n",
      "Speed: 5.0ms preprocess, 223.5ms inference, 1.0ms postprocess per image at shape (1, 3, 960, 544)\n",
      "\n"
     ]
    },
    {
     "name": "stdout",
     "output_type": "stream",
     "text": [
      "frame No: 542\n"
     ]
    },
    {
     "name": "stderr",
     "output_type": "stream",
     "text": [
      "0: 960x544 (no detections), 298.5ms\n",
      "Speed: 5.3ms preprocess, 298.5ms inference, 1.2ms postprocess per image at shape (1, 3, 960, 544)\n",
      "\n",
      "0: 960x544 (no detections), 189.9ms\n",
      "Speed: 6.3ms preprocess, 189.9ms inference, 0.8ms postprocess per image at shape (1, 3, 960, 544)\n"
     ]
    },
    {
     "name": "stdout",
     "output_type": "stream",
     "text": [
      "frame No: 543\n"
     ]
    },
    {
     "name": "stderr",
     "output_type": "stream",
     "text": [
      "\n"
     ]
    },
    {
     "name": "stdout",
     "output_type": "stream",
     "text": [
      "frame No: 544\n"
     ]
    },
    {
     "name": "stderr",
     "output_type": "stream",
     "text": [
      "0: 960x544 (no detections), 200.2ms\n",
      "Speed: 4.6ms preprocess, 200.2ms inference, 1.0ms postprocess per image at shape (1, 3, 960, 544)\n",
      "\n"
     ]
    },
    {
     "name": "stdout",
     "output_type": "stream",
     "text": [
      "frame No: 545\n"
     ]
    },
    {
     "name": "stderr",
     "output_type": "stream",
     "text": [
      "0: 960x544 (no detections), 256.7ms\n",
      "Speed: 5.7ms preprocess, 256.7ms inference, 0.9ms postprocess per image at shape (1, 3, 960, 544)\n",
      "\n"
     ]
    },
    {
     "name": "stdout",
     "output_type": "stream",
     "text": [
      "frame No: 546\n"
     ]
    },
    {
     "name": "stderr",
     "output_type": "stream",
     "text": [
      "0: 960x544 (no detections), 269.8ms\n",
      "Speed: 5.6ms preprocess, 269.8ms inference, 0.7ms postprocess per image at shape (1, 3, 960, 544)\n",
      "\n"
     ]
    },
    {
     "name": "stdout",
     "output_type": "stream",
     "text": [
      "frame No: 547\n"
     ]
    },
    {
     "name": "stderr",
     "output_type": "stream",
     "text": [
      "0: 960x544 (no detections), 201.6ms\n",
      "Speed: 4.4ms preprocess, 201.6ms inference, 1.5ms postprocess per image at shape (1, 3, 960, 544)\n",
      "\n"
     ]
    },
    {
     "name": "stdout",
     "output_type": "stream",
     "text": [
      "frame No: 548\n"
     ]
    },
    {
     "name": "stderr",
     "output_type": "stream",
     "text": [
      "0: 960x544 (no detections), 305.4ms\n",
      "Speed: 8.7ms preprocess, 305.4ms inference, 3.0ms postprocess per image at shape (1, 3, 960, 544)\n",
      "\n"
     ]
    },
    {
     "name": "stdout",
     "output_type": "stream",
     "text": [
      "frame No: 549\n"
     ]
    },
    {
     "name": "stderr",
     "output_type": "stream",
     "text": [
      "0: 960x544 (no detections), 268.2ms\n",
      "Speed: 8.5ms preprocess, 268.2ms inference, 2.3ms postprocess per image at shape (1, 3, 960, 544)\n",
      "\n"
     ]
    },
    {
     "name": "stdout",
     "output_type": "stream",
     "text": [
      "frame No: 550\n"
     ]
    },
    {
     "name": "stderr",
     "output_type": "stream",
     "text": [
      "0: 960x544 (no detections), 250.1ms\n",
      "Speed: 4.8ms preprocess, 250.1ms inference, 1.4ms postprocess per image at shape (1, 3, 960, 544)\n",
      "\n"
     ]
    },
    {
     "name": "stdout",
     "output_type": "stream",
     "text": [
      "frame No: 551\n"
     ]
    },
    {
     "name": "stderr",
     "output_type": "stream",
     "text": [
      "0: 960x544 (no detections), 358.2ms\n",
      "Speed: 4.8ms preprocess, 358.2ms inference, 1.5ms postprocess per image at shape (1, 3, 960, 544)\n",
      "\n"
     ]
    },
    {
     "name": "stdout",
     "output_type": "stream",
     "text": [
      "frame No: 552\n"
     ]
    },
    {
     "name": "stderr",
     "output_type": "stream",
     "text": [
      "0: 960x544 (no detections), 324.4ms\n",
      "Speed: 7.5ms preprocess, 324.4ms inference, 1.0ms postprocess per image at shape (1, 3, 960, 544)\n",
      "\n"
     ]
    },
    {
     "name": "stdout",
     "output_type": "stream",
     "text": [
      "frame No: 553\n"
     ]
    },
    {
     "name": "stderr",
     "output_type": "stream",
     "text": [
      "0: 960x544 (no detections), 209.4ms\n",
      "Speed: 5.5ms preprocess, 209.4ms inference, 3.5ms postprocess per image at shape (1, 3, 960, 544)\n",
      "\n"
     ]
    },
    {
     "name": "stdout",
     "output_type": "stream",
     "text": [
      "frame No: 554\n"
     ]
    },
    {
     "name": "stderr",
     "output_type": "stream",
     "text": [
      "0: 960x544 (no detections), 255.3ms\n",
      "Speed: 10.2ms preprocess, 255.3ms inference, 0.9ms postprocess per image at shape (1, 3, 960, 544)\n",
      "\n"
     ]
    },
    {
     "name": "stdout",
     "output_type": "stream",
     "text": [
      "frame No: 555\n"
     ]
    },
    {
     "name": "stderr",
     "output_type": "stream",
     "text": [
      "0: 960x544 (no detections), 205.0ms\n",
      "Speed: 4.9ms preprocess, 205.0ms inference, 2.0ms postprocess per image at shape (1, 3, 960, 544)\n",
      "\n",
      "0: 960x544 (no detections), 187.6ms\n"
     ]
    },
    {
     "name": "stdout",
     "output_type": "stream",
     "text": [
      "frame No: 556\n"
     ]
    },
    {
     "name": "stderr",
     "output_type": "stream",
     "text": [
      "Speed: 6.7ms preprocess, 187.6ms inference, 1.3ms postprocess per image at shape (1, 3, 960, 544)\n",
      "\n",
      "0: 960x544 (no detections), 175.5ms\n",
      "Speed: 4.1ms preprocess, 175.5ms inference, 1.0ms postprocess per image at shape (1, 3, 960, 544)\n",
      "\n"
     ]
    },
    {
     "name": "stdout",
     "output_type": "stream",
     "text": [
      "frame No: 557\n",
      "frame No: 558\n"
     ]
    },
    {
     "name": "stderr",
     "output_type": "stream",
     "text": [
      "0: 960x544 (no detections), 189.1ms\n",
      "Speed: 5.3ms preprocess, 189.1ms inference, 1.1ms postprocess per image at shape (1, 3, 960, 544)\n",
      "\n",
      "0: 960x544 (no detections), 181.6ms\n",
      "Speed: 5.0ms preprocess, 181.6ms inference, 1.0ms postprocess per image at shape (1, 3, 960, 544)\n",
      "\n"
     ]
    },
    {
     "name": "stdout",
     "output_type": "stream",
     "text": [
      "frame No: 559\n",
      "frame No: 560\n"
     ]
    },
    {
     "name": "stderr",
     "output_type": "stream",
     "text": [
      "0: 960x544 (no detections), 191.1ms\n",
      "Speed: 5.5ms preprocess, 191.1ms inference, 0.8ms postprocess per image at shape (1, 3, 960, 544)\n",
      "\n",
      "0: 960x544 (no detections), 186.4ms\n",
      "Speed: 6.3ms preprocess, 186.4ms inference, 0.9ms postprocess per image at shape (1, 3, 960, 544)\n",
      "\n"
     ]
    },
    {
     "name": "stdout",
     "output_type": "stream",
     "text": [
      "frame No: 561\n",
      "frame No: 562\n"
     ]
    },
    {
     "name": "stderr",
     "output_type": "stream",
     "text": [
      "0: 960x544 (no detections), 204.5ms\n",
      "Speed: 5.7ms preprocess, 204.5ms inference, 1.6ms postprocess per image at shape (1, 3, 960, 544)\n",
      "\n"
     ]
    },
    {
     "name": "stdout",
     "output_type": "stream",
     "text": [
      "frame No: 563\n"
     ]
    },
    {
     "name": "stderr",
     "output_type": "stream",
     "text": [
      "0: 960x544 (no detections), 233.6ms\n",
      "Speed: 5.3ms preprocess, 233.6ms inference, 1.5ms postprocess per image at shape (1, 3, 960, 544)\n",
      "\n"
     ]
    },
    {
     "name": "stdout",
     "output_type": "stream",
     "text": [
      "frame No: 564\n"
     ]
    },
    {
     "name": "stderr",
     "output_type": "stream",
     "text": [
      "0: 960x544 (no detections), 196.0ms\n",
      "Speed: 4.8ms preprocess, 196.0ms inference, 1.0ms postprocess per image at shape (1, 3, 960, 544)\n",
      "\n"
     ]
    },
    {
     "name": "stdout",
     "output_type": "stream",
     "text": [
      "frame No: 565\n"
     ]
    },
    {
     "name": "stderr",
     "output_type": "stream",
     "text": [
      "0: 960x544 (no detections), 305.4ms\n",
      "Speed: 4.9ms preprocess, 305.4ms inference, 0.9ms postprocess per image at shape (1, 3, 960, 544)\n",
      "\n"
     ]
    },
    {
     "name": "stdout",
     "output_type": "stream",
     "text": [
      "frame No: 566\n"
     ]
    },
    {
     "name": "stderr",
     "output_type": "stream",
     "text": [
      "0: 960x544 (no detections), 193.5ms\n",
      "Speed: 5.3ms preprocess, 193.5ms inference, 1.6ms postprocess per image at shape (1, 3, 960, 544)\n",
      "\n"
     ]
    },
    {
     "name": "stdout",
     "output_type": "stream",
     "text": [
      "frame No: 567\n"
     ]
    },
    {
     "name": "stderr",
     "output_type": "stream",
     "text": [
      "0: 960x544 (no detections), 243.3ms\n",
      "Speed: 4.8ms preprocess, 243.3ms inference, 1.8ms postprocess per image at shape (1, 3, 960, 544)\n",
      "\n"
     ]
    },
    {
     "name": "stdout",
     "output_type": "stream",
     "text": [
      "frame No: 568\n"
     ]
    },
    {
     "name": "stderr",
     "output_type": "stream",
     "text": [
      "0: 960x544 (no detections), 241.1ms\n",
      "Speed: 11.0ms preprocess, 241.1ms inference, 1.0ms postprocess per image at shape (1, 3, 960, 544)\n",
      "\n"
     ]
    },
    {
     "name": "stdout",
     "output_type": "stream",
     "text": [
      "frame No: 569\n"
     ]
    },
    {
     "name": "stderr",
     "output_type": "stream",
     "text": [
      "0: 960x544 (no detections), 213.0ms\n",
      "Speed: 6.5ms preprocess, 213.0ms inference, 1.3ms postprocess per image at shape (1, 3, 960, 544)\n",
      "\n"
     ]
    },
    {
     "name": "stdout",
     "output_type": "stream",
     "text": [
      "frame No: 570\n"
     ]
    },
    {
     "name": "stderr",
     "output_type": "stream",
     "text": [
      "0: 960x544 (no detections), 242.8ms\n",
      "Speed: 10.3ms preprocess, 242.8ms inference, 1.3ms postprocess per image at shape (1, 3, 960, 544)\n",
      "\n"
     ]
    },
    {
     "name": "stdout",
     "output_type": "stream",
     "text": [
      "frame No: 571\n"
     ]
    },
    {
     "name": "stderr",
     "output_type": "stream",
     "text": [
      "0: 960x544 (no detections), 201.0ms\n",
      "Speed: 6.2ms preprocess, 201.0ms inference, 1.1ms postprocess per image at shape (1, 3, 960, 544)\n",
      "\n"
     ]
    },
    {
     "name": "stdout",
     "output_type": "stream",
     "text": [
      "frame No: 572\n"
     ]
    },
    {
     "name": "stderr",
     "output_type": "stream",
     "text": [
      "0: 960x544 (no detections), 194.1ms\n",
      "Speed: 7.2ms preprocess, 194.1ms inference, 2.4ms postprocess per image at shape (1, 3, 960, 544)\n",
      "\n"
     ]
    },
    {
     "name": "stdout",
     "output_type": "stream",
     "text": [
      "frame No: 573\n"
     ]
    },
    {
     "name": "stderr",
     "output_type": "stream",
     "text": [
      "0: 960x544 (no detections), 199.2ms\n",
      "Speed: 4.3ms preprocess, 199.2ms inference, 1.0ms postprocess per image at shape (1, 3, 960, 544)\n",
      "\n"
     ]
    },
    {
     "name": "stdout",
     "output_type": "stream",
     "text": [
      "frame No: 574\n"
     ]
    },
    {
     "name": "stderr",
     "output_type": "stream",
     "text": [
      "0: 960x544 1 person, 352.4ms\n",
      "Speed: 8.7ms preprocess, 352.4ms inference, 1.3ms postprocess per image at shape (1, 3, 960, 544)\n",
      "\n"
     ]
    },
    {
     "name": "stdout",
     "output_type": "stream",
     "text": [
      "frame No: 575\n"
     ]
    },
    {
     "name": "stderr",
     "output_type": "stream",
     "text": [
      "0: 960x544 (no detections), 216.3ms\n",
      "Speed: 7.7ms preprocess, 216.3ms inference, 2.4ms postprocess per image at shape (1, 3, 960, 544)\n",
      "\n"
     ]
    },
    {
     "name": "stdout",
     "output_type": "stream",
     "text": [
      "frame No: 576\n"
     ]
    },
    {
     "name": "stderr",
     "output_type": "stream",
     "text": [
      "0: 960x544 1 person, 206.4ms\n",
      "Speed: 5.7ms preprocess, 206.4ms inference, 1.6ms postprocess per image at shape (1, 3, 960, 544)\n",
      "\n"
     ]
    },
    {
     "name": "stdout",
     "output_type": "stream",
     "text": [
      "frame No: 577\n"
     ]
    },
    {
     "name": "stderr",
     "output_type": "stream",
     "text": [
      "0: 960x544 (no detections), 196.1ms\n",
      "Speed: 5.1ms preprocess, 196.1ms inference, 1.3ms postprocess per image at shape (1, 3, 960, 544)\n",
      "\n",
      "0: 960x544 (no detections), 166.9ms\n",
      "Speed: 6.5ms preprocess, 166.9ms inference, 1.0ms postprocess per image at shape (1, 3, 960, 544)\n",
      "\n"
     ]
    },
    {
     "name": "stdout",
     "output_type": "stream",
     "text": [
      "frame No: 578\n",
      "frame No: 579\n"
     ]
    },
    {
     "name": "stderr",
     "output_type": "stream",
     "text": [
      "0: 960x544 (no detections), 224.4ms\n",
      "Speed: 5.3ms preprocess, 224.4ms inference, 1.4ms postprocess per image at shape (1, 3, 960, 544)\n",
      "\n"
     ]
    },
    {
     "name": "stdout",
     "output_type": "stream",
     "text": [
      "frame No: 580\n"
     ]
    },
    {
     "name": "stderr",
     "output_type": "stream",
     "text": [
      "0: 960x544 (no detections), 194.0ms\n",
      "Speed: 4.6ms preprocess, 194.0ms inference, 1.6ms postprocess per image at shape (1, 3, 960, 544)\n",
      "\n",
      "0: 960x544 (no detections), 170.1ms\n",
      "Speed: 4.5ms preprocess, 170.1ms inference, 0.9ms postprocess per image at shape (1, 3, 960, 544)\n",
      "\n"
     ]
    },
    {
     "name": "stdout",
     "output_type": "stream",
     "text": [
      "frame No: 581\n",
      "frame No: 582\n"
     ]
    },
    {
     "name": "stderr",
     "output_type": "stream",
     "text": [
      "0: 960x544 (no detections), 294.3ms\n",
      "Speed: 5.6ms preprocess, 294.3ms inference, 1.5ms postprocess per image at shape (1, 3, 960, 544)\n",
      "\n"
     ]
    },
    {
     "name": "stdout",
     "output_type": "stream",
     "text": [
      "frame No: 583\n"
     ]
    },
    {
     "name": "stderr",
     "output_type": "stream",
     "text": [
      "0: 960x544 (no detections), 252.4ms\n",
      "Speed: 8.2ms preprocess, 252.4ms inference, 1.8ms postprocess per image at shape (1, 3, 960, 544)\n",
      "\n"
     ]
    },
    {
     "name": "stdout",
     "output_type": "stream",
     "text": [
      "frame No: 584\n"
     ]
    },
    {
     "name": "stderr",
     "output_type": "stream",
     "text": [
      "0: 960x544 (no detections), 198.0ms\n",
      "Speed: 6.9ms preprocess, 198.0ms inference, 1.3ms postprocess per image at shape (1, 3, 960, 544)\n",
      "\n",
      "0: 960x544 (no detections), 188.4ms\n",
      "Speed: 5.8ms preprocess, 188.4ms inference, 1.0ms postprocess per image at shape (1, 3, 960, 544)\n",
      "\n"
     ]
    },
    {
     "name": "stdout",
     "output_type": "stream",
     "text": [
      "frame No: 585\n",
      "frame No: 586\n"
     ]
    },
    {
     "name": "stderr",
     "output_type": "stream",
     "text": [
      "0: 960x544 (no detections), 204.2ms\n",
      "Speed: 4.7ms preprocess, 204.2ms inference, 1.1ms postprocess per image at shape (1, 3, 960, 544)\n",
      "\n"
     ]
    },
    {
     "name": "stdout",
     "output_type": "stream",
     "text": [
      "frame No: 587\n"
     ]
    },
    {
     "name": "stderr",
     "output_type": "stream",
     "text": [
      "0: 960x544 (no detections), 304.7ms\n",
      "Speed: 4.8ms preprocess, 304.7ms inference, 1.0ms postprocess per image at shape (1, 3, 960, 544)\n",
      "\n"
     ]
    },
    {
     "name": "stdout",
     "output_type": "stream",
     "text": [
      "frame No: 588\n"
     ]
    },
    {
     "name": "stderr",
     "output_type": "stream",
     "text": [
      "0: 960x544 1 person, 191.7ms\n",
      "Speed: 5.1ms preprocess, 191.7ms inference, 4.1ms postprocess per image at shape (1, 3, 960, 544)\n",
      "\n",
      "0: 960x544 1 person, 187.5ms\n",
      "Speed: 7.4ms preprocess, 187.5ms inference, 1.1ms postprocess per image at shape (1, 3, 960, 544)\n"
     ]
    },
    {
     "name": "stdout",
     "output_type": "stream",
     "text": [
      "frame No: 589\n"
     ]
    },
    {
     "name": "stderr",
     "output_type": "stream",
     "text": [
      "\n",
      "0: 960x544 1 person, 186.8ms\n",
      "Speed: 5.1ms preprocess, 186.8ms inference, 1.1ms postprocess per image at shape (1, 3, 960, 544)\n",
      "\n"
     ]
    },
    {
     "name": "stdout",
     "output_type": "stream",
     "text": [
      "frame No: 590\n",
      "frame No: 591\n"
     ]
    },
    {
     "name": "stderr",
     "output_type": "stream",
     "text": [
      "0: 960x544 (no detections), 195.5ms\n",
      "Speed: 4.7ms preprocess, 195.5ms inference, 1.9ms postprocess per image at shape (1, 3, 960, 544)\n",
      "\n"
     ]
    },
    {
     "name": "stdout",
     "output_type": "stream",
     "text": [
      "frame No: 592\n"
     ]
    },
    {
     "name": "stderr",
     "output_type": "stream",
     "text": [
      "0: 960x544 1 person, 214.9ms\n",
      "Speed: 4.6ms preprocess, 214.9ms inference, 1.6ms postprocess per image at shape (1, 3, 960, 544)\n",
      "\n"
     ]
    },
    {
     "name": "stdout",
     "output_type": "stream",
     "text": [
      "frame No: 593\n"
     ]
    },
    {
     "name": "stderr",
     "output_type": "stream",
     "text": [
      "0: 960x544 (no detections), 238.5ms\n",
      "Speed: 5.4ms preprocess, 238.5ms inference, 1.1ms postprocess per image at shape (1, 3, 960, 544)\n",
      "\n"
     ]
    },
    {
     "name": "stdout",
     "output_type": "stream",
     "text": [
      "frame No: 594\n"
     ]
    },
    {
     "name": "stderr",
     "output_type": "stream",
     "text": [
      "0: 960x544 (no detections), 195.3ms\n",
      "Speed: 5.3ms preprocess, 195.3ms inference, 1.4ms postprocess per image at shape (1, 3, 960, 544)\n",
      "\n"
     ]
    },
    {
     "name": "stdout",
     "output_type": "stream",
     "text": [
      "frame No: 595\n"
     ]
    },
    {
     "name": "stderr",
     "output_type": "stream",
     "text": [
      "0: 960x544 (no detections), 220.8ms\n",
      "Speed: 6.3ms preprocess, 220.8ms inference, 1.2ms postprocess per image at shape (1, 3, 960, 544)\n",
      "\n"
     ]
    },
    {
     "name": "stdout",
     "output_type": "stream",
     "text": [
      "frame No: 596\n"
     ]
    },
    {
     "name": "stderr",
     "output_type": "stream",
     "text": [
      "0: 960x544 (no detections), 217.3ms\n",
      "Speed: 6.4ms preprocess, 217.3ms inference, 1.6ms postprocess per image at shape (1, 3, 960, 544)\n",
      "\n"
     ]
    },
    {
     "name": "stdout",
     "output_type": "stream",
     "text": [
      "frame No: 597\n"
     ]
    },
    {
     "name": "stderr",
     "output_type": "stream",
     "text": [
      "0: 960x544 (no detections), 213.9ms\n",
      "Speed: 7.0ms preprocess, 213.9ms inference, 2.5ms postprocess per image at shape (1, 3, 960, 544)\n",
      "\n"
     ]
    },
    {
     "name": "stdout",
     "output_type": "stream",
     "text": [
      "frame No: 598\n"
     ]
    },
    {
     "name": "stderr",
     "output_type": "stream",
     "text": [
      "0: 960x544 (no detections), 251.3ms\n",
      "Speed: 7.5ms preprocess, 251.3ms inference, 1.5ms postprocess per image at shape (1, 3, 960, 544)\n",
      "\n"
     ]
    },
    {
     "name": "stdout",
     "output_type": "stream",
     "text": [
      "frame No: 599\n"
     ]
    },
    {
     "name": "stderr",
     "output_type": "stream",
     "text": [
      "0: 960x544 (no detections), 311.8ms\n",
      "Speed: 5.9ms preprocess, 311.8ms inference, 1.2ms postprocess per image at shape (1, 3, 960, 544)\n"
     ]
    },
    {
     "name": "stdout",
     "output_type": "stream",
     "text": [
      "frame No: 600\n"
     ]
    }
   ],
   "source": [
    "# | hide\n",
    "# | eval: false\n",
    "\n",
    "frames, fps, obstacle_list = obstacle_avoidance(video_path=video_path, target_box=target_box, factor=0.01, conf=0.10, imgsz=960, iou=0.5)\n",
    "generate_video(video_path=\"example_det_obs_8_1.mp4\", frames=frames, fps=fps)"
   ]
  },
  {
   "cell_type": "code",
   "execution_count": null,
   "metadata": {},
   "outputs": [
    {
     "name": "stdout",
     "output_type": "stream",
     "text": [
      "load checkpoint from local path: raft_8x2_50k_kitti2015_288x960.pth\n"
     ]
    },
    {
     "name": "stderr",
     "output_type": "stream",
     "text": [
      "\n",
      "0: 384x640 2 persons, 96.3ms\n",
      "Speed: 2.3ms preprocess, 96.3ms inference, 0.8ms postprocess per image at shape (1, 3, 384, 640)\n",
      "\n",
      "0: 384x640 2 persons, 116.2ms\n",
      "Speed: 4.3ms preprocess, 116.2ms inference, 0.9ms postprocess per image at shape (1, 3, 384, 640)\n",
      "\n",
      "0: 384x640 2 persons, 100.8ms\n",
      "Speed: 2.1ms preprocess, 100.8ms inference, 1.2ms postprocess per image at shape (1, 3, 384, 640)\n",
      "\n",
      "0: 384x640 2 persons, 113.5ms\n",
      "Speed: 2.2ms preprocess, 113.5ms inference, 0.9ms postprocess per image at shape (1, 3, 384, 640)\n",
      "\n",
      "0: 384x640 2 persons, 120.9ms\n",
      "Speed: 2.8ms preprocess, 120.9ms inference, 0.9ms postprocess per image at shape (1, 3, 384, 640)\n",
      "\n",
      "0: 384x640 2 persons, 160.4ms\n",
      "Speed: 4.5ms preprocess, 160.4ms inference, 3.6ms postprocess per image at shape (1, 3, 384, 640)\n"
     ]
    }
   ],
   "source": [
    "# | hide\n",
    "# | eval: false\n",
    "\n",
    "frames, vels, fps = infer_video(video_path=\"camera-104-2023-07-05_15-34-29.ts\",names=[\"person\", \"car\", \"bus\", \"truck\", \"suitcase\", \"backpack\", \"handbag\", \"airplane\"])\n",
    "generate_video(frames=frames, fps=fps, video_path=\"output_arrow_hahah.mp4\")\n"
   ]
  },
  {
   "cell_type": "code",
   "execution_count": null,
   "metadata": {},
   "outputs": [],
   "source": [
    "# | hide\n",
    "# | eval: false\n",
    "\n",
    "# Object Segmentation with SAM...\n",
    "\n",
    "\n",
    "def get_mask_area(mask: np.ndarray):\n",
    "    area = mask.sum()  # assumes binary mask (True == 1)\n",
    "    return area\n",
    "\n",
    "\n",
    "def calculateIoU(gtMask, predMask):\n",
    "    # Calculate the true positives,\n",
    "    # false positives, and false negatives\n",
    "    tp = 0\n",
    "    fp = 0\n",
    "    fn = 0\n",
    "\n",
    "    for i in range(gtMask.shape[0]):\n",
    "        for j in range(gtMask.shape[1]):\n",
    "            if gtMask[i][j] == 1 and predMask[i][j] == 1:\n",
    "                tp += 1\n",
    "            elif gtMask[i][j] == 0 and predMask[i][j] == 1:\n",
    "                fp += 1\n",
    "            elif gtMask[i][j] == 1 and predMask[i][j] == 0:\n",
    "                fn += 1\n",
    "    # Calculate IoU\n",
    "    iou = tp / (tp + fp + fn)\n",
    "\n",
    "    return iou\n",
    "\n",
    "\n",
    "def segment_with_prompts(sam_model: Sam, image: np.ndarray, **kwargs):\n",
    "    h, w, _ = image.shape\n",
    "    points = kwargs.get(\n",
    "        \"points\", np.array([[w * 0.5, h * 0.5], [0, h], [w, 0], [0, 0], [w, h]])\n",
    "    )\n",
    "    labels = kwargs.get(\"labels\", np.array([1, 0, 0, 0, 0]))\n",
    "    mask = kwargs.get(\"mask\", None)\n",
    "    if mask != None:\n",
    "      mask = st.resize(mask, (256, 256), order=0, preserve_range=True, anti_aliasing=False)\n",
    "      mask = np.stack((mask,) * 1, axis=0)\n",
    "    predictor = SamPredictor(sam_model)\n",
    "    predictor.set_image(image)\n",
    "    masks, scores, logits = predictor.predict(\n",
    "        point_coords=points, point_labels=labels, mask_input=mask, multimask_output=False\n",
    "    )\n",
    "    return masks\n",
    "\n",
    "\n",
    "def load_sam_model(\n",
    "    sam_checkpoint: str = \"sam_vit_h_4b8939.pth\",\n",
    "    model_type: str = \"vit_h\",\n",
    "    device: str = \"cuda\",\n",
    "):\n",
    "    sam = sam_model_registry[model_type](checkpoint=sam_checkpoint)\n",
    "    sam.to(device=device)\n",
    "    return sam\n",
    "\n",
    "def segment_everything(sam_model:Sam, image:np.ndarray, **kwargs):\n",
    "    mask = kwargs[\"mask\"]\n",
    "    mask_generator = SamAutomaticMaskGenerator(sam_model)\n",
    "    masks = mask_generator.generate(image)\n",
    "    if mask == None:\n",
    "        return masks\n",
    "    sorted_anns = sorted(masks, key=(lambda x: x['area']), reverse=True)\n",
    "    best = -1.0\n",
    "    ind = -100\n",
    "\n",
    "    area1 = get_mask_area(mask.astype(int))\n",
    "    for i in range(10):\n",
    "        val = calculateIoU(mask.astype(int), sorted_anns[i]['segmentation'].astype(int))\n",
    "        area2 = get_mask_area(sorted_anns[i]['segmentation'].astype(int))\n",
    "        dif = abs(area2 - area1)\n",
    "        if val > best and dif < 5000:\n",
    "            ind = i\n",
    "            best = val\n",
    "        elif val > best:\n",
    "            ind = i\n",
    "            best = val\n",
    "    return sorted_anns[ind]\n",
    "\n",
    "def segment(sam_model:Sam, image:np.ndarray, seg_function=segment_with_prompts, **kwargs):\n",
    "  image = cv2.cvtColor(image, cv2.COLOR_BGR2RGB)\n",
    "  mask_fname = kwargs.get(\"mask_path\", None)\n",
    "  mask = None\n",
    "  if mask_fname != None:\n",
    "    mask = cv2.imread(mask_fname)\n",
    "    mask = cv2.cvtColor(mask, cv2.COLOR_RGB2GRAY)\n",
    "    mask = mask.astype(bool)\n",
    "  h,w,_ = image.shape\n",
    "  points = kwargs.get(\n",
    "        \"points\", np.array([[w * 0.5, h * 0.5], [0, h], [w, 0], [0, 0], [w, h]])\n",
    "  )\n",
    "  labels = kwargs.get(\"labels\", np.array([1, 0, 0, 0, 0]))\n",
    "\n",
    "  masks = seg_function(sam_model, image, mask=mask, points=points, labels=labels)\n",
    "  return masks"
   ]
  },
  {
   "cell_type": "code",
   "execution_count": null,
   "metadata": {},
   "outputs": [],
   "source": [
    "# | hide\n",
    "# | eval: false\n",
    "\n",
    "def get_points(\n",
    "    yolo, \n",
    "    img: Union[str, np.ndarray],\n",
    "    draw_bbox: bool = False,\n",
    "    return_img: bool = False,\n",
    "    stream: bool = True,\n",
    "):\n",
    "    result = detect_objects(model=yolo, img=img, stream=stream, draw_bbox=draw_bbox)\n",
    "    points = []\n",
    "    labels = []\n",
    "    for box in result[0][\"boxes\"]:\n",
    "        x1, y1, x2, y2 = box[:4]\n",
    "        mid_x = int(x1 + ((x2 - x1) / 2))\n",
    "        mid_y = int(y1 + ((y2 - y1) / 2))\n",
    "        points.append([mid_x, mid_y])\n",
    "        labels.append(1)  #\n",
    "    if return_img:\n",
    "        return result[0][\"img\"], result[0][\"boxes\"], points, labels\n",
    "    return result[0][\"boxes\"], points, labels\n",
    "\n",
    "\n",
    "# Extract direction and speed from the selected objects using RAFT (optical flow algorithm)..\n",
    "\n",
    "\n",
    "def display_direction(result: np.ndarray, mean_u, mean_v, points):\n",
    "    h_rat = 10\n",
    "    w_rat = 10\n",
    "    image_arr = cv2.arrowedLine(\n",
    "        img=result,\n",
    "        pt1=(points[0], points[1]),\n",
    "        pt2=(points[0] + int(mean_u) * w_rat, points[1] + int(mean_v) * h_rat),\n",
    "        color=(0, 0, 255),\n",
    "        thickness=5,\n",
    "        line_type=8,\n",
    "        tipLength=0.5,\n",
    "    )\n",
    "    return image_arr\n",
    "\n",
    "\n",
    "def get_velocity(\n",
    "    img1: Union[str, np.ndarray],\n",
    "    img2: Union[str,np.ndarray],\n",
    "    boxes: list,\n",
    "    res: np.ndarray,\n",
    "    model=None,\n",
    "    save_img: bool = True,\n",
    "    out_dir: str = \"./frames/\",\n",
    "    config_file: str = \"raft_8x2_50k_kitti2015_288x960.py\",\n",
    "    checkpoint_file: str = \"raft_8x2_50k_kitti2015_288x960.pth\",\n",
    "    device: str = \"cpu\",\n",
    "):\n",
    "    if model == None:\n",
    "        model = init_model(config_file, checkpoint_file, device=device)\n",
    "    result = inference_model(model, img1, img2)\n",
    "    img = res\n",
    "    vel = 0\n",
    "    flow_map = None\n",
    "    # print(boxes)\n",
    "    for box in boxes:\n",
    "        x1, y1, x2, y2 = box[:4]\n",
    "        mid_x = int(x1 + ((x2 - x1) / 2))\n",
    "        mid_y = int(y1 + ((y2 - y1) / 2))\n",
    "        flows_u = result[int(y1) : int(y2), int(x1) : int(x2), 0]\n",
    "        flows_v = result[int(y1) : int(y2), int(x1) : int(x2), 1]\n",
    "        mean_u = flows_u.mean()\n",
    "        mean_v = flows_v.mean()\n",
    "        img = display_direction(img, mean_u, mean_v, (mid_x, mid_y))\n",
    "        flow_map = visualize_flow(result, save_file=\"flow_map.png\")\n",
    "        vel = math.sqrt(pow(mean_u, 2) + (pow(mean_v, 2)))\n",
    "    if save_img:\n",
    "        cv2.imwrite(\"arrow_and_box.png\", img)\n",
    "    return vel, img, flow_map\n",
    "\n",
    "def infer_video(video_path:str,\n",
    "    names:list = [\"person\", \"car\", \"airplane\"],\n",
    "    config_file: str = \"raft_8x2_50k_kitti2015_288x960.py\",\n",
    "    checkpoint_file: str = \"raft_8x2_50k_kitti2015_288x960.pth\",\n",
    "    device:str=\"cpu\",\n",
    "):    \n",
    "    print(names)\n",
    "    cap = cv2.VideoCapture(video_path)\n",
    "    ret, frame1 = cap.read()\n",
    "    if not ret:\n",
    "        print(\"ERROR! In Reading the video file..\")\n",
    "        return\n",
    "    frames = []\n",
    "    yolo = load_obj_model()\n",
    "    model = init_model(config=config_file, checkpoint=checkpoint_file, device=device)\n",
    "    speeds = []\n",
    "    fps = cap.get(cv2.CAP_PROP_FPS)\n",
    "    i = 0\n",
    "    while cap.isOpened():\n",
    "        ret, frame2 = cap.read()\n",
    "        if ret:\n",
    "            # frames.append(cv2.cvtColor(frame, cv2.COLOR_BGR2RGB))\n",
    "            img, boxes, _, _ = get_points(yolo=yolo, names=names,img=frame2, draw_bbox=True, return_img=True)\n",
    "            speed, img, _ = get_velocity(img1=frame1, img2=frame2, boxes=boxes, res=img, model=model, save_img=False)\n",
    "            frames.append(img)\n",
    "            speeds.append(speed)\n",
    "        else:\n",
    "            break\n",
    "        i+=1\n",
    "        frame1 = frame2\n",
    "    return frames, speeds, fps\n",
    "\n",
    "\n",
    "\n"
   ]
  },
  {
   "cell_type": "code",
   "execution_count": null,
   "metadata": {},
   "outputs": [],
   "source": [
    "# | hide\n",
    "# | eval: false\n",
    "\n",
    "frames, vels, fps = infer_video(video_path=\"/home/trillo3/projects/vid_chains/static_files/104/archive/2023/07/05/camera-104-2023-07-05_15-34-29.ts\",names=[\"person\", \"car\", \"bus\", \"truck\", \"suitcase\", \"backpack\", \"handbag\", \"airplane\"])\n"
   ]
  },
  {
   "cell_type": "code",
   "execution_count": null,
   "metadata": {},
   "outputs": [],
   "source": [
    "# | hide\n",
    "# | eval: false\n",
    "\n",
    "def load_obj_model(name=\"yolov8n.pt\"):\n",
    "    return YOLO(name)\n",
    "\n",
    "\n",
    "def detect_objects(model, img, names=None, exclude=None,  stream=True, draw_bbox=False, return_only_boxes=True):\n",
    "    dict = {0: 'person', 1: 'bicycle', 2: 'car', 3: 'motorcycle', 4: 'airplane', 5: 'bus', 6: 'train', 7: 'truck', 8: 'boat', 9: 'traffic light', 10: 'fire hydrant', 11: 'stop sign', 12: 'parking meter', 13: 'bench', 14: 'bird', 15: 'cat', 16: 'dog', 17: 'horse', 18: 'sheep', 19: 'cow', 20: 'elephant', 21: 'bear', 22: 'zebra', 23: 'giraffe', 24: 'backpack', 25: 'umbrella', 26: 'handbag', 27: 'tie', 28: 'suitcase', 29: 'frisbee', 30: 'skis', 31: 'snowboard', 32: 'sports ball', 33: 'kite', 34: 'baseball bat', 35: 'baseball glove', 36: 'skateboard', 37: 'surfboard', 38: 'tennis racket', 39: 'bottle', 40: 'wine glass', 41: 'cup', 42: 'fork', 43: 'knife', 44: 'spoon', 45: 'bowl', 46: 'banana', 47: 'apple', 48: 'sandwich', 49: 'orange', 50: 'broccoli', 51: 'carrot', 52: 'hot dog', 53: 'pizza', 54: 'donut', 55: 'cake', 56: 'chair', 57: 'couch', 58: 'potted plant', 59: 'bed', 60: 'dining table', 61: 'toilet', 62: 'tv', 63: 'laptop', 64: 'mouse', 65: 'remote', 66: 'keyboard', 67: 'cell phone', 68: 'microwave', 69: 'oven', 70: 'toaster', 71: 'sink', 72: 'refrigerator', 73: 'book', 74: 'clock', 75: 'vase', 76: 'scissors', 77: 'teddy bear', 78: 'hair drier', 79: 'toothbrush'}\n",
    "    classes = list(dict.keys())\n",
    "    if names:\n",
    "        classes = [list(dict.keys())[list(dict.values()).index(name.lower())] for name in names]\n",
    "    if exclude:\n",
    "        exclude = [e.lower() for e in exclude]\n",
    "        names = [v for v in list(dict.values()) if not v in exclude]\n",
    "        classes = [list(dict.keys())[list(dict.values()).index(name)] for name in names]\n",
    "    res = model(img, stream=stream, classes=classes)\n",
    "    # if draw_bbox:\n",
    "        # return [{\"boxes\": r.boxes.data.detach().cpu().tolist(),\"img\": r.plot()} for r in res]\n",
    "    if return_only_boxes:\n",
    "        return [{\"boxes\": r.boxes.data.detach().cpu().tolist()} for r in res]\n",
    "    return res\n",
    "\n"
   ]
  },
  {
   "cell_type": "code",
   "execution_count": null,
   "metadata": {},
   "outputs": [],
   "source": [
    "# | hide\n",
    "# | eval: false\n",
    "\n",
    "def show_mask(mask, ax, random_color=False):\n",
    "    if random_color:\n",
    "        color = np.concatenate([np.random.random(3), np.array([0.6])], axis=0)\n",
    "    else:\n",
    "        color = np.array([30 / 255, 144 / 255, 255 / 255, 0.6])\n",
    "    h, w = mask.shape[-2:]\n",
    "    mask_image = mask.reshape(h, w, 1) * color.reshape(1, 1, -1)\n",
    "    ax.imshow(mask_image)\n",
    "\n",
    "\n",
    "def show_points(coords, labels, ax, marker_size=375):\n",
    "    pos_points = coords[labels == 1]\n",
    "    neg_points = coords[labels == 0]\n",
    "    ax.scatter(\n",
    "        pos_points[:, 0],\n",
    "        pos_points[:, 1],\n",
    "        color=\"green\",\n",
    "        marker=\"*\",\n",
    "        s=marker_size,\n",
    "        edgecolor=\"white\",\n",
    "        linewidth=1.25,\n",
    "    )\n",
    "    ax.scatter(\n",
    "        neg_points[:, 0],\n",
    "        neg_points[:, 1],\n",
    "        color=\"red\",\n",
    "        marker=\"*\",\n",
    "        s=marker_size,\n",
    "        edgecolor=\"white\",\n",
    "        linewidth=1.25,\n",
    "    )\n",
    "\n",
    "\n",
    "def show_box(box, ax):\n",
    "    x0, y0 = box[0], box[1]\n",
    "    w, h = box[2] - box[0], box[3] - box[1]\n",
    "    ax.add_patch(\n",
    "        plt.Rectangle((x0, y0), w, h, edgecolor=\"green\", facecolor=(0, 0, 0, 0), lw=2)\n",
    "    )\n",
    "\n",
    "\n",
    "def show_anns(anns):\n",
    "    if len(anns) == 0:\n",
    "        return\n",
    "    sorted_anns = sorted(anns, key=(lambda x: x[\"area\"]), reverse=True)\n",
    "    ax = plt.gca()\n",
    "    ax.set_autoscale_on(False)\n",
    "\n",
    "    img = np.ones(\n",
    "        (sorted_anns[0][\"segmentation\"].shape[0], sorted_anns[0][\"segmentation\"].shape[1], 4)\n",
    "    )\n",
    "    img[:, :, 3] = 0\n",
    "    for ann in sorted_anns:\n",
    "        m = ann[\"segmentation\"]\n",
    "        color_mask = np.concatenate([np.random.random(3), [0.35]])\n",
    "        img[m] = color_mask\n",
    "    ax.imshow(img)\n",
    "\n",
    "def combine_mask(image:np.ndarray, mask:np.ndarray, color:tuple=None):\n",
    "    if color == None:\n",
    "        color = (30, 144, 255)\n",
    "    h, w = mask.shape[-2:]\n",
    "    mask_image = mask.reshape(h,w)\n",
    "    image[mask_image] = color\n",
    "    return image"
   ]
  },
  {
   "cell_type": "code",
   "execution_count": null,
   "metadata": {},
   "outputs": [],
   "source": [
    "# | hide\n",
    "# | eval: false\n",
    "\n",
    "# with segment_everything..\n",
    "\n",
    "# frame_dir = 'frames'\n",
    "# frames = os.listdir(frame_dir)\n",
    "# # print(frames)\n",
    "# for frame in frames[:5]:\n",
    "#   image = cv2.imread(f'{frame_dir}/{frame}')\n",
    "#   sam = load_sam_model()\n",
    "#   mask_3 = segment(sam_model=sam, image=image, seg_function = segment_everything)\n",
    "#   plt.figure(figsize=(10,10))\n",
    "#   plt.imshow(image)\n",
    "#   show_mask(mask_3, plt.gca())\n",
    "#   plt.show()"
   ]
  },
  {
   "cell_type": "code",
   "execution_count": null,
   "metadata": {},
   "outputs": [],
   "source": [
    "# | hide\n",
    "# | eval: false\n",
    "\n",
    "# Clone the repository:\n",
    "# !git clone https://github.com/gaomingqi/Track-Anything.git\n",
    "# %cd /content/Track-Anything\n",
    "\n",
    "# Install dependencies:\n",
    "# !pip install -r requirements.txt\n",
    "# new libraries: progressbar2 gdown gitpython openmim av hickle tqdm psutil gradio"
   ]
  },
  {
   "cell_type": "code",
   "execution_count": null,
   "metadata": {},
   "outputs": [],
   "source": [
    "# | hide\n",
    "# | eval: false\n",
    "\n",
    "# Object tracking with TAN..\n",
    "\n",
    "# download checkpoints\n",
    "def download_checkpoint(url, folder, filename):\n",
    "    os.makedirs(folder, exist_ok=True)\n",
    "    filepath = os.path.join(folder, filename)\n",
    "\n",
    "    if not os.path.exists(filepath):\n",
    "        print(\"download checkpoints ......\")\n",
    "        response = requests.get(url, stream=True)\n",
    "        with open(filepath, \"wb\") as f:\n",
    "            for chunk in response.iter_content(chunk_size=8192):\n",
    "                if chunk:\n",
    "                    f.write(chunk)\n",
    "\n",
    "        print(\"download successfully!\")\n",
    "\n",
    "    return filepath\n",
    "\n",
    "def download_checkpoint_from_google_drive(file_id, folder, filename):\n",
    "    os.makedirs(folder, exist_ok=True)\n",
    "    filepath = os.path.join(folder, filename)\n",
    "\n",
    "    if not os.path.exists(filepath):\n",
    "        print(\"Downloading checkpoints from Google Drive... tips: If you cannot see the progress bar, please try to download it manuall \\\n",
    "              and put it in the checkpointes directory. E2FGVI-HQ-CVPR22.pth: https://github.com/MCG-NKU/E2FGVI(E2FGVI-HQ model)\")\n",
    "        url = f\"https://drive.google.com/uc?id={file_id}\"\n",
    "        gdown.download(url, filepath, quiet=False)\n",
    "        print(\"Downloaded successfully!\")\n",
    "\n",
    "    return filepath\n",
    "\n",
    "# generate video after vos inference\n",
    "def generate_video_from_frames(frames:list, output_path:str, fps:int=30):\n",
    "    \"\"\"\n",
    "    Generates a video from a list of frames.\n",
    "\n",
    "    Args:\n",
    "        frames (list of numpy arrays): The frames to include in the video.\n",
    "        output_path (str): The path to save the generated video.\n",
    "        fps (int, optional): The frame rate of the output video. Defaults to 30.\n",
    "    \"\"\"\n",
    "    # height, width, layers = frames[0].shape\n",
    "    # fourcc = cv2.VideoWriter_fourcc(*\"mp4v\")\n",
    "    # video = cv2.VideoWriter(output_path, fourcc, fps, (width, height))\n",
    "    # print(output_path)\n",
    "    # for frame in frames:\n",
    "    #     video.write(frame)\n",
    "\n",
    "    # video.release()\n",
    "    frames = torch.from_numpy(np.asarray(frames))\n",
    "    if not os.path.exists(os.path.dirname(output_path)):\n",
    "        os.makedirs(os.path.dirname(output_path))\n",
    "    torchvision.io.write_video(output_path, frames, fps=fps, video_codec=\"libx264\")\n",
    "    return output_path\n",
    "\n",
    "def generate_frames_from_video(video_path:str, start_time:int):\n",
    "  frames = []\n",
    "  try:\n",
    "      cap = cv2.VideoCapture(video_path)\n",
    "      cap.set(cv2.CAP_PROP_POS_MSEC, start_time*1000)\n",
    "      fps = cap.get(cv2.CAP_PROP_FPS)\n",
    "      while cap.isOpened():\n",
    "          ret, frame = cap.read()\n",
    "          if ret == True:\n",
    "              frames.append(cv2.cvtColor(frame, cv2.COLOR_BGR2RGB))\n",
    "          else:\n",
    "              break\n",
    "  except (OSError, TypeError, ValueError, KeyError, SyntaxError) as e:\n",
    "      print(\"read_frame_source:{} error. {}\\n\".format(video_path, str(e)))\n",
    "  return frames\n",
    "\n",
    "def track_object(images:list, points:np.ndarray, labels:np.ndarray, e2fgvi_checkpoint:str, sam_checkpoint:str, xmem_checkpoint:str, **kwargs):\n",
    "  sys.argv = [\"cuda:0\"]\n",
    "  args = parse_augment()\n",
    "  multimask = kwargs.get('multimask', True)\n",
    "  track_model = TrackingAnything(sam_checkpoint, xmem_checkpoint, e2fgvi_checkpoint, args)\n",
    "  track_model.samcontroler.sam_controler.reset_image()\n",
    "  track_model.samcontroler.sam_controler.set_image(images[0])\n",
    "  mask,_,_ = track_model.first_frame_click(image = images[0], points = points, labels = labels, multimask = multimask)\n",
    "  masks, logits ,painted_images= track_model.generator(images, mask)\n",
    "  return masks, logits, painted_images"
   ]
  },
  {
   "cell_type": "code",
   "execution_count": null,
   "metadata": {},
   "outputs": [],
   "source": [
    "# | hide\n",
    "# | eval: false\n",
    "\n",
    "# check and download checkpoints if needed\n",
    "SAM_checkpoint_dict = {\n",
    "    'vit_h': \"sam_vit_h_4b8939.pth\",\n",
    "    'vit_l': \"sam_vit_l_0b3195.pth\",\n",
    "    \"vit_b\": \"sam_vit_b_01ec64.pth\"\n",
    "}\n",
    "SAM_checkpoint_url_dict = {\n",
    "    'vit_h': \"https://dl.fbaipublicfiles.com/segment_anything/sam_vit_h_4b8939.pth\",\n",
    "    'vit_l': \"https://dl.fbaipublicfiles.com/segment_anything/sam_vit_l_0b3195.pth\",\n",
    "    'vit_b': \"https://dl.fbaipublicfiles.com/segment_anything/sam_vit_b_01ec64.pth\"\n",
    "}\n",
    "sam_checkpoint = SAM_checkpoint_dict['vit_h']\n",
    "sam_checkpoint_url = SAM_checkpoint_url_dict['vit_h']\n",
    "xmem_checkpoint = \"XMem-s012.pth\"\n",
    "xmem_checkpoint_url = \"https://github.com/hkchengrex/XMem/releases/download/v1.0/XMem-s012.pth\"\n",
    "e2fgvi_checkpoint = \"E2FGVI-HQ-CVPR22.pth\"\n",
    "e2fgvi_checkpoint_id = \"10wGdKSUOie0XmCr8SQ2A2FeDe-mfn5w3\"\n",
    "\n",
    "folder = \"./checkpoints\"\n",
    "sam_checkpoint = download_checkpoint(sam_checkpoint_url, folder, sam_checkpoint)\n",
    "xmem_checkpoint = download_checkpoint(xmem_checkpoint_url, folder, xmem_checkpoint)\n",
    "e2fgvi_checkpoint = download_checkpoint_from_google_drive(e2fgvi_checkpoint_id, folder, e2fgvi_checkpoint)\n",
    "\n"
   ]
  },
  {
   "cell_type": "code",
   "execution_count": null,
   "metadata": {},
   "outputs": [],
   "source": [
    "# | hide\n",
    "# | eval: false\n",
    "\n",
    "# extract frames from the video...\n",
    "frames = generate_frames_from_video('vid_shorts.mp4', start_time=1)"
   ]
  },
  {
   "cell_type": "code",
   "execution_count": null,
   "metadata": {},
   "outputs": [],
   "source": [
    "# | hide\n",
    "# | eval: false\n",
    "\n",
    "h, w, _ = frames[0].shape\n",
    "points=np.array([[int(w*0.5), int(h*0.5)], [0, h-10], [w-10, 0], [0,0], [w-10,h-10]])\n",
    "labels = np.array([1, 0, 0, 0, 0])\n",
    "# Track the masked object using point prompt..\n",
    "masks, logits, painted_images = track_object(frames, points = points, labels = labels, e2fgvi_checkpoint = e2fgvi_checkpoint, sam_checkpoint = sam_checkpoint, xmem_checkpoint = xmem_checkpoint)\n",
    "\n"
   ]
  },
  {
   "cell_type": "code",
   "execution_count": null,
   "metadata": {},
   "outputs": [],
   "source": [
    "# | hide\n",
    "# | eval: false\n",
    "\n",
    "# Save the return frames in the form of a video..\n",
    "output_path = 'output.mp4'\n",
    "output_path = generate_video_from_frames(frames=frames, output_path=output_path)"
   ]
  },
  {
   "cell_type": "code",
   "execution_count": null,
   "metadata": {},
   "outputs": [],
   "source": [
    "# | hide\n",
    "# | eval: false\n",
    "\n",
    "img_path = \"../imgs/\"\n",
    "\n",
    "model = load_obj_model()\n",
    "objects = detect_objects(model, img_path)\n"
   ]
  },
  {
   "cell_type": "code",
   "execution_count": null,
   "metadata": {},
   "outputs": [],
   "source": [
    "# | hide\n",
    "# | eval: false\n",
    "\n",
    "\n",
    "objects[0]\n"
   ]
  },
  {
   "cell_type": "code",
   "execution_count": null,
   "metadata": {},
   "outputs": [],
   "source": [
    "# | hide\n",
    "import nbdev\n",
    "\n",
    "nbdev.nbdev_export()\n"
   ]
  }
 ],
 "metadata": {
  "kernelspec": {
   "display_name": "python3",
   "language": "python",
   "name": "python3"
  }
 },
 "nbformat": 4,
 "nbformat_minor": 4
}
