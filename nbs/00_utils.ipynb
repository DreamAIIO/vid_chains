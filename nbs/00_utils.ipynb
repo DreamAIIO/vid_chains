{
 "cells": [
  {
   "attachments": {},
   "cell_type": "markdown",
   "metadata": {},
   "source": [
    "# Utils"
   ]
  },
  {
   "cell_type": "code",
   "execution_count": null,
   "metadata": {},
   "outputs": [],
   "source": [
    "# | default_exp utils"
   ]
  },
  {
   "cell_type": "code",
   "execution_count": null,
   "metadata": {},
   "outputs": [
    {
     "name": "stderr",
     "output_type": "stream",
     "text": [
      "/home/rafay/miniconda3/envs/jbt_proj/lib/python3.10/site-packages/tqdm/auto.py:21: TqdmWarning: IProgress not found. Please update jupyter and ipywidgets. See https://ipywidgets.readthedocs.io/en/stable/user_install.html\n",
      "  from .autonotebook import tqdm as notebook_tqdm\n"
     ]
    }
   ],
   "source": [
    "# | export\n",
    "\n",
    "from vid_chains.imports import *\n",
    "import math\n",
    "import operator"
   ]
  },
  {
   "cell_type": "code",
   "execution_count": null,
   "metadata": {},
   "outputs": [],
   "source": [
    "#| hide\n",
    "\n",
    "%load_ext autoreload\n",
    "%autoreload 2\n",
    "%reload_ext autoreload"
   ]
  },
  {
   "cell_type": "code",
   "execution_count": null,
   "metadata": {},
   "outputs": [],
   "source": [
    "# | export\n",
    "\n",
    "def setify(o): return o if isinstance(o,set) else set(list(o))\n",
    "\n",
    "def _get_files(p, fs, extensions=None):\n",
    "    p = Path(p)\n",
    "    res = [p/f for f in fs if not f.startswith('.')\n",
    "           and ((not extensions) or f'.{f.split(\".\")[-1].lower()}' in extensions)]\n",
    "    return res\n",
    "\n",
    "def get_files(path, extensions=None, recurse=True, folders=None, followlinks=True):\n",
    "    \"Get all the files in `path` with optional `extensions`, optionally with `recurse`, only in `folders`, if specified.\"\n",
    "    if folders is None:\n",
    "        folders = list([])\n",
    "    path = Path(path)\n",
    "    if extensions is not None:\n",
    "        extensions = setify(extensions)\n",
    "        extensions = {e.lower() for e in extensions}\n",
    "    if recurse:\n",
    "        res = []\n",
    "        for i,(p,d,f) in enumerate(os.walk(path, followlinks=followlinks)): # returns (dirpath, dirnames, filenames)\n",
    "            if len(folders) !=0 and i==0: d[:] = [o for o in d if o in folders]\n",
    "            else:                         d[:] = [o for o in d if not o.startswith('.')]\n",
    "            if len(folders) !=0 and i==0 and '.' not in folders: continue\n",
    "            res += _get_files(p, f, extensions)\n",
    "    else:\n",
    "        f = [o.name for o in os.scandir(path) if o.is_file()]\n",
    "        res = _get_files(path, f, extensions)\n",
    "    return list(res)\n",
    "\n",
    "def list_map(l, m):\n",
    "    return list(pd.Series(l).apply(m))\n",
    "\n",
    "def get_image_files(path, recurse=True, folders=None, map_fn=None,\n",
    "                    sort_key=None, reverse=False, shuffle=False):\n",
    "    \"Get image files in `path` recursively, only in `folders`, if specified.\"\n",
    "    l = get_files(path, extensions=image_extensions, recurse=recurse, folders=folders)\n",
    "    if sort_key is not None:\n",
    "        l = sorted(l, key=sort_key)\n",
    "    if reverse:\n",
    "        l = list(l)[::-1]\n",
    "    if shuffle:\n",
    "        random.shuffle(l)\n",
    "    if map_fn is not None:\n",
    "        return list_map(l, map_fn)\n",
    "    return l\n",
    "\n",
    "\n",
    "def load_obj_model(name=\"yolov8n.pt\"):\n",
    "    return YOLO(name)\n",
    "\n",
    "\n",
    "def detect_objects(model, img):\n",
    "    res = model(img, stream=True)\n",
    "    return [{\"boxes\": r.boxes.data.detach().cpu().tolist()} for r in res]\n",
    "\n",
    "def get_width (l):\n",
    "    w = l[2]-l[0]\n",
    "    return w\n",
    "\n",
    "def list_widths (obj):\n",
    "    w=[]\n",
    "    for i in range(0,len(obj.get('boxes'))):\n",
    "      l=[]\n",
    "      for j in range(0,6):\n",
    "        l.append(obj.get('boxes')[i][j])\n",
    "      if l[5] == 39.0: #very specific test case for bottles so will ignore other objects, will remove this in the future\n",
    "        width = get_width(l)\n",
    "        w.append(width)\n",
    "    return w\n",
    "\n",
    "def centroid (l):\n",
    "    t = []\n",
    "    cx = (l[0]+l[2])/2.0\n",
    "    cy = (l[1]+l[3])/2.0\n",
    "    t.append(cx)\n",
    "    t.append(cy)\n",
    "    return t\n",
    "\n",
    "\n",
    "def list_centroids (obj):\n",
    "    c=[]\n",
    "    for i in range(0,len(obj)):\n",
    "      l=[]\n",
    "      for j in range(0,4):\n",
    "        l.append(obj[i][j])\n",
    "      centre = centroid(l)\n",
    "      c.append(centre)\n",
    "    return c\n",
    "\n",
    "def inter_dist(obj):\n",
    "   \n",
    "    c = list_centroids(obj)\n",
    "    dis = []\n",
    "    st = []\n",
    "    for i in range(0,len(c)):\n",
    "        for j in range(i+1,len(c)):\n",
    "            #st.append(\"Distance b/w object \"+str(i)+\" and object \"+str(j))\n",
    "            #st.append(\"D(\"+str(i)+\",\"+str(j)+\")\")\n",
    "            dis.append(math.dist(c[i],c[j]))\n",
    "    #return st,dis\n",
    "    return dis\n",
    "\n",
    "def focal_len_to_px (focal_len, sensor_px):\n",
    "    return round((focal_len/sensor_px)*1000)\n",
    "\n",
    "def camera_to_obj_dist (focal_length_px, obj, real_width):\n",
    "\n",
    "    widths = list_widths(obj)\n",
    "    dists = []\n",
    "    for w in widths:\n",
    "        distance = (real_width * focal_length_px) / w\n",
    "        dists.append(distance)\n",
    "\n",
    "    return dists\n",
    "\n",
    "### Helper functions for distances between masks by getting extreme points, \n",
    "# all used in calculate_distance_masks i.e the main function \n",
    "\n",
    "def get_coords(mask_folder):\n",
    "    mask_fnames = get_image_files(mask_folder)\n",
    "    list_coords = []\n",
    "    # generates a list (y,x) coords..\n",
    "    for mask_fname in mask_fnames:\n",
    "        mask = cv2.imread(str(mask_fname))\n",
    "        mask = cv2.cvtColor(mask, cv2.COLOR_RGB2GRAY)\n",
    "        x = np.where(mask == 255)\n",
    "        coords = np.asarray(x).T.tolist()\n",
    "        for c in coords:\n",
    "            c[0], c[1] = c[1], c[0]\n",
    "        list_coords.append(coords)\n",
    "    return list_coords\n",
    "\n",
    "def sort_cords (coords):\n",
    "    return sorted(coords, key=operator.itemgetter(0))\n",
    "\n",
    "def get_edges(coords):\n",
    "    points = []\n",
    "    for c in coords:\n",
    "        x_min = min([sublist[0] for sublist in c])\n",
    "        y_min = min([sublist[1] for sublist in c])\n",
    "        x_max = max([sublist[0] for sublist in c])\n",
    "        y_max = max([sublist[1] for sublist in c])\n",
    "        temp = x_min, y_min, x_max, y_max\n",
    "        points.append(list(temp))\n",
    "    return points\n",
    "\n",
    "def min_dict (eds, coords):\n",
    "    ob_dict = {}\n",
    "    for i in range(0,len(eds)):\n",
    "        if i == 0:\n",
    "            for c in coords:\n",
    "                for cr in c:\n",
    "                #if i == 0:\n",
    "                    if cr[0] == eds[i][2]:\n",
    "                        #t.append(cr)\n",
    "                        ob_dict[str(i)] = [list(cr)]\n",
    "                        break\n",
    "        else:\n",
    "            for c in coords:\n",
    "                for cr in c:\n",
    "                    if cr[0] == eds[i][0]:\n",
    "                        #t.append(cr)\n",
    "                        ob_dict[str(i)] = [list(cr)]\n",
    "                        break\n",
    "    return ob_dict\n",
    "\n",
    "def max_dict (eds, coords):\n",
    "    ob_max = {}\n",
    "    for i in range(1, len(eds)-1):\n",
    "        for c in coords:\n",
    "            for cr in c:\n",
    "                if cr[0] == eds[i][2]:\n",
    "                    #t.append(cr)\n",
    "                    ob_max[str(i)] = [list(cr)]\n",
    "                    break\n",
    "    return ob_max\n",
    "\n",
    "def merge_dicts (ob_dict, ob_max):\n",
    "    for i in range(1,len(ob_dict)-1):\n",
    "        t = ob_dict.get(str(i)),ob_max.get(str(i))\n",
    "        ob_dict[str(i)] = flatten_list(t)\n",
    "    return ob_dict\n",
    "\n",
    "def calculate_distance_masks (mask_folder):\n",
    "    coords = get_coords(\"../mask_imgs/\")\n",
    "    coords = sort_cords(coords)\n",
    "    edges = get_edges(coords)\n",
    "    ob_dict = min_dict(edges, coords)\n",
    "    ob_max = max_dict(edges, coords)\n",
    "    ob_dict = merge_dicts(ob_dict, ob_max)\n",
    "\n",
    "    dists = []\n",
    "    for i in range(0,len(ob_dict)):\n",
    "        for j in range(i+1,len(ob_dict)):\n",
    "            #st.append(\"Distance b/w object \"+str(i)+\" and object \"+str(j))\n",
    "            #st.append(\"D(\"+str(i)+\",\"+str(j)+\")\")\n",
    "            if i == 0:\n",
    "                dists.append(math.dist(ob_dict[str(i)][0],ob_dict[str(j)][0]))\n",
    "                #dists.append(math.dist(c[i],c[j]))\n",
    "            else:\n",
    "                dists.append(math.dist(ob_dict[str(i)][1],ob_dict[str(j)][0]))\n",
    "    return dists\n",
    "\n",
    "###################################################################################\n",
    "\n",
    "def yolo_objects_format(objects):\n",
    "    objects = [obj.get(\"boxes\") for obj in objects]\n",
    "    objects = flatten_list(objects)\n",
    "    return objects\n",
    "\n",
    "def flatten_list(l):\n",
    "    try:\n",
    "        return sum(l, [])\n",
    "    except:\n",
    "        return sum(l, ())\n"
   ]
  },
  {
   "cell_type": "code",
   "execution_count": null,
   "metadata": {},
   "outputs": [
    {
     "name": "stderr",
     "output_type": "stream",
     "text": [
      "\n",
      "image 1/1 /home/rafay/vid_chains/nbs/../exp_imgs/bottle.jpg: 480x640 1 bench, 2 bottles, 604.1ms\n",
      "Speed: 14.9ms preprocess, 604.1ms inference, 20.3ms postprocess per image at shape (1, 3, 480, 640)\n"
     ]
    }
   ],
   "source": [
    "# | hide\n",
    "# | eval: false\n",
    "\n",
    "img_path = \"../exp_imgs/\"\n",
    "\n",
    "model = load_obj_model()\n",
    "objects = detect_objects(model, img_path)"
   ]
  },
  {
   "cell_type": "code",
   "execution_count": null,
   "metadata": {},
   "outputs": [
    {
     "data": {
      "text/plain": [
       "[{'boxes': [[196.56224060058594,\n",
       "    1210.6712646484375,\n",
       "    475.10223388671875,\n",
       "    1623.388916015625,\n",
       "    0.5954297780990601,\n",
       "    39.0],\n",
       "   [468.8839111328125,\n",
       "    0.817108154296875,\n",
       "    2632.79833984375,\n",
       "    926.1826782226562,\n",
       "    0.46843209862709045,\n",
       "    13.0],\n",
       "   [3620.0390625,\n",
       "    1252.4671630859375,\n",
       "    3909.64697265625,\n",
       "    1658.0111083984375,\n",
       "    0.3052195906639099,\n",
       "    39.0]]}]"
      ]
     },
     "execution_count": null,
     "metadata": {},
     "output_type": "execute_result"
    }
   ],
   "source": [
    "# | hide\n",
    "# | eval: false\n",
    "\n",
    "\n",
    "objects"
   ]
  },
  {
   "cell_type": "code",
   "execution_count": null,
   "metadata": {},
   "outputs": [
    {
     "data": {
      "text/plain": [
       "[[1.967191474141819, 1.8920115120625443]]"
      ]
     },
     "execution_count": null,
     "metadata": {},
     "output_type": "execute_result"
    }
   ],
   "source": [
    "# | hide\n",
    "# | eval: false\n",
    "focal_length_px = focal_len_to_px(6.04, 0.7) #redmi note 10 pro camera specifications\n",
    "real_width = 0.0635 #of bottle\n",
    "cam_dists = [camera_to_obj_dist(focal_length_px, objs, real_width) for objs in objects]\n",
    "cam_dists"
   ]
  },
  {
   "cell_type": "code",
   "execution_count": null,
   "metadata": {},
   "outputs": [
    {
     "data": {
      "text/plain": [
       "[1544.4955277947797, 3429.2236530738533, 2425.974258601772]"
      ]
     },
     "execution_count": null,
     "metadata": {},
     "output_type": "execute_result"
    }
   ],
   "source": [
    "# | hide\n",
    "# | eval: false\n",
    "objs = yolo_objects_format(objects)\n",
    "dists = inter_dist(objs)\n",
    "dists"
   ]
  },
  {
   "cell_type": "code",
   "execution_count": null,
   "metadata": {},
   "outputs": [
    {
     "data": {
      "text/plain": [
       "[441.99915158289616, 796.0001570351604, 355.15137617641295]"
      ]
     },
     "execution_count": null,
     "metadata": {},
     "output_type": "execute_result"
    }
   ],
   "source": [
    "# | hide\n",
    "# | eval: false\n",
    "\n",
    "# Distances between centroids of masks\n",
    "\n",
    "coords = get_coords(\"../mask_imgs/\")\n",
    "edges = get_edges(coords)\n",
    "dists_centroids = inter_dist(edges)\n",
    "dists_centroids"
   ]
  },
  {
   "cell_type": "code",
   "execution_count": null,
   "metadata": {},
   "outputs": [
    {
     "data": {
      "text/plain": [
       "[336.31532822635364, 667.3290043149631, 181.0]"
      ]
     },
     "execution_count": null,
     "metadata": {},
     "output_type": "execute_result"
    }
   ],
   "source": [
    "# | hide\n",
    "# | eval: false\n",
    "\n",
    "# distances between extreme points of masks \n",
    "distances = calculate_distance_masks(\"../mask_imgs/\")\n",
    "distances"
   ]
  },
  {
   "cell_type": "code",
   "execution_count": null,
   "metadata": {},
   "outputs": [],
   "source": [
    "# | hide\n",
    "# | eval: false\n",
    "\n",
    "#import matplotlib.pyplot as plt\n",
    "#image = plt.imread(\"../mask_imgs/sample_1_mask0.png\")\n",
    "#plt.imshow(image, interpolation=\"none\")\n",
    "#plt.show()"
   ]
  },
  {
   "cell_type": "code",
   "execution_count": null,
   "metadata": {},
   "outputs": [],
   "source": [
    "# | hide\n",
    "import nbdev\n",
    "\n",
    "nbdev.nbdev_export()"
   ]
  },
  {
   "cell_type": "code",
   "execution_count": null,
   "metadata": {},
   "outputs": [],
   "source": []
  }
 ],
 "metadata": {
  "kernelspec": {
   "display_name": "python3",
   "language": "python",
   "name": "python3"
  }
 },
 "nbformat": 4,
 "nbformat_minor": 4
}
