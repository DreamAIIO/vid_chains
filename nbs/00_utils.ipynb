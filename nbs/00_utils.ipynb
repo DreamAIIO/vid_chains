{
 "cells": [
  {
   "attachments": {},
   "cell_type": "markdown",
   "metadata": {},
   "source": [
    "# Utils"
   ]
  },
  {
   "cell_type": "code",
   "execution_count": null,
   "metadata": {},
   "outputs": [],
   "source": [
    "# | default_exp utils\n"
   ]
  },
  {
   "cell_type": "code",
   "execution_count": null,
   "metadata": {},
   "outputs": [
    {
     "name": "stderr",
     "output_type": "stream",
     "text": [
      "/home/rafay/miniconda3/envs/jbt_proj/lib/python3.10/site-packages/tqdm/auto.py:21: TqdmWarning: IProgress not found. Please update jupyter and ipywidgets. See https://ipywidgets.readthedocs.io/en/stable/user_install.html\n",
      "  from .autonotebook import tqdm as notebook_tqdm\n"
     ]
    }
   ],
   "source": [
    "# | export\n",
    "\n",
    "from vid_chains.imports import *\n",
    "import math\n"
   ]
  },
  {
   "cell_type": "code",
   "execution_count": null,
   "metadata": {},
   "outputs": [],
   "source": [
    "#| hide\n",
    "\n",
    "%load_ext autoreload\n",
    "%autoreload 2\n",
    "%reload_ext autoreload"
   ]
  },
  {
   "cell_type": "code",
   "execution_count": null,
   "metadata": {},
   "outputs": [],
   "source": [
    "# | export\n",
    "\n",
    "\n",
    "def load_obj_model(name=\"yolov8n.pt\"):\n",
    "    return YOLO(name)\n",
    "\n",
    "\n",
    "def detect_objects(model, img):\n",
    "    res = model(img, stream=True)\n",
    "    return [{\"boxes\": r.boxes.data.detach().cpu().tolist()} for r in res]\n",
    "\n",
    "\n",
    "def get_width(l):\n",
    "    w = l[2] - l[0]\n",
    "    return w\n",
    "\n",
    "\n",
    "def list_widths(obj):\n",
    "    w = []\n",
    "    for i in range(0, len(obj.get(\"boxes\"))):\n",
    "        l = []\n",
    "        for j in range(0, 6):\n",
    "            l.append(obj.get(\"boxes\")[i][j])\n",
    "        if (\n",
    "            l[5] == 39.0\n",
    "        ):  # very specific test case for bottles so will ignore other objects, will remove this in the future\n",
    "            width = get_width(l)\n",
    "            w.append(width)\n",
    "    return w\n",
    "\n",
    "\n",
    "def centroid(l):\n",
    "    t = []\n",
    "    cx = (l[0] + l[2]) / 2.0\n",
    "    cy = (l[1] + l[3]) / 2.0\n",
    "    t.append(cx)\n",
    "    t.append(cy)\n",
    "    return t\n",
    "\n",
    "\n",
    "def list_centroids(obj):\n",
    "    c = []\n",
    "    for i in range(0, len(obj.get(\"boxes\"))):\n",
    "        l = []\n",
    "        for j in range(0, 4):\n",
    "            l.append(obj.get(\"boxes\")[i][j])\n",
    "        centre = centroid(l)\n",
    "        c.append(centre)\n",
    "    return c\n",
    "\n",
    "\n",
    "def inter_dist(obj):\n",
    "    c = list_centroids(obj)\n",
    "    dis = []\n",
    "    st = []\n",
    "    for i in range(0, len(c)):\n",
    "        for j in range(i + 1, len(c)):\n",
    "            # st.append(\"Distance b/w object \"+str(i)+\" and object \"+str(j))\n",
    "            # st.append(\"D(\"+str(i)+\",\"+str(j)+\")\")\n",
    "            dis.append(math.dist(c[i], c[j]))\n",
    "    # return st,dis\n",
    "    return dis\n",
    "\n",
    "\n",
    "def focal_len_to_px(focal_len, sensor_px):\n",
    "    return round((focal_len / sensor_px) * 1000)\n",
    "\n",
    "\n",
    "def camera_to_obj_dist(focal_length_px, obj, real_width):\n",
    "    widths = list_widths(obj)\n",
    "    dists = []\n",
    "    for w in widths:\n",
    "        distance = (real_width * focal_length_px) / w\n",
    "        dists.append(distance)\n",
    "\n",
    "    return dists"
   ]
  },
  {
   "cell_type": "code",
   "execution_count": null,
   "metadata": {},
   "outputs": [
    {
     "name": "stderr",
     "output_type": "stream",
     "text": [
      "\n",
      "image 1/1 /home/rafay/vid_chains/nbs/../exp_imgs/bottle.jpg: 480x640 1 bench, 2 bottles, 212.3ms\n",
      "Speed: 14.3ms preprocess, 212.3ms inference, 4.9ms postprocess per image at shape (1, 3, 480, 640)\n"
     ]
    }
   ],
   "source": [
    "# | hide\n",
    "# | eval: false\n",
    "\n",
    "img_path = \"../exp_imgs/\"\n",
    "\n",
    "model = load_obj_model()\n",
    "objects = detect_objects(model, img_path)\n"
   ]
  },
  {
   "cell_type": "code",
   "execution_count": null,
   "metadata": {},
   "outputs": [
    {
     "data": {
      "text/plain": [
       "[{'boxes': [[196.56224060058594,\n",
       "    1210.6712646484375,\n",
       "    475.10223388671875,\n",
       "    1623.388916015625,\n",
       "    0.5954297780990601,\n",
       "    39.0],\n",
       "   [468.8839111328125,\n",
       "    0.817108154296875,\n",
       "    2632.79833984375,\n",
       "    926.1826782226562,\n",
       "    0.46843209862709045,\n",
       "    13.0],\n",
       "   [3620.0390625,\n",
       "    1252.4671630859375,\n",
       "    3909.64697265625,\n",
       "    1658.0111083984375,\n",
       "    0.3052195906639099,\n",
       "    39.0]]}]"
      ]
     },
     "execution_count": null,
     "metadata": {},
     "output_type": "execute_result"
    }
   ],
   "source": [
    "# | hide\n",
    "# | eval: false\n",
    "\n",
    "\n",
    "objects\n"
   ]
  },
  {
   "cell_type": "code",
   "execution_count": null,
   "metadata": {},
   "outputs": [
    {
     "data": {
      "text/plain": [
       "[[1.967191474141819, 1.8920115120625443]]"
      ]
     },
     "execution_count": null,
     "metadata": {},
     "output_type": "execute_result"
    }
   ],
   "source": [
    "# | hide\n",
    "# | eval: false\n",
    "focal_length_px = focal_len_to_px(6.04, 0.7)  # redmi note 10 pro camera specifications\n",
    "real_width = 0.0635  # of bottle\n",
    "cam_dists = [camera_to_obj_dist(focal_length_px, objs, real_width) for objs in objects]\n",
    "cam_dists"
   ]
  },
  {
   "cell_type": "code",
   "execution_count": null,
   "metadata": {},
   "outputs": [
    {
     "data": {
      "text/plain": [
       "[[1544.4955277947797, 3429.2236530738533, 2425.974258601772]]"
      ]
     },
     "execution_count": null,
     "metadata": {},
     "output_type": "execute_result"
    }
   ],
   "source": [
    "# | hide\n",
    "# | eval: false\n",
    "dists = [inter_dist(objs) for objs in objects]\n",
    "dists\n"
   ]
  },
  {
   "cell_type": "code",
   "execution_count": null,
   "metadata": {},
   "outputs": [],
   "source": [
    "# | hide\n",
    "import nbdev\n",
    "\n",
    "nbdev.nbdev_export()\n"
   ]
  },
  {
   "cell_type": "code",
   "execution_count": null,
   "metadata": {},
   "outputs": [],
   "source": []
  }
 ],
 "metadata": {
  "kernelspec": {
   "display_name": "python3",
   "language": "python",
   "name": "python3"
  }
 },
 "nbformat": 4,
 "nbformat_minor": 4
}
