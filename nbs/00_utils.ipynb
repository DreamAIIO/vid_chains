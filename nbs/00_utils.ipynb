{
 "cells": [
  {
   "attachments": {},
   "cell_type": "markdown",
   "metadata": {},
   "source": [
    "# Utils"
   ]
  },
  {
   "cell_type": "code",
   "execution_count": null,
   "metadata": {},
   "outputs": [],
   "source": [
    "# | default_exp utils"
   ]
  },
  {
   "cell_type": "code",
   "execution_count": null,
   "metadata": {},
   "outputs": [
    {
     "name": "stderr",
     "output_type": "stream",
     "text": [
      "/home/rafay/miniconda3/envs/jbt_proj/lib/python3.10/site-packages/tqdm/auto.py:21: TqdmWarning: IProgress not found. Please update jupyter and ipywidgets. See https://ipywidgets.readthedocs.io/en/stable/user_install.html\n",
      "  from .autonotebook import tqdm as notebook_tqdm\n"
     ]
    }
   ],
   "source": [
    "# | export\n",
    "\n",
    "from vid_chains.imports import *\n",
    "import math"
   ]
  },
  {
   "cell_type": "code",
   "execution_count": null,
   "metadata": {},
   "outputs": [],
   "source": [
    "#| hide\n",
    "\n",
    "%load_ext autoreload\n",
    "%autoreload 2\n",
    "%reload_ext autoreload"
   ]
  },
  {
   "cell_type": "code",
   "execution_count": null,
   "metadata": {},
   "outputs": [],
   "source": [
    "# | export\n",
    "\n",
    "\n",
    "def load_obj_model(name=\"yolov8n.pt\"):\n",
    "    return YOLO(name)\n",
    "\n",
    "\n",
    "def detect_objects(model, img):\n",
    "    res = model(img, stream=True)\n",
    "    return [{\"boxes\": r.boxes.data.detach().cpu().tolist()} for r in res]\n",
    "\n",
    "def get_width (l):\n",
    "    w = l[2]-l[0]\n",
    "    return w\n",
    "\n",
    "def list_widths (obj):\n",
    "    w=[]\n",
    "    for i in range(0,len(obj.get('boxes'))):\n",
    "      l=[]\n",
    "      for j in range(0,4):\n",
    "        l.append(obj.get('boxes')[i][j])\n",
    "      width = get_width(l)\n",
    "      w.append(width)\n",
    "    return w\n",
    "\n",
    "def centroid (l):\n",
    "    t = []\n",
    "    cx = (l[0]+l[2])/2.0\n",
    "    cy = (l[1]+l[3])/2.0\n",
    "    t.append(cx)\n",
    "    t.append(cy)\n",
    "    return t\n",
    "\n",
    "def list_centroids (obj):\n",
    "    c=[]\n",
    "    for i in range(0,len(obj.get('boxes'))):\n",
    "      l=[]\n",
    "      for j in range(0,4):\n",
    "        l.append(obj.get('boxes')[i][j])\n",
    "      centre = centroid(l)\n",
    "      c.append(centre)\n",
    "    return c\n",
    "\n",
    "def inter_dist(obj):\n",
    "   \n",
    "    c = list_centroids(obj)\n",
    "    dis = []\n",
    "    st = []\n",
    "    for i in range(0,len(c)):\n",
    "        for j in range(i+1,len(c)):\n",
    "            #st.append(\"Distance b/w object \"+str(i)+\" and object \"+str(j))\n",
    "            #st.append(\"D(\"+str(i)+\",\"+str(j)+\")\")\n",
    "            dis.append(math.dist(c[i],c[j]))\n",
    "    #return st,dis\n",
    "    return dis"
   ]
  },
  {
   "cell_type": "code",
   "execution_count": null,
   "metadata": {},
   "outputs": [
    {
     "name": "stderr",
     "output_type": "stream",
     "text": [
      "\n",
      "image 1/4 /home/rafay/vid_chains/nbs/../imgs/1.jpg: 384x640 6 persons, 1 bicycle, 2 handbags, 2 suitcases, 295.9ms\n",
      "image 2/4 /home/rafay/vid_chains/nbs/../imgs/2.jpg: 480x640 2 cars, 7 airplanes, 1 truck, 512.2ms\n",
      "image 3/4 /home/rafay/vid_chains/nbs/../imgs/bottle.jpg: 480x640 1 bench, 2 bottles, 425.2ms\n",
      "image 4/4 /home/rafay/vid_chains/nbs/../imgs/exp2.jpg: 640x480 2 bottles, 1 chair, 1 bed, 1 tv, 348.8ms\n",
      "Speed: 8.6ms preprocess, 395.5ms inference, 2.5ms postprocess per image at shape (1, 3, 640, 480)\n"
     ]
    }
   ],
   "source": [
    "# | hide\n",
    "# | eval: false\n",
    "\n",
    "img_path = \"../imgs/\"\n",
    "\n",
    "model = load_obj_model()\n",
    "objects = detect_objects(model, img_path)"
   ]
  },
  {
   "cell_type": "code",
   "execution_count": null,
   "metadata": {},
   "outputs": [
    {
     "data": {
      "text/plain": [
       "{'boxes': [[196.56224060058594,\n",
       "   1210.6712646484375,\n",
       "   475.10223388671875,\n",
       "   1623.388916015625,\n",
       "   0.5954297780990601,\n",
       "   39.0],\n",
       "  [468.8839111328125,\n",
       "   0.817108154296875,\n",
       "   2632.79833984375,\n",
       "   926.1826782226562,\n",
       "   0.46843209862709045,\n",
       "   13.0],\n",
       "  [3620.0390625,\n",
       "   1252.4671630859375,\n",
       "   3909.64697265625,\n",
       "   1658.0111083984375,\n",
       "   0.3052195906639099,\n",
       "   39.0]]}"
      ]
     },
     "execution_count": null,
     "metadata": {},
     "output_type": "execute_result"
    }
   ],
   "source": [
    "# | hide\n",
    "# | eval: false\n",
    "\n",
    "\n",
    "objects[2]"
   ]
  },
  {
   "cell_type": "code",
   "execution_count": null,
   "metadata": {},
   "outputs": [
    {
     "data": {
      "text/plain": [
       "[1544.4955277947797, 3429.2236530738533, 2425.974258601772]"
      ]
     },
     "execution_count": null,
     "metadata": {},
     "output_type": "execute_result"
    }
   ],
   "source": [
    "# | hide\n",
    "# | eval: false\n",
    "dists = [inter_dist(objs) for objs in objects]\n",
    "dists[2]"
   ]
  },
  {
   "cell_type": "code",
   "execution_count": null,
   "metadata": {},
   "outputs": [],
   "source": [
    "# | hide\n",
    "import nbdev\n",
    "\n",
    "nbdev.nbdev_export()"
   ]
  },
  {
   "cell_type": "code",
   "execution_count": null,
   "metadata": {},
   "outputs": [],
   "source": []
  }
 ],
 "metadata": {
  "kernelspec": {
   "display_name": "python3",
   "language": "python",
   "name": "python3"
  }
 },
 "nbformat": 4,
 "nbformat_minor": 4
}
