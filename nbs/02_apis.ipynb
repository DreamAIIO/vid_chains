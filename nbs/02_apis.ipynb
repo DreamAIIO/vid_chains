{
 "cells": [
  {
   "cell_type": "markdown",
   "metadata": {},
   "source": [
    "# API\n",
    "\n",
    "> FastAPI endpoints for receiving video stream/frames"
   ]
  },
  {
   "cell_type": "code",
   "execution_count": null,
   "metadata": {},
   "outputs": [],
   "source": [
    "#| default_exp api"
   ]
  },
  {
   "cell_type": "code",
   "execution_count": null,
   "metadata": {},
   "outputs": [],
   "source": [
    "# | export\n",
    "\n",
    "from fastapi import FastAPI, File, UploadFile\n",
    "from pydantic import BaseModel, Field\n",
    "from PIL import Image, ImageFilter\n",
    "\n",
    "from fastapi.responses import StreamingResponse\n",
    "from io import BytesIO\n",
    "from ray import serve\n",
    "\n",
    "app = FastAPI()\n",
    "\n",
    "class Image_Data(BaseModel):\n",
    "    input_image_path: str = Field(\n",
    "        title=\"path of input iamge\",\n",
    "        description=\"image path that needs to be modified\",\n",
    "        example=\"/home/naqi/vid_chains/imgs/2.jpg\"\n",
    "    )\n",
    "    output_image_path: str = Field(\n",
    "        title=\"path of output iamge\",\n",
    "        description=\"image path where the modified image will be saved\",\n",
    "        example=\"/home/naqi/vid_chains/imgs/blue_image.jpg\"\n",
    "    )\n",
    "\n",
    "\n",
    "@serve.deployment(route_prefix=\"/\")\n",
    "@serve.ingress(app)\n",
    "class FastAPIDeployment:\n",
    "    # FastAPI will automatically parse the HTTP request for us.\n",
    "    @app.post(\"/apis/image_path\")\n",
    "    async def image_path(self, input_image_path: str, output_image_path: str):\n",
    "        im = Image.open(input_image_path)\n",
    "        blurImage = im.filter(ImageFilter.BoxBlur(20))\n",
    "        blurImage.save(output_image_path)\n",
    "\n",
    "        return f\"{output_image_path}\"\n",
    "\n",
    "    @app.post(\"/apis/image_file\")\n",
    "    async def image_file(self, img: UploadFile = File(...)):\n",
    "        original_image = Image.open(img.file)\n",
    "        original_image = original_image.filter(ImageFilter.BoxBlur(20))\n",
    "        original_image.save(\"/home/naqi/vid_chains/imgs/blue_image.jpg\")\n",
    "\n",
    "        filtered_image = BytesIO()\n",
    "        original_image.save(filtered_image, \"JPEG\")\n",
    "        filtered_image.seek(0)\n",
    "\n",
    "        return StreamingResponse(filtered_image, media_type=\"image/jpeg\")"
   ]
  },
  {
   "cell_type": "code",
   "execution_count": null,
   "metadata": {},
   "outputs": [],
   "source": [
    "# | export\n",
    "\n",
    "# # 2: Deploy the deployment.\n",
    "serve.run(FastAPIDeployment.bind())"
   ]
  },
  {
   "cell_type": "code",
   "execution_count": null,
   "metadata": {},
   "outputs": [],
   "source": [
    "# | hide\n",
    "import nbdev\n",
    "\n",
    "nbdev.nbdev_export()"
   ]
  }
 ],
 "metadata": {
  "kernelspec": {
   "display_name": "python3",
   "language": "python",
   "name": "python3"
  }
 },
 "nbformat": 4,
 "nbformat_minor": 4
}
